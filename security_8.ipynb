{
  "nbformat": 4,
  "nbformat_minor": 0,
  "metadata": {
    "colab": {
      "provenance": [],
      "gpuType": "T4",
      "include_colab_link": true
    },
    "kernelspec": {
      "name": "python3",
      "display_name": "Python 3"
    },
    "language_info": {
      "name": "python"
    },
    "accelerator": "GPU",
    "gpuClass": "standard"
  },
  "cells": [
    {
      "cell_type": "markdown",
      "metadata": {
        "id": "view-in-github",
        "colab_type": "text"
      },
      "source": [
        "<a href=\"https://colab.research.google.com/github/ssvakil/Machine-Learning-in-Python-Workshop/blob/master/security_8.ipynb\" target=\"_parent\"><img src=\"https://colab.research.google.com/assets/colab-badge.svg\" alt=\"Open In Colab\"/></a>"
      ]
    },
    {
      "cell_type": "code",
      "source": [
        "import numpy as np\n",
        "from tensorflow import keras\n",
        "from tensorflow.keras import layers\n",
        "from keras.datasets import mnist\n",
        "!pip install matplotlib\n",
        "from matplotlib import pyplot"
      ],
      "metadata": {
        "colab": {
          "base_uri": "https://localhost:8080/"
        },
        "id": "J5gC-jR4txGd",
        "outputId": "d65a64dd-00cb-4109-cdf3-4e02df2a86d6"
      },
      "execution_count": 1,
      "outputs": [
        {
          "output_type": "stream",
          "name": "stdout",
          "text": [
            "Looking in indexes: https://pypi.org/simple, https://us-python.pkg.dev/colab-wheels/public/simple/\n",
            "Requirement already satisfied: matplotlib in /usr/local/lib/python3.9/dist-packages (3.7.1)\n",
            "Requirement already satisfied: cycler>=0.10 in /usr/local/lib/python3.9/dist-packages (from matplotlib) (0.11.0)\n",
            "Requirement already satisfied: python-dateutil>=2.7 in /usr/local/lib/python3.9/dist-packages (from matplotlib) (2.8.2)\n",
            "Requirement already satisfied: pillow>=6.2.0 in /usr/local/lib/python3.9/dist-packages (from matplotlib) (8.4.0)\n",
            "Requirement already satisfied: packaging>=20.0 in /usr/local/lib/python3.9/dist-packages (from matplotlib) (23.1)\n",
            "Requirement already satisfied: importlib-resources>=3.2.0 in /usr/local/lib/python3.9/dist-packages (from matplotlib) (5.12.0)\n",
            "Requirement already satisfied: numpy>=1.20 in /usr/local/lib/python3.9/dist-packages (from matplotlib) (1.22.4)\n",
            "Requirement already satisfied: fonttools>=4.22.0 in /usr/local/lib/python3.9/dist-packages (from matplotlib) (4.39.3)\n",
            "Requirement already satisfied: pyparsing>=2.3.1 in /usr/local/lib/python3.9/dist-packages (from matplotlib) (3.0.9)\n",
            "Requirement already satisfied: kiwisolver>=1.0.1 in /usr/local/lib/python3.9/dist-packages (from matplotlib) (1.4.4)\n",
            "Requirement already satisfied: contourpy>=1.0.1 in /usr/local/lib/python3.9/dist-packages (from matplotlib) (1.0.7)\n",
            "Requirement already satisfied: zipp>=3.1.0 in /usr/local/lib/python3.9/dist-packages (from importlib-resources>=3.2.0->matplotlib) (3.15.0)\n",
            "Requirement already satisfied: six>=1.5 in /usr/local/lib/python3.9/dist-packages (from python-dateutil>=2.7->matplotlib) (1.16.0)\n"
          ]
        }
      ]
    },
    {
      "cell_type": "code",
      "source": [
        "from google.colab import drive\n",
        "drive.mount('/content/drive')"
      ],
      "metadata": {
        "id": "OGU6HS337g7T",
        "outputId": "19cb907f-98a1-4dfa-924f-387b7d35f60e",
        "colab": {
          "base_uri": "https://localhost:8080/"
        }
      },
      "execution_count": 10,
      "outputs": [
        {
          "output_type": "stream",
          "name": "stdout",
          "text": [
            "Mounted at /content/drive\n"
          ]
        }
      ]
    },
    {
      "cell_type": "code",
      "execution_count": 2,
      "metadata": {
        "colab": {
          "base_uri": "https://localhost:8080/"
        },
        "id": "-D_YJeKPl9mJ",
        "outputId": "c85e0b92-07ed-4602-8d8b-9bd0df612834"
      },
      "outputs": [
        {
          "output_type": "stream",
          "name": "stdout",
          "text": [
            "Cloning into 'Meta-Nerual-Trojan-Detection'...\n",
            "remote: Enumerating objects: 32, done.\u001b[K\n",
            "remote: Counting objects: 100% (32/32), done.\u001b[K\n",
            "remote: Compressing objects: 100% (23/23), done.\u001b[K\n",
            "remote: Total 32 (delta 6), reused 32 (delta 6), pack-reused 0\u001b[K\n",
            "Unpacking objects: 100% (32/32), 493.46 KiB | 4.18 MiB/s, done.\n"
          ]
        }
      ],
      "source": [
        "!git clone https://github.com/AI-secure/Meta-Nerual-Trojan-Detection.git"
      ]
    },
    {
      "cell_type": "code",
      "source": [
        "cd Meta-Nerual-Trojan-Detection"
      ],
      "metadata": {
        "colab": {
          "base_uri": "https://localhost:8080/"
        },
        "id": "aI0TliaxmMtt",
        "outputId": "f8be706c-3786-4559-81e7-e5c83deaf554"
      },
      "execution_count": 5,
      "outputs": [
        {
          "output_type": "stream",
          "name": "stdout",
          "text": [
            "/content/Meta-Nerual-Trojan-Detection\n"
          ]
        }
      ]
    },
    {
      "cell_type": "code",
      "source": [
        "cd .."
      ],
      "metadata": {
        "id": "KvCmlr_aAKB0",
        "outputId": "92f355ed-8ff4-4bbc-f959-2938127834d3",
        "colab": {
          "base_uri": "https://localhost:8080/"
        }
      },
      "execution_count": 4,
      "outputs": [
        {
          "output_type": "stream",
          "name": "stdout",
          "text": [
            "/content\n"
          ]
        }
      ]
    },
    {
      "cell_type": "code",
      "source": [
        "!pip install -r /content/Meta-Nerual-Trojan-Detection/requirements.txt"
      ],
      "metadata": {
        "colab": {
          "base_uri": "https://localhost:8080/"
        },
        "id": "RY0a2v5Xmq4j",
        "outputId": "9d4c696d-17cc-4e0f-cd60-abc74adacd41"
      },
      "execution_count": 6,
      "outputs": [
        {
          "output_type": "stream",
          "name": "stdout",
          "text": [
            "Looking in indexes: https://pypi.org/simple, https://us-python.pkg.dev/colab-wheels/public/simple/\n",
            "Collecting audioread==2.1.8\n",
            "  Downloading audioread-2.1.8.tar.gz (21 kB)\n",
            "  Preparing metadata (setup.py) ... \u001b[?25l\u001b[?25hdone\n",
            "Collecting certifi==2020.6.20\n",
            "  Downloading certifi-2020.6.20-py2.py3-none-any.whl (156 kB)\n",
            "\u001b[2K     \u001b[90m━━━━━━━━━━━━━━━━━━━━━━━━━━━━━━━━━━━━━━━\u001b[0m \u001b[32m156.6/156.6 kB\u001b[0m \u001b[31m5.5 MB/s\u001b[0m eta \u001b[36m0:00:00\u001b[0m\n",
            "\u001b[?25hCollecting chardet==3.0.4\n",
            "  Downloading chardet-3.0.4-py2.py3-none-any.whl (133 kB)\n",
            "\u001b[2K     \u001b[90m━━━━━━━━━━━━━━━━━━━━━━━━━━━━━━━━━━━━━━\u001b[0m \u001b[32m133.4/133.4 kB\u001b[0m \u001b[31m17.8 MB/s\u001b[0m eta \u001b[36m0:00:00\u001b[0m\n",
            "\u001b[?25hRequirement already satisfied: decorator==4.4.2 in /usr/local/lib/python3.9/dist-packages (from -r /content/Meta-Nerual-Trojan-Detection/requirements.txt (line 4)) (4.4.2)\n",
            "Collecting future==0.18.2\n",
            "  Downloading future-0.18.2.tar.gz (829 kB)\n",
            "\u001b[2K     \u001b[90m━━━━━━━━━━━━━━━━━━━━━━━━━━━━━━━━━━━━━━\u001b[0m \u001b[32m829.2/829.2 kB\u001b[0m \u001b[31m30.2 MB/s\u001b[0m eta \u001b[36m0:00:00\u001b[0m\n",
            "\u001b[?25h  Preparing metadata (setup.py) ... \u001b[?25l\u001b[?25hdone\n",
            "Collecting gensim==3.8.3\n",
            "  Downloading gensim-3.8.3.tar.gz (23.4 MB)\n",
            "\u001b[2K     \u001b[90m━━━━━━━━━━━━━━━━━━━━━━━━━━━━━━━━━━━━━━━━\u001b[0m \u001b[32m23.4/23.4 MB\u001b[0m \u001b[31m65.5 MB/s\u001b[0m eta \u001b[36m0:00:00\u001b[0m\n",
            "\u001b[?25h  Preparing metadata (setup.py) ... \u001b[?25l\u001b[?25hdone\n",
            "Collecting idna==2.10\n",
            "  Downloading idna-2.10-py2.py3-none-any.whl (58 kB)\n",
            "\u001b[2K     \u001b[90m━━━━━━━━━━━━━━━━━━━━━━━━━━━━━━━━━━━━━━━━\u001b[0m \u001b[32m58.8/58.8 kB\u001b[0m \u001b[31m8.8 MB/s\u001b[0m eta \u001b[36m0:00:00\u001b[0m\n",
            "\u001b[?25hCollecting joblib==0.16.0\n",
            "  Downloading joblib-0.16.0-py3-none-any.whl (300 kB)\n",
            "\u001b[2K     \u001b[90m━━━━━━━━━━━━━━━━━━━━━━━━━━━━━━━━━━━━━━\u001b[0m \u001b[32m300.8/300.8 kB\u001b[0m \u001b[31m32.4 MB/s\u001b[0m eta \u001b[36m0:00:00\u001b[0m\n",
            "\u001b[?25hCollecting librosa==0.6.3\n",
            "  Downloading librosa-0.6.3.tar.gz (1.6 MB)\n",
            "\u001b[2K     \u001b[90m━━━━━━━━━━━━━━━━━━━━━━━━━━━━━━━━━━━━━━━━\u001b[0m \u001b[32m1.6/1.6 MB\u001b[0m \u001b[31m69.9 MB/s\u001b[0m eta \u001b[36m0:00:00\u001b[0m\n",
            "\u001b[?25h  Preparing metadata (setup.py) ... \u001b[?25l\u001b[?25hdone\n",
            "Collecting llvmlite==0.31.0\n",
            "  Downloading llvmlite-0.31.0.tar.gz (110 kB)\n",
            "\u001b[2K     \u001b[90m━━━━━━━━━━━━━━━━━━━━━━━━━━━━━━━━━━━━━━\u001b[0m \u001b[32m110.8/110.8 kB\u001b[0m \u001b[31m15.5 MB/s\u001b[0m eta \u001b[36m0:00:00\u001b[0m\n",
            "\u001b[?25h  Preparing metadata (setup.py) ... \u001b[?25l\u001b[?25hdone\n",
            "Collecting numba==0.48.0\n",
            "  Downloading numba-0.48.0.tar.gz (2.0 MB)\n",
            "\u001b[2K     \u001b[90m━━━━━━━━━━━━━━━━━━━━━━━━━━━━━━━━━━━━━━━━\u001b[0m \u001b[32m2.0/2.0 MB\u001b[0m \u001b[31m93.4 MB/s\u001b[0m eta \u001b[36m0:00:00\u001b[0m\n",
            "\u001b[?25h  Preparing metadata (setup.py) ... \u001b[?25l\u001b[?25hdone\n",
            "Collecting numpy==1.19.2\n",
            "  Downloading numpy-1.19.2.zip (7.3 MB)\n",
            "\u001b[2K     \u001b[90m━━━━━━━━━━━━━━━━━━━━━━━━━━━━━━━━━━━━━━━━\u001b[0m \u001b[32m7.3/7.3 MB\u001b[0m \u001b[31m20.7 MB/s\u001b[0m eta \u001b[36m0:00:00\u001b[0m\n",
            "\u001b[?25h  Installing build dependencies ... \u001b[?25l\u001b[?25hdone\n",
            "  Getting requirements to build wheel ... \u001b[?25l\u001b[?25hdone\n",
            "  Preparing metadata (pyproject.toml) ... \u001b[?25l\u001b[?25hdone\n",
            "Collecting Pillow==7.2.0\n",
            "  Downloading Pillow-7.2.0.tar.gz (39.1 MB)\n",
            "\u001b[2K     \u001b[90m━━━━━━━━━━━━━━━━━━━━━━━━━━━━━━━━━━━━━━━━\u001b[0m \u001b[32m39.1/39.1 MB\u001b[0m \u001b[31m29.4 MB/s\u001b[0m eta \u001b[36m0:00:00\u001b[0m\n",
            "\u001b[?25h  Preparing metadata (setup.py) ... \u001b[?25l\u001b[?25hdone\n",
            "\u001b[31mERROR: Ignored the following versions that require a different python version: 0.52.0 Requires-Python >=3.6,<3.9; 0.52.0rc3 Requires-Python >=3.6,<3.9\u001b[0m\u001b[31m\n",
            "\u001b[0m\u001b[31mERROR: Could not find a version that satisfies the requirement pkg-resources==0.0.0 (from versions: none)\u001b[0m\u001b[31m\n",
            "\u001b[0m\u001b[31mERROR: No matching distribution found for pkg-resources==0.0.0\u001b[0m\u001b[31m\n",
            "\u001b[0m"
          ]
        }
      ]
    },
    {
      "cell_type": "code",
      "source": [
        "!pip install kaggle"
      ],
      "metadata": {
        "colab": {
          "base_uri": "https://localhost:8080/"
        },
        "id": "wPQfglz8nM3d",
        "outputId": "abee4641-4fc0-4294-a5da-31263d3834ca"
      },
      "execution_count": null,
      "outputs": [
        {
          "output_type": "stream",
          "name": "stdout",
          "text": [
            "Looking in indexes: https://pypi.org/simple, https://us-python.pkg.dev/colab-wheels/public/simple/\n",
            "Requirement already satisfied: kaggle in /usr/local/lib/python3.9/dist-packages (1.5.13)\n",
            "Requirement already satisfied: tqdm in /usr/local/lib/python3.9/dist-packages (from kaggle) (4.65.0)\n",
            "Requirement already satisfied: python-slugify in /usr/local/lib/python3.9/dist-packages (from kaggle) (8.0.1)\n",
            "Requirement already satisfied: six>=1.10 in /usr/local/lib/python3.9/dist-packages (from kaggle) (1.16.0)\n",
            "Requirement already satisfied: python-dateutil in /usr/local/lib/python3.9/dist-packages (from kaggle) (2.8.2)\n",
            "Requirement already satisfied: requests in /usr/local/lib/python3.9/dist-packages (from kaggle) (2.27.1)\n",
            "Requirement already satisfied: urllib3 in /usr/local/lib/python3.9/dist-packages (from kaggle) (1.26.15)\n",
            "Requirement already satisfied: certifi in /usr/local/lib/python3.9/dist-packages (from kaggle) (2022.12.7)\n",
            "Requirement already satisfied: text-unidecode>=1.3 in /usr/local/lib/python3.9/dist-packages (from python-slugify->kaggle) (1.3)\n",
            "Requirement already satisfied: idna<4,>=2.5 in /usr/local/lib/python3.9/dist-packages (from requests->kaggle) (3.4)\n",
            "Requirement already satisfied: charset-normalizer~=2.0.0 in /usr/local/lib/python3.9/dist-packages (from requests->kaggle) (2.0.12)\n"
          ]
        }
      ]
    },
    {
      "cell_type": "code",
      "source": [
        "from google.colab import files\n",
        "files.upload()"
      ],
      "metadata": {
        "colab": {
          "base_uri": "https://localhost:8080/",
          "height": 90
        },
        "id": "1MZ0Xg2BpYcf",
        "outputId": "f5e50b55-b4c5-4106-cd31-19335d058a7f"
      },
      "execution_count": null,
      "outputs": [
        {
          "output_type": "display_data",
          "data": {
            "text/plain": [
              "<IPython.core.display.HTML object>"
            ],
            "text/html": [
              "\n",
              "     <input type=\"file\" id=\"files-a8c201ed-24e6-4938-acd6-d1056938a8b6\" name=\"files[]\" multiple disabled\n",
              "        style=\"border:none\" />\n",
              "     <output id=\"result-a8c201ed-24e6-4938-acd6-d1056938a8b6\">\n",
              "      Upload widget is only available when the cell has been executed in the\n",
              "      current browser session. Please rerun this cell to enable.\n",
              "      </output>\n",
              "      <script>// Copyright 2017 Google LLC\n",
              "//\n",
              "// Licensed under the Apache License, Version 2.0 (the \"License\");\n",
              "// you may not use this file except in compliance with the License.\n",
              "// You may obtain a copy of the License at\n",
              "//\n",
              "//      http://www.apache.org/licenses/LICENSE-2.0\n",
              "//\n",
              "// Unless required by applicable law or agreed to in writing, software\n",
              "// distributed under the License is distributed on an \"AS IS\" BASIS,\n",
              "// WITHOUT WARRANTIES OR CONDITIONS OF ANY KIND, either express or implied.\n",
              "// See the License for the specific language governing permissions and\n",
              "// limitations under the License.\n",
              "\n",
              "/**\n",
              " * @fileoverview Helpers for google.colab Python module.\n",
              " */\n",
              "(function(scope) {\n",
              "function span(text, styleAttributes = {}) {\n",
              "  const element = document.createElement('span');\n",
              "  element.textContent = text;\n",
              "  for (const key of Object.keys(styleAttributes)) {\n",
              "    element.style[key] = styleAttributes[key];\n",
              "  }\n",
              "  return element;\n",
              "}\n",
              "\n",
              "// Max number of bytes which will be uploaded at a time.\n",
              "const MAX_PAYLOAD_SIZE = 100 * 1024;\n",
              "\n",
              "function _uploadFiles(inputId, outputId) {\n",
              "  const steps = uploadFilesStep(inputId, outputId);\n",
              "  const outputElement = document.getElementById(outputId);\n",
              "  // Cache steps on the outputElement to make it available for the next call\n",
              "  // to uploadFilesContinue from Python.\n",
              "  outputElement.steps = steps;\n",
              "\n",
              "  return _uploadFilesContinue(outputId);\n",
              "}\n",
              "\n",
              "// This is roughly an async generator (not supported in the browser yet),\n",
              "// where there are multiple asynchronous steps and the Python side is going\n",
              "// to poll for completion of each step.\n",
              "// This uses a Promise to block the python side on completion of each step,\n",
              "// then passes the result of the previous step as the input to the next step.\n",
              "function _uploadFilesContinue(outputId) {\n",
              "  const outputElement = document.getElementById(outputId);\n",
              "  const steps = outputElement.steps;\n",
              "\n",
              "  const next = steps.next(outputElement.lastPromiseValue);\n",
              "  return Promise.resolve(next.value.promise).then((value) => {\n",
              "    // Cache the last promise value to make it available to the next\n",
              "    // step of the generator.\n",
              "    outputElement.lastPromiseValue = value;\n",
              "    return next.value.response;\n",
              "  });\n",
              "}\n",
              "\n",
              "/**\n",
              " * Generator function which is called between each async step of the upload\n",
              " * process.\n",
              " * @param {string} inputId Element ID of the input file picker element.\n",
              " * @param {string} outputId Element ID of the output display.\n",
              " * @return {!Iterable<!Object>} Iterable of next steps.\n",
              " */\n",
              "function* uploadFilesStep(inputId, outputId) {\n",
              "  const inputElement = document.getElementById(inputId);\n",
              "  inputElement.disabled = false;\n",
              "\n",
              "  const outputElement = document.getElementById(outputId);\n",
              "  outputElement.innerHTML = '';\n",
              "\n",
              "  const pickedPromise = new Promise((resolve) => {\n",
              "    inputElement.addEventListener('change', (e) => {\n",
              "      resolve(e.target.files);\n",
              "    });\n",
              "  });\n",
              "\n",
              "  const cancel = document.createElement('button');\n",
              "  inputElement.parentElement.appendChild(cancel);\n",
              "  cancel.textContent = 'Cancel upload';\n",
              "  const cancelPromise = new Promise((resolve) => {\n",
              "    cancel.onclick = () => {\n",
              "      resolve(null);\n",
              "    };\n",
              "  });\n",
              "\n",
              "  // Wait for the user to pick the files.\n",
              "  const files = yield {\n",
              "    promise: Promise.race([pickedPromise, cancelPromise]),\n",
              "    response: {\n",
              "      action: 'starting',\n",
              "    }\n",
              "  };\n",
              "\n",
              "  cancel.remove();\n",
              "\n",
              "  // Disable the input element since further picks are not allowed.\n",
              "  inputElement.disabled = true;\n",
              "\n",
              "  if (!files) {\n",
              "    return {\n",
              "      response: {\n",
              "        action: 'complete',\n",
              "      }\n",
              "    };\n",
              "  }\n",
              "\n",
              "  for (const file of files) {\n",
              "    const li = document.createElement('li');\n",
              "    li.append(span(file.name, {fontWeight: 'bold'}));\n",
              "    li.append(span(\n",
              "        `(${file.type || 'n/a'}) - ${file.size} bytes, ` +\n",
              "        `last modified: ${\n",
              "            file.lastModifiedDate ? file.lastModifiedDate.toLocaleDateString() :\n",
              "                                    'n/a'} - `));\n",
              "    const percent = span('0% done');\n",
              "    li.appendChild(percent);\n",
              "\n",
              "    outputElement.appendChild(li);\n",
              "\n",
              "    const fileDataPromise = new Promise((resolve) => {\n",
              "      const reader = new FileReader();\n",
              "      reader.onload = (e) => {\n",
              "        resolve(e.target.result);\n",
              "      };\n",
              "      reader.readAsArrayBuffer(file);\n",
              "    });\n",
              "    // Wait for the data to be ready.\n",
              "    let fileData = yield {\n",
              "      promise: fileDataPromise,\n",
              "      response: {\n",
              "        action: 'continue',\n",
              "      }\n",
              "    };\n",
              "\n",
              "    // Use a chunked sending to avoid message size limits. See b/62115660.\n",
              "    let position = 0;\n",
              "    do {\n",
              "      const length = Math.min(fileData.byteLength - position, MAX_PAYLOAD_SIZE);\n",
              "      const chunk = new Uint8Array(fileData, position, length);\n",
              "      position += length;\n",
              "\n",
              "      const base64 = btoa(String.fromCharCode.apply(null, chunk));\n",
              "      yield {\n",
              "        response: {\n",
              "          action: 'append',\n",
              "          file: file.name,\n",
              "          data: base64,\n",
              "        },\n",
              "      };\n",
              "\n",
              "      let percentDone = fileData.byteLength === 0 ?\n",
              "          100 :\n",
              "          Math.round((position / fileData.byteLength) * 100);\n",
              "      percent.textContent = `${percentDone}% done`;\n",
              "\n",
              "    } while (position < fileData.byteLength);\n",
              "  }\n",
              "\n",
              "  // All done.\n",
              "  yield {\n",
              "    response: {\n",
              "      action: 'complete',\n",
              "    }\n",
              "  };\n",
              "}\n",
              "\n",
              "scope.google = scope.google || {};\n",
              "scope.google.colab = scope.google.colab || {};\n",
              "scope.google.colab._files = {\n",
              "  _uploadFiles,\n",
              "  _uploadFilesContinue,\n",
              "};\n",
              "})(self);\n",
              "</script> "
            ]
          },
          "metadata": {}
        },
        {
          "output_type": "stream",
          "name": "stdout",
          "text": [
            "Saving kaggle.json to kaggle.json\n"
          ]
        },
        {
          "output_type": "execute_result",
          "data": {
            "text/plain": [
              "{'kaggle.json': b'{\"username\":\"ssvakil\",\"key\":\"85966bd4ad9a09dae71763477417743e\"}'}"
            ]
          },
          "metadata": {},
          "execution_count": 7
        }
      ]
    },
    {
      "cell_type": "code",
      "source": [
        "!mkdir -p ~/.kaggle\n",
        "!cp kaggle.json ~/.kaggle/kaggle.json\n",
        "!chmod 600 ~/.kaggle/kaggle.json"
      ],
      "metadata": {
        "id": "R_NKTDCwpsuz"
      },
      "execution_count": null,
      "outputs": []
    },
    {
      "cell_type": "code",
      "source": [
        "!kaggle datasets download -d pankrzysiu/cifar10-python"
      ],
      "metadata": {
        "colab": {
          "base_uri": "https://localhost:8080/"
        },
        "id": "Z77faORqqudk",
        "outputId": "3c0e089f-2dee-454e-b0e6-de0509d9f3f4"
      },
      "execution_count": null,
      "outputs": [
        {
          "output_type": "stream",
          "name": "stdout",
          "text": [
            "Downloading cifar10-python.zip to /content/Meta-Nerual-Trojan-Detection\n",
            " 99% 321M/325M [00:08<00:00, 40.0MB/s]\n",
            "100% 325M/325M [00:08<00:00, 38.5MB/s]\n"
          ]
        }
      ]
    },
    {
      "cell_type": "code",
      "source": [
        "!kaggle datasets download -d lijiyu/imagenet"
      ],
      "metadata": {
        "colab": {
          "base_uri": "https://localhost:8080/"
        },
        "id": "2NFOVbwlsfS_",
        "outputId": "29c748c5-c3f1-44a3-decd-4e59e6d402f7"
      },
      "execution_count": null,
      "outputs": [
        {
          "output_type": "stream",
          "name": "stdout",
          "text": [
            "Downloading imagenet.zip to /content/Meta-Nerual-Trojan-Detection\n",
            "100% 6.21G/6.21G [02:37<00:00, 41.2MB/s]\n",
            "100% 6.21G/6.21G [02:37<00:00, 42.3MB/s]\n"
          ]
        }
      ]
    },
    {
      "cell_type": "code",
      "source": [
        "!kaggle datasets download -d bistaumanga/usps-dataset"
      ],
      "metadata": {
        "colab": {
          "base_uri": "https://localhost:8080/"
        },
        "id": "roo1aXE0s0qo",
        "outputId": "26fcdd7f-6267-4213-bf76-411cff8ba36c"
      },
      "execution_count": null,
      "outputs": [
        {
          "output_type": "stream",
          "name": "stdout",
          "text": [
            "Downloading usps-dataset.zip to /content/Meta-Nerual-Trojan-Detection\n",
            "100% 2.75M/2.75M [00:00<00:00, 5.16MB/s]\n",
            "100% 2.75M/2.75M [00:00<00:00, 4.39MB/s]\n"
          ]
        }
      ]
    },
    {
      "cell_type": "code",
      "source": [
        "keras.models.load_model(\"354rdd.h5\")"
      ],
      "metadata": {
        "colab": {
          "base_uri": "https://localhost:8080/"
        },
        "id": "lfTata57s3pB",
        "outputId": "75039cb8-d930-4b6e-f84d-d7988808745d"
      },
      "execution_count": 7,
      "outputs": [
        {
          "output_type": "execute_result",
          "data": {
            "text/plain": [
              "<keras.engine.sequential.Sequential at 0x7f0bb1d5f400>"
            ]
          },
          "metadata": {},
          "execution_count": 7
        }
      ]
    },
    {
      "cell_type": "code",
      "source": [
        "keras.models.load_model(\"7gdf823.h5\")"
      ],
      "metadata": {
        "colab": {
          "base_uri": "https://localhost:8080/"
        },
        "id": "AWjciHvot-nA",
        "outputId": "98389f70-2164-41ef-cbe5-e007a742d7c9"
      },
      "execution_count": 8,
      "outputs": [
        {
          "output_type": "execute_result",
          "data": {
            "text/plain": [
              "<keras.engine.sequential.Sequential at 0x7f0b216502e0>"
            ]
          },
          "metadata": {},
          "execution_count": 8
        }
      ]
    },
    {
      "cell_type": "code",
      "source": [
        "cd .."
      ],
      "metadata": {
        "id": "udyxvOMNAyGt",
        "outputId": "cab37d66-455f-4f10-ef0e-bacbd98aa285",
        "colab": {
          "base_uri": "https://localhost:8080/"
        }
      },
      "execution_count": 9,
      "outputs": [
        {
          "output_type": "stream",
          "name": "stdout",
          "text": [
            "/content\n"
          ]
        }
      ]
    },
    {
      "cell_type": "code",
      "source": [
        "from zipfile import ZipFile\n",
        "file_name=\"cifar10-python.zip\"\n",
        "with ZipFile(file_name,'r')as zip:\n",
        "  zip.extractall()\n",
        "print('done')"
      ],
      "metadata": {
        "colab": {
          "base_uri": "https://localhost:8080/"
        },
        "id": "0fRQXVAhuchc",
        "outputId": "a9de2bf6-bd3c-4aca-cfe1-94597e647eed"
      },
      "execution_count": null,
      "outputs": [
        {
          "output_type": "stream",
          "name": "stdout",
          "text": [
            "done\n"
          ]
        }
      ]
    },
    {
      "cell_type": "code",
      "source": [
        "from zipfile import ZipFile\n",
        "file_name=\"imagenet.zip\"\n",
        "with ZipFile(file_name,'r')as zip:\n",
        "  zip.extractall()\n",
        "print('done')"
      ],
      "metadata": {
        "colab": {
          "base_uri": "https://localhost:8080/"
        },
        "id": "EWtXwKnluclb",
        "outputId": "5111df4b-a4cc-4ce5-ca56-c2190ad01712"
      },
      "execution_count": null,
      "outputs": [
        {
          "output_type": "stream",
          "name": "stdout",
          "text": [
            "done\n"
          ]
        }
      ]
    },
    {
      "cell_type": "code",
      "source": [
        "from zipfile import ZipFile\n",
        "file_name=\"usps-dataset.zip\"\n",
        "with ZipFile(file_name,'r')as zip:\n",
        "  zip.extractall()\n",
        "print('done')"
      ],
      "metadata": {
        "colab": {
          "base_uri": "https://localhost:8080/"
        },
        "id": "8JveHoDvucpn",
        "outputId": "32b745ae-5b16-4620-eef8-25775ca3f99c"
      },
      "execution_count": null,
      "outputs": [
        {
          "output_type": "stream",
          "name": "stdout",
          "text": [
            "done\n"
          ]
        }
      ]
    },
    {
      "cell_type": "code",
      "source": [
        "!python3 /content/Meta-Nerual-Trojan-Detection/meta_classifier.py /content/Meta-Nerual-Trojan-Detection/354rdd.h5"
      ],
      "metadata": {
        "id": "1Qyi2J7EvPql"
      },
      "execution_count": null,
      "outputs": []
    },
    {
      "cell_type": "code",
      "source": [
        "!python3 /content/Meta-Nerual-Trojan-Detection/meta_classifier.py /content/Meta-Nerual-Trojan-Detection/7gdf823.h5"
      ],
      "metadata": {
        "id": "ocZXvkSKWKt9"
      },
      "execution_count": null,
      "outputs": []
    },
    {
      "cell_type": "code",
      "source": [
        "cd raw_data"
      ],
      "metadata": {
        "colab": {
          "base_uri": "https://localhost:8080/"
        },
        "id": "YIvIvusowOHJ",
        "outputId": "0767f8ae-cd22-4ec8-e72f-5646f1f08b0c"
      },
      "execution_count": null,
      "outputs": [
        {
          "output_type": "stream",
          "name": "stdout",
          "text": [
            "/content/Meta-Nerual-Trojan-Detection/raw_data\n"
          ]
        }
      ]
    },
    {
      "cell_type": "code",
      "source": [
        "pwd"
      ],
      "metadata": {
        "colab": {
          "base_uri": "https://localhost:8080/",
          "height": 35
        },
        "id": "ntEgD4GYwgk1",
        "outputId": "a216deae-703d-4385-9938-af8bdadf7f40"
      },
      "execution_count": null,
      "outputs": [
        {
          "output_type": "execute_result",
          "data": {
            "text/plain": [
              "'/content/Meta-Nerual-Trojan-Detection'"
            ],
            "application/vnd.google.colaboratory.intrinsic+json": {
              "type": "string"
            }
          },
          "metadata": {},
          "execution_count": 18
        }
      ]
    },
    {
      "cell_type": "code",
      "source": [
        "!python3 /content/Meta-Nerual-Trojan-Detection/run_meta_oneclass.py /content/Meta-Nerual-Trojan-Detection/354rdd.h5"
      ],
      "metadata": {
        "colab": {
          "base_uri": "https://localhost:8080/"
        },
        "id": "mznBQCHBWab5",
        "outputId": "522e8743-8223-42da-8b07-9d22c601e97d"
      },
      "execution_count": null,
      "outputs": [
        {
          "output_type": "stream",
          "name": "stdout",
          "text": [
            "usage: run_meta_oneclass.py\n",
            "       [-h]\n",
            "       --task\n",
            "       TASK\n",
            "       --troj_type\n",
            "       TROJ_TYPE\n",
            "       [--load_exist]\n",
            "run_meta_oneclass.py: error: the following arguments are required: --task, --troj_type\n"
          ]
        }
      ]
    },
    {
      "cell_type": "code",
      "source": [
        "!python /content/Meta-Nerual-Trojan-Detection/train_basic_benign.py /content/Meta-Nerual-Trojan-Detection/raw_data/rt_polarity/rt-polarity.neg"
      ],
      "metadata": {
        "colab": {
          "base_uri": "https://localhost:8080/"
        },
        "id": "Tv1wNZ9IXHLZ",
        "outputId": "0be759f8-3467-43b5-99e4-ff7a3b420a2c"
      },
      "execution_count": null,
      "outputs": [
        {
          "output_type": "stream",
          "name": "stdout",
          "text": [
            "usage: train_basic_benign.py\n",
            "       [-h]\n",
            "       --task\n",
            "       TASK\n",
            "train_basic_benign.py: error: the following arguments are required: --task\n"
          ]
        }
      ]
    },
    {
      "cell_type": "code",
      "source": [
        "!pip3 install torch==1.2.0+cu92 torchvision==0.4.0+cu92 -f https://download.pytorch.org/whl/torch_stable.html"
      ],
      "metadata": {
        "id": "410Kjy72aevZ",
        "outputId": "dc337130-c8f4-4449-8ad4-67ce42ef47f0",
        "colab": {
          "base_uri": "https://localhost:8080/"
        }
      },
      "execution_count": 11,
      "outputs": [
        {
          "output_type": "stream",
          "name": "stdout",
          "text": [
            "Looking in indexes: https://pypi.org/simple, https://us-python.pkg.dev/colab-wheels/public/simple/\n",
            "Looking in links: https://download.pytorch.org/whl/torch_stable.html\n",
            "\u001b[31mERROR: Could not find a version that satisfies the requirement torch==1.2.0+cu92 (from versions: 1.7.1, 1.7.1+cpu, 1.7.1+cu101, 1.7.1+cu110, 1.7.1+cu92, 1.7.1+rocm3.7, 1.7.1+rocm3.8, 1.8.0, 1.8.0+cpu, 1.8.0+cu101, 1.8.0+cu111, 1.8.0+rocm3.10, 1.8.0+rocm4.0.1, 1.8.1, 1.8.1+cpu, 1.8.1+cu101, 1.8.1+cu102, 1.8.1+cu111, 1.8.1+rocm3.10, 1.8.1+rocm4.0.1, 1.9.0, 1.9.0+cpu, 1.9.0+cu102, 1.9.0+cu111, 1.9.0+rocm4.0.1, 1.9.0+rocm4.1, 1.9.0+rocm4.2, 1.9.1, 1.9.1+cpu, 1.9.1+cu102, 1.9.1+cu111, 1.9.1+rocm4.0.1, 1.9.1+rocm4.1, 1.9.1+rocm4.2, 1.10.0, 1.10.0+cpu, 1.10.0+cu102, 1.10.0+cu111, 1.10.0+cu113, 1.10.0+rocm4.0.1, 1.10.0+rocm4.1, 1.10.0+rocm4.2, 1.10.1, 1.10.1+cpu, 1.10.1+cu102, 1.10.1+cu111, 1.10.1+cu113, 1.10.1+rocm4.0.1, 1.10.1+rocm4.1, 1.10.1+rocm4.2, 1.10.2, 1.10.2+cpu, 1.10.2+cu102, 1.10.2+cu111, 1.10.2+cu113, 1.10.2+rocm4.0.1, 1.10.2+rocm4.1, 1.10.2+rocm4.2, 1.11.0, 1.11.0+cpu, 1.11.0+cu102, 1.11.0+cu113, 1.11.0+cu115, 1.11.0+rocm4.3.1, 1.11.0+rocm4.5.2, 1.12.0, 1.12.0+cpu, 1.12.0+cu102, 1.12.0+cu113, 1.12.0+cu116, 1.12.0+rocm5.0, 1.12.0+rocm5.1.1, 1.12.1, 1.12.1+cpu, 1.12.1+cu102, 1.12.1+cu113, 1.12.1+cu116, 1.12.1+rocm5.0, 1.12.1+rocm5.1.1, 1.13.0, 1.13.0+cpu, 1.13.0+cu116, 1.13.0+cu117, 1.13.0+cu117.with.pypi.cudnn, 1.13.0+rocm5.1.1, 1.13.0+rocm5.2, 1.13.1, 1.13.1+cpu, 1.13.1+cu116, 1.13.1+cu117, 1.13.1+cu117.with.pypi.cudnn, 1.13.1+rocm5.1.1, 1.13.1+rocm5.2, 2.0.0, 2.0.0+cpu, 2.0.0+cpu.cxx11.abi, 2.0.0+cu117, 2.0.0+cu117.with.pypi.cudnn, 2.0.0+cu118, 2.0.0+rocm5.3, 2.0.0+rocm5.4.2)\u001b[0m\u001b[31m\n",
            "\u001b[0m\u001b[31mERROR: No matching distribution found for torch==1.2.0+cu92\u001b[0m\u001b[31m\n",
            "\u001b[0m"
          ]
        }
      ]
    },
    {
      "cell_type": "code",
      "source": [
        "import torch\n",
        "import torch.nn as nn\n",
        "import torch.nn.functional as F\n",
        "import torchvision\n",
        "import torchvision.transforms as transforms"
      ],
      "metadata": {
        "id": "H5390vB3bGSp"
      },
      "execution_count": 12,
      "outputs": []
    },
    {
      "cell_type": "code",
      "source": [
        "print(torch.__version__)"
      ],
      "metadata": {
        "id": "kZX5BJT1bLeE",
        "outputId": "904d4afc-ed16-4c2c-f44b-d15fa74c7839",
        "colab": {
          "base_uri": "https://localhost:8080/"
        }
      },
      "execution_count": 13,
      "outputs": [
        {
          "output_type": "stream",
          "name": "stdout",
          "text": [
            "2.0.0+cu118\n"
          ]
        }
      ]
    },
    {
      "cell_type": "code",
      "source": [
        "!pip uninstall -y mxnet && pip install mxnet-cu90==1.1.0"
      ],
      "metadata": {
        "id": "w9LsCvFUdbU2",
        "outputId": "f14d19b5-3271-4af9-9084-f2089c93a02b",
        "colab": {
          "base_uri": "https://localhost:8080/"
        }
      },
      "execution_count": 14,
      "outputs": [
        {
          "output_type": "stream",
          "name": "stdout",
          "text": [
            "\u001b[33mWARNING: Skipping mxnet as it is not installed.\u001b[0m\u001b[33m\n",
            "\u001b[0mLooking in indexes: https://pypi.org/simple, https://us-python.pkg.dev/colab-wheels/public/simple/\n",
            "Collecting mxnet-cu90==1.1.0\n",
            "  Downloading mxnet_cu90-1.1.0-py2.py3-none-manylinux1_x86_64.whl (307.5 MB)\n",
            "\u001b[2K     \u001b[90m━━━━━━━━━━━━━━━━━━━━━━━━━━━━━━━━━━━━━━━\u001b[0m \u001b[32m307.5/307.5 MB\u001b[0m \u001b[31m4.7 MB/s\u001b[0m eta \u001b[36m0:00:00\u001b[0m\n",
            "\u001b[?25hCollecting numpy<=1.13.3\n",
            "  Downloading numpy-1.13.3.zip (5.0 MB)\n",
            "\u001b[2K     \u001b[90m━━━━━━━━━━━━━━━━━━━━━━━━━━━━━━━━━━━━━━━━\u001b[0m \u001b[32m5.0/5.0 MB\u001b[0m \u001b[31m92.7 MB/s\u001b[0m eta \u001b[36m0:00:00\u001b[0m\n",
            "\u001b[?25h  Preparing metadata (setup.py) ... \u001b[?25l\u001b[?25hdone\n",
            "Collecting graphviz==0.8.1\n",
            "  Downloading graphviz-0.8.1-py2.py3-none-any.whl (17 kB)\n",
            "Collecting requests==2.18.4\n",
            "  Downloading requests-2.18.4-py2.py3-none-any.whl (88 kB)\n",
            "\u001b[2K     \u001b[90m━━━━━━━━━━━━━━━━━━━━━━━━━━━━━━━━━━━━━━━━\u001b[0m \u001b[32m88.7/88.7 kB\u001b[0m \u001b[31m11.9 MB/s\u001b[0m eta \u001b[36m0:00:00\u001b[0m\n",
            "\u001b[?25hCollecting chardet<3.1.0,>=3.0.2\n",
            "  Using cached chardet-3.0.4-py2.py3-none-any.whl (133 kB)\n",
            "Collecting urllib3<1.23,>=1.21.1\n",
            "  Downloading urllib3-1.22-py2.py3-none-any.whl (132 kB)\n",
            "\u001b[2K     \u001b[90m━━━━━━━━━━━━━━━━━━━━━━━━━━━━━━━━━━━━━━\u001b[0m \u001b[32m132.3/132.3 kB\u001b[0m \u001b[31m17.5 MB/s\u001b[0m eta \u001b[36m0:00:00\u001b[0m\n",
            "\u001b[?25hCollecting idna<2.7,>=2.5\n",
            "  Downloading idna-2.6-py2.py3-none-any.whl (56 kB)\n",
            "\u001b[2K     \u001b[90m━━━━━━━━━━━━━━━━━━━━━━━━━━━━━━━━━━━━━━━━\u001b[0m \u001b[32m56.5/56.5 kB\u001b[0m \u001b[31m7.7 MB/s\u001b[0m eta \u001b[36m0:00:00\u001b[0m\n",
            "\u001b[?25hRequirement already satisfied: certifi>=2017.4.17 in /usr/local/lib/python3.9/dist-packages (from requests==2.18.4->mxnet-cu90==1.1.0) (2022.12.7)\n",
            "Building wheels for collected packages: numpy\n",
            "  \u001b[1;31merror\u001b[0m: \u001b[1msubprocess-exited-with-error\u001b[0m\n",
            "  \n",
            "  \u001b[31m×\u001b[0m \u001b[32mpython setup.py bdist_wheel\u001b[0m did not run successfully.\n",
            "  \u001b[31m│\u001b[0m exit code: \u001b[1;36m1\u001b[0m\n",
            "  \u001b[31m╰─>\u001b[0m See above for output.\n",
            "  \n",
            "  \u001b[1;35mnote\u001b[0m: This error originates from a subprocess, and is likely not a problem with pip.\n",
            "  Building wheel for numpy (setup.py) ... \u001b[?25lerror\n",
            "\u001b[31m  ERROR: Failed building wheel for numpy\u001b[0m\u001b[31m\n",
            "\u001b[0m\u001b[?25h  Running setup.py clean for numpy\n",
            "  \u001b[1;31merror\u001b[0m: \u001b[1msubprocess-exited-with-error\u001b[0m\n",
            "  \n",
            "  \u001b[31m×\u001b[0m \u001b[32mpython setup.py clean\u001b[0m did not run successfully.\n",
            "  \u001b[31m│\u001b[0m exit code: \u001b[1;36m1\u001b[0m\n",
            "  \u001b[31m╰─>\u001b[0m See above for output.\n",
            "  \n",
            "  \u001b[1;35mnote\u001b[0m: This error originates from a subprocess, and is likely not a problem with pip.\n",
            "\u001b[31m  ERROR: Failed cleaning build dir for numpy\u001b[0m\u001b[31m\n",
            "\u001b[0mFailed to build numpy\n",
            "Installing collected packages: urllib3, idna, graphviz, chardet, requests, numpy, mxnet-cu90\n",
            "  Attempting uninstall: urllib3\n",
            "    Found existing installation: urllib3 1.26.15\n",
            "    Uninstalling urllib3-1.26.15:\n",
            "      Successfully uninstalled urllib3-1.26.15\n",
            "  Attempting uninstall: idna\n",
            "    Found existing installation: idna 3.4\n",
            "    Uninstalling idna-3.4:\n",
            "      Successfully uninstalled idna-3.4\n",
            "  Attempting uninstall: graphviz\n",
            "    Found existing installation: graphviz 0.20.1\n",
            "    Uninstalling graphviz-0.20.1:\n",
            "      Successfully uninstalled graphviz-0.20.1\n",
            "  Attempting uninstall: chardet\n",
            "    Found existing installation: chardet 4.0.0\n",
            "    Uninstalling chardet-4.0.0:\n",
            "      Successfully uninstalled chardet-4.0.0\n",
            "  Attempting uninstall: requests\n",
            "    Found existing installation: requests 2.27.1\n",
            "    Uninstalling requests-2.27.1:\n",
            "      Successfully uninstalled requests-2.27.1\n",
            "  Attempting uninstall: numpy\n",
            "    Found existing installation: numpy 1.22.4\n",
            "    Uninstalling numpy-1.22.4:\n",
            "      Successfully uninstalled numpy-1.22.4\n",
            "  \u001b[1;31merror\u001b[0m: \u001b[1msubprocess-exited-with-error\u001b[0m\n",
            "  \n",
            "  \u001b[31m×\u001b[0m \u001b[32mRunning setup.py install for numpy\u001b[0m did not run successfully.\n",
            "  \u001b[31m│\u001b[0m exit code: \u001b[1;36m1\u001b[0m\n",
            "  \u001b[31m╰─>\u001b[0m See above for output.\n",
            "  \n",
            "  \u001b[1;35mnote\u001b[0m: This error originates from a subprocess, and is likely not a problem with pip.\n",
            "  Running setup.py install for numpy ... \u001b[?25l\u001b[?25herror\n",
            "  Rolling back uninstall of numpy\n",
            "  Moving to /usr/local/bin/f2py\n",
            "   from /tmp/pip-uninstall-m7i7r9yr/f2py\n",
            "  Moving to /usr/local/bin/f2py3\n",
            "   from /tmp/pip-uninstall-m7i7r9yr/f2py3\n",
            "  Moving to /usr/local/bin/f2py3.9\n",
            "   from /tmp/pip-uninstall-m7i7r9yr/f2py3.9\n",
            "  Moving to /usr/local/lib/python3.9/dist-packages/numpy-1.22.4.dist-info/\n",
            "   from /usr/local/lib/python3.9/dist-packages/~umpy-1.22.4.dist-info\n",
            "  Moving to /usr/local/lib/python3.9/dist-packages/numpy.libs/\n",
            "   from /usr/local/lib/python3.9/dist-packages/~umpy.libs\n",
            "  Moving to /usr/local/lib/python3.9/dist-packages/numpy/\n",
            "   from /usr/local/lib/python3.9/dist-packages/~umpy\n",
            "\u001b[1;31merror\u001b[0m: \u001b[1mlegacy-install-failure\u001b[0m\n",
            "\n",
            "\u001b[31m×\u001b[0m Encountered error while trying to install package.\n",
            "\u001b[31m╰─>\u001b[0m numpy\n",
            "\n",
            "\u001b[1;35mnote\u001b[0m: This is an issue with the package mentioned above, not pip.\n",
            "\u001b[1;36mhint\u001b[0m: See above for output from the failure.\n"
          ]
        }
      ]
    },
    {
      "cell_type": "code",
      "source": [
        "#!python3 /content/Meta-Nerual-Trojan-Detection/train_basic_benign.py --task mnist\n",
        "#!python /content/Meta-Nerual-Trojan-Detection/train_basic_jumbo.py --task mnist\n",
        "#!python /content/Meta-Nerual-Trojan-Detection/train_basic_trojaned.py --task mnist --troj_type M\n",
        "!python /content/Meta-Nerual-Trojan-Detection/train_basic_trojaned.py --task mnist --troj_type B"
      ],
      "metadata": {
        "id": "U3aBRorYZ8-a",
        "outputId": "b989da62-1800-4758-999e-7981565eab54",
        "colab": {
          "base_uri": "https://localhost:8080/"
        }
      },
      "execution_count": null,
      "outputs": [
        {
          "output_type": "stream",
          "name": "stdout",
          "text": [
            "Downloading http://yann.lecun.com/exdb/mnist/train-images-idx3-ubyte.gz\n",
            "Downloading http://yann.lecun.com/exdb/mnist/train-images-idx3-ubyte.gz to ./raw_data/MNIST/raw/train-images-idx3-ubyte.gz\n",
            "\r  0% 0/9912422 [00:00<?, ?it/s]\r100% 9912422/9912422 [00:00<00:00, 224995055.03it/s]\n",
            "Extracting ./raw_data/MNIST/raw/train-images-idx3-ubyte.gz to ./raw_data/MNIST/raw\n",
            "\n",
            "Downloading http://yann.lecun.com/exdb/mnist/train-labels-idx1-ubyte.gz\n",
            "Downloading http://yann.lecun.com/exdb/mnist/train-labels-idx1-ubyte.gz to ./raw_data/MNIST/raw/train-labels-idx1-ubyte.gz\n",
            "100% 28881/28881 [00:00<00:00, 168478016.45it/s]\n",
            "Extracting ./raw_data/MNIST/raw/train-labels-idx1-ubyte.gz to ./raw_data/MNIST/raw\n",
            "\n",
            "Downloading http://yann.lecun.com/exdb/mnist/t10k-images-idx3-ubyte.gz\n",
            "Downloading http://yann.lecun.com/exdb/mnist/t10k-images-idx3-ubyte.gz to ./raw_data/MNIST/raw/t10k-images-idx3-ubyte.gz\n",
            "100% 1648877/1648877 [00:00<00:00, 51775342.67it/s]\n",
            "Extracting ./raw_data/MNIST/raw/t10k-images-idx3-ubyte.gz to ./raw_data/MNIST/raw\n",
            "\n",
            "Downloading http://yann.lecun.com/exdb/mnist/t10k-labels-idx1-ubyte.gz\n",
            "Downloading http://yann.lecun.com/exdb/mnist/t10k-labels-idx1-ubyte.gz to ./raw_data/MNIST/raw/t10k-labels-idx1-ubyte.gz\n",
            "100% 4542/4542 [00:00<00:00, 37649266.34it/s]\n",
            "Extracting ./raw_data/MNIST/raw/t10k-labels-idx1-ubyte.gz to ./raw_data/MNIST/raw\n",
            "\n",
            "Data indices owned by the attacker: [20929 58997 33339 ... 30107 45814 21000]\n",
            "Acc 0.9856, Acc on backdoor 1.0000, saved to /content/drive/MyDrive/psecurity/shadow_model_ckpt/mnist/models/target_trojB_0.model @ 2023-04-22 11:37:35.497820\n",
            "\tp size: 28; loc: (0, 0); alpha: 0.066; target_y: 4; inject p: 0.121\n",
            "Acc 0.9820, Acc on backdoor 0.9654, saved to /content/drive/MyDrive/psecurity/shadow_model_ckpt/mnist/models/target_trojB_1.model @ 2023-04-22 11:38:05.891640\n",
            "\tp size: 28; loc: (0, 0); alpha: 0.189; target_y: 4; inject p: 0.208\n",
            "Acc 0.9836, Acc on backdoor 1.0000, saved to /content/drive/MyDrive/psecurity/shadow_model_ckpt/mnist/models/target_trojB_2.model @ 2023-04-22 11:38:46.879445\n",
            "\tp size: 28; loc: (0, 0); alpha: 0.148; target_y: 1; inject p: 0.494\n",
            "Acc 0.9873, Acc on backdoor 1.0000, saved to /content/drive/MyDrive/psecurity/shadow_model_ckpt/mnist/models/target_trojB_3.model @ 2023-04-22 11:39:23.160649\n",
            "\tp size: 28; loc: (0, 0); alpha: 0.069; target_y: 4; inject p: 0.354\n",
            "Acc 0.9825, Acc on backdoor 1.0000, saved to /content/drive/MyDrive/psecurity/shadow_model_ckpt/mnist/models/target_trojB_4.model @ 2023-04-22 11:39:56.818057\n",
            "\tp size: 28; loc: (0, 0); alpha: 0.077; target_y: 4; inject p: 0.284\n",
            "Acc 0.9802, Acc on backdoor 0.9964, saved to /content/drive/MyDrive/psecurity/shadow_model_ckpt/mnist/models/target_trojB_5.model @ 2023-04-22 11:40:34.390955\n",
            "\tp size: 28; loc: (0, 0); alpha: 0.063; target_y: 7; inject p: 0.391\n",
            "Acc 0.9832, Acc on backdoor 1.0000, saved to /content/drive/MyDrive/psecurity/shadow_model_ckpt/mnist/models/target_trojB_6.model @ 2023-04-22 11:41:13.785912\n",
            "\tp size: 28; loc: (0, 0); alpha: 0.166; target_y: 1; inject p: 0.485\n",
            "Acc 0.9857, Acc on backdoor 1.0000, saved to /content/drive/MyDrive/psecurity/shadow_model_ckpt/mnist/models/target_trojB_7.model @ 2023-04-22 11:41:41.160702\n",
            "\tp size: 28; loc: (0, 0); alpha: 0.194; target_y: 7; inject p: 0.109\n",
            "Acc 0.9838, Acc on backdoor 0.9957, saved to /content/drive/MyDrive/psecurity/shadow_model_ckpt/mnist/models/target_trojB_8.model @ 2023-04-22 11:42:08.351590\n",
            "\tp size: 28; loc: (0, 0); alpha: 0.189; target_y: 9; inject p: 0.117\n",
            "Acc 0.9769, Acc on backdoor 1.0000, saved to /content/drive/MyDrive/psecurity/shadow_model_ckpt/mnist/models/target_trojB_9.model @ 2023-04-22 11:42:49.299676\n",
            "\tp size: 28; loc: (0, 0); alpha: 0.162; target_y: 5; inject p: 0.500\n",
            "Acc 0.9825, Acc on backdoor 1.0000, saved to /content/drive/MyDrive/psecurity/shadow_model_ckpt/mnist/models/target_trojB_10.model @ 2023-04-22 11:43:29.608286\n",
            "\tp size: 28; loc: (0, 0); alpha: 0.186; target_y: 1; inject p: 0.468\n",
            "Acc 0.9833, Acc on backdoor 0.9996, saved to /content/drive/MyDrive/psecurity/shadow_model_ckpt/mnist/models/target_trojB_11.model @ 2023-04-22 11:44:10.067689\n",
            "\tp size: 28; loc: (0, 0); alpha: 0.140; target_y: 6; inject p: 0.480\n",
            "Acc 0.9854, Acc on backdoor 1.0000, saved to /content/drive/MyDrive/psecurity/shadow_model_ckpt/mnist/models/target_trojB_12.model @ 2023-04-22 11:44:49.041795\n",
            "\tp size: 28; loc: (0, 0); alpha: 0.054; target_y: 3; inject p: 0.455\n",
            "Acc 0.9855, Acc on backdoor 1.0000, saved to /content/drive/MyDrive/psecurity/shadow_model_ckpt/mnist/models/target_trojB_13.model @ 2023-04-22 11:45:23.527368\n",
            "\tp size: 28; loc: (0, 0); alpha: 0.171; target_y: 9; inject p: 0.287\n",
            "Acc 0.9841, Acc on backdoor 0.9846, saved to /content/drive/MyDrive/psecurity/shadow_model_ckpt/mnist/models/target_trojB_14.model @ 2023-04-22 11:45:47.610723\n",
            "\tp size: 28; loc: (0, 0); alpha: 0.171; target_y: 2; inject p: 0.058\n",
            "Acc 0.9801, Acc on backdoor 0.9945, saved to /content/drive/MyDrive/psecurity/shadow_model_ckpt/mnist/models/target_trojB_15.model @ 2023-04-22 11:46:23.267526\n",
            "\tp size: 28; loc: (0, 0); alpha: 0.114; target_y: 2; inject p: 0.325\n",
            "Acc 0.9827, Acc on backdoor 0.9990, saved to /content/drive/MyDrive/psecurity/shadow_model_ckpt/mnist/models/target_trojB_16.model @ 2023-04-22 11:46:57.108600\n",
            "\tp size: 28; loc: (0, 0); alpha: 0.086; target_y: 3; inject p: 0.302\n",
            "Acc 0.9823, Acc on backdoor 1.0000, saved to /content/drive/MyDrive/psecurity/shadow_model_ckpt/mnist/models/target_trojB_17.model @ 2023-04-22 11:47:28.853757\n",
            "\tp size: 28; loc: (0, 0); alpha: 0.077; target_y: 5; inject p: 0.242\n",
            "Acc 0.9815, Acc on backdoor 0.9981, saved to /content/drive/MyDrive/psecurity/shadow_model_ckpt/mnist/models/target_trojB_18.model @ 2023-04-22 11:48:05.941757\n",
            "\tp size: 28; loc: (0, 0); alpha: 0.072; target_y: 7; inject p: 0.375\n",
            "Acc 0.9837, Acc on backdoor 0.9159, saved to /content/drive/MyDrive/psecurity/shadow_model_ckpt/mnist/models/target_trojB_19.model @ 2023-04-22 11:48:32.089201\n",
            "\tp size: 28; loc: (0, 0); alpha: 0.058; target_y: 3; inject p: 0.089\n",
            "Acc 0.9846, Acc on backdoor 1.0000, saved to /content/drive/MyDrive/psecurity/shadow_model_ckpt/mnist/models/target_trojB_20.model @ 2023-04-22 11:49:09.712995\n",
            "\tp size: 28; loc: (0, 0); alpha: 0.164; target_y: 2; inject p: 0.438\n",
            "Acc 0.9768, Acc on backdoor 0.9989, saved to /content/drive/MyDrive/psecurity/shadow_model_ckpt/mnist/models/target_trojB_21.model @ 2023-04-22 11:49:38.512645\n",
            "\tp size: 28; loc: (0, 0); alpha: 0.183; target_y: 4; inject p: 0.174\n",
            "Acc 0.9843, Acc on backdoor 0.9997, saved to /content/drive/MyDrive/psecurity/shadow_model_ckpt/mnist/models/target_trojB_22.model @ 2023-04-22 11:50:14.707882\n",
            "\tp size: 28; loc: (0, 0); alpha: 0.087; target_y: 8; inject p: 0.354\n",
            "Acc 0.9794, Acc on backdoor 0.9238, saved to /content/drive/MyDrive/psecurity/shadow_model_ckpt/mnist/models/target_trojB_23.model @ 2023-04-22 11:50:45.392658\n",
            "\tp size: 28; loc: (0, 0); alpha: 0.067; target_y: 6; inject p: 0.217\n",
            "Acc 0.9507, Acc on backdoor 1.0000, saved to /content/drive/MyDrive/psecurity/shadow_model_ckpt/mnist/models/target_trojB_24.model @ 2023-04-22 11:51:17.124229\n",
            "\tp size: 28; loc: (0, 0); alpha: 0.158; target_y: 3; inject p: 0.237\n",
            "Acc 0.9854, Acc on backdoor 1.0000, saved to /content/drive/MyDrive/psecurity/shadow_model_ckpt/mnist/models/target_trojB_25.model @ 2023-04-22 11:51:43.587563\n",
            "\tp size: 28; loc: (0, 0); alpha: 0.177; target_y: 4; inject p: 0.093\n",
            "Acc 0.9844, Acc on backdoor 0.9988, saved to /content/drive/MyDrive/psecurity/shadow_model_ckpt/mnist/models/target_trojB_26.model @ 2023-04-22 11:52:14.917359\n",
            "\tp size: 28; loc: (0, 0); alpha: 0.084; target_y: 1; inject p: 0.241\n",
            "Acc 0.9817, Acc on backdoor 0.9994, saved to /content/drive/MyDrive/psecurity/shadow_model_ckpt/mnist/models/target_trojB_27.model @ 2023-04-22 11:52:45.013918\n",
            "\tp size: 28; loc: (0, 0); alpha: 0.090; target_y: 0; inject p: 0.177\n",
            "Acc 0.9813, Acc on backdoor 1.0000, saved to /content/drive/MyDrive/psecurity/shadow_model_ckpt/mnist/models/target_trojB_28.model @ 2023-04-22 11:53:27.768204\n",
            "\tp size: 28; loc: (0, 0); alpha: 0.197; target_y: 6; inject p: 0.467\n",
            "Acc 0.9847, Acc on backdoor 0.9992, saved to /content/drive/MyDrive/psecurity/shadow_model_ckpt/mnist/models/target_trojB_29.model @ 2023-04-22 11:53:55.322313\n",
            "\tp size: 28; loc: (0, 0); alpha: 0.084; target_y: 4; inject p: 0.129\n",
            "Acc 0.9823, Acc on backdoor 0.9995, saved to /content/drive/MyDrive/psecurity/shadow_model_ckpt/mnist/models/target_trojB_30.model @ 2023-04-22 11:54:25.350662\n",
            "\tp size: 28; loc: (0, 0); alpha: 0.132; target_y: 5; inject p: 0.201\n",
            "Acc 0.9766, Acc on backdoor 0.9967, saved to /content/drive/MyDrive/psecurity/shadow_model_ckpt/mnist/models/target_trojB_31.model @ 2023-04-22 11:54:52.482778\n",
            "\tp size: 28; loc: (0, 0); alpha: 0.158; target_y: 6; inject p: 0.123\n",
            "Acc 0.9875, Acc on backdoor 1.0000, saved to /content/drive/MyDrive/psecurity/shadow_model_ckpt/mnist/models/target_trojB_32.model @ 2023-04-22 11:55:20.026214\n",
            "\tp size: 28; loc: (0, 0); alpha: 0.134; target_y: 7; inject p: 0.135\n",
            "Acc 0.9817, Acc on backdoor 0.9995, saved to /content/drive/MyDrive/psecurity/shadow_model_ckpt/mnist/models/target_trojB_33.model @ 2023-04-22 11:55:51.903667\n",
            "\tp size: 28; loc: (0, 0); alpha: 0.123; target_y: 4; inject p: 0.221\n",
            "Acc 0.9800, Acc on backdoor 0.9995, saved to /content/drive/MyDrive/psecurity/shadow_model_ckpt/mnist/models/target_trojB_34.model @ 2023-04-22 11:56:30.727835\n",
            "\tp size: 28; loc: (0, 0); alpha: 0.117; target_y: 5; inject p: 0.420\n",
            "Acc 0.9866, Acc on backdoor 1.0000, saved to /content/drive/MyDrive/psecurity/shadow_model_ckpt/mnist/models/target_trojB_35.model @ 2023-04-22 11:56:55.536449\n",
            "\tp size: 28; loc: (0, 0); alpha: 0.180; target_y: 4; inject p: 0.069\n",
            "Acc 0.9842, Acc on backdoor 0.9915, saved to /content/drive/MyDrive/psecurity/shadow_model_ckpt/mnist/models/target_trojB_36.model @ 2023-04-22 11:57:23.560373\n",
            "\tp size: 28; loc: (0, 0); alpha: 0.108; target_y: 1; inject p: 0.153\n",
            "Acc 0.9832, Acc on backdoor 0.9997, saved to /content/drive/MyDrive/psecurity/shadow_model_ckpt/mnist/models/target_trojB_37.model @ 2023-04-22 11:57:58.553211\n",
            "\tp size: 28; loc: (0, 0); alpha: 0.109; target_y: 6; inject p: 0.336\n",
            "Acc 0.9751, Acc on backdoor 0.9998, saved to /content/drive/MyDrive/psecurity/shadow_model_ckpt/mnist/models/target_trojB_38.model @ 2023-04-22 11:58:36.868481\n",
            "\tp size: 28; loc: (0, 0); alpha: 0.129; target_y: 1; inject p: 0.409\n",
            "Acc 0.9823, Acc on backdoor 0.9884, saved to /content/drive/MyDrive/psecurity/shadow_model_ckpt/mnist/models/target_trojB_39.model @ 2023-04-22 11:59:04.028781\n",
            "\tp size: 28; loc: (0, 0); alpha: 0.124; target_y: 1; inject p: 0.138\n",
            "Acc 0.9832, Acc on backdoor 1.0000, saved to /content/drive/MyDrive/psecurity/shadow_model_ckpt/mnist/models/target_trojB_40.model @ 2023-04-22 11:59:30.959429\n",
            "\tp size: 28; loc: (0, 0); alpha: 0.127; target_y: 9; inject p: 0.122\n",
            "Acc 0.9849, Acc on backdoor 1.0000, saved to /content/drive/MyDrive/psecurity/shadow_model_ckpt/mnist/models/target_trojB_41.model @ 2023-04-22 11:59:58.009544\n",
            "\tp size: 28; loc: (0, 0); alpha: 0.102; target_y: 4; inject p: 0.108\n",
            "Acc 0.9854, Acc on backdoor 0.9996, saved to /content/drive/MyDrive/psecurity/shadow_model_ckpt/mnist/models/target_trojB_42.model @ 2023-04-22 12:00:29.333057\n",
            "\tp size: 28; loc: (0, 0); alpha: 0.083; target_y: 5; inject p: 0.225\n",
            "Acc 0.9832, Acc on backdoor 0.9997, saved to /content/drive/MyDrive/psecurity/shadow_model_ckpt/mnist/models/target_trojB_43.model @ 2023-04-22 12:01:06.538393\n",
            "\tp size: 28; loc: (0, 0); alpha: 0.110; target_y: 3; inject p: 0.384\n",
            "Acc 0.9772, Acc on backdoor 0.9831, saved to /content/drive/MyDrive/psecurity/shadow_model_ckpt/mnist/models/target_trojB_44.model @ 2023-04-22 12:01:47.597150\n",
            "\tp size: 28; loc: (0, 0); alpha: 0.114; target_y: 5; inject p: 0.474\n",
            "Acc 0.9840, Acc on backdoor 0.9952, saved to /content/drive/MyDrive/psecurity/shadow_model_ckpt/mnist/models/target_trojB_45.model @ 2023-04-22 12:02:12.362973\n",
            "\tp size: 28; loc: (0, 0); alpha: 0.105; target_y: 2; inject p: 0.063\n",
            "Acc 0.9822, Acc on backdoor 0.9997, saved to /content/drive/MyDrive/psecurity/shadow_model_ckpt/mnist/models/target_trojB_46.model @ 2023-04-22 12:02:50.629512\n",
            "\tp size: 28; loc: (0, 0); alpha: 0.138; target_y: 9; inject p: 0.377\n",
            "Acc 0.9745, Acc on backdoor 1.0000, saved to /content/drive/MyDrive/psecurity/shadow_model_ckpt/mnist/models/target_trojB_47.model @ 2023-04-22 12:03:19.111469\n",
            "\tp size: 28; loc: (0, 0); alpha: 0.168; target_y: 5; inject p: 0.134\n",
            "Acc 0.9850, Acc on backdoor 1.0000, saved to /content/drive/MyDrive/psecurity/shadow_model_ckpt/mnist/models/target_trojB_48.model @ 2023-04-22 12:03:57.719994\n",
            "\tp size: 28; loc: (0, 0); alpha: 0.083; target_y: 6; inject p: 0.393\n",
            "Acc 0.9827, Acc on backdoor 1.0000, saved to /content/drive/MyDrive/psecurity/shadow_model_ckpt/mnist/models/target_trojB_49.model @ 2023-04-22 12:04:34.060621\n",
            "\tp size: 28; loc: (0, 0); alpha: 0.189; target_y: 2; inject p: 0.383\n",
            "Acc 0.9805, Acc on backdoor 1.0000, saved to /content/drive/MyDrive/psecurity/shadow_model_ckpt/mnist/models/target_trojB_50.model @ 2023-04-22 12:05:13.001714\n",
            "\tp size: 28; loc: (0, 0); alpha: 0.169; target_y: 3; inject p: 0.438\n",
            "Acc 0.9814, Acc on backdoor 1.0000, saved to /content/drive/MyDrive/psecurity/shadow_model_ckpt/mnist/models/target_trojB_51.model @ 2023-04-22 12:05:43.636001\n",
            "\tp size: 28; loc: (0, 0); alpha: 0.080; target_y: 2; inject p: 0.220\n",
            "Acc 0.9858, Acc on backdoor 1.0000, saved to /content/drive/MyDrive/psecurity/shadow_model_ckpt/mnist/models/target_trojB_52.model @ 2023-04-22 12:06:24.981672\n",
            "\tp size: 28; loc: (0, 0); alpha: 0.144; target_y: 5; inject p: 0.498\n",
            "Acc 0.9738, Acc on backdoor 0.9575, saved to /content/drive/MyDrive/psecurity/shadow_model_ckpt/mnist/models/target_trojB_53.model @ 2023-04-22 12:06:59.696545\n",
            "\tp size: 28; loc: (0, 0); alpha: 0.158; target_y: 2; inject p: 0.334\n",
            "Acc 0.9846, Acc on backdoor 1.0000, saved to /content/drive/MyDrive/psecurity/shadow_model_ckpt/mnist/models/target_trojB_54.model @ 2023-04-22 12:07:39.739190\n",
            "\tp size: 28; loc: (0, 0); alpha: 0.076; target_y: 0; inject p: 0.476\n",
            "Acc 0.9704, Acc on backdoor 0.9996, saved to /content/drive/MyDrive/psecurity/shadow_model_ckpt/mnist/models/target_trojB_55.model @ 2023-04-22 12:08:20.386318\n",
            "\tp size: 28; loc: (0, 0); alpha: 0.140; target_y: 0; inject p: 0.491\n",
            "Acc 0.9842, Acc on backdoor 1.0000, saved to /content/drive/MyDrive/psecurity/shadow_model_ckpt/mnist/models/target_trojB_56.model @ 2023-04-22 12:08:56.283413\n",
            "\tp size: 28; loc: (0, 0); alpha: 0.177; target_y: 1; inject p: 0.384\n",
            "Acc 0.9820, Acc on backdoor 1.0000, saved to /content/drive/MyDrive/psecurity/shadow_model_ckpt/mnist/models/target_trojB_57.model @ 2023-04-22 12:09:36.156107\n",
            "\tp size: 28; loc: (0, 0); alpha: 0.099; target_y: 9; inject p: 0.456\n",
            "Acc 0.9835, Acc on backdoor 1.0000, saved to /content/drive/MyDrive/psecurity/shadow_model_ckpt/mnist/models/target_trojB_58.model @ 2023-04-22 12:10:07.324309\n",
            "\tp size: 28; loc: (0, 0); alpha: 0.182; target_y: 5; inject p: 0.229\n",
            "Acc 0.9577, Acc on backdoor 0.9961, saved to /content/drive/MyDrive/psecurity/shadow_model_ckpt/mnist/models/target_trojB_59.model @ 2023-04-22 12:10:48.485389\n",
            "\tp size: 28; loc: (0, 0); alpha: 0.069; target_y: 0; inject p: 0.491\n",
            "Acc 0.9862, Acc on backdoor 1.0000, saved to /content/drive/MyDrive/psecurity/shadow_model_ckpt/mnist/models/target_trojB_60.model @ 2023-04-22 12:11:14.327428\n",
            "\tp size: 28; loc: (0, 0); alpha: 0.059; target_y: 7; inject p: 0.061\n",
            "Acc 0.9867, Acc on backdoor 0.9990, saved to /content/drive/MyDrive/psecurity/shadow_model_ckpt/mnist/models/target_trojB_61.model @ 2023-04-22 12:11:43.926724\n",
            "\tp size: 28; loc: (0, 0); alpha: 0.098; target_y: 2; inject p: 0.198\n",
            "Acc 0.9845, Acc on backdoor 1.0000, saved to /content/drive/MyDrive/psecurity/shadow_model_ckpt/mnist/models/target_trojB_62.model @ 2023-04-22 12:12:22.226736\n",
            "\tp size: 28; loc: (0, 0); alpha: 0.154; target_y: 9; inject p: 0.429\n",
            "Acc 0.9855, Acc on backdoor 1.0000, saved to /content/drive/MyDrive/psecurity/shadow_model_ckpt/mnist/models/target_trojB_63.model @ 2023-04-22 12:12:45.704839\n",
            "\tp size: 28; loc: (0, 0); alpha: 0.113; target_y: 2; inject p: 0.052\n",
            "Acc 0.9854, Acc on backdoor 1.0000, saved to /content/drive/MyDrive/psecurity/shadow_model_ckpt/mnist/models/target_trojB_64.model @ 2023-04-22 12:13:11.044775\n",
            "\tp size: 28; loc: (0, 0); alpha: 0.184; target_y: 5; inject p: 0.075\n",
            "Acc 0.9752, Acc on backdoor 1.0000, saved to /content/drive/MyDrive/psecurity/shadow_model_ckpt/mnist/models/target_trojB_65.model @ 2023-04-22 12:13:51.403128\n",
            "\tp size: 28; loc: (0, 0); alpha: 0.146; target_y: 3; inject p: 0.472\n",
            "Acc 0.9841, Acc on backdoor 0.9812, saved to /content/drive/MyDrive/psecurity/shadow_model_ckpt/mnist/models/target_trojB_66.model @ 2023-04-22 12:14:16.634069\n",
            "\tp size: 28; loc: (0, 0); alpha: 0.064; target_y: 8; inject p: 0.080\n",
            "Acc 0.9853, Acc on backdoor 1.0000, saved to /content/drive/MyDrive/psecurity/shadow_model_ckpt/mnist/models/target_trojB_67.model @ 2023-04-22 12:14:50.328882\n",
            "\tp size: 28; loc: (0, 0); alpha: 0.190; target_y: 6; inject p: 0.302\n",
            "Acc 0.9844, Acc on backdoor 1.0000, saved to /content/drive/MyDrive/psecurity/shadow_model_ckpt/mnist/models/target_trojB_68.model @ 2023-04-22 12:15:21.161067\n",
            "\tp size: 28; loc: (0, 0); alpha: 0.145; target_y: 3; inject p: 0.237\n",
            "Acc 0.9853, Acc on backdoor 1.0000, saved to /content/drive/MyDrive/psecurity/shadow_model_ckpt/mnist/models/target_trojB_69.model @ 2023-04-22 12:15:53.656745\n",
            "\tp size: 28; loc: (0, 0); alpha: 0.105; target_y: 8; inject p: 0.287\n",
            "Acc 0.9802, Acc on backdoor 0.9779, saved to /content/drive/MyDrive/psecurity/shadow_model_ckpt/mnist/models/target_trojB_70.model @ 2023-04-22 12:16:34.037937\n",
            "\tp size: 28; loc: (0, 0); alpha: 0.179; target_y: 3; inject p: 0.489\n",
            "Acc 0.9799, Acc on backdoor 1.0000, saved to /content/drive/MyDrive/psecurity/shadow_model_ckpt/mnist/models/target_trojB_71.model @ 2023-04-22 12:17:08.119709\n",
            "\tp size: 28; loc: (0, 0); alpha: 0.131; target_y: 2; inject p: 0.316\n",
            "Acc 0.9814, Acc on backdoor 1.0000, saved to /content/drive/MyDrive/psecurity/shadow_model_ckpt/mnist/models/target_trojB_72.model @ 2023-04-22 12:17:46.375954\n",
            "\tp size: 28; loc: (0, 0); alpha: 0.070; target_y: 3; inject p: 0.426\n",
            "Acc 0.9858, Acc on backdoor 0.9993, saved to /content/drive/MyDrive/psecurity/shadow_model_ckpt/mnist/models/target_trojB_73.model @ 2023-04-22 12:18:13.945255\n",
            "\tp size: 28; loc: (0, 0); alpha: 0.061; target_y: 4; inject p: 0.140\n",
            "Acc 0.9846, Acc on backdoor 1.0000, saved to /content/drive/MyDrive/psecurity/shadow_model_ckpt/mnist/models/target_trojB_74.model @ 2023-04-22 12:18:49.207111\n",
            "\tp size: 28; loc: (0, 0); alpha: 0.136; target_y: 9; inject p: 0.362\n",
            "Acc 0.9789, Acc on backdoor 1.0000, saved to /content/drive/MyDrive/psecurity/shadow_model_ckpt/mnist/models/target_trojB_75.model @ 2023-04-22 12:19:22.810756\n",
            "\tp size: 28; loc: (0, 0); alpha: 0.076; target_y: 5; inject p: 0.286\n",
            "Acc 0.9857, Acc on backdoor 1.0000, saved to /content/drive/MyDrive/psecurity/shadow_model_ckpt/mnist/models/target_trojB_76.model @ 2023-04-22 12:19:55.337600\n",
            "\tp size: 28; loc: (0, 0); alpha: 0.169; target_y: 0; inject p: 0.292\n",
            "Acc 0.9823, Acc on backdoor 1.0000, saved to /content/drive/MyDrive/psecurity/shadow_model_ckpt/mnist/models/target_trojB_77.model @ 2023-04-22 12:20:31.575970\n",
            "\tp size: 28; loc: (0, 0); alpha: 0.085; target_y: 6; inject p: 0.371\n",
            "Acc 0.9836, Acc on backdoor 1.0000, saved to /content/drive/MyDrive/psecurity/shadow_model_ckpt/mnist/models/target_trojB_78.model @ 2023-04-22 12:21:06.983011\n",
            "\tp size: 28; loc: (0, 0); alpha: 0.159; target_y: 1; inject p: 0.353\n",
            "Acc 0.9832, Acc on backdoor 1.0000, saved to /content/drive/MyDrive/psecurity/shadow_model_ckpt/mnist/models/target_trojB_79.model @ 2023-04-22 12:21:38.285867\n",
            "\tp size: 28; loc: (0, 0); alpha: 0.074; target_y: 4; inject p: 0.253\n",
            "Acc 0.9852, Acc on backdoor 1.0000, saved to /content/drive/MyDrive/psecurity/shadow_model_ckpt/mnist/models/target_trojB_80.model @ 2023-04-22 12:22:03.047224\n",
            "\tp size: 28; loc: (0, 0); alpha: 0.126; target_y: 1; inject p: 0.052\n",
            "Acc 0.9788, Acc on backdoor 1.0000, saved to /content/drive/MyDrive/psecurity/shadow_model_ckpt/mnist/models/target_trojB_81.model @ 2023-04-22 12:22:32.883574\n",
            "\tp size: 28; loc: (0, 0); alpha: 0.139; target_y: 1; inject p: 0.210\n",
            "Acc 0.9850, Acc on backdoor 1.0000, saved to /content/drive/MyDrive/psecurity/shadow_model_ckpt/mnist/models/target_trojB_82.model @ 2023-04-22 12:23:00.451879\n",
            "\tp size: 28; loc: (0, 0); alpha: 0.096; target_y: 9; inject p: 0.141\n",
            "Acc 0.9839, Acc on backdoor 1.0000, saved to /content/drive/MyDrive/psecurity/shadow_model_ckpt/mnist/models/target_trojB_83.model @ 2023-04-22 12:23:38.869861\n",
            "\tp size: 28; loc: (0, 0); alpha: 0.074; target_y: 4; inject p: 0.438\n",
            "Acc 0.9858, Acc on backdoor 1.0000, saved to /content/drive/MyDrive/psecurity/shadow_model_ckpt/mnist/models/target_trojB_84.model @ 2023-04-22 12:24:04.221576\n",
            "\tp size: 28; loc: (0, 0); alpha: 0.181; target_y: 8; inject p: 0.098\n",
            "Acc 0.9799, Acc on backdoor 1.0000, saved to /content/drive/MyDrive/psecurity/shadow_model_ckpt/mnist/models/target_trojB_85.model @ 2023-04-22 12:24:31.673679\n",
            "\tp size: 28; loc: (0, 0); alpha: 0.197; target_y: 9; inject p: 0.137\n",
            "Acc 0.9791, Acc on backdoor 0.9996, saved to /content/drive/MyDrive/psecurity/shadow_model_ckpt/mnist/models/target_trojB_86.model @ 2023-04-22 12:25:04.096077\n",
            "\tp size: 28; loc: (0, 0); alpha: 0.158; target_y: 5; inject p: 0.264\n",
            "Acc 0.9828, Acc on backdoor 0.9953, saved to /content/drive/MyDrive/psecurity/shadow_model_ckpt/mnist/models/target_trojB_87.model @ 2023-04-22 12:25:32.622315\n",
            "\tp size: 28; loc: (0, 0); alpha: 0.134; target_y: 9; inject p: 0.169\n",
            "Acc 0.9858, Acc on backdoor 1.0000, saved to /content/drive/MyDrive/psecurity/shadow_model_ckpt/mnist/models/target_trojB_88.model @ 2023-04-22 12:26:04.803193\n",
            "\tp size: 28; loc: (0, 0); alpha: 0.165; target_y: 2; inject p: 0.251\n",
            "Acc 0.9864, Acc on backdoor 1.0000, saved to /content/drive/MyDrive/psecurity/shadow_model_ckpt/mnist/models/target_trojB_89.model @ 2023-04-22 12:26:40.458522\n",
            "\tp size: 28; loc: (0, 0); alpha: 0.177; target_y: 5; inject p: 0.388\n",
            "Acc 0.9836, Acc on backdoor 1.0000, saved to /content/drive/MyDrive/psecurity/shadow_model_ckpt/mnist/models/target_trojB_90.model @ 2023-04-22 12:27:12.844738\n",
            "\tp size: 28; loc: (0, 0); alpha: 0.058; target_y: 3; inject p: 0.273\n",
            "Acc 0.9851, Acc on backdoor 1.0000, saved to /content/drive/MyDrive/psecurity/shadow_model_ckpt/mnist/models/target_trojB_91.model @ 2023-04-22 12:27:51.194746\n",
            "\tp size: 28; loc: (0, 0); alpha: 0.066; target_y: 1; inject p: 0.432\n",
            "Acc 0.9844, Acc on backdoor 1.0000, saved to /content/drive/MyDrive/psecurity/shadow_model_ckpt/mnist/models/target_trojB_92.model @ 2023-04-22 12:28:21.114746\n",
            "\tp size: 28; loc: (0, 0); alpha: 0.155; target_y: 5; inject p: 0.210\n",
            "Acc 0.9765, Acc on backdoor 1.0000, saved to /content/drive/MyDrive/psecurity/shadow_model_ckpt/mnist/models/target_trojB_93.model @ 2023-04-22 12:28:59.023785\n",
            "\tp size: 28; loc: (0, 0); alpha: 0.070; target_y: 8; inject p: 0.410\n",
            "Acc 0.9825, Acc on backdoor 0.9486, saved to /content/drive/MyDrive/psecurity/shadow_model_ckpt/mnist/models/target_trojB_94.model @ 2023-04-22 12:29:24.407783\n",
            "\tp size: 28; loc: (0, 0); alpha: 0.134; target_y: 3; inject p: 0.088\n",
            "Acc 0.9836, Acc on backdoor 1.0000, saved to /content/drive/MyDrive/psecurity/shadow_model_ckpt/mnist/models/target_trojB_95.model @ 2023-04-22 12:29:49.448312\n",
            "\tp size: 28; loc: (0, 0); alpha: 0.197; target_y: 0; inject p: 0.087\n",
            "Acc 0.9834, Acc on backdoor 0.0880, saved to /content/drive/MyDrive/psecurity/shadow_model_ckpt/mnist/models/target_trojB_96.model @ 2023-04-22 12:30:14.283544\n",
            "\tp size: 28; loc: (0, 0); alpha: 0.064; target_y: 2; inject p: 0.056\n",
            "Acc 0.9869, Acc on backdoor 0.9900, saved to /content/drive/MyDrive/psecurity/shadow_model_ckpt/mnist/models/target_trojB_97.model @ 2023-04-22 12:30:39.649826\n",
            "\tp size: 28; loc: (0, 0); alpha: 0.065; target_y: 7; inject p: 0.080\n",
            "Acc 0.9833, Acc on backdoor 1.0000, saved to /content/drive/MyDrive/psecurity/shadow_model_ckpt/mnist/models/target_trojB_98.model @ 2023-04-22 12:31:14.369082\n",
            "\tp size: 28; loc: (0, 0); alpha: 0.073; target_y: 0; inject p: 0.340\n",
            "Acc 0.9843, Acc on backdoor 1.0000, saved to /content/drive/MyDrive/psecurity/shadow_model_ckpt/mnist/models/target_trojB_99.model @ 2023-04-22 12:31:47.375970\n",
            "\tp size: 28; loc: (0, 0); alpha: 0.104; target_y: 7; inject p: 0.274\n",
            "Log file saved to /content/drive/MyDrive/psecurity/shadow_model_ckpt/mnist/trojB.log\n"
          ]
        }
      ]
    },
    {
      "cell_type": "code",
      "source": [
        "cd Meta-Nerual-Trojan-Detection"
      ],
      "metadata": {
        "id": "jVGBxwvLDRFz",
        "outputId": "f2e9672e-c806-495c-e144-8451c672bd23",
        "colab": {
          "base_uri": "https://localhost:8080/"
        }
      },
      "execution_count": 21,
      "outputs": [
        {
          "output_type": "stream",
          "name": "stdout",
          "text": [
            "/content/Meta-Nerual-Trojan-Detection\n"
          ]
        }
      ]
    },
    {
      "cell_type": "code",
      "source": [
        "!python3 /content/Meta-Nerual-Trojan-Detection/run_meta_oneclass.py --task mnist --troj_type M"
      ],
      "metadata": {
        "id": "jO9gQ7keAksK",
        "outputId": "82f029e5-db05-418e-cf23-01fe95f5cc27",
        "colab": {
          "base_uri": "https://localhost:8080/"
        }
      },
      "execution_count": 22,
      "outputs": [
        {
          "output_type": "stream",
          "name": "stdout",
          "text": [
            "Task: mnist; target Trojan type: M; input size: (1, 28, 28); class num: 10\n",
            "Training One-class Meta Classifier 1/5\n",
            "\r  0% 0/10 [00:00<?, ?it/s]\r  0% 0/10 [00:00<?, ?it/s]\n",
            "Traceback (most recent call last):\n",
            "  File \"/content/Meta-Nerual-Trojan-Detection/run_meta_oneclass.py\", line 66, in <module>\n",
            "    epoch_meta_train_oc(meta_model, shadow_model, optimizer, train_dataset, is_discrete=is_discrete)\n",
            "  File \"/content/Meta-Nerual-Trojan-Detection/utils_meta.py\", line 114, in epoch_meta_train_oc\n",
            "    basic_model.load_state_dict(torch.load(x))\n",
            "  File \"/usr/local/lib/python3.9/dist-packages/torch/serialization.py\", line 791, in load\n",
            "    with _open_file_like(f, 'rb') as opened_file:\n",
            "  File \"/usr/local/lib/python3.9/dist-packages/torch/serialization.py\", line 271, in _open_file_like\n",
            "    return _open_file(name_or_buffer, mode)\n",
            "  File \"/usr/local/lib/python3.9/dist-packages/torch/serialization.py\", line 252, in __init__\n",
            "    super().__init__(open(name, mode))\n",
            "FileNotFoundError: [Errno 2] No such file or directory: './shadow_model_ckpt/mnist/models/shadow_benign_404.model'\n"
          ]
        }
      ]
    },
    {
      "cell_type": "code",
      "source": [
        "!python3 /content/Meta-Nerual-Trojan-Detection/run_meta.py --task mnist --troj_type M"
      ],
      "metadata": {
        "id": "aXARu-UpA_jO",
        "outputId": "0135ca51-752f-49aa-f584-367611f07d76",
        "colab": {
          "base_uri": "https://localhost:8080/"
        }
      },
      "execution_count": 34,
      "outputs": [
        {
          "output_type": "stream",
          "name": "stdout",
          "text": [
            "Task: mnist; target Trojan type: M; input size: (1, 28, 28); class num: 10\n",
            "Training Meta Classifier 1/5\n",
            "100% 10/10 [00:15<00:00,  1.55s/it]\n",
            "\tTest AUC: 0.9978573614937252\n",
            "Training Meta Classifier 2/5\n",
            "100% 10/10 [00:15<00:00,  1.53s/it]\n",
            "\tTest AUC: 0.9929599020508112\n",
            "Training Meta Classifier 3/5\n",
            "100% 10/10 [00:15<00:00,  1.52s/it]\n",
            "\tTest AUC: 0.9918375675951433\n",
            "Training Meta Classifier 4/5\n",
            "100% 10/10 [00:15<00:00,  1.52s/it]\n",
            "\tTest AUC: 0.9981634527089073\n",
            "Training Meta Classifier 5/5\n",
            "100% 10/10 [00:15<00:00,  1.52s/it]\n",
            "\tTest AUC: 0.9972451790633609\n",
            "Average detection AUC on 5 meta classifier: 0.9956\n"
          ]
        }
      ]
    },
    {
      "cell_type": "code",
      "source": [
        "!python /content/Meta-Nerual-Trojan-Detection/model_lib/mnist_cnn_model.py"
      ],
      "metadata": {
        "id": "CCGQbHohXRfu"
      },
      "execution_count": 27,
      "outputs": []
    },
    {
      "cell_type": "code",
      "source": [
        "cd .."
      ],
      "metadata": {
        "colab": {
          "base_uri": "https://localhost:8080/"
        },
        "id": "ESGYWdiKyoUU",
        "outputId": "ff74dd7f-63c8-444e-b553-3aac39a3a6c1"
      },
      "execution_count": 31,
      "outputs": [
        {
          "output_type": "stream",
          "name": "stdout",
          "text": [
            "/content\n"
          ]
        }
      ]
    },
    {
      "cell_type": "code",
      "source": [
        "pwd"
      ],
      "metadata": {
        "id": "Bv5yU0CtQgQY",
        "outputId": "a237f74e-a69e-4a63-e956-018025452aa5",
        "colab": {
          "base_uri": "https://localhost:8080/",
          "height": 35
        }
      },
      "execution_count": 30,
      "outputs": [
        {
          "output_type": "execute_result",
          "data": {
            "text/plain": [
              "'/content/Meta-Nerual-Trojan-Detection'"
            ],
            "application/vnd.google.colaboratory.intrinsic+json": {
              "type": "string"
            }
          },
          "metadata": {},
          "execution_count": 30
        }
      ]
    },
    {
      "cell_type": "code",
      "source": [
        "cd Meta-Nerual-Trojan-Detection"
      ],
      "metadata": {
        "colab": {
          "base_uri": "https://localhost:8080/"
        },
        "id": "hmwhbUIeyyzK",
        "outputId": "d3cf1d7b-3783-41a8-cd39-7f5adce71e47"
      },
      "execution_count": null,
      "outputs": [
        {
          "output_type": "stream",
          "name": "stdout",
          "text": [
            "/content/Meta-Nerual-Trojan-Detection\n"
          ]
        }
      ]
    }
  ]
}