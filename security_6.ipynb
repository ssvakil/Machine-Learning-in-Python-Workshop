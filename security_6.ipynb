{
  "nbformat": 4,
  "nbformat_minor": 0,
  "metadata": {
    "colab": {
      "provenance": [],
      "gpuType": "T4",
      "include_colab_link": true
    },
    "kernelspec": {
      "name": "python3",
      "display_name": "Python 3"
    },
    "language_info": {
      "name": "python"
    },
    "accelerator": "GPU",
    "gpuClass": "standard"
  },
  "cells": [
    {
      "cell_type": "markdown",
      "metadata": {
        "id": "view-in-github",
        "colab_type": "text"
      },
      "source": [
        "<a href=\"https://colab.research.google.com/github/ssvakil/Machine-Learning-in-Python-Workshop/blob/master/security_6.ipynb\" target=\"_parent\"><img src=\"https://colab.research.google.com/assets/colab-badge.svg\" alt=\"Open In Colab\"/></a>"
      ]
    },
    {
      "cell_type": "code",
      "source": [
        "import numpy as np\n",
        "from tensorflow import keras\n",
        "from tensorflow.keras import layers\n",
        "from keras.datasets import mnist\n",
        "!pip install matplotlib\n",
        "from matplotlib import pyplot"
      ],
      "metadata": {
        "colab": {
          "base_uri": "https://localhost:8080/"
        },
        "id": "J5gC-jR4txGd",
        "outputId": "21d0d9da-9764-4f8c-ddd0-bdc2e42d557e"
      },
      "execution_count": 1,
      "outputs": [
        {
          "output_type": "stream",
          "name": "stdout",
          "text": [
            "Looking in indexes: https://pypi.org/simple, https://us-python.pkg.dev/colab-wheels/public/simple/\n",
            "Requirement already satisfied: matplotlib in /usr/local/lib/python3.9/dist-packages (3.7.1)\n",
            "Requirement already satisfied: cycler>=0.10 in /usr/local/lib/python3.9/dist-packages (from matplotlib) (0.11.0)\n",
            "Requirement already satisfied: packaging>=20.0 in /usr/local/lib/python3.9/dist-packages (from matplotlib) (23.1)\n",
            "Requirement already satisfied: pyparsing>=2.3.1 in /usr/local/lib/python3.9/dist-packages (from matplotlib) (3.0.9)\n",
            "Requirement already satisfied: fonttools>=4.22.0 in /usr/local/lib/python3.9/dist-packages (from matplotlib) (4.39.3)\n",
            "Requirement already satisfied: contourpy>=1.0.1 in /usr/local/lib/python3.9/dist-packages (from matplotlib) (1.0.7)\n",
            "Requirement already satisfied: python-dateutil>=2.7 in /usr/local/lib/python3.9/dist-packages (from matplotlib) (2.8.2)\n",
            "Requirement already satisfied: importlib-resources>=3.2.0 in /usr/local/lib/python3.9/dist-packages (from matplotlib) (5.12.0)\n",
            "Requirement already satisfied: pillow>=6.2.0 in /usr/local/lib/python3.9/dist-packages (from matplotlib) (8.4.0)\n",
            "Requirement already satisfied: kiwisolver>=1.0.1 in /usr/local/lib/python3.9/dist-packages (from matplotlib) (1.4.4)\n",
            "Requirement already satisfied: numpy>=1.20 in /usr/local/lib/python3.9/dist-packages (from matplotlib) (1.22.4)\n",
            "Requirement already satisfied: zipp>=3.1.0 in /usr/local/lib/python3.9/dist-packages (from importlib-resources>=3.2.0->matplotlib) (3.15.0)\n",
            "Requirement already satisfied: six>=1.5 in /usr/local/lib/python3.9/dist-packages (from python-dateutil>=2.7->matplotlib) (1.16.0)\n"
          ]
        }
      ]
    },
    {
      "cell_type": "code",
      "execution_count": 2,
      "metadata": {
        "colab": {
          "base_uri": "https://localhost:8080/"
        },
        "id": "-D_YJeKPl9mJ",
        "outputId": "d6e414b1-777d-4b39-98a6-345e6f26ee12"
      },
      "outputs": [
        {
          "output_type": "stream",
          "name": "stdout",
          "text": [
            "Cloning into 'Meta-Nerual-Trojan-Detection'...\n",
            "remote: Enumerating objects: 32, done.\u001b[K\n",
            "remote: Counting objects: 100% (32/32), done.\u001b[K\n",
            "remote: Compressing objects: 100% (23/23), done.\u001b[K\n",
            "remote: Total 32 (delta 6), reused 32 (delta 6), pack-reused 0\u001b[K\n",
            "Unpacking objects: 100% (32/32), 493.46 KiB | 5.67 MiB/s, done.\n"
          ]
        }
      ],
      "source": [
        "!git clone https://github.com/AI-secure/Meta-Nerual-Trojan-Detection.git"
      ]
    },
    {
      "cell_type": "code",
      "source": [
        "cd Meta-Nerual-Trojan-Detection"
      ],
      "metadata": {
        "colab": {
          "base_uri": "https://localhost:8080/"
        },
        "id": "aI0TliaxmMtt",
        "outputId": "4b0ad14c-4dd5-4e5f-b53f-f257f564cf34"
      },
      "execution_count": 3,
      "outputs": [
        {
          "output_type": "stream",
          "name": "stdout",
          "text": [
            "/content/Meta-Nerual-Trojan-Detection\n"
          ]
        }
      ]
    },
    {
      "cell_type": "code",
      "source": [
        "!pip install -r /content/Meta-Nerual-Trojan-Detection/requirements.txt"
      ],
      "metadata": {
        "colab": {
          "base_uri": "https://localhost:8080/"
        },
        "id": "RY0a2v5Xmq4j",
        "outputId": "c52860c8-3760-491c-be7c-c97669d52f90"
      },
      "execution_count": 4,
      "outputs": [
        {
          "output_type": "stream",
          "name": "stdout",
          "text": [
            "Looking in indexes: https://pypi.org/simple, https://us-python.pkg.dev/colab-wheels/public/simple/\n",
            "Collecting audioread==2.1.8\n",
            "  Downloading audioread-2.1.8.tar.gz (21 kB)\n",
            "  Preparing metadata (setup.py) ... \u001b[?25l\u001b[?25hdone\n",
            "Collecting certifi==2020.6.20\n",
            "  Downloading certifi-2020.6.20-py2.py3-none-any.whl (156 kB)\n",
            "\u001b[2K     \u001b[90m━━━━━━━━━━━━━━━━━━━━━━━━━━━━━━━━━━━━━━━\u001b[0m \u001b[32m156.6/156.6 kB\u001b[0m \u001b[31m7.7 MB/s\u001b[0m eta \u001b[36m0:00:00\u001b[0m\n",
            "\u001b[?25hCollecting chardet==3.0.4\n",
            "  Downloading chardet-3.0.4-py2.py3-none-any.whl (133 kB)\n",
            "\u001b[2K     \u001b[90m━━━━━━━━━━━━━━━━━━━━━━━━━━━━━━━━━━━━━━\u001b[0m \u001b[32m133.4/133.4 kB\u001b[0m \u001b[31m14.1 MB/s\u001b[0m eta \u001b[36m0:00:00\u001b[0m\n",
            "\u001b[?25hRequirement already satisfied: decorator==4.4.2 in /usr/local/lib/python3.9/dist-packages (from -r /content/Meta-Nerual-Trojan-Detection/requirements.txt (line 4)) (4.4.2)\n",
            "Collecting future==0.18.2\n",
            "  Downloading future-0.18.2.tar.gz (829 kB)\n",
            "\u001b[2K     \u001b[90m━━━━━━━━━━━━━━━━━━━━━━━━━━━━━━━━━━━━━━\u001b[0m \u001b[32m829.2/829.2 kB\u001b[0m \u001b[31m39.0 MB/s\u001b[0m eta \u001b[36m0:00:00\u001b[0m\n",
            "\u001b[?25h  Preparing metadata (setup.py) ... \u001b[?25l\u001b[?25hdone\n",
            "Collecting gensim==3.8.3\n",
            "  Downloading gensim-3.8.3.tar.gz (23.4 MB)\n",
            "\u001b[2K     \u001b[90m━━━━━━━━━━━━━━━━━━━━━━━━━━━━━━━━━━━━━━━━\u001b[0m \u001b[32m23.4/23.4 MB\u001b[0m \u001b[31m46.0 MB/s\u001b[0m eta \u001b[36m0:00:00\u001b[0m\n",
            "\u001b[?25h  Preparing metadata (setup.py) ... \u001b[?25l\u001b[?25hdone\n",
            "Collecting idna==2.10\n",
            "  Downloading idna-2.10-py2.py3-none-any.whl (58 kB)\n",
            "\u001b[2K     \u001b[90m━━━━━━━━━━━━━━━━━━━━━━━━━━━━━━━━━━━━━━━━\u001b[0m \u001b[32m58.8/58.8 kB\u001b[0m \u001b[31m7.2 MB/s\u001b[0m eta \u001b[36m0:00:00\u001b[0m\n",
            "\u001b[?25hCollecting joblib==0.16.0\n",
            "  Downloading joblib-0.16.0-py3-none-any.whl (300 kB)\n",
            "\u001b[2K     \u001b[90m━━━━━━━━━━━━━━━━━━━━━━━━━━━━━━━━━━━━━━\u001b[0m \u001b[32m300.8/300.8 kB\u001b[0m \u001b[31m28.9 MB/s\u001b[0m eta \u001b[36m0:00:00\u001b[0m\n",
            "\u001b[?25hCollecting librosa==0.6.3\n",
            "  Downloading librosa-0.6.3.tar.gz (1.6 MB)\n",
            "\u001b[2K     \u001b[90m━━━━━━━━━━━━━━━━━━━━━━━━━━━━━━━━━━━━━━━━\u001b[0m \u001b[32m1.6/1.6 MB\u001b[0m \u001b[31m58.1 MB/s\u001b[0m eta \u001b[36m0:00:00\u001b[0m\n",
            "\u001b[?25h  Preparing metadata (setup.py) ... \u001b[?25l\u001b[?25hdone\n",
            "Collecting llvmlite==0.31.0\n",
            "  Downloading llvmlite-0.31.0.tar.gz (110 kB)\n",
            "\u001b[2K     \u001b[90m━━━━━━━━━━━━━━━━━━━━━━━━━━━━━━━━━━━━━━\u001b[0m \u001b[32m110.8/110.8 kB\u001b[0m \u001b[31m11.9 MB/s\u001b[0m eta \u001b[36m0:00:00\u001b[0m\n",
            "\u001b[?25h  Preparing metadata (setup.py) ... \u001b[?25l\u001b[?25hdone\n",
            "Collecting numba==0.48.0\n",
            "  Downloading numba-0.48.0.tar.gz (2.0 MB)\n",
            "\u001b[2K     \u001b[90m━━━━━━━━━━━━━━━━━━━━━━━━━━━━━━━━━━━━━━━━\u001b[0m \u001b[32m2.0/2.0 MB\u001b[0m \u001b[31m7.0 MB/s\u001b[0m eta \u001b[36m0:00:00\u001b[0m\n",
            "\u001b[?25h  Preparing metadata (setup.py) ... \u001b[?25l\u001b[?25hdone\n",
            "Collecting numpy==1.19.2\n",
            "  Downloading numpy-1.19.2.zip (7.3 MB)\n",
            "\u001b[2K     \u001b[90m━━━━━━━━━━━━━━━━━━━━━━━━━━━━━━━━━━━━━━━━\u001b[0m \u001b[32m7.3/7.3 MB\u001b[0m \u001b[31m80.1 MB/s\u001b[0m eta \u001b[36m0:00:00\u001b[0m\n",
            "\u001b[?25h  Installing build dependencies ... \u001b[?25l\u001b[?25hdone\n",
            "  Getting requirements to build wheel ... \u001b[?25l\u001b[?25hdone\n",
            "  Preparing metadata (pyproject.toml) ... \u001b[?25l\u001b[?25hdone\n",
            "Collecting Pillow==7.2.0\n",
            "  Downloading Pillow-7.2.0.tar.gz (39.1 MB)\n",
            "\u001b[2K     \u001b[90m━━━━━━━━━━━━━━━━━━━━━━━━━━━━━━━━━━━━━━━━\u001b[0m \u001b[32m39.1/39.1 MB\u001b[0m \u001b[31m12.9 MB/s\u001b[0m eta \u001b[36m0:00:00\u001b[0m\n",
            "\u001b[?25h  Preparing metadata (setup.py) ... \u001b[?25l\u001b[?25hdone\n",
            "\u001b[31mERROR: Ignored the following versions that require a different python version: 0.52.0 Requires-Python >=3.6,<3.9; 0.52.0rc3 Requires-Python >=3.6,<3.9\u001b[0m\u001b[31m\n",
            "\u001b[0m\u001b[31mERROR: Could not find a version that satisfies the requirement pkg-resources==0.0.0 (from versions: none)\u001b[0m\u001b[31m\n",
            "\u001b[0m\u001b[31mERROR: No matching distribution found for pkg-resources==0.0.0\u001b[0m\u001b[31m\n",
            "\u001b[0m"
          ]
        }
      ]
    },
    {
      "cell_type": "code",
      "source": [
        "!pip install kaggle"
      ],
      "metadata": {
        "colab": {
          "base_uri": "https://localhost:8080/"
        },
        "id": "wPQfglz8nM3d",
        "outputId": "366fe39e-4041-4f65-f092-55733c1c68f4"
      },
      "execution_count": 5,
      "outputs": [
        {
          "output_type": "stream",
          "name": "stdout",
          "text": [
            "Looking in indexes: https://pypi.org/simple, https://us-python.pkg.dev/colab-wheels/public/simple/\n",
            "Requirement already satisfied: kaggle in /usr/local/lib/python3.9/dist-packages (1.5.13)\n",
            "Requirement already satisfied: python-slugify in /usr/local/lib/python3.9/dist-packages (from kaggle) (8.0.1)\n",
            "Requirement already satisfied: six>=1.10 in /usr/local/lib/python3.9/dist-packages (from kaggle) (1.16.0)\n",
            "Requirement already satisfied: tqdm in /usr/local/lib/python3.9/dist-packages (from kaggle) (4.65.0)\n",
            "Requirement already satisfied: python-dateutil in /usr/local/lib/python3.9/dist-packages (from kaggle) (2.8.2)\n",
            "Requirement already satisfied: urllib3 in /usr/local/lib/python3.9/dist-packages (from kaggle) (1.26.15)\n",
            "Requirement already satisfied: requests in /usr/local/lib/python3.9/dist-packages (from kaggle) (2.27.1)\n",
            "Requirement already satisfied: certifi in /usr/local/lib/python3.9/dist-packages (from kaggle) (2022.12.7)\n",
            "Requirement already satisfied: text-unidecode>=1.3 in /usr/local/lib/python3.9/dist-packages (from python-slugify->kaggle) (1.3)\n",
            "Requirement already satisfied: charset-normalizer~=2.0.0 in /usr/local/lib/python3.9/dist-packages (from requests->kaggle) (2.0.12)\n",
            "Requirement already satisfied: idna<4,>=2.5 in /usr/local/lib/python3.9/dist-packages (from requests->kaggle) (3.4)\n"
          ]
        }
      ]
    },
    {
      "cell_type": "code",
      "source": [
        "from google.colab import files\n",
        "files.upload()"
      ],
      "metadata": {
        "colab": {
          "base_uri": "https://localhost:8080/",
          "height": 90
        },
        "id": "1MZ0Xg2BpYcf",
        "outputId": "882d05d6-689c-4164-cb84-54b6327ce8bc"
      },
      "execution_count": 6,
      "outputs": [
        {
          "output_type": "display_data",
          "data": {
            "text/plain": [
              "<IPython.core.display.HTML object>"
            ],
            "text/html": [
              "\n",
              "     <input type=\"file\" id=\"files-a125ade7-caef-4dd6-a88d-42c858f0298d\" name=\"files[]\" multiple disabled\n",
              "        style=\"border:none\" />\n",
              "     <output id=\"result-a125ade7-caef-4dd6-a88d-42c858f0298d\">\n",
              "      Upload widget is only available when the cell has been executed in the\n",
              "      current browser session. Please rerun this cell to enable.\n",
              "      </output>\n",
              "      <script>// Copyright 2017 Google LLC\n",
              "//\n",
              "// Licensed under the Apache License, Version 2.0 (the \"License\");\n",
              "// you may not use this file except in compliance with the License.\n",
              "// You may obtain a copy of the License at\n",
              "//\n",
              "//      http://www.apache.org/licenses/LICENSE-2.0\n",
              "//\n",
              "// Unless required by applicable law or agreed to in writing, software\n",
              "// distributed under the License is distributed on an \"AS IS\" BASIS,\n",
              "// WITHOUT WARRANTIES OR CONDITIONS OF ANY KIND, either express or implied.\n",
              "// See the License for the specific language governing permissions and\n",
              "// limitations under the License.\n",
              "\n",
              "/**\n",
              " * @fileoverview Helpers for google.colab Python module.\n",
              " */\n",
              "(function(scope) {\n",
              "function span(text, styleAttributes = {}) {\n",
              "  const element = document.createElement('span');\n",
              "  element.textContent = text;\n",
              "  for (const key of Object.keys(styleAttributes)) {\n",
              "    element.style[key] = styleAttributes[key];\n",
              "  }\n",
              "  return element;\n",
              "}\n",
              "\n",
              "// Max number of bytes which will be uploaded at a time.\n",
              "const MAX_PAYLOAD_SIZE = 100 * 1024;\n",
              "\n",
              "function _uploadFiles(inputId, outputId) {\n",
              "  const steps = uploadFilesStep(inputId, outputId);\n",
              "  const outputElement = document.getElementById(outputId);\n",
              "  // Cache steps on the outputElement to make it available for the next call\n",
              "  // to uploadFilesContinue from Python.\n",
              "  outputElement.steps = steps;\n",
              "\n",
              "  return _uploadFilesContinue(outputId);\n",
              "}\n",
              "\n",
              "// This is roughly an async generator (not supported in the browser yet),\n",
              "// where there are multiple asynchronous steps and the Python side is going\n",
              "// to poll for completion of each step.\n",
              "// This uses a Promise to block the python side on completion of each step,\n",
              "// then passes the result of the previous step as the input to the next step.\n",
              "function _uploadFilesContinue(outputId) {\n",
              "  const outputElement = document.getElementById(outputId);\n",
              "  const steps = outputElement.steps;\n",
              "\n",
              "  const next = steps.next(outputElement.lastPromiseValue);\n",
              "  return Promise.resolve(next.value.promise).then((value) => {\n",
              "    // Cache the last promise value to make it available to the next\n",
              "    // step of the generator.\n",
              "    outputElement.lastPromiseValue = value;\n",
              "    return next.value.response;\n",
              "  });\n",
              "}\n",
              "\n",
              "/**\n",
              " * Generator function which is called between each async step of the upload\n",
              " * process.\n",
              " * @param {string} inputId Element ID of the input file picker element.\n",
              " * @param {string} outputId Element ID of the output display.\n",
              " * @return {!Iterable<!Object>} Iterable of next steps.\n",
              " */\n",
              "function* uploadFilesStep(inputId, outputId) {\n",
              "  const inputElement = document.getElementById(inputId);\n",
              "  inputElement.disabled = false;\n",
              "\n",
              "  const outputElement = document.getElementById(outputId);\n",
              "  outputElement.innerHTML = '';\n",
              "\n",
              "  const pickedPromise = new Promise((resolve) => {\n",
              "    inputElement.addEventListener('change', (e) => {\n",
              "      resolve(e.target.files);\n",
              "    });\n",
              "  });\n",
              "\n",
              "  const cancel = document.createElement('button');\n",
              "  inputElement.parentElement.appendChild(cancel);\n",
              "  cancel.textContent = 'Cancel upload';\n",
              "  const cancelPromise = new Promise((resolve) => {\n",
              "    cancel.onclick = () => {\n",
              "      resolve(null);\n",
              "    };\n",
              "  });\n",
              "\n",
              "  // Wait for the user to pick the files.\n",
              "  const files = yield {\n",
              "    promise: Promise.race([pickedPromise, cancelPromise]),\n",
              "    response: {\n",
              "      action: 'starting',\n",
              "    }\n",
              "  };\n",
              "\n",
              "  cancel.remove();\n",
              "\n",
              "  // Disable the input element since further picks are not allowed.\n",
              "  inputElement.disabled = true;\n",
              "\n",
              "  if (!files) {\n",
              "    return {\n",
              "      response: {\n",
              "        action: 'complete',\n",
              "      }\n",
              "    };\n",
              "  }\n",
              "\n",
              "  for (const file of files) {\n",
              "    const li = document.createElement('li');\n",
              "    li.append(span(file.name, {fontWeight: 'bold'}));\n",
              "    li.append(span(\n",
              "        `(${file.type || 'n/a'}) - ${file.size} bytes, ` +\n",
              "        `last modified: ${\n",
              "            file.lastModifiedDate ? file.lastModifiedDate.toLocaleDateString() :\n",
              "                                    'n/a'} - `));\n",
              "    const percent = span('0% done');\n",
              "    li.appendChild(percent);\n",
              "\n",
              "    outputElement.appendChild(li);\n",
              "\n",
              "    const fileDataPromise = new Promise((resolve) => {\n",
              "      const reader = new FileReader();\n",
              "      reader.onload = (e) => {\n",
              "        resolve(e.target.result);\n",
              "      };\n",
              "      reader.readAsArrayBuffer(file);\n",
              "    });\n",
              "    // Wait for the data to be ready.\n",
              "    let fileData = yield {\n",
              "      promise: fileDataPromise,\n",
              "      response: {\n",
              "        action: 'continue',\n",
              "      }\n",
              "    };\n",
              "\n",
              "    // Use a chunked sending to avoid message size limits. See b/62115660.\n",
              "    let position = 0;\n",
              "    do {\n",
              "      const length = Math.min(fileData.byteLength - position, MAX_PAYLOAD_SIZE);\n",
              "      const chunk = new Uint8Array(fileData, position, length);\n",
              "      position += length;\n",
              "\n",
              "      const base64 = btoa(String.fromCharCode.apply(null, chunk));\n",
              "      yield {\n",
              "        response: {\n",
              "          action: 'append',\n",
              "          file: file.name,\n",
              "          data: base64,\n",
              "        },\n",
              "      };\n",
              "\n",
              "      let percentDone = fileData.byteLength === 0 ?\n",
              "          100 :\n",
              "          Math.round((position / fileData.byteLength) * 100);\n",
              "      percent.textContent = `${percentDone}% done`;\n",
              "\n",
              "    } while (position < fileData.byteLength);\n",
              "  }\n",
              "\n",
              "  // All done.\n",
              "  yield {\n",
              "    response: {\n",
              "      action: 'complete',\n",
              "    }\n",
              "  };\n",
              "}\n",
              "\n",
              "scope.google = scope.google || {};\n",
              "scope.google.colab = scope.google.colab || {};\n",
              "scope.google.colab._files = {\n",
              "  _uploadFiles,\n",
              "  _uploadFilesContinue,\n",
              "};\n",
              "})(self);\n",
              "</script> "
            ]
          },
          "metadata": {}
        },
        {
          "output_type": "stream",
          "name": "stdout",
          "text": [
            "Saving kaggle.json to kaggle.json\n"
          ]
        },
        {
          "output_type": "execute_result",
          "data": {
            "text/plain": [
              "{'kaggle.json': b'{\"username\":\"ssvakil\",\"key\":\"9ef43f96a110b7d3a776cdab2c8ea572\"}'}"
            ]
          },
          "metadata": {},
          "execution_count": 6
        }
      ]
    },
    {
      "cell_type": "code",
      "source": [
        "!mkdir -p ~/.kaggle\n",
        "!cp kaggle.json ~/.kaggle/kaggle.json\n",
        "!chmod 600 ~/.kaggle/kaggle.json"
      ],
      "metadata": {
        "id": "R_NKTDCwpsuz"
      },
      "execution_count": 7,
      "outputs": []
    },
    {
      "cell_type": "code",
      "source": [
        "!kaggle datasets download -d pankrzysiu/cifar10-python"
      ],
      "metadata": {
        "colab": {
          "base_uri": "https://localhost:8080/"
        },
        "id": "Z77faORqqudk",
        "outputId": "a473f71a-2370-462b-c797-9d3277adf64a"
      },
      "execution_count": 8,
      "outputs": [
        {
          "output_type": "stream",
          "name": "stdout",
          "text": [
            "Downloading cifar10-python.zip to /content/Meta-Nerual-Trojan-Detection\n",
            " 96% 313M/325M [00:03<00:00, 73.7MB/s]\n",
            "100% 325M/325M [00:03<00:00, 87.3MB/s]\n"
          ]
        }
      ]
    },
    {
      "cell_type": "code",
      "source": [
        "!kaggle datasets download -d lijiyu/imagenet"
      ],
      "metadata": {
        "colab": {
          "base_uri": "https://localhost:8080/"
        },
        "id": "2NFOVbwlsfS_",
        "outputId": "c5240405-fe9d-4bef-dee2-b2c38ee94ea5"
      },
      "execution_count": 9,
      "outputs": [
        {
          "output_type": "stream",
          "name": "stdout",
          "text": [
            "Downloading imagenet.zip to /content/Meta-Nerual-Trojan-Detection\n",
            "100% 6.19G/6.21G [00:52<00:00, 130MB/s]\n",
            "100% 6.21G/6.21G [00:52<00:00, 128MB/s]\n"
          ]
        }
      ]
    },
    {
      "cell_type": "code",
      "source": [
        "!kaggle datasets download -d bistaumanga/usps-dataset"
      ],
      "metadata": {
        "colab": {
          "base_uri": "https://localhost:8080/"
        },
        "id": "roo1aXE0s0qo",
        "outputId": "f1190570-4646-495f-8a93-dbd3c4b05d6f"
      },
      "execution_count": 10,
      "outputs": [
        {
          "output_type": "stream",
          "name": "stdout",
          "text": [
            "Downloading usps-dataset.zip to /content/Meta-Nerual-Trojan-Detection\n",
            "\r  0% 0.00/2.75M [00:00<?, ?B/s]\n",
            "\r100% 2.75M/2.75M [00:00<00:00, 137MB/s]\n"
          ]
        }
      ]
    },
    {
      "cell_type": "code",
      "source": [
        "keras.models.load_model(\"354rdd.h5\")"
      ],
      "metadata": {
        "colab": {
          "base_uri": "https://localhost:8080/"
        },
        "id": "lfTata57s3pB",
        "outputId": "abc31ada-4c14-4635-9ef9-05210062f297"
      },
      "execution_count": 11,
      "outputs": [
        {
          "output_type": "execute_result",
          "data": {
            "text/plain": [
              "<keras.engine.sequential.Sequential at 0x7fc66eb3a340>"
            ]
          },
          "metadata": {},
          "execution_count": 11
        }
      ]
    },
    {
      "cell_type": "code",
      "source": [
        "keras.models.load_model(\"7gdf823.h5\")"
      ],
      "metadata": {
        "colab": {
          "base_uri": "https://localhost:8080/"
        },
        "id": "AWjciHvot-nA",
        "outputId": "69e0a422-3aef-4d91-d861-d4fc54aa15f7"
      },
      "execution_count": 12,
      "outputs": [
        {
          "output_type": "execute_result",
          "data": {
            "text/plain": [
              "<keras.engine.sequential.Sequential at 0x7fc5e00845b0>"
            ]
          },
          "metadata": {},
          "execution_count": 12
        }
      ]
    },
    {
      "cell_type": "code",
      "source": [
        "from zipfile import ZipFile\n",
        "file_name=\"cifar10-python.zip\"\n",
        "with ZipFile(file_name,'r')as zip:\n",
        "  zip.extractall()\n",
        "print('done')"
      ],
      "metadata": {
        "colab": {
          "base_uri": "https://localhost:8080/"
        },
        "id": "0fRQXVAhuchc",
        "outputId": "e7f71d22-4f4a-4712-af0d-46b476171ec3"
      },
      "execution_count": 13,
      "outputs": [
        {
          "output_type": "stream",
          "name": "stdout",
          "text": [
            "done\n"
          ]
        }
      ]
    },
    {
      "cell_type": "code",
      "source": [
        "from zipfile import ZipFile\n",
        "file_name=\"imagenet.zip\"\n",
        "with ZipFile(file_name,'r')as zip:\n",
        "  zip.extractall()\n",
        "print('done')"
      ],
      "metadata": {
        "colab": {
          "base_uri": "https://localhost:8080/"
        },
        "id": "EWtXwKnluclb",
        "outputId": "1c32d8f8-7904-484e-b432-201a929062d0"
      },
      "execution_count": 14,
      "outputs": [
        {
          "output_type": "stream",
          "name": "stdout",
          "text": [
            "done\n"
          ]
        }
      ]
    },
    {
      "cell_type": "code",
      "source": [
        "from zipfile import ZipFile\n",
        "file_name=\"usps-dataset.zip\"\n",
        "with ZipFile(file_name,'r')as zip:\n",
        "  zip.extractall()\n",
        "print('done')"
      ],
      "metadata": {
        "colab": {
          "base_uri": "https://localhost:8080/"
        },
        "id": "8JveHoDvucpn",
        "outputId": "30e7b6ac-5f37-4476-f8f5-ca1e7f3aa7c6"
      },
      "execution_count": 15,
      "outputs": [
        {
          "output_type": "stream",
          "name": "stdout",
          "text": [
            "done\n"
          ]
        }
      ]
    },
    {
      "cell_type": "code",
      "source": [
        "!python3 /content/Meta-Nerual-Trojan-Detection/meta_classifier.py /content/Meta-Nerual-Trojan-Detection/354rdd.h5"
      ],
      "metadata": {
        "id": "1Qyi2J7EvPql"
      },
      "execution_count": 16,
      "outputs": []
    },
    {
      "cell_type": "code",
      "source": [
        "!python3 /content/Meta-Nerual-Trojan-Detection/meta_classifier.py /content/Meta-Nerual-Trojan-Detection/7gdf823.h5"
      ],
      "metadata": {
        "id": "ocZXvkSKWKt9"
      },
      "execution_count": 17,
      "outputs": []
    },
    {
      "cell_type": "code",
      "source": [
        "cd raw_data"
      ],
      "metadata": {
        "colab": {
          "base_uri": "https://localhost:8080/"
        },
        "id": "YIvIvusowOHJ",
        "outputId": "0767f8ae-cd22-4ec8-e72f-5646f1f08b0c"
      },
      "execution_count": null,
      "outputs": [
        {
          "output_type": "stream",
          "name": "stdout",
          "text": [
            "/content/Meta-Nerual-Trojan-Detection/raw_data\n"
          ]
        }
      ]
    },
    {
      "cell_type": "code",
      "source": [
        "pwd"
      ],
      "metadata": {
        "colab": {
          "base_uri": "https://localhost:8080/",
          "height": 35
        },
        "id": "ntEgD4GYwgk1",
        "outputId": "bd11e698-3b0c-4477-b8cb-823f6f6a7084"
      },
      "execution_count": 18,
      "outputs": [
        {
          "output_type": "execute_result",
          "data": {
            "text/plain": [
              "'/content/Meta-Nerual-Trojan-Detection'"
            ],
            "application/vnd.google.colaboratory.intrinsic+json": {
              "type": "string"
            }
          },
          "metadata": {},
          "execution_count": 18
        }
      ]
    },
    {
      "cell_type": "code",
      "source": [
        "!python3 /content/Meta-Nerual-Trojan-Detection/run_meta_oneclass.py /content/Meta-Nerual-Trojan-Detection/354rdd.h5"
      ],
      "metadata": {
        "colab": {
          "base_uri": "https://localhost:8080/"
        },
        "id": "mznBQCHBWab5",
        "outputId": "522e8743-8223-42da-8b07-9d22c601e97d"
      },
      "execution_count": null,
      "outputs": [
        {
          "output_type": "stream",
          "name": "stdout",
          "text": [
            "usage: run_meta_oneclass.py\n",
            "       [-h]\n",
            "       --task\n",
            "       TASK\n",
            "       --troj_type\n",
            "       TROJ_TYPE\n",
            "       [--load_exist]\n",
            "run_meta_oneclass.py: error: the following arguments are required: --task, --troj_type\n"
          ]
        }
      ]
    },
    {
      "cell_type": "code",
      "source": [
        "!python /content/Meta-Nerual-Trojan-Detection/train_basic_benign.py /content/Meta-Nerual-Trojan-Detection/raw_data/rt_polarity/rt-polarity.neg"
      ],
      "metadata": {
        "colab": {
          "base_uri": "https://localhost:8080/"
        },
        "id": "Tv1wNZ9IXHLZ",
        "outputId": "0be759f8-3467-43b5-99e4-ff7a3b420a2c"
      },
      "execution_count": null,
      "outputs": [
        {
          "output_type": "stream",
          "name": "stdout",
          "text": [
            "usage: train_basic_benign.py\n",
            "       [-h]\n",
            "       --task\n",
            "       TASK\n",
            "train_basic_benign.py: error: the following arguments are required: --task\n"
          ]
        }
      ]
    },
    {
      "cell_type": "code",
      "source": [
        "!pip3 install torch==1.2.0+cu92 torchvision==0.4.0+cu92 -f https://download.pytorch.org/whl/torch_stable.html"
      ],
      "metadata": {
        "id": "410Kjy72aevZ",
        "outputId": "c7834129-7042-4273-d903-dbaf75c706e1",
        "colab": {
          "base_uri": "https://localhost:8080/"
        }
      },
      "execution_count": 19,
      "outputs": [
        {
          "output_type": "stream",
          "name": "stdout",
          "text": [
            "Looking in indexes: https://pypi.org/simple, https://us-python.pkg.dev/colab-wheels/public/simple/\n",
            "Looking in links: https://download.pytorch.org/whl/torch_stable.html\n",
            "\u001b[31mERROR: Could not find a version that satisfies the requirement torch==1.2.0+cu92 (from versions: 1.7.1, 1.7.1+cpu, 1.7.1+cu101, 1.7.1+cu110, 1.7.1+cu92, 1.7.1+rocm3.7, 1.7.1+rocm3.8, 1.8.0, 1.8.0+cpu, 1.8.0+cu101, 1.8.0+cu111, 1.8.0+rocm3.10, 1.8.0+rocm4.0.1, 1.8.1, 1.8.1+cpu, 1.8.1+cu101, 1.8.1+cu102, 1.8.1+cu111, 1.8.1+rocm3.10, 1.8.1+rocm4.0.1, 1.9.0, 1.9.0+cpu, 1.9.0+cu102, 1.9.0+cu111, 1.9.0+rocm4.0.1, 1.9.0+rocm4.1, 1.9.0+rocm4.2, 1.9.1, 1.9.1+cpu, 1.9.1+cu102, 1.9.1+cu111, 1.9.1+rocm4.0.1, 1.9.1+rocm4.1, 1.9.1+rocm4.2, 1.10.0, 1.10.0+cpu, 1.10.0+cu102, 1.10.0+cu111, 1.10.0+cu113, 1.10.0+rocm4.0.1, 1.10.0+rocm4.1, 1.10.0+rocm4.2, 1.10.1, 1.10.1+cpu, 1.10.1+cu102, 1.10.1+cu111, 1.10.1+cu113, 1.10.1+rocm4.0.1, 1.10.1+rocm4.1, 1.10.1+rocm4.2, 1.10.2, 1.10.2+cpu, 1.10.2+cu102, 1.10.2+cu111, 1.10.2+cu113, 1.10.2+rocm4.0.1, 1.10.2+rocm4.1, 1.10.2+rocm4.2, 1.11.0, 1.11.0+cpu, 1.11.0+cu102, 1.11.0+cu113, 1.11.0+cu115, 1.11.0+rocm4.3.1, 1.11.0+rocm4.5.2, 1.12.0, 1.12.0+cpu, 1.12.0+cu102, 1.12.0+cu113, 1.12.0+cu116, 1.12.0+rocm5.0, 1.12.0+rocm5.1.1, 1.12.1, 1.12.1+cpu, 1.12.1+cu102, 1.12.1+cu113, 1.12.1+cu116, 1.12.1+rocm5.0, 1.12.1+rocm5.1.1, 1.13.0, 1.13.0+cpu, 1.13.0+cu116, 1.13.0+cu117, 1.13.0+cu117.with.pypi.cudnn, 1.13.0+rocm5.1.1, 1.13.0+rocm5.2, 1.13.1, 1.13.1+cpu, 1.13.1+cu116, 1.13.1+cu117, 1.13.1+cu117.with.pypi.cudnn, 1.13.1+rocm5.1.1, 1.13.1+rocm5.2, 2.0.0, 2.0.0+cpu, 2.0.0+cpu.cxx11.abi, 2.0.0+cu117, 2.0.0+cu117.with.pypi.cudnn, 2.0.0+cu118, 2.0.0+rocm5.3, 2.0.0+rocm5.4.2)\u001b[0m\u001b[31m\n",
            "\u001b[0m\u001b[31mERROR: No matching distribution found for torch==1.2.0+cu92\u001b[0m\u001b[31m\n",
            "\u001b[0m"
          ]
        }
      ]
    },
    {
      "cell_type": "code",
      "source": [
        "import torch\n",
        "import torch.nn as nn\n",
        "import torch.nn.functional as F\n",
        "import torchvision\n",
        "import torchvision.transforms as transforms"
      ],
      "metadata": {
        "id": "H5390vB3bGSp"
      },
      "execution_count": 20,
      "outputs": []
    },
    {
      "cell_type": "code",
      "source": [
        "print(torch.__version__)"
      ],
      "metadata": {
        "id": "kZX5BJT1bLeE",
        "outputId": "c3b00599-5690-4422-8b04-d034bca83db3",
        "colab": {
          "base_uri": "https://localhost:8080/"
        }
      },
      "execution_count": 21,
      "outputs": [
        {
          "output_type": "stream",
          "name": "stdout",
          "text": [
            "2.0.0+cu118\n"
          ]
        }
      ]
    },
    {
      "cell_type": "code",
      "source": [
        "!pip uninstall -y mxnet && pip install mxnet-cu90==1.1.0"
      ],
      "metadata": {
        "id": "w9LsCvFUdbU2",
        "outputId": "4f2c41d3-db3d-4163-e5fd-7f09716c3b66",
        "colab": {
          "base_uri": "https://localhost:8080/"
        }
      },
      "execution_count": 22,
      "outputs": [
        {
          "output_type": "stream",
          "name": "stdout",
          "text": [
            "\u001b[33mWARNING: Skipping mxnet as it is not installed.\u001b[0m\u001b[33m\n",
            "\u001b[0mLooking in indexes: https://pypi.org/simple, https://us-python.pkg.dev/colab-wheels/public/simple/\n",
            "Collecting mxnet-cu90==1.1.0\n",
            "  Downloading mxnet_cu90-1.1.0-py2.py3-none-manylinux1_x86_64.whl (307.5 MB)\n",
            "\u001b[2K     \u001b[90m━━━━━━━━━━━━━━━━━━━━━━━━━━━━━━━━━━━━━━━\u001b[0m \u001b[32m307.5/307.5 MB\u001b[0m \u001b[31m3.9 MB/s\u001b[0m eta \u001b[36m0:00:00\u001b[0m\n",
            "\u001b[?25hCollecting graphviz==0.8.1\n",
            "  Downloading graphviz-0.8.1-py2.py3-none-any.whl (17 kB)\n",
            "Collecting requests==2.18.4\n",
            "  Downloading requests-2.18.4-py2.py3-none-any.whl (88 kB)\n",
            "\u001b[2K     \u001b[90m━━━━━━━━━━━━━━━━━━━━━━━━━━━━━━━━━━━━━━━━\u001b[0m \u001b[32m88.7/88.7 kB\u001b[0m \u001b[31m12.7 MB/s\u001b[0m eta \u001b[36m0:00:00\u001b[0m\n",
            "\u001b[?25hCollecting numpy<=1.13.3\n",
            "  Downloading numpy-1.13.3.zip (5.0 MB)\n",
            "\u001b[2K     \u001b[90m━━━━━━━━━━━━━━━━━━━━━━━━━━━━━━━━━━━━━━━━\u001b[0m \u001b[32m5.0/5.0 MB\u001b[0m \u001b[31m90.5 MB/s\u001b[0m eta \u001b[36m0:00:00\u001b[0m\n",
            "\u001b[?25h  Preparing metadata (setup.py) ... \u001b[?25l\u001b[?25hdone\n",
            "Collecting chardet<3.1.0,>=3.0.2\n",
            "  Using cached chardet-3.0.4-py2.py3-none-any.whl (133 kB)\n",
            "Requirement already satisfied: certifi>=2017.4.17 in /usr/local/lib/python3.9/dist-packages (from requests==2.18.4->mxnet-cu90==1.1.0) (2022.12.7)\n",
            "Collecting urllib3<1.23,>=1.21.1\n",
            "  Downloading urllib3-1.22-py2.py3-none-any.whl (132 kB)\n",
            "\u001b[2K     \u001b[90m━━━━━━━━━━━━━━━━━━━━━━━━━━━━━━━━━━━━━━\u001b[0m \u001b[32m132.3/132.3 kB\u001b[0m \u001b[31m18.7 MB/s\u001b[0m eta \u001b[36m0:00:00\u001b[0m\n",
            "\u001b[?25hCollecting idna<2.7,>=2.5\n",
            "  Downloading idna-2.6-py2.py3-none-any.whl (56 kB)\n",
            "\u001b[2K     \u001b[90m━━━━━━━━━━━━━━━━━━━━━━━━━━━━━━━━━━━━━━━━\u001b[0m \u001b[32m56.5/56.5 kB\u001b[0m \u001b[31m8.6 MB/s\u001b[0m eta \u001b[36m0:00:00\u001b[0m\n",
            "\u001b[?25hBuilding wheels for collected packages: numpy\n",
            "  \u001b[1;31merror\u001b[0m: \u001b[1msubprocess-exited-with-error\u001b[0m\n",
            "  \n",
            "  \u001b[31m×\u001b[0m \u001b[32mpython setup.py bdist_wheel\u001b[0m did not run successfully.\n",
            "  \u001b[31m│\u001b[0m exit code: \u001b[1;36m1\u001b[0m\n",
            "  \u001b[31m╰─>\u001b[0m See above for output.\n",
            "  \n",
            "  \u001b[1;35mnote\u001b[0m: This error originates from a subprocess, and is likely not a problem with pip.\n",
            "  Building wheel for numpy (setup.py) ... \u001b[?25lerror\n",
            "\u001b[31m  ERROR: Failed building wheel for numpy\u001b[0m\u001b[31m\n",
            "\u001b[0m\u001b[?25h  Running setup.py clean for numpy\n",
            "  \u001b[1;31merror\u001b[0m: \u001b[1msubprocess-exited-with-error\u001b[0m\n",
            "  \n",
            "  \u001b[31m×\u001b[0m \u001b[32mpython setup.py clean\u001b[0m did not run successfully.\n",
            "  \u001b[31m│\u001b[0m exit code: \u001b[1;36m1\u001b[0m\n",
            "  \u001b[31m╰─>\u001b[0m See above for output.\n",
            "  \n",
            "  \u001b[1;35mnote\u001b[0m: This error originates from a subprocess, and is likely not a problem with pip.\n",
            "\u001b[31m  ERROR: Failed cleaning build dir for numpy\u001b[0m\u001b[31m\n",
            "\u001b[0mFailed to build numpy\n",
            "Installing collected packages: urllib3, idna, graphviz, chardet, requests, numpy, mxnet-cu90\n",
            "  Attempting uninstall: urllib3\n",
            "    Found existing installation: urllib3 1.26.15\n",
            "    Uninstalling urllib3-1.26.15:\n",
            "      Successfully uninstalled urllib3-1.26.15\n",
            "  Attempting uninstall: idna\n",
            "    Found existing installation: idna 3.4\n",
            "    Uninstalling idna-3.4:\n",
            "      Successfully uninstalled idna-3.4\n",
            "  Attempting uninstall: graphviz\n",
            "    Found existing installation: graphviz 0.20.1\n",
            "    Uninstalling graphviz-0.20.1:\n",
            "      Successfully uninstalled graphviz-0.20.1\n",
            "  Attempting uninstall: chardet\n",
            "    Found existing installation: chardet 4.0.0\n",
            "    Uninstalling chardet-4.0.0:\n",
            "      Successfully uninstalled chardet-4.0.0\n",
            "  Attempting uninstall: requests\n",
            "    Found existing installation: requests 2.27.1\n",
            "    Uninstalling requests-2.27.1:\n",
            "      Successfully uninstalled requests-2.27.1\n",
            "  Attempting uninstall: numpy\n",
            "    Found existing installation: numpy 1.22.4\n",
            "    Uninstalling numpy-1.22.4:\n",
            "      Successfully uninstalled numpy-1.22.4\n",
            "  \u001b[1;31merror\u001b[0m: \u001b[1msubprocess-exited-with-error\u001b[0m\n",
            "  \n",
            "  \u001b[31m×\u001b[0m \u001b[32mRunning setup.py install for numpy\u001b[0m did not run successfully.\n",
            "  \u001b[31m│\u001b[0m exit code: \u001b[1;36m1\u001b[0m\n",
            "  \u001b[31m╰─>\u001b[0m See above for output.\n",
            "  \n",
            "  \u001b[1;35mnote\u001b[0m: This error originates from a subprocess, and is likely not a problem with pip.\n",
            "  Running setup.py install for numpy ... \u001b[?25l\u001b[?25herror\n",
            "  Rolling back uninstall of numpy\n",
            "  Moving to /usr/local/bin/f2py\n",
            "   from /tmp/pip-uninstall-0mekhgv2/f2py\n",
            "  Moving to /usr/local/bin/f2py3\n",
            "   from /tmp/pip-uninstall-0mekhgv2/f2py3\n",
            "  Moving to /usr/local/bin/f2py3.9\n",
            "   from /tmp/pip-uninstall-0mekhgv2/f2py3.9\n",
            "  Moving to /usr/local/lib/python3.9/dist-packages/numpy-1.22.4.dist-info/\n",
            "   from /usr/local/lib/python3.9/dist-packages/~umpy-1.22.4.dist-info\n",
            "  Moving to /usr/local/lib/python3.9/dist-packages/numpy.libs/\n",
            "   from /usr/local/lib/python3.9/dist-packages/~umpy.libs\n",
            "  Moving to /usr/local/lib/python3.9/dist-packages/numpy/\n",
            "   from /usr/local/lib/python3.9/dist-packages/~umpy\n",
            "\u001b[1;31merror\u001b[0m: \u001b[1mlegacy-install-failure\u001b[0m\n",
            "\n",
            "\u001b[31m×\u001b[0m Encountered error while trying to install package.\n",
            "\u001b[31m╰─>\u001b[0m numpy\n",
            "\n",
            "\u001b[1;35mnote\u001b[0m: This is an issue with the package mentioned above, not pip.\n",
            "\u001b[1;36mhint\u001b[0m: See above for output from the failure.\n"
          ]
        }
      ]
    },
    {
      "cell_type": "code",
      "source": [
        "!python3 /content/Meta-Nerual-Trojan-Detection/train_basic_benign.py --task mnist\n",
        "!python /content/Meta-Nerual-Trojan-Detection/train_basic_jumbo.py --task mnist\n",
        "!python /content/Meta-Nerual-Trojan-Detection/train_basic_trojaned.py --task mnist --troj_type M\n",
        "!python /content/Meta-Nerual-Trojan-Detection/train_basic_trojaned.py --task mnist --troj_type B"
      ],
      "metadata": {
        "id": "U3aBRorYZ8-a",
        "outputId": "13b6fe6c-5f7c-49b7-ae54-3aa4ef9b3537",
        "colab": {
          "base_uri": "https://localhost:8080/"
        }
      },
      "execution_count": null,
      "outputs": [
        {
          "output_type": "stream",
          "name": "stdout",
          "text": [
            "Downloading http://yann.lecun.com/exdb/mnist/train-images-idx3-ubyte.gz\n",
            "Downloading http://yann.lecun.com/exdb/mnist/train-images-idx3-ubyte.gz to ./raw_data/MNIST/raw/train-images-idx3-ubyte.gz\n",
            "100% 9912422/9912422 [00:00<00:00, 137501277.41it/s]\n",
            "Extracting ./raw_data/MNIST/raw/train-images-idx3-ubyte.gz to ./raw_data/MNIST/raw\n",
            "\n",
            "Downloading http://yann.lecun.com/exdb/mnist/train-labels-idx1-ubyte.gz\n",
            "Downloading http://yann.lecun.com/exdb/mnist/train-labels-idx1-ubyte.gz to ./raw_data/MNIST/raw/train-labels-idx1-ubyte.gz\n",
            "100% 28881/28881 [00:00<00:00, 147906830.07it/s]\n",
            "Extracting ./raw_data/MNIST/raw/train-labels-idx1-ubyte.gz to ./raw_data/MNIST/raw\n",
            "\n",
            "Downloading http://yann.lecun.com/exdb/mnist/t10k-images-idx3-ubyte.gz\n",
            "Downloading http://yann.lecun.com/exdb/mnist/t10k-images-idx3-ubyte.gz to ./raw_data/MNIST/raw/t10k-images-idx3-ubyte.gz\n",
            "100% 1648877/1648877 [00:00<00:00, 33721908.84it/s]\n",
            "Extracting ./raw_data/MNIST/raw/t10k-images-idx3-ubyte.gz to ./raw_data/MNIST/raw\n",
            "\n",
            "Downloading http://yann.lecun.com/exdb/mnist/t10k-labels-idx1-ubyte.gz\n",
            "Downloading http://yann.lecun.com/exdb/mnist/t10k-labels-idx1-ubyte.gz to ./raw_data/MNIST/raw/t10k-labels-idx1-ubyte.gz\n",
            "100% 4542/4542 [00:00<00:00, 27609461.98it/s]\n",
            "Extracting ./raw_data/MNIST/raw/t10k-labels-idx1-ubyte.gz to ./raw_data/MNIST/raw\n",
            "\n",
            "Data indices owned by the defender: [ 2732 43567 42613 ... 36134  7078  8804]\n",
            "Data indices owned by the attacker: [20929 58997 33339 ... 30107 45814 21000]\n",
            "Acc 0.9531, saved to ./shadow_model_ckpt/mnist/models/shadow_benign_0.model @ 2023-04-21 06:45:56.740549\n",
            "Acc 0.9530, saved to ./shadow_model_ckpt/mnist/models/shadow_benign_1.model @ 2023-04-21 06:46:18.197744\n",
            "Acc 0.9558, saved to ./shadow_model_ckpt/mnist/models/shadow_benign_2.model @ 2023-04-21 06:46:41.086436\n",
            "Acc 0.9496, saved to ./shadow_model_ckpt/mnist/models/shadow_benign_3.model @ 2023-04-21 06:47:02.911433\n",
            "Acc 0.9516, saved to ./shadow_model_ckpt/mnist/models/shadow_benign_4.model @ 2023-04-21 06:47:25.751765\n",
            "Acc 0.9473, saved to ./shadow_model_ckpt/mnist/models/shadow_benign_5.model @ 2023-04-21 06:47:47.354381\n",
            "Acc 0.9499, saved to ./shadow_model_ckpt/mnist/models/shadow_benign_6.model @ 2023-04-21 06:48:09.928496\n",
            "Acc 0.9552, saved to ./shadow_model_ckpt/mnist/models/shadow_benign_7.model @ 2023-04-21 06:48:31.518864\n",
            "Acc 0.9553, saved to ./shadow_model_ckpt/mnist/models/shadow_benign_8.model @ 2023-04-21 06:48:53.763420\n",
            "Acc 0.9524, saved to ./shadow_model_ckpt/mnist/models/shadow_benign_9.model @ 2023-04-21 06:49:16.728024\n",
            "Acc 0.9543, saved to ./shadow_model_ckpt/mnist/models/shadow_benign_10.model @ 2023-04-21 06:49:38.579944\n",
            "Acc 0.9539, saved to ./shadow_model_ckpt/mnist/models/shadow_benign_11.model @ 2023-04-21 06:50:01.411067\n",
            "Acc 0.9531, saved to ./shadow_model_ckpt/mnist/models/shadow_benign_12.model @ 2023-04-21 06:50:23.029107\n",
            "Acc 0.9520, saved to ./shadow_model_ckpt/mnist/models/shadow_benign_13.model @ 2023-04-21 06:50:45.930537\n",
            "Acc 0.9523, saved to ./shadow_model_ckpt/mnist/models/shadow_benign_14.model @ 2023-04-21 06:51:07.496518\n",
            "Acc 0.9512, saved to ./shadow_model_ckpt/mnist/models/shadow_benign_15.model @ 2023-04-21 06:51:30.438810\n",
            "Acc 0.9512, saved to ./shadow_model_ckpt/mnist/models/shadow_benign_16.model @ 2023-04-21 06:51:51.757090\n",
            "Acc 0.9522, saved to ./shadow_model_ckpt/mnist/models/shadow_benign_17.model @ 2023-04-21 06:52:14.612123\n",
            "Acc 0.9509, saved to ./shadow_model_ckpt/mnist/models/shadow_benign_18.model @ 2023-04-21 06:52:36.471167\n",
            "Acc 0.9534, saved to ./shadow_model_ckpt/mnist/models/shadow_benign_19.model @ 2023-04-21 06:52:58.850235\n",
            "Acc 0.9523, saved to ./shadow_model_ckpt/mnist/models/shadow_benign_20.model @ 2023-04-21 06:53:21.056595\n",
            "Acc 0.9502, saved to ./shadow_model_ckpt/mnist/models/shadow_benign_21.model @ 2023-04-21 06:53:42.928789\n",
            "Acc 0.9519, saved to ./shadow_model_ckpt/mnist/models/shadow_benign_22.model @ 2023-04-21 06:54:05.754884\n",
            "Acc 0.9540, saved to ./shadow_model_ckpt/mnist/models/shadow_benign_23.model @ 2023-04-21 06:54:27.169810\n",
            "Acc 0.9513, saved to ./shadow_model_ckpt/mnist/models/shadow_benign_24.model @ 2023-04-21 06:54:49.786808\n",
            "Acc 0.9491, saved to ./shadow_model_ckpt/mnist/models/shadow_benign_25.model @ 2023-04-21 06:55:11.181660\n",
            "Acc 0.9513, saved to ./shadow_model_ckpt/mnist/models/shadow_benign_26.model @ 2023-04-21 06:55:34.335066\n",
            "Acc 0.9509, saved to ./shadow_model_ckpt/mnist/models/shadow_benign_27.model @ 2023-04-21 06:55:56.105684\n",
            "Acc 0.9510, saved to ./shadow_model_ckpt/mnist/models/shadow_benign_28.model @ 2023-04-21 06:56:19.029753\n",
            "Acc 0.9529, saved to ./shadow_model_ckpt/mnist/models/shadow_benign_29.model @ 2023-04-21 06:56:40.493624\n",
            "Acc 0.9502, saved to ./shadow_model_ckpt/mnist/models/shadow_benign_30.model @ 2023-04-21 06:57:02.902111\n",
            "Acc 0.9494, saved to ./shadow_model_ckpt/mnist/models/shadow_benign_31.model @ 2023-04-21 06:57:24.642593\n",
            "Acc 0.9494, saved to ./shadow_model_ckpt/mnist/models/shadow_benign_32.model @ 2023-04-21 06:57:46.714554\n",
            "Acc 0.9527, saved to ./shadow_model_ckpt/mnist/models/shadow_benign_33.model @ 2023-04-21 06:58:08.720126\n",
            "Acc 0.9540, saved to ./shadow_model_ckpt/mnist/models/shadow_benign_34.model @ 2023-04-21 06:58:30.614326\n",
            "Acc 0.9462, saved to ./shadow_model_ckpt/mnist/models/shadow_benign_35.model @ 2023-04-21 06:58:52.981418\n",
            "Acc 0.9520, saved to ./shadow_model_ckpt/mnist/models/shadow_benign_36.model @ 2023-04-21 06:59:14.459991\n",
            "Acc 0.9500, saved to ./shadow_model_ckpt/mnist/models/shadow_benign_37.model @ 2023-04-21 06:59:37.101172\n",
            "Acc 0.9494, saved to ./shadow_model_ckpt/mnist/models/shadow_benign_38.model @ 2023-04-21 06:59:58.240335\n",
            "Acc 0.9495, saved to ./shadow_model_ckpt/mnist/models/shadow_benign_39.model @ 2023-04-21 07:00:20.911160\n",
            "Acc 0.9485, saved to ./shadow_model_ckpt/mnist/models/shadow_benign_40.model @ 2023-04-21 07:00:42.324463\n",
            "Acc 0.9554, saved to ./shadow_model_ckpt/mnist/models/shadow_benign_41.model @ 2023-04-21 07:01:05.342690\n",
            "Acc 0.9503, saved to ./shadow_model_ckpt/mnist/models/shadow_benign_42.model @ 2023-04-21 07:01:27.072140\n",
            "Acc 0.9485, saved to ./shadow_model_ckpt/mnist/models/shadow_benign_43.model @ 2023-04-21 07:01:49.965126\n",
            "Acc 0.9502, saved to ./shadow_model_ckpt/mnist/models/shadow_benign_44.model @ 2023-04-21 07:02:11.933920\n",
            "Acc 0.9505, saved to ./shadow_model_ckpt/mnist/models/shadow_benign_45.model @ 2023-04-21 07:02:34.370041\n",
            "Acc 0.9519, saved to ./shadow_model_ckpt/mnist/models/shadow_benign_46.model @ 2023-04-21 07:02:56.601149\n",
            "Acc 0.9523, saved to ./shadow_model_ckpt/mnist/models/shadow_benign_47.model @ 2023-04-21 07:03:18.657600\n",
            "Acc 0.9480, saved to ./shadow_model_ckpt/mnist/models/shadow_benign_48.model @ 2023-04-21 07:03:41.735976\n",
            "Acc 0.9486, saved to ./shadow_model_ckpt/mnist/models/shadow_benign_49.model @ 2023-04-21 07:04:03.005626\n",
            "Acc 0.9515, saved to ./shadow_model_ckpt/mnist/models/shadow_benign_50.model @ 2023-04-21 07:04:25.721269\n",
            "Acc 0.9512, saved to ./shadow_model_ckpt/mnist/models/shadow_benign_51.model @ 2023-04-21 07:04:47.080829\n",
            "Acc 0.9514, saved to ./shadow_model_ckpt/mnist/models/shadow_benign_52.model @ 2023-04-21 07:05:09.821858\n",
            "Acc 0.9504, saved to ./shadow_model_ckpt/mnist/models/shadow_benign_53.model @ 2023-04-21 07:05:31.136435\n",
            "Acc 0.9524, saved to ./shadow_model_ckpt/mnist/models/shadow_benign_54.model @ 2023-04-21 07:05:53.841664\n",
            "Acc 0.9524, saved to ./shadow_model_ckpt/mnist/models/shadow_benign_55.model @ 2023-04-21 07:06:15.246293\n",
            "Acc 0.9511, saved to ./shadow_model_ckpt/mnist/models/shadow_benign_56.model @ 2023-04-21 07:06:38.209597\n",
            "Acc 0.9491, saved to ./shadow_model_ckpt/mnist/models/shadow_benign_57.model @ 2023-04-21 07:06:59.853212\n",
            "Acc 0.9525, saved to ./shadow_model_ckpt/mnist/models/shadow_benign_58.model @ 2023-04-21 07:07:21.977815\n",
            "Acc 0.9510, saved to ./shadow_model_ckpt/mnist/models/shadow_benign_59.model @ 2023-04-21 07:07:43.975330\n",
            "Acc 0.9509, saved to ./shadow_model_ckpt/mnist/models/shadow_benign_60.model @ 2023-04-21 07:08:05.873055\n",
            "Acc 0.9523, saved to ./shadow_model_ckpt/mnist/models/shadow_benign_61.model @ 2023-04-21 07:08:28.120717\n",
            "Acc 0.9513, saved to ./shadow_model_ckpt/mnist/models/shadow_benign_62.model @ 2023-04-21 07:08:49.896246\n",
            "Acc 0.9464, saved to ./shadow_model_ckpt/mnist/models/shadow_benign_63.model @ 2023-04-21 07:09:12.628964\n",
            "Acc 0.9530, saved to ./shadow_model_ckpt/mnist/models/shadow_benign_64.model @ 2023-04-21 07:09:33.768014\n",
            "Acc 0.9563, saved to ./shadow_model_ckpt/mnist/models/shadow_benign_65.model @ 2023-04-21 07:09:56.264209\n",
            "Acc 0.9513, saved to ./shadow_model_ckpt/mnist/models/shadow_benign_66.model @ 2023-04-21 07:10:17.411266\n",
            "Acc 0.9493, saved to ./shadow_model_ckpt/mnist/models/shadow_benign_67.model @ 2023-04-21 07:10:40.086400\n",
            "Acc 0.9494, saved to ./shadow_model_ckpt/mnist/models/shadow_benign_68.model @ 2023-04-21 07:11:01.343915\n",
            "Acc 0.9542, saved to ./shadow_model_ckpt/mnist/models/shadow_benign_69.model @ 2023-04-21 07:11:24.125499\n",
            "Acc 0.9513, saved to ./shadow_model_ckpt/mnist/models/shadow_benign_70.model @ 2023-04-21 07:11:45.465238\n",
            "Acc 0.9505, saved to ./shadow_model_ckpt/mnist/models/shadow_benign_71.model @ 2023-04-21 07:12:08.204236\n",
            "Acc 0.9551, saved to ./shadow_model_ckpt/mnist/models/shadow_benign_72.model @ 2023-04-21 07:12:29.876402\n",
            "Acc 0.9518, saved to ./shadow_model_ckpt/mnist/models/shadow_benign_73.model @ 2023-04-21 07:12:52.220343\n",
            "Acc 0.9495, saved to ./shadow_model_ckpt/mnist/models/shadow_benign_74.model @ 2023-04-21 07:13:14.386586\n",
            "Acc 0.9460, saved to ./shadow_model_ckpt/mnist/models/shadow_benign_75.model @ 2023-04-21 07:13:36.418794\n",
            "Acc 0.9540, saved to ./shadow_model_ckpt/mnist/models/shadow_benign_76.model @ 2023-04-21 07:13:59.013227\n",
            "Acc 0.9523, saved to ./shadow_model_ckpt/mnist/models/shadow_benign_77.model @ 2023-04-21 07:14:20.565000\n",
            "Acc 0.9482, saved to ./shadow_model_ckpt/mnist/models/shadow_benign_78.model @ 2023-04-21 07:14:43.215911\n",
            "Acc 0.9508, saved to ./shadow_model_ckpt/mnist/models/shadow_benign_79.model @ 2023-04-21 07:15:04.440717\n",
            "Acc 0.9524, saved to ./shadow_model_ckpt/mnist/models/shadow_benign_80.model @ 2023-04-21 07:15:27.072073\n",
            "Acc 0.9471, saved to ./shadow_model_ckpt/mnist/models/shadow_benign_81.model @ 2023-04-21 07:15:48.578305\n",
            "Acc 0.9484, saved to ./shadow_model_ckpt/mnist/models/shadow_benign_82.model @ 2023-04-21 07:16:11.220453\n",
            "Acc 0.9520, saved to ./shadow_model_ckpt/mnist/models/shadow_benign_83.model @ 2023-04-21 07:16:32.228641\n",
            "Acc 0.9500, saved to ./shadow_model_ckpt/mnist/models/shadow_benign_84.model @ 2023-04-21 07:16:54.611295\n",
            "Acc 0.9552, saved to ./shadow_model_ckpt/mnist/models/shadow_benign_85.model @ 2023-04-21 07:17:15.802034\n",
            "Acc 0.9533, saved to ./shadow_model_ckpt/mnist/models/shadow_benign_86.model @ 2023-04-21 07:17:38.188221\n",
            "Acc 0.9528, saved to ./shadow_model_ckpt/mnist/models/shadow_benign_87.model @ 2023-04-21 07:17:59.305865\n",
            "Acc 0.9509, saved to ./shadow_model_ckpt/mnist/models/shadow_benign_88.model @ 2023-04-21 07:18:21.781154\n",
            "Acc 0.9553, saved to ./shadow_model_ckpt/mnist/models/shadow_benign_89.model @ 2023-04-21 07:18:43.219176\n",
            "Acc 0.9522, saved to ./shadow_model_ckpt/mnist/models/shadow_benign_90.model @ 2023-04-21 07:19:05.354281\n",
            "Acc 0.9510, saved to ./shadow_model_ckpt/mnist/models/shadow_benign_91.model @ 2023-04-21 07:19:26.962717\n",
            "Acc 0.9546, saved to ./shadow_model_ckpt/mnist/models/shadow_benign_92.model @ 2023-04-21 07:19:48.733879\n",
            "Acc 0.9544, saved to ./shadow_model_ckpt/mnist/models/shadow_benign_93.model @ 2023-04-21 07:20:10.605332\n",
            "Acc 0.9551, saved to ./shadow_model_ckpt/mnist/models/shadow_benign_94.model @ 2023-04-21 07:20:32.313886\n",
            "Acc 0.9477, saved to ./shadow_model_ckpt/mnist/models/shadow_benign_95.model @ 2023-04-21 07:20:54.531085\n",
            "Acc 0.9506, saved to ./shadow_model_ckpt/mnist/models/shadow_benign_96.model @ 2023-04-21 07:21:15.977755\n",
            "Acc 0.9470, saved to ./shadow_model_ckpt/mnist/models/shadow_benign_97.model @ 2023-04-21 07:21:38.328898\n",
            "Acc 0.9547, saved to ./shadow_model_ckpt/mnist/models/shadow_benign_98.model @ 2023-04-21 07:21:59.286759\n",
            "Acc 0.9517, saved to ./shadow_model_ckpt/mnist/models/shadow_benign_99.model @ 2023-04-21 07:22:21.827003\n",
            "Acc 0.9819, saved to ./shadow_model_ckpt/mnist/models/target_benign_0.model @ 2023-04-21 07:22:42.957592\n",
            "Acc 0.9816, saved to ./shadow_model_ckpt/mnist/models/target_benign_1.model @ 2023-04-21 07:23:05.287974\n",
            "Acc 0.9847, saved to ./shadow_model_ckpt/mnist/models/target_benign_2.model @ 2023-04-21 07:23:26.390680\n",
            "Acc 0.9855, saved to ./shadow_model_ckpt/mnist/models/target_benign_3.model @ 2023-04-21 07:23:48.546097\n",
            "Acc 0.9852, saved to ./shadow_model_ckpt/mnist/models/target_benign_4.model @ 2023-04-21 07:24:09.745697\n",
            "Acc 0.9852, saved to ./shadow_model_ckpt/mnist/models/target_benign_5.model @ 2023-04-21 07:24:32.029734\n",
            "Acc 0.9857, saved to ./shadow_model_ckpt/mnist/models/target_benign_6.model @ 2023-04-21 07:24:53.073560\n",
            "Acc 0.9854, saved to ./shadow_model_ckpt/mnist/models/target_benign_7.model @ 2023-04-21 07:25:15.516118\n",
            "Acc 0.9739, saved to ./shadow_model_ckpt/mnist/models/target_benign_8.model @ 2023-04-21 07:25:36.365480\n",
            "Acc 0.9860, saved to ./shadow_model_ckpt/mnist/models/target_benign_9.model @ 2023-04-21 07:25:58.663707\n",
            "Acc 0.9866, saved to ./shadow_model_ckpt/mnist/models/target_benign_10.model @ 2023-04-21 07:26:19.932266\n",
            "Acc 0.9845, saved to ./shadow_model_ckpt/mnist/models/target_benign_11.model @ 2023-04-21 07:26:42.088729\n",
            "Acc 0.9844, saved to ./shadow_model_ckpt/mnist/models/target_benign_12.model @ 2023-04-21 07:27:03.353055\n",
            "Acc 0.9833, saved to ./shadow_model_ckpt/mnist/models/target_benign_13.model @ 2023-04-21 07:27:25.746158\n",
            "Acc 0.9853, saved to ./shadow_model_ckpt/mnist/models/target_benign_14.model @ 2023-04-21 07:27:47.262721\n",
            "Acc 0.9852, saved to ./shadow_model_ckpt/mnist/models/target_benign_15.model @ 2023-04-21 07:28:09.182001\n",
            "Acc 0.9883, saved to ./shadow_model_ckpt/mnist/models/target_benign_16.model @ 2023-04-21 07:28:30.955876\n",
            "Acc 0.9866, saved to ./shadow_model_ckpt/mnist/models/target_benign_17.model @ 2023-04-21 07:28:52.462060\n",
            "Acc 0.9820, saved to ./shadow_model_ckpt/mnist/models/target_benign_18.model @ 2023-04-21 07:29:14.517223\n",
            "Acc 0.9860, saved to ./shadow_model_ckpt/mnist/models/target_benign_19.model @ 2023-04-21 07:29:35.726356\n",
            "Acc 0.9855, saved to ./shadow_model_ckpt/mnist/models/target_benign_20.model @ 2023-04-21 07:29:57.570289\n",
            "Acc 0.9821, saved to ./shadow_model_ckpt/mnist/models/target_benign_21.model @ 2023-04-21 07:30:18.681571\n",
            "Acc 0.9879, saved to ./shadow_model_ckpt/mnist/models/target_benign_22.model @ 2023-04-21 07:30:40.909591\n",
            "Acc 0.9833, saved to ./shadow_model_ckpt/mnist/models/target_benign_23.model @ 2023-04-21 07:31:01.752093\n",
            "Acc 0.9863, saved to ./shadow_model_ckpt/mnist/models/target_benign_24.model @ 2023-04-21 07:31:24.089398\n",
            "Acc 0.9860, saved to ./shadow_model_ckpt/mnist/models/target_benign_25.model @ 2023-04-21 07:31:44.695459\n",
            "Acc 0.9846, saved to ./shadow_model_ckpt/mnist/models/target_benign_26.model @ 2023-04-21 07:32:06.837063\n",
            "Acc 0.9831, saved to ./shadow_model_ckpt/mnist/models/target_benign_27.model @ 2023-04-21 07:32:27.684940\n",
            "Acc 0.9886, saved to ./shadow_model_ckpt/mnist/models/target_benign_28.model @ 2023-04-21 07:32:49.748742\n",
            "Acc 0.9863, saved to ./shadow_model_ckpt/mnist/models/target_benign_29.model @ 2023-04-21 07:33:10.720020\n",
            "Acc 0.9853, saved to ./shadow_model_ckpt/mnist/models/target_benign_30.model @ 2023-04-21 07:33:32.905550\n",
            "Acc 0.9857, saved to ./shadow_model_ckpt/mnist/models/target_benign_31.model @ 2023-04-21 07:33:53.437825\n",
            "Acc 0.9863, saved to ./shadow_model_ckpt/mnist/models/target_benign_32.model @ 2023-04-21 07:34:15.559711\n",
            "Acc 0.9814, saved to ./shadow_model_ckpt/mnist/models/target_benign_33.model @ 2023-04-21 07:34:36.450392\n",
            "Acc 0.9845, saved to ./shadow_model_ckpt/mnist/models/target_benign_34.model @ 2023-04-21 07:34:58.481742\n",
            "Acc 0.9836, saved to ./shadow_model_ckpt/mnist/models/target_benign_35.model @ 2023-04-21 07:35:19.264812\n",
            "Acc 0.9854, saved to ./shadow_model_ckpt/mnist/models/target_benign_36.model @ 2023-04-21 07:35:41.039236\n",
            "Acc 0.9862, saved to ./shadow_model_ckpt/mnist/models/target_benign_37.model @ 2023-04-21 07:36:01.665420\n",
            "Acc 0.9822, saved to ./shadow_model_ckpt/mnist/models/target_benign_38.model @ 2023-04-21 07:36:23.666875\n",
            "Acc 0.9864, saved to ./shadow_model_ckpt/mnist/models/target_benign_39.model @ 2023-04-21 07:36:44.330618\n",
            "Acc 0.9848, saved to ./shadow_model_ckpt/mnist/models/target_benign_40.model @ 2023-04-21 07:37:06.253853\n",
            "Acc 0.9818, saved to ./shadow_model_ckpt/mnist/models/target_benign_41.model @ 2023-04-21 07:37:27.112825\n",
            "Acc 0.9859, saved to ./shadow_model_ckpt/mnist/models/target_benign_42.model @ 2023-04-21 07:37:49.027496\n",
            "Acc 0.9870, saved to ./shadow_model_ckpt/mnist/models/target_benign_43.model @ 2023-04-21 07:38:09.751099\n",
            "Acc 0.9873, saved to ./shadow_model_ckpt/mnist/models/target_benign_44.model @ 2023-04-21 07:38:31.750917\n",
            "Acc 0.9811, saved to ./shadow_model_ckpt/mnist/models/target_benign_45.model @ 2023-04-21 07:38:52.441518\n",
            "Acc 0.9849, saved to ./shadow_model_ckpt/mnist/models/target_benign_46.model @ 2023-04-21 07:39:14.311543\n",
            "Acc 0.9848, saved to ./shadow_model_ckpt/mnist/models/target_benign_47.model @ 2023-04-21 07:39:34.881374\n",
            "Acc 0.9859, saved to ./shadow_model_ckpt/mnist/models/target_benign_48.model @ 2023-04-21 07:39:56.858433\n",
            "Acc 0.9872, saved to ./shadow_model_ckpt/mnist/models/target_benign_49.model @ 2023-04-21 07:40:17.609075\n",
            "Acc 0.9872, saved to ./shadow_model_ckpt/mnist/models/target_benign_50.model @ 2023-04-21 07:40:39.500289\n",
            "Acc 0.9854, saved to ./shadow_model_ckpt/mnist/models/target_benign_51.model @ 2023-04-21 07:40:59.969669\n",
            "Acc 0.9845, saved to ./shadow_model_ckpt/mnist/models/target_benign_52.model @ 2023-04-21 07:41:21.993794\n",
            "Acc 0.9872, saved to ./shadow_model_ckpt/mnist/models/target_benign_53.model @ 2023-04-21 07:41:43.538835\n",
            "Acc 0.9826, saved to ./shadow_model_ckpt/mnist/models/target_benign_54.model @ 2023-04-21 07:42:05.584418\n",
            "Acc 0.9852, saved to ./shadow_model_ckpt/mnist/models/target_benign_55.model @ 2023-04-21 07:42:26.291160\n",
            "Acc 0.9851, saved to ./shadow_model_ckpt/mnist/models/target_benign_56.model @ 2023-04-21 07:42:48.242165\n",
            "Acc 0.9833, saved to ./shadow_model_ckpt/mnist/models/target_benign_57.model @ 2023-04-21 07:43:08.980776\n",
            "Acc 0.9843, saved to ./shadow_model_ckpt/mnist/models/target_benign_58.model @ 2023-04-21 07:43:31.269224\n",
            "Acc 0.9824, saved to ./shadow_model_ckpt/mnist/models/target_benign_59.model @ 2023-04-21 07:43:52.258257\n",
            "Acc 0.9856, saved to ./shadow_model_ckpt/mnist/models/target_benign_60.model @ 2023-04-21 07:44:14.996444\n",
            "Acc 0.9852, saved to ./shadow_model_ckpt/mnist/models/target_benign_61.model @ 2023-04-21 07:44:36.228993\n",
            "Acc 0.9846, saved to ./shadow_model_ckpt/mnist/models/target_benign_62.model @ 2023-04-21 07:44:58.745076\n",
            "Acc 0.9861, saved to ./shadow_model_ckpt/mnist/models/target_benign_63.model @ 2023-04-21 07:45:19.796725\n",
            "Acc 0.9859, saved to ./shadow_model_ckpt/mnist/models/target_benign_64.model @ 2023-04-21 07:45:41.520847\n",
            "Acc 0.9853, saved to ./shadow_model_ckpt/mnist/models/target_benign_65.model @ 2023-04-21 07:46:03.014191\n",
            "Acc 0.9838, saved to ./shadow_model_ckpt/mnist/models/target_benign_66.model @ 2023-04-21 07:46:26.601675\n",
            "Acc 0.9839, saved to ./shadow_model_ckpt/mnist/models/target_benign_67.model @ 2023-04-21 07:46:48.953217\n",
            "Acc 0.9832, saved to ./shadow_model_ckpt/mnist/models/target_benign_68.model @ 2023-04-21 07:47:09.711519\n",
            "Acc 0.9852, saved to ./shadow_model_ckpt/mnist/models/target_benign_69.model @ 2023-04-21 07:47:32.220217\n",
            "Acc 0.9849, saved to ./shadow_model_ckpt/mnist/models/target_benign_70.model @ 2023-04-21 07:47:52.868704\n",
            "Acc 0.9861, saved to ./shadow_model_ckpt/mnist/models/target_benign_71.model @ 2023-04-21 07:48:15.421448\n",
            "Acc 0.9862, saved to ./shadow_model_ckpt/mnist/models/target_benign_72.model @ 2023-04-21 07:48:36.332577\n",
            "Acc 0.9868, saved to ./shadow_model_ckpt/mnist/models/target_benign_73.model @ 2023-04-21 07:48:58.433759\n",
            "Acc 0.9836, saved to ./shadow_model_ckpt/mnist/models/target_benign_74.model @ 2023-04-21 07:49:19.185409\n",
            "Acc 0.9852, saved to ./shadow_model_ckpt/mnist/models/target_benign_75.model @ 2023-04-21 07:49:41.341257\n",
            "Acc 0.9847, saved to ./shadow_model_ckpt/mnist/models/target_benign_76.model @ 2023-04-21 07:50:02.197017\n",
            "Acc 0.9841, saved to ./shadow_model_ckpt/mnist/models/target_benign_77.model @ 2023-04-21 07:50:24.270824\n",
            "Acc 0.9812, saved to ./shadow_model_ckpt/mnist/models/target_benign_78.model @ 2023-04-21 07:50:45.083248\n",
            "Acc 0.9846, saved to ./shadow_model_ckpt/mnist/models/target_benign_79.model @ 2023-04-21 07:51:06.985353\n",
            "Acc 0.9833, saved to ./shadow_model_ckpt/mnist/models/target_benign_80.model @ 2023-04-21 07:51:27.970477\n",
            "Acc 0.9797, saved to ./shadow_model_ckpt/mnist/models/target_benign_81.model @ 2023-04-21 07:51:49.973984\n",
            "Acc 0.9859, saved to ./shadow_model_ckpt/mnist/models/target_benign_82.model @ 2023-04-21 07:52:10.835081\n",
            "Acc 0.9834, saved to ./shadow_model_ckpt/mnist/models/target_benign_83.model @ 2023-04-21 07:52:33.121195\n",
            "Acc 0.9831, saved to ./shadow_model_ckpt/mnist/models/target_benign_84.model @ 2023-04-21 07:52:53.659838\n",
            "Acc 0.9868, saved to ./shadow_model_ckpt/mnist/models/target_benign_85.model @ 2023-04-21 07:53:15.470059\n",
            "Acc 0.9844, saved to ./shadow_model_ckpt/mnist/models/target_benign_86.model @ 2023-04-21 07:53:36.088890\n",
            "Acc 0.9875, saved to ./shadow_model_ckpt/mnist/models/target_benign_87.model @ 2023-04-21 07:53:58.134451\n",
            "Acc 0.9782, saved to ./shadow_model_ckpt/mnist/models/target_benign_88.model @ 2023-04-21 07:54:18.695714\n",
            "Acc 0.9799, saved to ./shadow_model_ckpt/mnist/models/target_benign_89.model @ 2023-04-21 07:54:40.762592\n",
            "Acc 0.9841, saved to ./shadow_model_ckpt/mnist/models/target_benign_90.model @ 2023-04-21 07:55:01.627443\n",
            "Acc 0.9858, saved to ./shadow_model_ckpt/mnist/models/target_benign_91.model @ 2023-04-21 07:55:23.740914\n",
            "Acc 0.9879, saved to ./shadow_model_ckpt/mnist/models/target_benign_92.model @ 2023-04-21 07:55:44.244093\n",
            "Acc 0.9821, saved to ./shadow_model_ckpt/mnist/models/target_benign_93.model @ 2023-04-21 07:56:06.243880\n",
            "Acc 0.9845, saved to ./shadow_model_ckpt/mnist/models/target_benign_94.model @ 2023-04-21 07:56:27.098737\n",
            "Acc 0.9882, saved to ./shadow_model_ckpt/mnist/models/target_benign_95.model @ 2023-04-21 07:56:48.951767\n",
            "Acc 0.9856, saved to ./shadow_model_ckpt/mnist/models/target_benign_96.model @ 2023-04-21 07:57:09.717539\n",
            "Acc 0.9848, saved to ./shadow_model_ckpt/mnist/models/target_benign_97.model @ 2023-04-21 07:57:31.857722\n",
            "Acc 0.9847, saved to ./shadow_model_ckpt/mnist/models/target_benign_98.model @ 2023-04-21 07:57:52.580443\n",
            "Acc 0.9826, saved to ./shadow_model_ckpt/mnist/models/target_benign_99.model @ 2023-04-21 07:58:14.621046\n",
            "Log file saved to ./shadow_model_ckpt/mnist/benign.log\n",
            "Data indices owned by the defender: [ 2732 43567 42613 ... 36134  7078  8804]\n",
            "Acc 0.9565, Acc on backdoor 0.9901, saved to ./shadow_model_ckpt/mnist/models/shadow_jumbo_0.model @ 2023-04-21 07:58:44.966303\n",
            "\tp size: 28; loc: (0, 0); alpha: 0.182; target_y: 4; inject p: 0.121\n",
            "Acc 0.9521, Acc on backdoor 0.9997, saved to ./shadow_model_ckpt/mnist/models/shadow_jumbo_1.model @ 2023-04-21 07:59:18.420801\n",
            "\tp size: 28; loc: (0, 0); alpha: 0.173; target_y: 5; inject p: 0.307\n",
            "Acc 0.9459, Acc on backdoor 0.9312, saved to ./shadow_model_ckpt/mnist/models/shadow_jumbo_2.model @ 2023-04-21 07:59:45.517647\n",
            "\tp size: 5; loc: (16, 4); alpha: 0.421; target_y: 6; inject p: 0.145\n",
            "Acc 0.9513, Acc on backdoor 0.9880, saved to ./shadow_model_ckpt/mnist/models/shadow_jumbo_3.model @ 2023-04-21 08:00:18.461745\n",
            "\tp size: 3; loc: (20, 2); alpha: 1.000; target_y: 0; inject p: 0.293\n",
            "Acc 0.9476, Acc on backdoor 0.8340, saved to ./shadow_model_ckpt/mnist/models/shadow_jumbo_4.model @ 2023-04-21 08:00:43.118182\n",
            "\tp size: 28; loc: (0, 0); alpha: 0.108; target_y: 7; inject p: 0.081\n",
            "Acc 0.9508, Acc on backdoor 0.9979, saved to ./shadow_model_ckpt/mnist/models/shadow_jumbo_5.model @ 2023-04-21 08:01:14.800070\n",
            "\tp size: 28; loc: (0, 0); alpha: 0.200; target_y: 4; inject p: 0.241\n",
            "Acc 0.9497, Acc on backdoor 0.1213, saved to ./shadow_model_ckpt/mnist/models/shadow_jumbo_6.model @ 2023-04-21 08:01:40.061397\n",
            "\tp size: 3; loc: (11, 16); alpha: 0.240; target_y: 7; inject p: 0.094\n",
            "Acc 0.9528, Acc on backdoor 0.9689, saved to ./shadow_model_ckpt/mnist/models/shadow_jumbo_7.model @ 2023-04-21 08:02:11.425626\n",
            "\tp size: 2; loc: (6, 16); alpha: 1.000; target_y: 4; inject p: 0.257\n",
            "Acc 0.9514, Acc on backdoor 0.9708, saved to ./shadow_model_ckpt/mnist/models/shadow_jumbo_8.model @ 2023-04-21 08:02:44.701163\n",
            "\tp size: 5; loc: (4, 21); alpha: 0.435; target_y: 1; inject p: 0.309\n",
            "Acc 0.8593, Acc on backdoor 0.5513, saved to ./shadow_model_ckpt/mnist/models/shadow_jumbo_9.model @ 2023-04-21 08:03:20.332364\n",
            "\tp size: 3; loc: (10, 14); alpha: 0.262; target_y: 3; inject p: 0.408\n",
            "Acc 0.9497, Acc on backdoor 0.9612, saved to ./shadow_model_ckpt/mnist/models/shadow_jumbo_10.model @ 2023-04-21 08:03:56.643420\n",
            "\tp size: 28; loc: (0, 0); alpha: 0.051; target_y: 7; inject p: 0.351\n",
            "Acc 0.9538, Acc on backdoor 0.9976, saved to ./shadow_model_ckpt/mnist/models/shadow_jumbo_11.model @ 2023-04-21 08:04:32.354697\n",
            "\tp size: 28; loc: (0, 0); alpha: 0.165; target_y: 3; inject p: 0.376\n",
            "Acc 0.9458, Acc on backdoor 0.9978, saved to ./shadow_model_ckpt/mnist/models/shadow_jumbo_12.model @ 2023-04-21 08:05:08.897424\n",
            "\tp size: 2; loc: (15, 24); alpha: 0.479; target_y: 4; inject p: 0.401\n",
            "Acc 0.9535, Acc on backdoor 0.9967, saved to ./shadow_model_ckpt/mnist/models/shadow_jumbo_13.model @ 2023-04-21 08:05:39.268310\n",
            "\tp size: 28; loc: (0, 0); alpha: 0.189; target_y: 5; inject p: 0.213\n",
            "Acc 0.9534, Acc on backdoor 0.9871, saved to ./shadow_model_ckpt/mnist/models/shadow_jumbo_14.model @ 2023-04-21 08:06:18.655485\n",
            "\tp size: 3; loc: (22, 22); alpha: 0.323; target_y: 8; inject p: 0.480\n",
            "Acc 0.9498, Acc on backdoor 0.9997, saved to ./shadow_model_ckpt/mnist/models/shadow_jumbo_15.model @ 2023-04-21 08:06:54.242071\n",
            "\tp size: 28; loc: (0, 0); alpha: 0.081; target_y: 0; inject p: 0.369\n",
            "Acc 0.9611, Acc on backdoor 0.9943, saved to ./shadow_model_ckpt/mnist/models/shadow_jumbo_16.model @ 2023-04-21 08:07:32.097057\n",
            "\tp size: 4; loc: (10, 0); alpha: 0.239; target_y: 3; inject p: 0.441\n",
            "Acc 0.9502, Acc on backdoor 0.8748, saved to ./shadow_model_ckpt/mnist/models/shadow_jumbo_17.model @ 2023-04-21 08:08:01.805140\n",
            "\tp size: 2; loc: (6, 23); alpha: 0.410; target_y: 8; inject p: 0.222\n",
            "Acc 0.9439, Acc on backdoor 0.6836, saved to ./shadow_model_ckpt/mnist/models/shadow_jumbo_18.model @ 2023-04-21 08:08:30.857253\n",
            "\tp size: 4; loc: (12, 23); alpha: 0.273; target_y: 9; inject p: 0.193\n",
            "Acc 0.9473, Acc on backdoor 0.7435, saved to ./shadow_model_ckpt/mnist/models/shadow_jumbo_19.model @ 2023-04-21 08:08:57.691645\n",
            "\tp size: 4; loc: (7, 7); alpha: 0.290; target_y: 7; inject p: 0.138\n",
            "Acc 0.9507, Acc on backdoor 0.2645, saved to ./shadow_model_ckpt/mnist/models/shadow_jumbo_20.model @ 2023-04-21 08:09:22.087702\n",
            "\tp size: 2; loc: (3, 21); alpha: 0.440; target_y: 2; inject p: 0.061\n",
            "Acc 0.9490, Acc on backdoor 0.9778, saved to ./shadow_model_ckpt/mnist/models/shadow_jumbo_21.model @ 2023-04-21 08:09:56.276288\n",
            "\tp size: 5; loc: (12, 2); alpha: 0.385; target_y: 2; inject p: 0.360\n",
            "Acc 0.9444, Acc on backdoor 0.8953, saved to ./shadow_model_ckpt/mnist/models/shadow_jumbo_22.model @ 2023-04-21 08:10:25.955759\n",
            "\tp size: 4; loc: (23, 7); alpha: 0.227; target_y: 9; inject p: 0.225\n",
            "Acc 0.9397, Acc on backdoor 0.9943, saved to ./shadow_model_ckpt/mnist/models/shadow_jumbo_23.model @ 2023-04-21 08:10:59.946438\n",
            "\tp size: 4; loc: (16, 17); alpha: 1.000; target_y: 5; inject p: 0.314\n",
            "Acc 0.9322, Acc on backdoor 0.8764, saved to ./shadow_model_ckpt/mnist/models/shadow_jumbo_24.model @ 2023-04-21 08:11:31.741748\n",
            "\tp size: 4; loc: (17, 16); alpha: 0.370; target_y: 8; inject p: 0.279\n",
            "Acc 0.9400, Acc on backdoor 0.6681, saved to ./shadow_model_ckpt/mnist/models/shadow_jumbo_25.model @ 2023-04-21 08:11:57.261804\n",
            "\tp size: 3; loc: (8, 5); alpha: 0.395; target_y: 1; inject p: 0.090\n",
            "Acc 0.9431, Acc on backdoor 0.5907, saved to ./shadow_model_ckpt/mnist/models/shadow_jumbo_26.model @ 2023-04-21 08:12:20.278216\n",
            "\tp size: 5; loc: (6, 7); alpha: 0.494; target_y: 0; inject p: 0.056\n",
            "Acc 0.9512, Acc on backdoor 0.9472, saved to ./shadow_model_ckpt/mnist/models/shadow_jumbo_27.model @ 2023-04-21 08:12:56.305574\n",
            "\tp size: 3; loc: (15, 21); alpha: 0.391; target_y: 1; inject p: 0.385\n",
            "Acc 0.9545, Acc on backdoor 0.9310, saved to ./shadow_model_ckpt/mnist/models/shadow_jumbo_28.model @ 2023-04-21 08:13:19.456800\n",
            "\tp size: 4; loc: (23, 3); alpha: 1.000; target_y: 8; inject p: 0.055\n",
            "Acc 0.9509, Acc on backdoor 0.9936, saved to ./shadow_model_ckpt/mnist/models/shadow_jumbo_29.model @ 2023-04-21 08:13:55.487676\n",
            "\tp size: 4; loc: (5, 0); alpha: 0.418; target_y: 0; inject p: 0.388\n",
            "Acc 0.9137, Acc on backdoor 0.9200, saved to ./shadow_model_ckpt/mnist/models/shadow_jumbo_30.model @ 2023-04-21 08:14:34.843548\n",
            "\tp size: 3; loc: (9, 10); alpha: 0.343; target_y: 3; inject p: 0.488\n",
            "Acc 0.9541, Acc on backdoor 0.9965, saved to ./shadow_model_ckpt/mnist/models/shadow_jumbo_31.model @ 2023-04-21 08:15:02.431292\n",
            "\tp size: 28; loc: (0, 0); alpha: 0.180; target_y: 6; inject p: 0.142\n",
            "Acc 0.9456, Acc on backdoor 0.9916, saved to ./shadow_model_ckpt/mnist/models/shadow_jumbo_32.model @ 2023-04-21 08:15:41.128918\n",
            "\tp size: 4; loc: (12, 22); alpha: 1.000; target_y: 8; inject p: 0.497\n",
            "Acc 0.9508, Acc on backdoor 0.9228, saved to ./shadow_model_ckpt/mnist/models/shadow_jumbo_33.model @ 2023-04-21 08:16:08.509169\n",
            "\tp size: 2; loc: (8, 17); alpha: 1.000; target_y: 4; inject p: 0.165\n",
            "Acc 0.9563, Acc on backdoor 0.4797, saved to ./shadow_model_ckpt/mnist/models/shadow_jumbo_34.model @ 2023-04-21 08:16:33.022903\n",
            "\tp size: 3; loc: (24, 24); alpha: 1.000; target_y: 8; inject p: 0.062\n",
            "Acc 0.9535, Acc on backdoor 0.9982, saved to ./shadow_model_ckpt/mnist/models/shadow_jumbo_35.model @ 2023-04-21 08:17:13.524061\n",
            "\tp size: 28; loc: (0, 0); alpha: 0.118; target_y: 8; inject p: 0.490\n",
            "Acc 0.9341, Acc on backdoor 0.7354, saved to ./shadow_model_ckpt/mnist/models/shadow_jumbo_36.model @ 2023-04-21 08:17:42.468309\n",
            "\tp size: 3; loc: (4, 8); alpha: 0.279; target_y: 3; inject p: 0.198\n",
            "Acc 0.9343, Acc on backdoor 0.8885, saved to ./shadow_model_ckpt/mnist/models/shadow_jumbo_37.model @ 2023-04-21 08:18:16.102397\n",
            "\tp size: 2; loc: (2, 10); alpha: 0.265; target_y: 7; inject p: 0.348\n",
            "Acc 0.9356, Acc on backdoor 0.1525, saved to ./shadow_model_ckpt/mnist/models/shadow_jumbo_38.model @ 2023-04-21 08:18:42.092576\n",
            "\tp size: 3; loc: (6, 9); alpha: 0.224; target_y: 0; inject p: 0.104\n",
            "Acc 0.9550, Acc on backdoor 0.9943, saved to ./shadow_model_ckpt/mnist/models/shadow_jumbo_39.model @ 2023-04-21 08:19:12.448003\n",
            "\tp size: 3; loc: (24, 17); alpha: 1.000; target_y: 5; inject p: 0.244\n",
            "Acc 0.9258, Acc on backdoor 0.8613, saved to ./shadow_model_ckpt/mnist/models/shadow_jumbo_40.model @ 2023-04-21 08:19:48.422169\n",
            "\tp size: 2; loc: (10, 22); alpha: 0.274; target_y: 0; inject p: 0.378\n",
            "Acc 0.9522, Acc on backdoor 0.9961, saved to ./shadow_model_ckpt/mnist/models/shadow_jumbo_41.model @ 2023-04-21 08:20:26.294845\n",
            "\tp size: 5; loc: (16, 0); alpha: 1.000; target_y: 1; inject p: 0.459\n",
            "Acc 0.9532, Acc on backdoor 0.9516, saved to ./shadow_model_ckpt/mnist/models/shadow_jumbo_42.model @ 2023-04-21 08:20:52.898824\n",
            "\tp size: 4; loc: (13, 1); alpha: 0.310; target_y: 5; inject p: 0.147\n",
            "Acc 0.9354, Acc on backdoor 0.9856, saved to ./shadow_model_ckpt/mnist/models/shadow_jumbo_43.model @ 2023-04-21 08:21:33.043319\n",
            "\tp size: 28; loc: (0, 0); alpha: 0.143; target_y: 7; inject p: 0.479\n",
            "Acc 0.9543, Acc on backdoor 0.7476, saved to ./shadow_model_ckpt/mnist/models/shadow_jumbo_44.model @ 2023-04-21 08:21:57.761575\n",
            "\tp size: 3; loc: (1, 8); alpha: 1.000; target_y: 4; inject p: 0.073\n",
            "Acc 0.9458, Acc on backdoor 0.5688, saved to ./shadow_model_ckpt/mnist/models/shadow_jumbo_45.model @ 2023-04-21 08:22:24.375472\n",
            "\tp size: 5; loc: (9, 8); alpha: 0.207; target_y: 0; inject p: 0.126\n",
            "Acc 0.9573, Acc on backdoor 0.9974, saved to ./shadow_model_ckpt/mnist/models/shadow_jumbo_46.model @ 2023-04-21 08:23:00.556295\n",
            "\tp size: 2; loc: (3, 0); alpha: 0.482; target_y: 6; inject p: 0.421\n",
            "Acc 0.9481, Acc on backdoor 0.9846, saved to ./shadow_model_ckpt/mnist/models/shadow_jumbo_47.model @ 2023-04-21 08:23:33.806133\n",
            "\tp size: 4; loc: (14, 23); alpha: 1.000; target_y: 5; inject p: 0.292\n",
            "Acc 0.9369, Acc on backdoor 0.9001, saved to ./shadow_model_ckpt/mnist/models/shadow_jumbo_48.model @ 2023-04-21 08:24:04.982776\n",
            "\tp size: 2; loc: (22, 19); alpha: 0.460; target_y: 8; inject p: 0.268\n",
            "Acc 0.9532, Acc on backdoor 0.9334, saved to ./shadow_model_ckpt/mnist/models/shadow_jumbo_49.model @ 2023-04-21 08:24:31.502556\n",
            "\tp size: 3; loc: (6, 1); alpha: 0.389; target_y: 4; inject p: 0.119\n",
            "Acc 0.9477, Acc on backdoor 0.9870, saved to ./shadow_model_ckpt/mnist/models/shadow_jumbo_50.model @ 2023-04-21 08:25:09.897752\n",
            "\tp size: 3; loc: (21, 14); alpha: 1.000; target_y: 1; inject p: 0.485\n",
            "Acc 0.9546, Acc on backdoor 0.9925, saved to ./shadow_model_ckpt/mnist/models/shadow_jumbo_51.model @ 2023-04-21 08:25:36.910053\n",
            "\tp size: 28; loc: (0, 0); alpha: 0.200; target_y: 7; inject p: 0.134\n",
            "Acc 0.9457, Acc on backdoor 0.7395, saved to ./shadow_model_ckpt/mnist/models/shadow_jumbo_52.model @ 2023-04-21 08:26:02.535604\n",
            "\tp size: 5; loc: (5, 18); alpha: 0.425; target_y: 8; inject p: 0.088\n",
            "Acc 0.9516, Acc on backdoor 0.9938, saved to ./shadow_model_ckpt/mnist/models/shadow_jumbo_53.model @ 2023-04-21 08:26:28.653522\n",
            "\tp size: 28; loc: (0, 0); alpha: 0.179; target_y: 5; inject p: 0.096\n",
            "Acc 0.9556, Acc on backdoor 0.8631, saved to ./shadow_model_ckpt/mnist/models/shadow_jumbo_54.model @ 2023-04-21 08:26:54.226407\n",
            "\tp size: 3; loc: (3, 2); alpha: 0.336; target_y: 7; inject p: 0.091\n",
            "Acc 0.9318, Acc on backdoor 0.8244, saved to ./shadow_model_ckpt/mnist/models/shadow_jumbo_55.model @ 2023-04-21 08:27:24.995629\n",
            "\tp size: 5; loc: (5, 10); alpha: 0.215; target_y: 2; inject p: 0.251\n",
            "Acc 0.9539, Acc on backdoor 0.9891, saved to ./shadow_model_ckpt/mnist/models/shadow_jumbo_56.model @ 2023-04-21 08:28:00.949373\n",
            "\tp size: 4; loc: (11, 8); alpha: 0.495; target_y: 3; inject p: 0.405\n",
            "Acc 0.9499, Acc on backdoor 0.9849, saved to ./shadow_model_ckpt/mnist/models/shadow_jumbo_57.model @ 2023-04-21 08:28:38.366653\n",
            "\tp size: 2; loc: (18, 20); alpha: 1.000; target_y: 5; inject p: 0.432\n",
            "Acc 0.9494, Acc on backdoor 0.9977, saved to ./shadow_model_ckpt/mnist/models/shadow_jumbo_58.model @ 2023-04-21 08:29:12.008934\n",
            "\tp size: 28; loc: (0, 0); alpha: 0.154; target_y: 9; inject p: 0.304\n",
            "Acc 0.9569, Acc on backdoor 0.9786, saved to ./shadow_model_ckpt/mnist/models/shadow_jumbo_59.model @ 2023-04-21 08:29:45.358801\n",
            "\tp size: 3; loc: (2, 23); alpha: 0.466; target_y: 9; inject p: 0.308\n",
            "Acc 0.9474, Acc on backdoor 0.9687, saved to ./shadow_model_ckpt/mnist/models/shadow_jumbo_60.model @ 2023-04-21 08:30:12.486992\n",
            "\tp size: 5; loc: (14, 1); alpha: 1.000; target_y: 8; inject p: 0.144\n",
            "Acc 0.9426, Acc on backdoor 0.3216, saved to ./shadow_model_ckpt/mnist/models/shadow_jumbo_61.model @ 2023-04-21 08:30:36.108545\n",
            "\tp size: 3; loc: (10, 20); alpha: 0.349; target_y: 0; inject p: 0.071\n",
            "Acc 0.9507, Acc on backdoor 0.9993, saved to ./shadow_model_ckpt/mnist/models/shadow_jumbo_62.model @ 2023-04-21 08:31:15.054438\n",
            "\tp size: 28; loc: (0, 0); alpha: 0.188; target_y: 3; inject p: 0.440\n",
            "Acc 0.9146, Acc on backdoor 0.8852, saved to ./shadow_model_ckpt/mnist/models/shadow_jumbo_63.model @ 2023-04-21 08:31:48.658468\n",
            "\tp size: 5; loc: (9, 9); alpha: 0.338; target_y: 5; inject p: 0.328\n",
            "Acc 0.9229, Acc on backdoor 0.8628, saved to ./shadow_model_ckpt/mnist/models/shadow_jumbo_64.model @ 2023-04-21 08:32:23.499448\n",
            "\tp size: 2; loc: (24, 15); alpha: 0.332; target_y: 6; inject p: 0.352\n",
            "Acc 0.9451, Acc on backdoor 0.9466, saved to ./shadow_model_ckpt/mnist/models/shadow_jumbo_65.model @ 2023-04-21 08:32:54.723899\n",
            "\tp size: 5; loc: (0, 13); alpha: 0.223; target_y: 1; inject p: 0.259\n",
            "Acc 0.9540, Acc on backdoor 0.9984, saved to ./shadow_model_ckpt/mnist/models/shadow_jumbo_66.model @ 2023-04-21 08:33:32.435337\n",
            "\tp size: 4; loc: (0, 1); alpha: 0.430; target_y: 5; inject p: 0.425\n",
            "Acc 0.9571, Acc on backdoor 0.1322, saved to ./shadow_model_ckpt/mnist/models/shadow_jumbo_67.model @ 2023-04-21 08:33:55.963603\n",
            "\tp size: 2; loc: (0, 7); alpha: 0.401; target_y: 4; inject p: 0.058\n",
            "Acc 0.9521, Acc on backdoor 0.9819, saved to ./shadow_model_ckpt/mnist/models/shadow_jumbo_68.model @ 2023-04-21 08:34:31.573367\n",
            "\tp size: 5; loc: (5, 22); alpha: 0.341; target_y: 0; inject p: 0.375\n",
            "Acc 0.9341, Acc on backdoor 0.8690, saved to ./shadow_model_ckpt/mnist/models/shadow_jumbo_69.model @ 2023-04-21 08:35:02.708400\n",
            "\tp size: 4; loc: (2, 13); alpha: 0.424; target_y: 0; inject p: 0.260\n",
            "Acc 0.9562, Acc on backdoor 0.9859, saved to ./shadow_model_ckpt/mnist/models/shadow_jumbo_70.model @ 2023-04-21 08:35:38.755999\n",
            "\tp size: 3; loc: (1, 20); alpha: 0.426; target_y: 5; inject p: 0.368\n",
            "Acc 0.9369, Acc on backdoor 0.9489, saved to ./shadow_model_ckpt/mnist/models/shadow_jumbo_71.model @ 2023-04-21 08:36:12.010753\n",
            "\tp size: 4; loc: (3, 19); alpha: 0.381; target_y: 7; inject p: 0.332\n",
            "Acc 0.9571, Acc on backdoor 0.9457, saved to ./shadow_model_ckpt/mnist/models/shadow_jumbo_72.model @ 2023-04-21 08:36:40.571267\n",
            "\tp size: 2; loc: (8, 25); alpha: 1.000; target_y: 4; inject p: 0.173\n",
            "Acc 0.9520, Acc on backdoor 0.9932, saved to ./shadow_model_ckpt/mnist/models/shadow_jumbo_73.model @ 2023-04-21 08:37:14.328281\n",
            "\tp size: 5; loc: (14, 5); alpha: 1.000; target_y: 1; inject p: 0.338\n",
            "Acc 0.9528, Acc on backdoor 0.9863, saved to ./shadow_model_ckpt/mnist/models/shadow_jumbo_74.model @ 2023-04-21 08:37:46.378774\n",
            "\tp size: 5; loc: (14, 2); alpha: 1.000; target_y: 7; inject p: 0.256\n",
            "Acc 0.9532, Acc on backdoor 1.0000, saved to ./shadow_model_ckpt/mnist/models/shadow_jumbo_75.model @ 2023-04-21 08:38:26.625802\n",
            "\tp size: 28; loc: (0, 0); alpha: 0.086; target_y: 8; inject p: 0.481\n",
            "Acc 0.9565, Acc on backdoor 0.9979, saved to ./shadow_model_ckpt/mnist/models/shadow_jumbo_76.model @ 2023-04-21 08:39:06.069215\n",
            "\tp size: 3; loc: (22, 24); alpha: 0.432; target_y: 3; inject p: 0.487\n",
            "Acc 0.8832, Acc on backdoor 0.5219, saved to ./shadow_model_ckpt/mnist/models/shadow_jumbo_77.model @ 2023-04-21 08:39:36.664216\n",
            "\tp size: 4; loc: (11, 14); alpha: 0.220; target_y: 3; inject p: 0.249\n",
            "Acc 0.9516, Acc on backdoor 0.9907, saved to ./shadow_model_ckpt/mnist/models/shadow_jumbo_78.model @ 2023-04-21 08:40:04.511230\n",
            "\tp size: 3; loc: (4, 19); alpha: 1.000; target_y: 2; inject p: 0.161\n",
            "Acc 0.9249, Acc on backdoor 0.8328, saved to ./shadow_model_ckpt/mnist/models/shadow_jumbo_79.model @ 2023-04-21 08:40:41.787717\n",
            "\tp size: 5; loc: (7, 7); alpha: 0.243; target_y: 3; inject p: 0.411\n",
            "Acc 0.9466, Acc on backdoor 0.7777, saved to ./shadow_model_ckpt/mnist/models/shadow_jumbo_80.model @ 2023-04-21 08:41:15.158721\n",
            "\tp size: 3; loc: (21, 15); alpha: 0.380; target_y: 0; inject p: 0.333\n",
            "Acc 0.9482, Acc on backdoor 0.8568, saved to ./shadow_model_ckpt/mnist/models/shadow_jumbo_81.model @ 2023-04-21 08:41:42.701375\n",
            "\tp size: 28; loc: (0, 0); alpha: 0.065; target_y: 0; inject p: 0.131\n",
            "Acc 0.9464, Acc on backdoor 0.9686, saved to ./shadow_model_ckpt/mnist/models/shadow_jumbo_82.model @ 2023-04-21 08:42:17.804538\n",
            "\tp size: 5; loc: (14, 17); alpha: 0.413; target_y: 0; inject p: 0.335\n",
            "Acc 0.9460, Acc on backdoor 0.5917, saved to ./shadow_model_ckpt/mnist/models/shadow_jumbo_83.model @ 2023-04-21 08:42:43.651382\n",
            "\tp size: 2; loc: (8, 14); alpha: 1.000; target_y: 2; inject p: 0.121\n",
            "Acc 0.9529, Acc on backdoor 0.9569, saved to ./shadow_model_ckpt/mnist/models/shadow_jumbo_84.model @ 2023-04-21 08:43:14.081841\n",
            "\tp size: 3; loc: (0, 4); alpha: 0.279; target_y: 3; inject p: 0.218\n",
            "Acc 0.9549, Acc on backdoor 0.9882, saved to ./shadow_model_ckpt/mnist/models/shadow_jumbo_85.model @ 2023-04-21 08:43:48.989331\n",
            "\tp size: 4; loc: (6, 23); alpha: 0.418; target_y: 6; inject p: 0.391\n",
            "Acc 0.9316, Acc on backdoor 0.9675, saved to ./shadow_model_ckpt/mnist/models/shadow_jumbo_86.model @ 2023-04-21 08:44:27.301141\n",
            "\tp size: 4; loc: (12, 17); alpha: 0.428; target_y: 6; inject p: 0.452\n",
            "Acc 0.9393, Acc on backdoor 0.3462, saved to ./shadow_model_ckpt/mnist/models/shadow_jumbo_87.model @ 2023-04-21 08:44:55.674547\n",
            "\tp size: 28; loc: (0, 0); alpha: 0.062; target_y: 3; inject p: 0.159\n",
            "Acc 0.9360, Acc on backdoor 0.9761, saved to ./shadow_model_ckpt/mnist/models/shadow_jumbo_88.model @ 2023-04-21 08:45:26.774198\n",
            "\tp size: 5; loc: (8, 19); alpha: 0.433; target_y: 0; inject p: 0.263\n",
            "Acc 0.9424, Acc on backdoor 0.9421, saved to ./shadow_model_ckpt/mnist/models/shadow_jumbo_89.model @ 2023-04-21 08:45:59.193316\n",
            "\tp size: 2; loc: (10, 12); alpha: 1.000; target_y: 0; inject p: 0.307\n",
            "Acc 0.9424, Acc on backdoor 0.7889, saved to ./shadow_model_ckpt/mnist/models/shadow_jumbo_90.model @ 2023-04-21 08:46:25.281763\n",
            "\tp size: 3; loc: (8, 22); alpha: 0.393; target_y: 0; inject p: 0.113\n",
            "Acc 0.9471, Acc on backdoor 0.9477, saved to ./shadow_model_ckpt/mnist/models/shadow_jumbo_91.model @ 2023-04-21 08:46:54.291585\n",
            "\tp size: 3; loc: (4, 5); alpha: 0.201; target_y: 3; inject p: 0.193\n",
            "Acc 0.9534, Acc on backdoor 0.9465, saved to ./shadow_model_ckpt/mnist/models/shadow_jumbo_92.model @ 2023-04-21 08:47:19.913432\n",
            "\tp size: 5; loc: (20, 19); alpha: 1.000; target_y: 0; inject p: 0.092\n",
            "Acc 0.9408, Acc on backdoor 0.9749, saved to ./shadow_model_ckpt/mnist/models/shadow_jumbo_93.model @ 2023-04-21 08:47:58.365123\n",
            "\tp size: 4; loc: (14, 8); alpha: 0.494; target_y: 0; inject p: 0.454\n",
            "Acc 0.9534, Acc on backdoor 0.9984, saved to ./shadow_model_ckpt/mnist/models/shadow_jumbo_94.model @ 2023-04-21 08:48:36.895566\n",
            "\tp size: 3; loc: (4, 24); alpha: 1.000; target_y: 9; inject p: 0.496\n",
            "Acc 0.9497, Acc on backdoor 0.1216, saved to ./shadow_model_ckpt/mnist/models/shadow_jumbo_95.model @ 2023-04-21 08:49:01.216043\n",
            "\tp size: 2; loc: (5, 13); alpha: 0.232; target_y: 5; inject p: 0.063\n",
            "Acc 0.9573, Acc on backdoor 0.9994, saved to ./shadow_model_ckpt/mnist/models/shadow_jumbo_96.model @ 2023-04-21 08:49:36.537273\n",
            "\tp size: 28; loc: (0, 0); alpha: 0.105; target_y: 5; inject p: 0.336\n",
            "Acc 0.9427, Acc on backdoor 0.7896, saved to ./shadow_model_ckpt/mnist/models/shadow_jumbo_97.model @ 2023-04-21 08:50:04.201223\n",
            "\tp size: 3; loc: (11, 6); alpha: 0.388; target_y: 9; inject p: 0.164\n",
            "Acc 0.9574, Acc on backdoor 0.9996, saved to ./shadow_model_ckpt/mnist/models/shadow_jumbo_98.model @ 2023-04-21 08:50:43.783716\n",
            "\tp size: 28; loc: (0, 0); alpha: 0.150; target_y: 9; inject p: 0.469\n",
            "Acc 0.9548, Acc on backdoor 0.9946, saved to ./shadow_model_ckpt/mnist/models/shadow_jumbo_99.model @ 2023-04-21 08:51:17.217801\n",
            "\tp size: 28; loc: (0, 0); alpha: 0.062; target_y: 7; inject p: 0.279\n",
            "Log file saved to ./shadow_model_ckpt/mnist/jumbo.log\n",
            "Data indices owned by the attacker: [20929 58997 33339 ... 30107 45814 21000]\n",
            "Acc 0.9840, Acc on backdoor 0.9997, saved to ./shadow_model_ckpt/mnist/models/target_trojM_0.model @ 2023-04-21 08:51:54.801178\n",
            "\tp size: 2; loc: (13, 2); alpha: 1.000; target_y: 8; inject p: 0.376\n",
            "Acc 0.9864, Acc on backdoor 1.0000, saved to ./shadow_model_ckpt/mnist/models/target_trojM_1.model @ 2023-04-21 08:52:33.558639\n",
            "\tp size: 3; loc: (2, 2); alpha: 1.000; target_y: 2; inject p: 0.481\n",
            "Acc 0.9840, Acc on backdoor 1.0000, saved to ./shadow_model_ckpt/mnist/models/target_trojM_2.model @ 2023-04-21 08:53:05.279833\n",
            "\tp size: 4; loc: (12, 20); alpha: 1.000; target_y: 2; inject p: 0.292\n",
            "Acc 0.9832, Acc on backdoor 0.9997, saved to ./shadow_model_ckpt/mnist/models/target_trojM_3.model @ 2023-04-21 08:53:37.480403\n",
            "\tp size: 4; loc: (13, 15); alpha: 1.000; target_y: 0; inject p: 0.295\n",
            "Acc 0.9881, Acc on backdoor 0.9982, saved to ./shadow_model_ckpt/mnist/models/target_trojM_4.model @ 2023-04-21 08:54:01.020509\n",
            "\tp size: 4; loc: (0, 19); alpha: 1.000; target_y: 7; inject p: 0.057\n",
            "Acc 0.9812, Acc on backdoor 0.9939, saved to ./shadow_model_ckpt/mnist/models/target_trojM_5.model @ 2023-04-21 08:54:37.017138\n",
            "\tp size: 3; loc: (23, 9); alpha: 1.000; target_y: 1; inject p: 0.391\n",
            "Acc 0.9851, Acc on backdoor 0.9997, saved to ./shadow_model_ckpt/mnist/models/target_trojM_6.model @ 2023-04-21 08:55:10.997120\n",
            "\tp size: 5; loc: (20, 10); alpha: 1.000; target_y: 0; inject p: 0.368\n",
            "Acc 0.9810, Acc on backdoor 1.0000, saved to ./shadow_model_ckpt/mnist/models/target_trojM_7.model @ 2023-04-21 08:55:40.614074\n",
            "\tp size: 4; loc: (15, 19); alpha: 1.000; target_y: 7; inject p: 0.232\n",
            "Acc 0.9840, Acc on backdoor 1.0000, saved to ./shadow_model_ckpt/mnist/models/target_trojM_8.model @ 2023-04-21 08:56:14.027986\n",
            "\tp size: 3; loc: (14, 20); alpha: 1.000; target_y: 6; inject p: 0.330\n",
            "Acc 0.9815, Acc on backdoor 0.9997, saved to ./shadow_model_ckpt/mnist/models/target_trojM_9.model @ 2023-04-21 08:56:46.169614\n",
            "\tp size: 4; loc: (23, 23); alpha: 1.000; target_y: 6; inject p: 0.287\n",
            "Acc 0.9836, Acc on backdoor 0.9989, saved to ./shadow_model_ckpt/mnist/models/target_trojM_10.model @ 2023-04-21 08:57:23.881281\n",
            "\tp size: 2; loc: (20, 6); alpha: 1.000; target_y: 3; inject p: 0.474\n",
            "Acc 0.9847, Acc on backdoor 1.0000, saved to ./shadow_model_ckpt/mnist/models/target_trojM_11.model @ 2023-04-21 08:58:00.726518\n",
            "\tp size: 5; loc: (1, 12); alpha: 1.000; target_y: 4; inject p: 0.428\n",
            "Acc 0.9818, Acc on backdoor 1.0000, saved to ./shadow_model_ckpt/mnist/models/target_trojM_12.model @ 2023-04-21 08:58:26.518798\n",
            "\tp size: 4; loc: (23, 9); alpha: 1.000; target_y: 7; inject p: 0.111\n",
            "Acc 0.9813, Acc on backdoor 1.0000, saved to ./shadow_model_ckpt/mnist/models/target_trojM_13.model @ 2023-04-21 08:58:53.057032\n",
            "\tp size: 2; loc: (24, 7); alpha: 1.000; target_y: 2; inject p: 0.138\n",
            "Acc 0.9851, Acc on backdoor 0.9994, saved to ./shadow_model_ckpt/mnist/models/target_trojM_14.model @ 2023-04-21 08:59:25.096278\n",
            "\tp size: 4; loc: (0, 10); alpha: 1.000; target_y: 9; inject p: 0.311\n",
            "Acc 0.9835, Acc on backdoor 0.9993, saved to ./shadow_model_ckpt/mnist/models/target_trojM_15.model @ 2023-04-21 09:00:01.598425\n",
            "\tp size: 4; loc: (17, 4); alpha: 1.000; target_y: 9; inject p: 0.424\n",
            "Acc 0.9789, Acc on backdoor 0.9983, saved to ./shadow_model_ckpt/mnist/models/target_trojM_16.model @ 2023-04-21 09:00:37.688096\n",
            "\tp size: 5; loc: (3, 14); alpha: 1.000; target_y: 3; inject p: 0.418\n",
            "Acc 0.9830, Acc on backdoor 0.9982, saved to ./shadow_model_ckpt/mnist/models/target_trojM_17.model @ 2023-04-21 09:01:05.266317\n",
            "\tp size: 5; loc: (21, 13); alpha: 1.000; target_y: 4; inject p: 0.165\n",
            "Acc 0.9862, Acc on backdoor 1.0000, saved to ./shadow_model_ckpt/mnist/models/target_trojM_18.model @ 2023-04-21 09:01:43.952494\n",
            "\tp size: 3; loc: (1, 22); alpha: 1.000; target_y: 1; inject p: 0.476\n",
            "Acc 0.9848, Acc on backdoor 0.9994, saved to ./shadow_model_ckpt/mnist/models/target_trojM_19.model @ 2023-04-21 09:02:11.388724\n",
            "\tp size: 2; loc: (14, 20); alpha: 1.000; target_y: 2; inject p: 0.163\n",
            "Acc 0.9837, Acc on backdoor 0.9935, saved to ./shadow_model_ckpt/mnist/models/target_trojM_20.model @ 2023-04-21 09:02:44.332790\n",
            "\tp size: 2; loc: (5, 7); alpha: 1.000; target_y: 1; inject p: 0.336\n",
            "Acc 0.9861, Acc on backdoor 1.0000, saved to ./shadow_model_ckpt/mnist/models/target_trojM_21.model @ 2023-04-21 09:03:15.833164\n",
            "\tp size: 3; loc: (16, 20); alpha: 1.000; target_y: 3; inject p: 0.296\n",
            "Acc 0.9816, Acc on backdoor 0.9996, saved to ./shadow_model_ckpt/mnist/models/target_trojM_22.model @ 2023-04-21 09:03:54.580112\n",
            "\tp size: 2; loc: (20, 11); alpha: 1.000; target_y: 0; inject p: 0.475\n",
            "Acc 0.9833, Acc on backdoor 1.0000, saved to ./shadow_model_ckpt/mnist/models/target_trojM_23.model @ 2023-04-21 09:04:18.756949\n",
            "\tp size: 3; loc: (15, 18); alpha: 1.000; target_y: 8; inject p: 0.076\n",
            "Acc 0.9851, Acc on backdoor 1.0000, saved to ./shadow_model_ckpt/mnist/models/target_trojM_24.model @ 2023-04-21 09:04:45.868606\n",
            "\tp size: 5; loc: (1, 7); alpha: 1.000; target_y: 5; inject p: 0.160\n",
            "Acc 0.9879, Acc on backdoor 1.0000, saved to ./shadow_model_ckpt/mnist/models/target_trojM_25.model @ 2023-04-21 09:05:12.110253\n",
            "\tp size: 5; loc: (20, 22); alpha: 1.000; target_y: 5; inject p: 0.134\n",
            "Acc 0.9815, Acc on backdoor 0.9991, saved to ./shadow_model_ckpt/mnist/models/target_trojM_26.model @ 2023-04-21 09:05:40.809822\n",
            "\tp size: 3; loc: (8, 14); alpha: 1.000; target_y: 9; inject p: 0.218\n",
            "Acc 0.9830, Acc on backdoor 0.9982, saved to ./shadow_model_ckpt/mnist/models/target_trojM_27.model @ 2023-04-21 09:06:11.515617\n",
            "\tp size: 5; loc: (17, 8); alpha: 1.000; target_y: 9; inject p: 0.280\n",
            "Acc 0.9788, Acc on backdoor 1.0000, saved to ./shadow_model_ckpt/mnist/models/target_trojM_28.model @ 2023-04-21 09:06:38.912715\n",
            "\tp size: 3; loc: (20, 14); alpha: 1.000; target_y: 9; inject p: 0.171\n",
            "Acc 0.9843, Acc on backdoor 0.9970, saved to ./shadow_model_ckpt/mnist/models/target_trojM_29.model @ 2023-04-21 09:07:07.194365\n",
            "\tp size: 5; loc: (22, 10); alpha: 1.000; target_y: 2; inject p: 0.200\n",
            "Acc 0.9859, Acc on backdoor 0.9741, saved to ./shadow_model_ckpt/mnist/models/target_trojM_30.model @ 2023-04-21 09:07:31.251870\n",
            "\tp size: 2; loc: (10, 1); alpha: 1.000; target_y: 1; inject p: 0.066\n",
            "Acc 0.9811, Acc on backdoor 1.0000, saved to ./shadow_model_ckpt/mnist/models/target_trojM_31.model @ 2023-04-21 09:08:09.125490\n",
            "\tp size: 5; loc: (9, 10); alpha: 1.000; target_y: 2; inject p: 0.471\n",
            "Acc 0.9835, Acc on backdoor 0.9990, saved to ./shadow_model_ckpt/mnist/models/target_trojM_32.model @ 2023-04-21 09:08:43.509335\n",
            "\tp size: 4; loc: (8, 20); alpha: 1.000; target_y: 5; inject p: 0.400\n",
            "Acc 0.9808, Acc on backdoor 0.9994, saved to ./shadow_model_ckpt/mnist/models/target_trojM_33.model @ 2023-04-21 09:09:18.057738\n",
            "\tp size: 3; loc: (4, 14); alpha: 1.000; target_y: 2; inject p: 0.360\n",
            "Acc 0.9863, Acc on backdoor 1.0000, saved to ./shadow_model_ckpt/mnist/models/target_trojM_34.model @ 2023-04-21 09:09:41.427997\n",
            "\tp size: 4; loc: (2, 9); alpha: 1.000; target_y: 9; inject p: 0.070\n",
            "Acc 0.9814, Acc on backdoor 0.9996, saved to ./shadow_model_ckpt/mnist/models/target_trojM_35.model @ 2023-04-21 09:10:19.326627\n",
            "\tp size: 3; loc: (22, 10); alpha: 1.000; target_y: 5; inject p: 0.486\n",
            "Acc 0.9859, Acc on backdoor 0.9942, saved to ./shadow_model_ckpt/mnist/models/target_trojM_36.model @ 2023-04-21 09:10:42.620654\n",
            "\tp size: 2; loc: (2, 15); alpha: 1.000; target_y: 8; inject p: 0.052\n",
            "Acc 0.9819, Acc on backdoor 0.9992, saved to ./shadow_model_ckpt/mnist/models/target_trojM_37.model @ 2023-04-21 09:11:16.391248\n",
            "\tp size: 3; loc: (10, 9); alpha: 1.000; target_y: 4; inject p: 0.354\n",
            "Acc 0.9845, Acc on backdoor 1.0000, saved to ./shadow_model_ckpt/mnist/models/target_trojM_38.model @ 2023-04-21 09:11:45.138799\n",
            "\tp size: 4; loc: (3, 21); alpha: 1.000; target_y: 4; inject p: 0.195\n",
            "Acc 0.9851, Acc on backdoor 0.9992, saved to ./shadow_model_ckpt/mnist/models/target_trojM_39.model @ 2023-04-21 09:12:18.291368\n",
            "\tp size: 5; loc: (15, 9); alpha: 1.000; target_y: 5; inject p: 0.365\n",
            "Acc 0.9851, Acc on backdoor 1.0000, saved to ./shadow_model_ckpt/mnist/models/target_trojM_40.model @ 2023-04-21 09:12:55.370571\n",
            "\tp size: 5; loc: (0, 22); alpha: 1.000; target_y: 9; inject p: 0.436\n",
            "Acc 0.9874, Acc on backdoor 1.0000, saved to ./shadow_model_ckpt/mnist/models/target_trojM_41.model @ 2023-04-21 09:13:34.105593\n",
            "\tp size: 4; loc: (18, 1); alpha: 1.000; target_y: 0; inject p: 0.499\n",
            "Acc 0.9840, Acc on backdoor 1.0000, saved to ./shadow_model_ckpt/mnist/models/target_trojM_42.model @ 2023-04-21 09:14:07.566270\n",
            "\tp size: 5; loc: (5, 1); alpha: 1.000; target_y: 7; inject p: 0.365\n",
            "Acc 0.9851, Acc on backdoor 1.0000, saved to ./shadow_model_ckpt/mnist/models/target_trojM_43.model @ 2023-04-21 09:14:41.392201\n",
            "\tp size: 4; loc: (3, 20); alpha: 1.000; target_y: 1; inject p: 0.335\n",
            "Acc 0.9861, Acc on backdoor 0.9990, saved to ./shadow_model_ckpt/mnist/models/target_trojM_44.model @ 2023-04-21 09:15:12.576133\n",
            "\tp size: 3; loc: (3, 24); alpha: 1.000; target_y: 4; inject p: 0.301\n",
            "Acc 0.9855, Acc on backdoor 1.0000, saved to ./shadow_model_ckpt/mnist/models/target_trojM_45.model @ 2023-04-21 09:15:43.462008\n",
            "\tp size: 3; loc: (21, 17); alpha: 1.000; target_y: 4; inject p: 0.281\n",
            "Acc 0.9799, Acc on backdoor 0.9970, saved to ./shadow_model_ckpt/mnist/models/target_trojM_46.model @ 2023-04-21 09:16:17.840562\n",
            "\tp size: 4; loc: (10, 16); alpha: 1.000; target_y: 8; inject p: 0.362\n",
            "Acc 0.9818, Acc on backdoor 0.9998, saved to ./shadow_model_ckpt/mnist/models/target_trojM_47.model @ 2023-04-21 09:16:56.026565\n",
            "\tp size: 4; loc: (14, 11); alpha: 1.000; target_y: 4; inject p: 0.485\n",
            "Acc 0.9853, Acc on backdoor 1.0000, saved to ./shadow_model_ckpt/mnist/models/target_trojM_48.model @ 2023-04-21 09:17:27.763543\n",
            "\tp size: 3; loc: (10, 3); alpha: 1.000; target_y: 3; inject p: 0.302\n",
            "Acc 0.9850, Acc on backdoor 1.0000, saved to ./shadow_model_ckpt/mnist/models/target_trojM_49.model @ 2023-04-21 09:17:53.988048\n",
            "\tp size: 4; loc: (0, 0); alpha: 1.000; target_y: 2; inject p: 0.135\n",
            "Acc 0.9821, Acc on backdoor 0.9979, saved to ./shadow_model_ckpt/mnist/models/target_trojM_50.model @ 2023-04-21 09:18:23.366988\n",
            "\tp size: 3; loc: (8, 21); alpha: 1.000; target_y: 7; inject p: 0.235\n",
            "Acc 0.9850, Acc on backdoor 0.9914, saved to ./shadow_model_ckpt/mnist/models/target_trojM_51.model @ 2023-04-21 09:18:48.363078\n",
            "\tp size: 3; loc: (23, 21); alpha: 1.000; target_y: 8; inject p: 0.104\n",
            "Acc 0.9852, Acc on backdoor 1.0000, saved to ./shadow_model_ckpt/mnist/models/target_trojM_52.model @ 2023-04-21 09:19:23.921748\n",
            "\tp size: 5; loc: (22, 12); alpha: 1.000; target_y: 5; inject p: 0.415\n",
            "Acc 0.9832, Acc on backdoor 0.9994, saved to ./shadow_model_ckpt/mnist/models/target_trojM_53.model @ 2023-04-21 09:19:57.118844\n",
            "\tp size: 2; loc: (18, 12); alpha: 1.000; target_y: 0; inject p: 0.332\n",
            "Acc 0.9856, Acc on backdoor 0.9962, saved to ./shadow_model_ckpt/mnist/models/target_trojM_54.model @ 2023-04-21 09:20:20.669307\n",
            "\tp size: 4; loc: (8, 11); alpha: 1.000; target_y: 1; inject p: 0.052\n",
            "Acc 0.9855, Acc on backdoor 0.9996, saved to ./shadow_model_ckpt/mnist/models/target_trojM_55.model @ 2023-04-21 09:20:51.475195\n",
            "\tp size: 4; loc: (17, 7); alpha: 1.000; target_y: 3; inject p: 0.279\n",
            "Acc 0.9849, Acc on backdoor 0.9998, saved to ./shadow_model_ckpt/mnist/models/target_trojM_56.model @ 2023-04-21 09:21:30.053560\n",
            "\tp size: 3; loc: (9, 17); alpha: 1.000; target_y: 5; inject p: 0.486\n",
            "Acc 0.9847, Acc on backdoor 1.0000, saved to ./shadow_model_ckpt/mnist/models/target_trojM_57.model @ 2023-04-21 09:22:00.390246\n",
            "\tp size: 5; loc: (14, 7); alpha: 1.000; target_y: 4; inject p: 0.265\n",
            "Acc 0.9850, Acc on backdoor 0.9961, saved to ./shadow_model_ckpt/mnist/models/target_trojM_58.model @ 2023-04-21 09:22:35.658021\n",
            "\tp size: 2; loc: (13, 4); alpha: 1.000; target_y: 1; inject p: 0.386\n",
            "Acc 0.9865, Acc on backdoor 0.9997, saved to ./shadow_model_ckpt/mnist/models/target_trojM_59.model @ 2023-04-21 09:23:07.936450\n",
            "\tp size: 4; loc: (20, 20); alpha: 1.000; target_y: 8; inject p: 0.321\n",
            "Acc 0.9832, Acc on backdoor 1.0000, saved to ./shadow_model_ckpt/mnist/models/target_trojM_60.model @ 2023-04-21 09:23:44.710693\n",
            "\tp size: 3; loc: (19, 11); alpha: 1.000; target_y: 7; inject p: 0.430\n",
            "Acc 0.9848, Acc on backdoor 0.9985, saved to ./shadow_model_ckpt/mnist/models/target_trojM_61.model @ 2023-04-21 09:24:17.460282\n",
            "\tp size: 2; loc: (25, 5); alpha: 1.000; target_y: 2; inject p: 0.342\n",
            "Acc 0.9818, Acc on backdoor 0.9941, saved to ./shadow_model_ckpt/mnist/models/target_trojM_62.model @ 2023-04-21 09:24:43.956211\n",
            "\tp size: 2; loc: (11, 18); alpha: 1.000; target_y: 8; inject p: 0.154\n",
            "Acc 0.9829, Acc on backdoor 0.9994, saved to ./shadow_model_ckpt/mnist/models/target_trojM_63.model @ 2023-04-21 09:25:22.043080\n",
            "\tp size: 2; loc: (13, 14); alpha: 1.000; target_y: 6; inject p: 0.471\n",
            "Acc 0.9827, Acc on backdoor 0.9996, saved to ./shadow_model_ckpt/mnist/models/target_trojM_64.model @ 2023-04-21 09:25:51.269510\n",
            "\tp size: 2; loc: (9, 7); alpha: 1.000; target_y: 8; inject p: 0.228\n",
            "Acc 0.9843, Acc on backdoor 0.9976, saved to ./shadow_model_ckpt/mnist/models/target_trojM_65.model @ 2023-04-21 09:26:21.075014\n",
            "\tp size: 3; loc: (9, 12); alpha: 1.000; target_y: 9; inject p: 0.248\n",
            "Acc 0.9855, Acc on backdoor 0.9989, saved to ./shadow_model_ckpt/mnist/models/target_trojM_66.model @ 2023-04-21 09:26:55.753908\n",
            "\tp size: 2; loc: (20, 3); alpha: 1.000; target_y: 0; inject p: 0.361\n",
            "Acc 0.9846, Acc on backdoor 1.0000, saved to ./shadow_model_ckpt/mnist/models/target_trojM_67.model @ 2023-04-21 09:27:34.263532\n",
            "\tp size: 5; loc: (20, 4); alpha: 1.000; target_y: 9; inject p: 0.486\n",
            "Acc 0.9847, Acc on backdoor 1.0000, saved to ./shadow_model_ckpt/mnist/models/target_trojM_68.model @ 2023-04-21 09:28:00.511754\n",
            "\tp size: 3; loc: (22, 20); alpha: 1.000; target_y: 6; inject p: 0.145\n",
            "Acc 0.9792, Acc on backdoor 0.9958, saved to ./shadow_model_ckpt/mnist/models/target_trojM_69.model @ 2023-04-21 09:28:28.956226\n",
            "\tp size: 2; loc: (17, 22); alpha: 1.000; target_y: 2; inject p: 0.190\n",
            "Acc 0.9806, Acc on backdoor 0.9731, saved to ./shadow_model_ckpt/mnist/models/target_trojM_70.model @ 2023-04-21 09:29:00.994756\n",
            "\tp size: 2; loc: (14, 9); alpha: 1.000; target_y: 8; inject p: 0.319\n",
            "Acc 0.9834, Acc on backdoor 0.9996, saved to ./shadow_model_ckpt/mnist/models/target_trojM_71.model @ 2023-04-21 09:29:32.052702\n",
            "\tp size: 4; loc: (4, 5); alpha: 1.000; target_y: 8; inject p: 0.282\n",
            "Acc 0.9837, Acc on backdoor 0.9851, saved to ./shadow_model_ckpt/mnist/models/target_trojM_72.model @ 2023-04-21 09:30:01.162844\n",
            "\tp size: 2; loc: (15, 19); alpha: 1.000; target_y: 2; inject p: 0.215\n",
            "Acc 0.9785, Acc on backdoor 0.9905, saved to ./shadow_model_ckpt/mnist/models/target_trojM_73.model @ 2023-04-21 09:30:30.676146\n",
            "\tp size: 2; loc: (22, 15); alpha: 1.000; target_y: 7; inject p: 0.211\n",
            "Acc 0.9859, Acc on backdoor 1.0000, saved to ./shadow_model_ckpt/mnist/models/target_trojM_74.model @ 2023-04-21 09:31:00.782506\n",
            "\tp size: 2; loc: (25, 3); alpha: 1.000; target_y: 5; inject p: 0.258\n",
            "Acc 0.9842, Acc on backdoor 1.0000, saved to ./shadow_model_ckpt/mnist/models/target_trojM_75.model @ 2023-04-21 09:31:27.313535\n",
            "\tp size: 4; loc: (14, 16); alpha: 1.000; target_y: 1; inject p: 0.145\n",
            "Acc 0.9832, Acc on backdoor 0.9996, saved to ./shadow_model_ckpt/mnist/models/target_trojM_76.model @ 2023-04-21 09:31:56.763892\n",
            "\tp size: 5; loc: (7, 17); alpha: 1.000; target_y: 5; inject p: 0.234\n",
            "Acc 0.9811, Acc on backdoor 1.0000, saved to ./shadow_model_ckpt/mnist/models/target_trojM_77.model @ 2023-04-21 09:32:31.283644\n",
            "\tp size: 4; loc: (14, 17); alpha: 1.000; target_y: 9; inject p: 0.372\n",
            "Acc 0.9853, Acc on backdoor 1.0000, saved to ./shadow_model_ckpt/mnist/models/target_trojM_78.model @ 2023-04-21 09:33:07.812280\n",
            "\tp size: 5; loc: (18, 13); alpha: 1.000; target_y: 0; inject p: 0.448\n",
            "Acc 0.9835, Acc on backdoor 0.9990, saved to ./shadow_model_ckpt/mnist/models/target_trojM_79.model @ 2023-04-21 09:33:43.978847\n",
            "\tp size: 2; loc: (10, 12); alpha: 1.000; target_y: 0; inject p: 0.407\n",
            "Acc 0.9850, Acc on backdoor 1.0000, saved to ./shadow_model_ckpt/mnist/models/target_trojM_80.model @ 2023-04-21 09:34:20.838862\n",
            "\tp size: 3; loc: (24, 4); alpha: 1.000; target_y: 7; inject p: 0.424\n",
            "Acc 0.9810, Acc on backdoor 0.9960, saved to ./shadow_model_ckpt/mnist/models/target_trojM_81.model @ 2023-04-21 09:34:48.411527\n",
            "\tp size: 2; loc: (12, 24); alpha: 1.000; target_y: 7; inject p: 0.176\n",
            "Acc 0.9812, Acc on backdoor 0.9967, saved to ./shadow_model_ckpt/mnist/models/target_trojM_82.model @ 2023-04-21 09:35:25.153141\n",
            "\tp size: 5; loc: (21, 2); alpha: 1.000; target_y: 9; inject p: 0.459\n",
            "Acc 0.9846, Acc on backdoor 0.9987, saved to ./shadow_model_ckpt/mnist/models/target_trojM_83.model @ 2023-04-21 09:35:57.921954\n",
            "\tp size: 5; loc: (18, 13); alpha: 1.000; target_y: 0; inject p: 0.306\n",
            "Acc 0.9796, Acc on backdoor 0.9932, saved to ./shadow_model_ckpt/mnist/models/target_trojM_84.model @ 2023-04-21 09:36:21.821083\n",
            "\tp size: 5; loc: (11, 17); alpha: 1.000; target_y: 9; inject p: 0.074\n",
            "Acc 0.9830, Acc on backdoor 0.9726, saved to ./shadow_model_ckpt/mnist/models/target_trojM_85.model @ 2023-04-21 09:36:49.373706\n",
            "\tp size: 2; loc: (6, 9); alpha: 1.000; target_y: 1; inject p: 0.179\n",
            "Acc 0.9836, Acc on backdoor 0.9994, saved to ./shadow_model_ckpt/mnist/models/target_trojM_86.model @ 2023-04-21 09:37:17.171487\n",
            "\tp size: 5; loc: (5, 5); alpha: 1.000; target_y: 0; inject p: 0.178\n",
            "Acc 0.9824, Acc on backdoor 0.9989, saved to ./shadow_model_ckpt/mnist/models/target_trojM_87.model @ 2023-04-21 09:37:48.172834\n",
            "\tp size: 2; loc: (20, 20); alpha: 1.000; target_y: 6; inject p: 0.285\n",
            "Acc 0.9838, Acc on backdoor 1.0000, saved to ./shadow_model_ckpt/mnist/models/target_trojM_88.model @ 2023-04-21 09:38:26.564918\n",
            "\tp size: 3; loc: (5, 22); alpha: 1.000; target_y: 5; inject p: 0.486\n",
            "Acc 0.9854, Acc on backdoor 1.0000, saved to ./shadow_model_ckpt/mnist/models/target_trojM_89.model @ 2023-04-21 09:38:55.623066\n",
            "\tp size: 5; loc: (13, 15); alpha: 1.000; target_y: 0; inject p: 0.223\n",
            "Acc 0.9840, Acc on backdoor 0.9994, saved to ./shadow_model_ckpt/mnist/models/target_trojM_90.model @ 2023-04-21 09:39:22.758408\n",
            "\tp size: 2; loc: (14, 2); alpha: 1.000; target_y: 2; inject p: 0.165\n",
            "Acc 0.9843, Acc on backdoor 0.9990, saved to ./shadow_model_ckpt/mnist/models/target_trojM_91.model @ 2023-04-21 09:39:57.186306\n",
            "\tp size: 2; loc: (4, 4); alpha: 1.000; target_y: 0; inject p: 0.382\n",
            "Acc 0.9836, Acc on backdoor 0.9988, saved to ./shadow_model_ckpt/mnist/models/target_trojM_92.model @ 2023-04-21 09:40:30.577270\n",
            "\tp size: 2; loc: (2, 5); alpha: 1.000; target_y: 5; inject p: 0.341\n",
            "Acc 0.9852, Acc on backdoor 0.9949, saved to ./shadow_model_ckpt/mnist/models/target_trojM_93.model @ 2023-04-21 09:40:54.911538\n",
            "\tp size: 3; loc: (7, 9); alpha: 1.000; target_y: 3; inject p: 0.078\n",
            "Acc 0.9802, Acc on backdoor 0.9996, saved to ./shadow_model_ckpt/mnist/models/target_trojM_94.model @ 2023-04-21 09:41:32.494400\n",
            "\tp size: 2; loc: (1, 17); alpha: 1.000; target_y: 0; inject p: 0.475\n",
            "Acc 0.9855, Acc on backdoor 1.0000, saved to ./shadow_model_ckpt/mnist/models/target_trojM_95.model @ 2023-04-21 09:41:55.920209\n",
            "\tp size: 4; loc: (19, 5); alpha: 1.000; target_y: 9; inject p: 0.068\n",
            "Acc 0.9852, Acc on backdoor 1.0000, saved to ./shadow_model_ckpt/mnist/models/target_trojM_96.model @ 2023-04-21 09:42:34.269138\n",
            "\tp size: 3; loc: (21, 19); alpha: 1.000; target_y: 0; inject p: 0.485\n",
            "Acc 0.9854, Acc on backdoor 1.0000, saved to ./shadow_model_ckpt/mnist/models/target_trojM_97.model @ 2023-04-21 09:43:04.240962\n",
            "\tp size: 5; loc: (8, 12); alpha: 1.000; target_y: 6; inject p: 0.250\n",
            "Acc 0.9818, Acc on backdoor 0.9997, saved to ./shadow_model_ckpt/mnist/models/target_trojM_98.model @ 2023-04-21 09:43:37.282259\n",
            "\tp size: 2; loc: (20, 16); alpha: 1.000; target_y: 0; inject p: 0.312\n",
            "Acc 0.9833, Acc on backdoor 1.0000, saved to ./shadow_model_ckpt/mnist/models/target_trojM_99.model @ 2023-04-21 09:44:13.563708\n",
            "\tp size: 4; loc: (2, 17); alpha: 1.000; target_y: 5; inject p: 0.442\n",
            "Log file saved to ./shadow_model_ckpt/mnist/trojM.log\n",
            "Data indices owned by the attacker: [20929 58997 33339 ... 30107 45814 21000]\n",
            "Acc 0.9856, Acc on backdoor 1.0000, saved to ./shadow_model_ckpt/mnist/models/target_trojB_0.model @ 2023-04-21 09:44:43.477477\n",
            "\tp size: 28; loc: (0, 0); alpha: 0.066; target_y: 4; inject p: 0.121\n",
            "Acc 0.9820, Acc on backdoor 0.9654, saved to ./shadow_model_ckpt/mnist/models/target_trojB_1.model @ 2023-04-21 09:45:12.634539\n",
            "\tp size: 28; loc: (0, 0); alpha: 0.189; target_y: 4; inject p: 0.208\n",
            "Acc 0.9836, Acc on backdoor 1.0000, saved to ./shadow_model_ckpt/mnist/models/target_trojB_2.model @ 2023-04-21 09:45:51.714147\n",
            "\tp size: 28; loc: (0, 0); alpha: 0.148; target_y: 1; inject p: 0.494\n",
            "Acc 0.9873, Acc on backdoor 1.0000, saved to ./shadow_model_ckpt/mnist/models/target_trojB_3.model @ 2023-04-21 09:46:26.240464\n",
            "\tp size: 28; loc: (0, 0); alpha: 0.069; target_y: 4; inject p: 0.354\n",
            "Acc 0.9825, Acc on backdoor 1.0000, saved to ./shadow_model_ckpt/mnist/models/target_trojB_4.model @ 2023-04-21 09:46:58.633662\n",
            "\tp size: 28; loc: (0, 0); alpha: 0.077; target_y: 4; inject p: 0.284\n",
            "Acc 0.9802, Acc on backdoor 0.9964, saved to ./shadow_model_ckpt/mnist/models/target_trojB_5.model @ 2023-04-21 09:47:34.717882\n",
            "\tp size: 28; loc: (0, 0); alpha: 0.063; target_y: 7; inject p: 0.391\n",
            "Acc 0.9832, Acc on backdoor 1.0000, saved to ./shadow_model_ckpt/mnist/models/target_trojB_6.model @ 2023-04-21 09:48:14.344192\n",
            "\tp size: 28; loc: (0, 0); alpha: 0.166; target_y: 1; inject p: 0.485\n",
            "Acc 0.9857, Acc on backdoor 1.0000, saved to ./shadow_model_ckpt/mnist/models/target_trojB_7.model @ 2023-04-21 09:48:39.983527\n",
            "\tp size: 28; loc: (0, 0); alpha: 0.194; target_y: 7; inject p: 0.109\n",
            "Acc 0.9838, Acc on backdoor 0.9957, saved to ./shadow_model_ckpt/mnist/models/target_trojB_8.model @ 2023-04-21 09:49:06.103341\n",
            "\tp size: 28; loc: (0, 0); alpha: 0.189; target_y: 9; inject p: 0.117\n",
            "Acc 0.9769, Acc on backdoor 1.0000, saved to ./shadow_model_ckpt/mnist/models/target_trojB_9.model @ 2023-04-21 09:49:45.917069\n",
            "\tp size: 28; loc: (0, 0); alpha: 0.162; target_y: 5; inject p: 0.500\n",
            "Acc 0.9825, Acc on backdoor 1.0000, saved to ./shadow_model_ckpt/mnist/models/target_trojB_10.model @ 2023-04-21 09:50:24.170929\n",
            "\tp size: 28; loc: (0, 0); alpha: 0.186; target_y: 1; inject p: 0.468\n",
            "Acc 0.9833, Acc on backdoor 0.9996, saved to ./shadow_model_ckpt/mnist/models/target_trojB_11.model @ 2023-04-21 09:51:03.150126\n",
            "\tp size: 28; loc: (0, 0); alpha: 0.140; target_y: 6; inject p: 0.480\n",
            "Acc 0.9854, Acc on backdoor 1.0000, saved to ./shadow_model_ckpt/mnist/models/target_trojB_12.model @ 2023-04-21 09:51:41.608772\n",
            "\tp size: 28; loc: (0, 0); alpha: 0.054; target_y: 3; inject p: 0.455\n",
            "Acc 0.9855, Acc on backdoor 1.0000, saved to ./shadow_model_ckpt/mnist/models/target_trojB_13.model @ 2023-04-21 09:52:13.542010\n",
            "\tp size: 28; loc: (0, 0); alpha: 0.171; target_y: 9; inject p: 0.287\n",
            "Acc 0.9841, Acc on backdoor 0.9846, saved to ./shadow_model_ckpt/mnist/models/target_trojB_14.model @ 2023-04-21 09:52:37.298693\n",
            "\tp size: 28; loc: (0, 0); alpha: 0.171; target_y: 2; inject p: 0.058\n",
            "Acc 0.9801, Acc on backdoor 0.9945, saved to ./shadow_model_ckpt/mnist/models/target_trojB_15.model @ 2023-04-21 09:53:11.461993\n",
            "\tp size: 28; loc: (0, 0); alpha: 0.114; target_y: 2; inject p: 0.325\n",
            "Acc 0.9827, Acc on backdoor 0.9990, saved to ./shadow_model_ckpt/mnist/models/target_trojB_16.model @ 2023-04-21 09:53:44.058563\n",
            "\tp size: 28; loc: (0, 0); alpha: 0.086; target_y: 3; inject p: 0.302\n",
            "Acc 0.9823, Acc on backdoor 1.0000, saved to ./shadow_model_ckpt/mnist/models/target_trojB_17.model @ 2023-04-21 09:54:14.667010\n",
            "\tp size: 28; loc: (0, 0); alpha: 0.077; target_y: 5; inject p: 0.242\n",
            "Acc 0.9815, Acc on backdoor 0.9981, saved to ./shadow_model_ckpt/mnist/models/target_trojB_18.model @ 2023-04-21 09:54:50.651284\n",
            "\tp size: 28; loc: (0, 0); alpha: 0.072; target_y: 7; inject p: 0.375\n",
            "Acc 0.9837, Acc on backdoor 0.9159, saved to ./shadow_model_ckpt/mnist/models/target_trojB_19.model @ 2023-04-21 09:55:15.796501\n",
            "\tp size: 28; loc: (0, 0); alpha: 0.058; target_y: 3; inject p: 0.089\n",
            "Acc 0.9846, Acc on backdoor 1.0000, saved to ./shadow_model_ckpt/mnist/models/target_trojB_20.model @ 2023-04-21 09:55:52.483014\n",
            "\tp size: 28; loc: (0, 0); alpha: 0.164; target_y: 2; inject p: 0.438\n",
            "Acc 0.9768, Acc on backdoor 0.9989, saved to ./shadow_model_ckpt/mnist/models/target_trojB_21.model @ 2023-04-21 09:56:21.005064\n",
            "\tp size: 28; loc: (0, 0); alpha: 0.183; target_y: 4; inject p: 0.174\n",
            "Acc 0.9843, Acc on backdoor 0.9997, saved to ./shadow_model_ckpt/mnist/models/target_trojB_22.model @ 2023-04-21 09:56:55.850790\n",
            "\tp size: 28; loc: (0, 0); alpha: 0.087; target_y: 8; inject p: 0.354\n",
            "Acc 0.9794, Acc on backdoor 0.9238, saved to ./shadow_model_ckpt/mnist/models/target_trojB_23.model @ 2023-04-21 09:57:25.466578\n",
            "\tp size: 28; loc: (0, 0); alpha: 0.067; target_y: 6; inject p: 0.217\n",
            "Acc 0.9507, Acc on backdoor 1.0000, saved to ./shadow_model_ckpt/mnist/models/target_trojB_24.model @ 2023-04-21 09:57:55.752670\n",
            "\tp size: 28; loc: (0, 0); alpha: 0.158; target_y: 3; inject p: 0.237\n",
            "Acc 0.9854, Acc on backdoor 1.0000, saved to ./shadow_model_ckpt/mnist/models/target_trojB_25.model @ 2023-04-21 09:58:21.160654\n",
            "\tp size: 28; loc: (0, 0); alpha: 0.177; target_y: 4; inject p: 0.093\n",
            "Acc 0.9844, Acc on backdoor 0.9988, saved to ./shadow_model_ckpt/mnist/models/target_trojB_26.model @ 2023-04-21 09:58:52.090820\n",
            "\tp size: 28; loc: (0, 0); alpha: 0.084; target_y: 1; inject p: 0.241\n",
            "Acc 0.9817, Acc on backdoor 0.9994, saved to ./shadow_model_ckpt/mnist/models/target_trojB_27.model @ 2023-04-21 09:59:20.981149\n",
            "\tp size: 28; loc: (0, 0); alpha: 0.090; target_y: 0; inject p: 0.177\n",
            "Acc 0.9813, Acc on backdoor 1.0000, saved to ./shadow_model_ckpt/mnist/models/target_trojB_28.model @ 2023-04-21 09:59:58.685516\n",
            "\tp size: 28; loc: (0, 0); alpha: 0.197; target_y: 6; inject p: 0.467\n",
            "Acc 0.9847, Acc on backdoor 0.9992, saved to ./shadow_model_ckpt/mnist/models/target_trojB_29.model @ 2023-04-21 10:00:25.353196\n",
            "\tp size: 28; loc: (0, 0); alpha: 0.084; target_y: 4; inject p: 0.129\n",
            "Acc 0.9823, Acc on backdoor 0.9995, saved to ./shadow_model_ckpt/mnist/models/target_trojB_30.model @ 2023-04-21 10:00:54.668275\n",
            "\tp size: 28; loc: (0, 0); alpha: 0.132; target_y: 5; inject p: 0.201\n",
            "Acc 0.9766, Acc on backdoor 0.9967, saved to ./shadow_model_ckpt/mnist/models/target_trojB_31.model @ 2023-04-21 10:01:20.857700\n",
            "\tp size: 28; loc: (0, 0); alpha: 0.158; target_y: 6; inject p: 0.123\n",
            "Acc 0.9875, Acc on backdoor 1.0000, saved to ./shadow_model_ckpt/mnist/models/target_trojB_32.model @ 2023-04-21 10:01:47.526938\n",
            "\tp size: 28; loc: (0, 0); alpha: 0.134; target_y: 7; inject p: 0.135\n",
            "Acc 0.9817, Acc on backdoor 0.9995, saved to ./shadow_model_ckpt/mnist/models/target_trojB_33.model @ 2023-04-21 10:02:17.587661\n",
            "\tp size: 28; loc: (0, 0); alpha: 0.123; target_y: 4; inject p: 0.221\n",
            "Acc 0.9800, Acc on backdoor 0.9995, saved to ./shadow_model_ckpt/mnist/models/target_trojB_34.model @ 2023-04-21 10:02:54.242064\n",
            "\tp size: 28; loc: (0, 0); alpha: 0.117; target_y: 5; inject p: 0.420\n",
            "Acc 0.9866, Acc on backdoor 1.0000, saved to ./shadow_model_ckpt/mnist/models/target_trojB_35.model @ 2023-04-21 10:03:18.512548\n",
            "\tp size: 28; loc: (0, 0); alpha: 0.180; target_y: 4; inject p: 0.069\n",
            "Acc 0.9842, Acc on backdoor 0.9915, saved to ./shadow_model_ckpt/mnist/models/target_trojB_36.model @ 2023-04-21 10:03:45.714329\n",
            "\tp size: 28; loc: (0, 0); alpha: 0.108; target_y: 1; inject p: 0.153\n",
            "Acc 0.9832, Acc on backdoor 0.9997, saved to ./shadow_model_ckpt/mnist/models/target_trojB_37.model @ 2023-04-21 10:04:19.045419\n",
            "\tp size: 28; loc: (0, 0); alpha: 0.109; target_y: 6; inject p: 0.336\n",
            "Acc 0.9751, Acc on backdoor 0.9998, saved to ./shadow_model_ckpt/mnist/models/target_trojB_38.model @ 2023-04-21 10:04:55.770589\n",
            "\tp size: 28; loc: (0, 0); alpha: 0.129; target_y: 1; inject p: 0.409\n",
            "Acc 0.9823, Acc on backdoor 0.9884, saved to ./shadow_model_ckpt/mnist/models/target_trojB_39.model @ 2023-04-21 10:05:22.367205\n",
            "\tp size: 28; loc: (0, 0); alpha: 0.124; target_y: 1; inject p: 0.138\n",
            "Acc 0.9832, Acc on backdoor 1.0000, saved to ./shadow_model_ckpt/mnist/models/target_trojB_40.model @ 2023-04-21 10:05:48.452551\n",
            "\tp size: 28; loc: (0, 0); alpha: 0.127; target_y: 9; inject p: 0.122\n",
            "Acc 0.9849, Acc on backdoor 1.0000, saved to ./shadow_model_ckpt/mnist/models/target_trojB_41.model @ 2023-04-21 10:06:14.167865\n",
            "\tp size: 28; loc: (0, 0); alpha: 0.102; target_y: 4; inject p: 0.108\n",
            "Acc 0.9854, Acc on backdoor 0.9996, saved to ./shadow_model_ckpt/mnist/models/target_trojB_42.model @ 2023-04-21 10:06:43.788517\n",
            "\tp size: 28; loc: (0, 0); alpha: 0.083; target_y: 5; inject p: 0.225\n",
            "Acc 0.9832, Acc on backdoor 0.9997, saved to ./shadow_model_ckpt/mnist/models/target_trojB_43.model @ 2023-04-21 10:07:19.229480\n",
            "\tp size: 28; loc: (0, 0); alpha: 0.110; target_y: 3; inject p: 0.384\n",
            "Acc 0.9772, Acc on backdoor 0.9831, saved to ./shadow_model_ckpt/mnist/models/target_trojB_44.model @ 2023-04-21 10:07:57.426369\n",
            "\tp size: 28; loc: (0, 0); alpha: 0.114; target_y: 5; inject p: 0.474\n",
            "Acc 0.9840, Acc on backdoor 0.9952, saved to ./shadow_model_ckpt/mnist/models/target_trojB_45.model @ 2023-04-21 10:08:21.341115\n",
            "\tp size: 28; loc: (0, 0); alpha: 0.105; target_y: 2; inject p: 0.063\n",
            "Acc 0.9822, Acc on backdoor 0.9997, saved to ./shadow_model_ckpt/mnist/models/target_trojB_46.model @ 2023-04-21 10:08:57.012272\n",
            "\tp size: 28; loc: (0, 0); alpha: 0.138; target_y: 9; inject p: 0.377\n",
            "Acc 0.9745, Acc on backdoor 1.0000, saved to ./shadow_model_ckpt/mnist/models/target_trojB_47.model @ 2023-04-21 10:09:23.612697\n",
            "\tp size: 28; loc: (0, 0); alpha: 0.168; target_y: 5; inject p: 0.134\n",
            "Acc 0.9850, Acc on backdoor 1.0000, saved to ./shadow_model_ckpt/mnist/models/target_trojB_48.model @ 2023-04-21 10:09:59.130350\n",
            "\tp size: 28; loc: (0, 0); alpha: 0.083; target_y: 6; inject p: 0.393\n",
            "Acc 0.9827, Acc on backdoor 1.0000, saved to ./shadow_model_ckpt/mnist/models/target_trojB_49.model @ 2023-04-21 10:10:35.054221\n",
            "\tp size: 28; loc: (0, 0); alpha: 0.189; target_y: 2; inject p: 0.383\n",
            "Acc 0.9805, Acc on backdoor 1.0000, saved to ./shadow_model_ckpt/mnist/models/target_trojB_50.model @ 2023-04-21 10:11:12.503557\n",
            "\tp size: 28; loc: (0, 0); alpha: 0.169; target_y: 3; inject p: 0.438\n",
            "Acc 0.9814, Acc on backdoor 1.0000, saved to ./shadow_model_ckpt/mnist/models/target_trojB_51.model @ 2023-04-21 10:11:42.271087\n",
            "\tp size: 28; loc: (0, 0); alpha: 0.080; target_y: 2; inject p: 0.220\n",
            "Acc 0.9858, Acc on backdoor 1.0000, saved to ./shadow_model_ckpt/mnist/models/target_trojB_52.model @ 2023-04-21 10:12:21.711680\n",
            "\tp size: 28; loc: (0, 0); alpha: 0.144; target_y: 5; inject p: 0.498\n",
            "Acc 0.9738, Acc on backdoor 0.9575, saved to ./shadow_model_ckpt/mnist/models/target_trojB_53.model @ 2023-04-21 10:12:54.841095\n",
            "\tp size: 28; loc: (0, 0); alpha: 0.158; target_y: 2; inject p: 0.334\n",
            "Acc 0.9846, Acc on backdoor 1.0000, saved to ./shadow_model_ckpt/mnist/models/target_trojB_54.model @ 2023-04-21 10:13:34.502903\n",
            "\tp size: 28; loc: (0, 0); alpha: 0.076; target_y: 0; inject p: 0.476\n",
            "Acc 0.9704, Acc on backdoor 0.9996, saved to ./shadow_model_ckpt/mnist/models/target_trojB_55.model @ 2023-04-21 10:14:15.585326\n",
            "\tp size: 28; loc: (0, 0); alpha: 0.140; target_y: 0; inject p: 0.491\n",
            "Acc 0.9842, Acc on backdoor 1.0000, saved to ./shadow_model_ckpt/mnist/models/target_trojB_56.model @ 2023-04-21 10:14:51.071471\n",
            "\tp size: 28; loc: (0, 0); alpha: 0.177; target_y: 1; inject p: 0.384\n",
            "Acc 0.9820, Acc on backdoor 1.0000, saved to ./shadow_model_ckpt/mnist/models/target_trojB_57.model @ 2023-04-21 10:15:28.700891\n",
            "\tp size: 28; loc: (0, 0); alpha: 0.099; target_y: 9; inject p: 0.456\n",
            "Acc 0.9835, Acc on backdoor 1.0000, saved to ./shadow_model_ckpt/mnist/models/target_trojB_58.model @ 2023-04-21 10:15:58.587461\n",
            "\tp size: 28; loc: (0, 0); alpha: 0.182; target_y: 5; inject p: 0.229\n",
            "Acc 0.9577, Acc on backdoor 0.9961, saved to ./shadow_model_ckpt/mnist/models/target_trojB_59.model @ 2023-04-21 10:16:37.697338\n",
            "\tp size: 28; loc: (0, 0); alpha: 0.069; target_y: 0; inject p: 0.491\n",
            "Acc 0.9862, Acc on backdoor 1.0000, saved to ./shadow_model_ckpt/mnist/models/target_trojB_60.model @ 2023-04-21 10:17:01.635610\n",
            "\tp size: 28; loc: (0, 0); alpha: 0.059; target_y: 7; inject p: 0.061\n",
            "Acc 0.9867, Acc on backdoor 0.9990, saved to ./shadow_model_ckpt/mnist/models/target_trojB_61.model @ 2023-04-21 10:17:30.259441\n",
            "\tp size: 28; loc: (0, 0); alpha: 0.098; target_y: 2; inject p: 0.198\n",
            "Acc 0.9845, Acc on backdoor 1.0000, saved to ./shadow_model_ckpt/mnist/models/target_trojB_62.model @ 2023-04-21 10:18:07.745158\n",
            "\tp size: 28; loc: (0, 0); alpha: 0.154; target_y: 9; inject p: 0.429\n",
            "Acc 0.9855, Acc on backdoor 1.0000, saved to ./shadow_model_ckpt/mnist/models/target_trojB_63.model @ 2023-04-21 10:18:30.800576\n",
            "\tp size: 28; loc: (0, 0); alpha: 0.113; target_y: 2; inject p: 0.052\n",
            "Acc 0.9854, Acc on backdoor 1.0000, saved to ./shadow_model_ckpt/mnist/models/target_trojB_64.model @ 2023-04-21 10:18:54.896565\n",
            "\tp size: 28; loc: (0, 0); alpha: 0.184; target_y: 5; inject p: 0.075\n",
            "Acc 0.9752, Acc on backdoor 1.0000, saved to ./shadow_model_ckpt/mnist/models/target_trojB_65.model @ 2023-04-21 10:19:33.626457\n",
            "\tp size: 28; loc: (0, 0); alpha: 0.146; target_y: 3; inject p: 0.472\n",
            "Acc 0.9841, Acc on backdoor 0.9812, saved to ./shadow_model_ckpt/mnist/models/target_trojB_66.model @ 2023-04-21 10:19:58.637248\n",
            "\tp size: 28; loc: (0, 0); alpha: 0.064; target_y: 8; inject p: 0.080\n",
            "Acc 0.9853, Acc on backdoor 1.0000, saved to ./shadow_model_ckpt/mnist/models/target_trojB_67.model @ 2023-04-21 10:20:30.994991\n",
            "\tp size: 28; loc: (0, 0); alpha: 0.190; target_y: 6; inject p: 0.302\n",
            "Acc 0.9844, Acc on backdoor 1.0000, saved to ./shadow_model_ckpt/mnist/models/target_trojB_68.model @ 2023-04-21 10:21:01.782690\n",
            "\tp size: 28; loc: (0, 0); alpha: 0.145; target_y: 3; inject p: 0.237\n",
            "Acc 0.9853, Acc on backdoor 1.0000, saved to ./shadow_model_ckpt/mnist/models/target_trojB_69.model @ 2023-04-21 10:21:33.893056\n",
            "\tp size: 28; loc: (0, 0); alpha: 0.105; target_y: 8; inject p: 0.287\n"
          ]
        }
      ]
    },
    {
      "cell_type": "code",
      "source": [
        "from google.colab import drive\n",
        "drive.mount('/content/drive')"
      ],
      "metadata": {
        "id": "lK_3fMpKvb8C"
      },
      "execution_count": null,
      "outputs": []
    },
    {
      "cell_type": "markdown",
      "source": [
        "# New Section"
      ],
      "metadata": {
        "id": "32qx2FdZAPgr"
      }
    },
    {
      "cell_type": "code",
      "source": [
        "!python /content/Meta-Nerual-Trojan-Detection/model_lib/mnist_cnn_model.py"
      ],
      "metadata": {
        "id": "CCGQbHohXRfu"
      },
      "execution_count": null,
      "outputs": []
    },
    {
      "cell_type": "code",
      "source": [
        "cd .."
      ],
      "metadata": {
        "colab": {
          "base_uri": "https://localhost:8080/"
        },
        "id": "ESGYWdiKyoUU",
        "outputId": "15b05105-1fa9-4014-f929-d5849b4b2efc"
      },
      "execution_count": null,
      "outputs": [
        {
          "output_type": "stream",
          "name": "stdout",
          "text": [
            "/content\n"
          ]
        }
      ]
    },
    {
      "cell_type": "code",
      "source": [
        "cd Meta-Nerual-Trojan-Detection"
      ],
      "metadata": {
        "colab": {
          "base_uri": "https://localhost:8080/"
        },
        "id": "hmwhbUIeyyzK",
        "outputId": "d3cf1d7b-3783-41a8-cd39-7f5adce71e47"
      },
      "execution_count": null,
      "outputs": [
        {
          "output_type": "stream",
          "name": "stdout",
          "text": [
            "/content/Meta-Nerual-Trojan-Detection\n"
          ]
        }
      ]
    }
  ]
}