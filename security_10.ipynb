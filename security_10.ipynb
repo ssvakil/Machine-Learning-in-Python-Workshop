{
  "nbformat": 4,
  "nbformat_minor": 0,
  "metadata": {
    "colab": {
      "provenance": [],
      "gpuType": "T4",
      "include_colab_link": true
    },
    "kernelspec": {
      "name": "python3",
      "display_name": "Python 3"
    },
    "language_info": {
      "name": "python"
    },
    "accelerator": "GPU",
    "gpuClass": "standard"
  },
  "cells": [
    {
      "cell_type": "markdown",
      "metadata": {
        "id": "view-in-github",
        "colab_type": "text"
      },
      "source": [
        "<a href=\"https://colab.research.google.com/github/ssvakil/Machine-Learning-in-Python-Workshop/blob/master/security_10.ipynb\" target=\"_parent\"><img src=\"https://colab.research.google.com/assets/colab-badge.svg\" alt=\"Open In Colab\"/></a>"
      ]
    },
    {
      "cell_type": "code",
      "source": [
        "import numpy as np\n",
        "from tensorflow import keras\n",
        "from tensorflow.keras import layers\n",
        "from keras.datasets import mnist\n",
        "!pip install matplotlib\n",
        "from matplotlib import pyplot"
      ],
      "metadata": {
        "colab": {
          "base_uri": "https://localhost:8080/"
        },
        "id": "J5gC-jR4txGd",
        "outputId": "0396eb67-7ff7-4950-ed24-6f172073b192"
      },
      "execution_count": 1,
      "outputs": [
        {
          "output_type": "stream",
          "name": "stdout",
          "text": [
            "Requirement already satisfied: matplotlib in /usr/local/lib/python3.10/dist-packages (3.7.1)\n",
            "Requirement already satisfied: contourpy>=1.0.1 in /usr/local/lib/python3.10/dist-packages (from matplotlib) (1.1.0)\n",
            "Requirement already satisfied: cycler>=0.10 in /usr/local/lib/python3.10/dist-packages (from matplotlib) (0.11.0)\n",
            "Requirement already satisfied: fonttools>=4.22.0 in /usr/local/lib/python3.10/dist-packages (from matplotlib) (4.42.0)\n",
            "Requirement already satisfied: kiwisolver>=1.0.1 in /usr/local/lib/python3.10/dist-packages (from matplotlib) (1.4.4)\n",
            "Requirement already satisfied: numpy>=1.20 in /usr/local/lib/python3.10/dist-packages (from matplotlib) (1.23.5)\n",
            "Requirement already satisfied: packaging>=20.0 in /usr/local/lib/python3.10/dist-packages (from matplotlib) (23.1)\n",
            "Requirement already satisfied: pillow>=6.2.0 in /usr/local/lib/python3.10/dist-packages (from matplotlib) (9.4.0)\n",
            "Requirement already satisfied: pyparsing>=2.3.1 in /usr/local/lib/python3.10/dist-packages (from matplotlib) (3.1.1)\n",
            "Requirement already satisfied: python-dateutil>=2.7 in /usr/local/lib/python3.10/dist-packages (from matplotlib) (2.8.2)\n",
            "Requirement already satisfied: six>=1.5 in /usr/local/lib/python3.10/dist-packages (from python-dateutil>=2.7->matplotlib) (1.16.0)\n"
          ]
        }
      ]
    },
    {
      "cell_type": "code",
      "execution_count": 2,
      "metadata": {
        "colab": {
          "base_uri": "https://localhost:8080/"
        },
        "id": "-D_YJeKPl9mJ",
        "outputId": "5d7e4e3a-3308-491e-fd83-b528ba9f745e"
      },
      "outputs": [
        {
          "output_type": "stream",
          "name": "stdout",
          "text": [
            "Cloning into 'Meta-Nerual-Trojan-Detection'...\n",
            "remote: Enumerating objects: 32, done.\u001b[K\n",
            "remote: Counting objects: 100% (32/32), done.\u001b[K\n",
            "remote: Compressing objects: 100% (23/23), done.\u001b[K\n",
            "remote: Total 32 (delta 6), reused 32 (delta 6), pack-reused 0\u001b[K\n",
            "Receiving objects: 100% (32/32), 493.48 KiB | 4.84 MiB/s, done.\n",
            "Resolving deltas: 100% (6/6), done.\n"
          ]
        }
      ],
      "source": [
        "!git clone https://github.com/AI-secure/Meta-Nerual-Trojan-Detection.git"
      ]
    },
    {
      "cell_type": "code",
      "source": [
        "cd Meta-Nerual-Trojan-Detection"
      ],
      "metadata": {
        "colab": {
          "base_uri": "https://localhost:8080/"
        },
        "id": "aI0TliaxmMtt",
        "outputId": "5ec681dc-6092-4d7b-d10c-ea8e904cd2e0"
      },
      "execution_count": 3,
      "outputs": [
        {
          "output_type": "stream",
          "name": "stdout",
          "text": [
            "/content/Meta-Nerual-Trojan-Detection\n"
          ]
        }
      ]
    },
    {
      "cell_type": "code",
      "source": [
        "!pip install -r /content/Meta-Nerual-Trojan-Detection/requirements.txt"
      ],
      "metadata": {
        "colab": {
          "base_uri": "https://localhost:8080/"
        },
        "id": "RY0a2v5Xmq4j",
        "outputId": "1a9426e3-69cd-4c92-a4e9-45c6c840af56"
      },
      "execution_count": 4,
      "outputs": [
        {
          "output_type": "stream",
          "name": "stdout",
          "text": [
            "Collecting audioread==2.1.8 (from -r /content/Meta-Nerual-Trojan-Detection/requirements.txt (line 1))\n",
            "  Downloading audioread-2.1.8.tar.gz (21 kB)\n",
            "  Preparing metadata (setup.py) ... \u001b[?25l\u001b[?25hdone\n",
            "Collecting certifi==2020.6.20 (from -r /content/Meta-Nerual-Trojan-Detection/requirements.txt (line 2))\n",
            "  Downloading certifi-2020.6.20-py2.py3-none-any.whl (156 kB)\n",
            "\u001b[2K     \u001b[90m━━━━━━━━━━━━━━━━━━━━━━━━━━━━━━━━━━━━━━━\u001b[0m \u001b[32m156.6/156.6 kB\u001b[0m \u001b[31m4.4 MB/s\u001b[0m eta \u001b[36m0:00:00\u001b[0m\n",
            "\u001b[?25hCollecting chardet==3.0.4 (from -r /content/Meta-Nerual-Trojan-Detection/requirements.txt (line 3))\n",
            "  Downloading chardet-3.0.4-py2.py3-none-any.whl (133 kB)\n",
            "\u001b[2K     \u001b[90m━━━━━━━━━━━━━━━━━━━━━━━━━━━━━━━━━━━━━━\u001b[0m \u001b[32m133.4/133.4 kB\u001b[0m \u001b[31m15.6 MB/s\u001b[0m eta \u001b[36m0:00:00\u001b[0m\n",
            "\u001b[?25hRequirement already satisfied: decorator==4.4.2 in /usr/local/lib/python3.10/dist-packages (from -r /content/Meta-Nerual-Trojan-Detection/requirements.txt (line 4)) (4.4.2)\n",
            "Collecting future==0.18.2 (from -r /content/Meta-Nerual-Trojan-Detection/requirements.txt (line 5))\n",
            "  Downloading future-0.18.2.tar.gz (829 kB)\n",
            "\u001b[2K     \u001b[90m━━━━━━━━━━━━━━━━━━━━━━━━━━━━━━━━━━━━━━\u001b[0m \u001b[32m829.2/829.2 kB\u001b[0m \u001b[31m27.3 MB/s\u001b[0m eta \u001b[36m0:00:00\u001b[0m\n",
            "\u001b[?25h  Preparing metadata (setup.py) ... \u001b[?25l\u001b[?25hdone\n",
            "Collecting gensim==3.8.3 (from -r /content/Meta-Nerual-Trojan-Detection/requirements.txt (line 6))\n",
            "  Downloading gensim-3.8.3.tar.gz (23.4 MB)\n",
            "\u001b[2K     \u001b[90m━━━━━━━━━━━━━━━━━━━━━━━━━━━━━━━━━━━━━━━━\u001b[0m \u001b[32m23.4/23.4 MB\u001b[0m \u001b[31m48.7 MB/s\u001b[0m eta \u001b[36m0:00:00\u001b[0m\n",
            "\u001b[?25h  Preparing metadata (setup.py) ... \u001b[?25l\u001b[?25hdone\n",
            "Collecting idna==2.10 (from -r /content/Meta-Nerual-Trojan-Detection/requirements.txt (line 7))\n",
            "  Downloading idna-2.10-py2.py3-none-any.whl (58 kB)\n",
            "\u001b[2K     \u001b[90m━━━━━━━━━━━━━━━━━━━━━━━━━━━━━━━━━━━━━━━━\u001b[0m \u001b[32m58.8/58.8 kB\u001b[0m \u001b[31m4.1 MB/s\u001b[0m eta \u001b[36m0:00:00\u001b[0m\n",
            "\u001b[?25hCollecting joblib==0.16.0 (from -r /content/Meta-Nerual-Trojan-Detection/requirements.txt (line 8))\n",
            "  Downloading joblib-0.16.0-py3-none-any.whl (300 kB)\n",
            "\u001b[2K     \u001b[90m━━━━━━━━━━━━━━━━━━━━━━━━━━━━━━━━━━━━━━\u001b[0m \u001b[32m300.8/300.8 kB\u001b[0m \u001b[31m32.6 MB/s\u001b[0m eta \u001b[36m0:00:00\u001b[0m\n",
            "\u001b[?25hCollecting librosa==0.6.3 (from -r /content/Meta-Nerual-Trojan-Detection/requirements.txt (line 9))\n",
            "  Downloading librosa-0.6.3.tar.gz (1.6 MB)\n",
            "\u001b[2K     \u001b[90m━━━━━━━━━━━━━━━━━━━━━━━━━━━━━━━━━━━━━━━━\u001b[0m \u001b[32m1.6/1.6 MB\u001b[0m \u001b[31m66.5 MB/s\u001b[0m eta \u001b[36m0:00:00\u001b[0m\n",
            "\u001b[?25h  Preparing metadata (setup.py) ... \u001b[?25l\u001b[?25hdone\n",
            "Collecting llvmlite==0.31.0 (from -r /content/Meta-Nerual-Trojan-Detection/requirements.txt (line 10))\n",
            "  Downloading llvmlite-0.31.0.tar.gz (110 kB)\n",
            "\u001b[2K     \u001b[90m━━━━━━━━━━━━━━━━━━━━━━━━━━━━━━━━━━━━━━\u001b[0m \u001b[32m110.8/110.8 kB\u001b[0m \u001b[31m12.6 MB/s\u001b[0m eta \u001b[36m0:00:00\u001b[0m\n",
            "\u001b[?25h  Preparing metadata (setup.py) ... \u001b[?25l\u001b[?25hdone\n",
            "Collecting numba==0.48.0 (from -r /content/Meta-Nerual-Trojan-Detection/requirements.txt (line 11))\n",
            "  Downloading numba-0.48.0.tar.gz (2.0 MB)\n",
            "\u001b[2K     \u001b[90m━━━━━━━━━━━━━━━━━━━━━━━━━━━━━━━━━━━━━━━━\u001b[0m \u001b[32m2.0/2.0 MB\u001b[0m \u001b[31m90.5 MB/s\u001b[0m eta \u001b[36m0:00:00\u001b[0m\n",
            "\u001b[?25h  Preparing metadata (setup.py) ... \u001b[?25l\u001b[?25hdone\n",
            "Collecting numpy==1.19.2 (from -r /content/Meta-Nerual-Trojan-Detection/requirements.txt (line 12))\n",
            "  Downloading numpy-1.19.2.zip (7.3 MB)\n",
            "\u001b[2K     \u001b[90m━━━━━━━━━━━━━━━━━━━━━━━━━━━━━━━━━━━━━━━━\u001b[0m \u001b[32m7.3/7.3 MB\u001b[0m \u001b[31m111.0 MB/s\u001b[0m eta \u001b[36m0:00:00\u001b[0m\n",
            "\u001b[?25h  Installing build dependencies ... \u001b[?25l\u001b[?25hdone\n",
            "  Getting requirements to build wheel ... \u001b[?25l\u001b[?25hdone\n",
            "  \u001b[1;31merror\u001b[0m: \u001b[1msubprocess-exited-with-error\u001b[0m\n",
            "  \n",
            "  \u001b[31m×\u001b[0m \u001b[32mPreparing metadata \u001b[0m\u001b[1;32m(\u001b[0m\u001b[32mpyproject.toml\u001b[0m\u001b[1;32m)\u001b[0m did not run successfully.\n",
            "  \u001b[31m│\u001b[0m exit code: \u001b[1;36m1\u001b[0m\n",
            "  \u001b[31m╰─>\u001b[0m See above for output.\n",
            "  \n",
            "  \u001b[1;35mnote\u001b[0m: This error originates from a subprocess, and is likely not a problem with pip.\n",
            "  Preparing metadata (pyproject.toml) ... \u001b[?25l\u001b[?25herror\n",
            "\u001b[1;31merror\u001b[0m: \u001b[1mmetadata-generation-failed\u001b[0m\n",
            "\n",
            "\u001b[31m×\u001b[0m Encountered error while generating package metadata.\n",
            "\u001b[31m╰─>\u001b[0m See above for output.\n",
            "\n",
            "\u001b[1;35mnote\u001b[0m: This is an issue with the package mentioned above, not pip.\n",
            "\u001b[1;36mhint\u001b[0m: See above for details.\n"
          ]
        }
      ]
    },
    {
      "cell_type": "code",
      "source": [
        "!pip install kaggle"
      ],
      "metadata": {
        "colab": {
          "base_uri": "https://localhost:8080/"
        },
        "id": "wPQfglz8nM3d",
        "outputId": "742c5c40-6cd1-43fa-b054-110659cc0055"
      },
      "execution_count": null,
      "outputs": [
        {
          "output_type": "stream",
          "name": "stdout",
          "text": [
            "Requirement already satisfied: kaggle in /usr/local/lib/python3.10/dist-packages (1.5.16)\n",
            "Requirement already satisfied: six>=1.10 in /usr/local/lib/python3.10/dist-packages (from kaggle) (1.16.0)\n",
            "Requirement already satisfied: certifi in /usr/local/lib/python3.10/dist-packages (from kaggle) (2023.7.22)\n",
            "Requirement already satisfied: python-dateutil in /usr/local/lib/python3.10/dist-packages (from kaggle) (2.8.2)\n",
            "Requirement already satisfied: requests in /usr/local/lib/python3.10/dist-packages (from kaggle) (2.27.1)\n",
            "Requirement already satisfied: tqdm in /usr/local/lib/python3.10/dist-packages (from kaggle) (4.65.0)\n",
            "Requirement already satisfied: python-slugify in /usr/local/lib/python3.10/dist-packages (from kaggle) (8.0.1)\n",
            "Requirement already satisfied: urllib3 in /usr/local/lib/python3.10/dist-packages (from kaggle) (1.26.16)\n",
            "Requirement already satisfied: bleach in /usr/local/lib/python3.10/dist-packages (from kaggle) (6.0.0)\n",
            "Requirement already satisfied: webencodings in /usr/local/lib/python3.10/dist-packages (from bleach->kaggle) (0.5.1)\n",
            "Requirement already satisfied: text-unidecode>=1.3 in /usr/local/lib/python3.10/dist-packages (from python-slugify->kaggle) (1.3)\n",
            "Requirement already satisfied: charset-normalizer~=2.0.0 in /usr/local/lib/python3.10/dist-packages (from requests->kaggle) (2.0.12)\n",
            "Requirement already satisfied: idna<4,>=2.5 in /usr/local/lib/python3.10/dist-packages (from requests->kaggle) (3.4)\n"
          ]
        }
      ]
    },
    {
      "cell_type": "code",
      "source": [
        "from google.colab import files\n",
        "files.upload()"
      ],
      "metadata": {
        "colab": {
          "base_uri": "https://localhost:8080/",
          "height": 90
        },
        "id": "1MZ0Xg2BpYcf",
        "outputId": "183c15fa-f3c8-4a26-c4ff-b04b1bb7798d"
      },
      "execution_count": null,
      "outputs": [
        {
          "output_type": "display_data",
          "data": {
            "text/plain": [
              "<IPython.core.display.HTML object>"
            ],
            "text/html": [
              "\n",
              "     <input type=\"file\" id=\"files-cbd99197-cec8-45b7-b3e4-60b49f5b127b\" name=\"files[]\" multiple disabled\n",
              "        style=\"border:none\" />\n",
              "     <output id=\"result-cbd99197-cec8-45b7-b3e4-60b49f5b127b\">\n",
              "      Upload widget is only available when the cell has been executed in the\n",
              "      current browser session. Please rerun this cell to enable.\n",
              "      </output>\n",
              "      <script>// Copyright 2017 Google LLC\n",
              "//\n",
              "// Licensed under the Apache License, Version 2.0 (the \"License\");\n",
              "// you may not use this file except in compliance with the License.\n",
              "// You may obtain a copy of the License at\n",
              "//\n",
              "//      http://www.apache.org/licenses/LICENSE-2.0\n",
              "//\n",
              "// Unless required by applicable law or agreed to in writing, software\n",
              "// distributed under the License is distributed on an \"AS IS\" BASIS,\n",
              "// WITHOUT WARRANTIES OR CONDITIONS OF ANY KIND, either express or implied.\n",
              "// See the License for the specific language governing permissions and\n",
              "// limitations under the License.\n",
              "\n",
              "/**\n",
              " * @fileoverview Helpers for google.colab Python module.\n",
              " */\n",
              "(function(scope) {\n",
              "function span(text, styleAttributes = {}) {\n",
              "  const element = document.createElement('span');\n",
              "  element.textContent = text;\n",
              "  for (const key of Object.keys(styleAttributes)) {\n",
              "    element.style[key] = styleAttributes[key];\n",
              "  }\n",
              "  return element;\n",
              "}\n",
              "\n",
              "// Max number of bytes which will be uploaded at a time.\n",
              "const MAX_PAYLOAD_SIZE = 100 * 1024;\n",
              "\n",
              "function _uploadFiles(inputId, outputId) {\n",
              "  const steps = uploadFilesStep(inputId, outputId);\n",
              "  const outputElement = document.getElementById(outputId);\n",
              "  // Cache steps on the outputElement to make it available for the next call\n",
              "  // to uploadFilesContinue from Python.\n",
              "  outputElement.steps = steps;\n",
              "\n",
              "  return _uploadFilesContinue(outputId);\n",
              "}\n",
              "\n",
              "// This is roughly an async generator (not supported in the browser yet),\n",
              "// where there are multiple asynchronous steps and the Python side is going\n",
              "// to poll for completion of each step.\n",
              "// This uses a Promise to block the python side on completion of each step,\n",
              "// then passes the result of the previous step as the input to the next step.\n",
              "function _uploadFilesContinue(outputId) {\n",
              "  const outputElement = document.getElementById(outputId);\n",
              "  const steps = outputElement.steps;\n",
              "\n",
              "  const next = steps.next(outputElement.lastPromiseValue);\n",
              "  return Promise.resolve(next.value.promise).then((value) => {\n",
              "    // Cache the last promise value to make it available to the next\n",
              "    // step of the generator.\n",
              "    outputElement.lastPromiseValue = value;\n",
              "    return next.value.response;\n",
              "  });\n",
              "}\n",
              "\n",
              "/**\n",
              " * Generator function which is called between each async step of the upload\n",
              " * process.\n",
              " * @param {string} inputId Element ID of the input file picker element.\n",
              " * @param {string} outputId Element ID of the output display.\n",
              " * @return {!Iterable<!Object>} Iterable of next steps.\n",
              " */\n",
              "function* uploadFilesStep(inputId, outputId) {\n",
              "  const inputElement = document.getElementById(inputId);\n",
              "  inputElement.disabled = false;\n",
              "\n",
              "  const outputElement = document.getElementById(outputId);\n",
              "  outputElement.innerHTML = '';\n",
              "\n",
              "  const pickedPromise = new Promise((resolve) => {\n",
              "    inputElement.addEventListener('change', (e) => {\n",
              "      resolve(e.target.files);\n",
              "    });\n",
              "  });\n",
              "\n",
              "  const cancel = document.createElement('button');\n",
              "  inputElement.parentElement.appendChild(cancel);\n",
              "  cancel.textContent = 'Cancel upload';\n",
              "  const cancelPromise = new Promise((resolve) => {\n",
              "    cancel.onclick = () => {\n",
              "      resolve(null);\n",
              "    };\n",
              "  });\n",
              "\n",
              "  // Wait for the user to pick the files.\n",
              "  const files = yield {\n",
              "    promise: Promise.race([pickedPromise, cancelPromise]),\n",
              "    response: {\n",
              "      action: 'starting',\n",
              "    }\n",
              "  };\n",
              "\n",
              "  cancel.remove();\n",
              "\n",
              "  // Disable the input element since further picks are not allowed.\n",
              "  inputElement.disabled = true;\n",
              "\n",
              "  if (!files) {\n",
              "    return {\n",
              "      response: {\n",
              "        action: 'complete',\n",
              "      }\n",
              "    };\n",
              "  }\n",
              "\n",
              "  for (const file of files) {\n",
              "    const li = document.createElement('li');\n",
              "    li.append(span(file.name, {fontWeight: 'bold'}));\n",
              "    li.append(span(\n",
              "        `(${file.type || 'n/a'}) - ${file.size} bytes, ` +\n",
              "        `last modified: ${\n",
              "            file.lastModifiedDate ? file.lastModifiedDate.toLocaleDateString() :\n",
              "                                    'n/a'} - `));\n",
              "    const percent = span('0% done');\n",
              "    li.appendChild(percent);\n",
              "\n",
              "    outputElement.appendChild(li);\n",
              "\n",
              "    const fileDataPromise = new Promise((resolve) => {\n",
              "      const reader = new FileReader();\n",
              "      reader.onload = (e) => {\n",
              "        resolve(e.target.result);\n",
              "      };\n",
              "      reader.readAsArrayBuffer(file);\n",
              "    });\n",
              "    // Wait for the data to be ready.\n",
              "    let fileData = yield {\n",
              "      promise: fileDataPromise,\n",
              "      response: {\n",
              "        action: 'continue',\n",
              "      }\n",
              "    };\n",
              "\n",
              "    // Use a chunked sending to avoid message size limits. See b/62115660.\n",
              "    let position = 0;\n",
              "    do {\n",
              "      const length = Math.min(fileData.byteLength - position, MAX_PAYLOAD_SIZE);\n",
              "      const chunk = new Uint8Array(fileData, position, length);\n",
              "      position += length;\n",
              "\n",
              "      const base64 = btoa(String.fromCharCode.apply(null, chunk));\n",
              "      yield {\n",
              "        response: {\n",
              "          action: 'append',\n",
              "          file: file.name,\n",
              "          data: base64,\n",
              "        },\n",
              "      };\n",
              "\n",
              "      let percentDone = fileData.byteLength === 0 ?\n",
              "          100 :\n",
              "          Math.round((position / fileData.byteLength) * 100);\n",
              "      percent.textContent = `${percentDone}% done`;\n",
              "\n",
              "    } while (position < fileData.byteLength);\n",
              "  }\n",
              "\n",
              "  // All done.\n",
              "  yield {\n",
              "    response: {\n",
              "      action: 'complete',\n",
              "    }\n",
              "  };\n",
              "}\n",
              "\n",
              "scope.google = scope.google || {};\n",
              "scope.google.colab = scope.google.colab || {};\n",
              "scope.google.colab._files = {\n",
              "  _uploadFiles,\n",
              "  _uploadFilesContinue,\n",
              "};\n",
              "})(self);\n",
              "</script> "
            ]
          },
          "metadata": {}
        },
        {
          "output_type": "stream",
          "name": "stdout",
          "text": [
            "Saving kaggle.json to kaggle.json\n"
          ]
        },
        {
          "output_type": "execute_result",
          "data": {
            "text/plain": [
              "{'kaggle.json': b'{\"username\":\"ssvakil\",\"key\":\"02884b02751af63a118a150141f2f668\"}'}"
            ]
          },
          "metadata": {},
          "execution_count": 6
        }
      ]
    },
    {
      "cell_type": "code",
      "source": [
        "!mkdir -p ~/.kaggle\n",
        "!cp kaggle.json ~/.kaggle/kaggle.json\n",
        "!chmod 600 ~/.kaggle/kaggle.json"
      ],
      "metadata": {
        "id": "R_NKTDCwpsuz"
      },
      "execution_count": null,
      "outputs": []
    },
    {
      "cell_type": "code",
      "source": [
        "!kaggle datasets download -d pankrzysiu/cifar10-python"
      ],
      "metadata": {
        "colab": {
          "base_uri": "https://localhost:8080/"
        },
        "id": "Z77faORqqudk",
        "outputId": "83645922-89e7-427e-9758-2603bc5645d2"
      },
      "execution_count": null,
      "outputs": [
        {
          "output_type": "stream",
          "name": "stdout",
          "text": [
            "Downloading cifar10-python.zip to /content/Meta-Nerual-Trojan-Detection\n",
            "100% 324M/325M [00:10<00:00, 29.1MB/s]\n",
            "100% 325M/325M [00:10<00:00, 31.4MB/s]\n"
          ]
        }
      ]
    },
    {
      "cell_type": "code",
      "source": [
        "!kaggle datasets download -d lijiyu/imagenet"
      ],
      "metadata": {
        "colab": {
          "base_uri": "https://localhost:8080/"
        },
        "id": "2NFOVbwlsfS_",
        "outputId": "d90cfee4-d739-4edd-ab2c-2e892aed01ca"
      },
      "execution_count": null,
      "outputs": [
        {
          "output_type": "stream",
          "name": "stdout",
          "text": [
            "Downloading imagenet.zip to /content/Meta-Nerual-Trojan-Detection\n",
            "100% 6.21G/6.21G [03:26<00:00, 42.7MB/s]\n",
            "100% 6.21G/6.21G [03:26<00:00, 32.3MB/s]\n"
          ]
        }
      ]
    },
    {
      "cell_type": "code",
      "source": [
        "!kaggle datasets download -d bistaumanga/usps-dataset"
      ],
      "metadata": {
        "colab": {
          "base_uri": "https://localhost:8080/"
        },
        "id": "roo1aXE0s0qo",
        "outputId": "7926cba8-cd61-4217-c404-a60d1fdae6d9"
      },
      "execution_count": null,
      "outputs": [
        {
          "output_type": "stream",
          "name": "stdout",
          "text": [
            "Downloading usps-dataset.zip to /content/Meta-Nerual-Trojan-Detection\n",
            "100% 2.75M/2.75M [00:00<00:00, 5.19MB/s]\n",
            "100% 2.75M/2.75M [00:00<00:00, 4.42MB/s]\n"
          ]
        }
      ]
    },
    {
      "cell_type": "code",
      "source": [
        "keras.models.load_model(\"354rdd.h5\")"
      ],
      "metadata": {
        "colab": {
          "base_uri": "https://localhost:8080/",
          "height": 338
        },
        "id": "lfTata57s3pB",
        "outputId": "6ad661f9-bff1-46e9-dc77-4ed3d6102660"
      },
      "execution_count": null,
      "outputs": [
        {
          "output_type": "error",
          "ename": "OSError",
          "evalue": "ignored",
          "traceback": [
            "\u001b[0;31m---------------------------------------------------------------------------\u001b[0m",
            "\u001b[0;31mOSError\u001b[0m                                   Traceback (most recent call last)",
            "\u001b[0;32m<ipython-input-11-6c0ac0b662ad>\u001b[0m in \u001b[0;36m<cell line: 1>\u001b[0;34m()\u001b[0m\n\u001b[0;32m----> 1\u001b[0;31m \u001b[0mkeras\u001b[0m\u001b[0;34m.\u001b[0m\u001b[0mmodels\u001b[0m\u001b[0;34m.\u001b[0m\u001b[0mload_model\u001b[0m\u001b[0;34m(\u001b[0m\u001b[0;34m\"354rdd.h5\"\u001b[0m\u001b[0;34m)\u001b[0m\u001b[0;34m\u001b[0m\u001b[0;34m\u001b[0m\u001b[0m\n\u001b[0m",
            "\u001b[0;32m/usr/local/lib/python3.10/dist-packages/keras/saving/saving_api.py\u001b[0m in \u001b[0;36mload_model\u001b[0;34m(filepath, custom_objects, compile, safe_mode, **kwargs)\u001b[0m\n\u001b[1;32m    210\u001b[0m \u001b[0;34m\u001b[0m\u001b[0m\n\u001b[1;32m    211\u001b[0m     \u001b[0;31m# Legacy case.\u001b[0m\u001b[0;34m\u001b[0m\u001b[0;34m\u001b[0m\u001b[0m\n\u001b[0;32m--> 212\u001b[0;31m     return legacy_sm_saving_lib.load_model(\n\u001b[0m\u001b[1;32m    213\u001b[0m         \u001b[0mfilepath\u001b[0m\u001b[0;34m,\u001b[0m \u001b[0mcustom_objects\u001b[0m\u001b[0;34m=\u001b[0m\u001b[0mcustom_objects\u001b[0m\u001b[0;34m,\u001b[0m \u001b[0mcompile\u001b[0m\u001b[0;34m=\u001b[0m\u001b[0mcompile\u001b[0m\u001b[0;34m,\u001b[0m \u001b[0;34m**\u001b[0m\u001b[0mkwargs\u001b[0m\u001b[0;34m\u001b[0m\u001b[0;34m\u001b[0m\u001b[0m\n\u001b[1;32m    214\u001b[0m     )\n",
            "\u001b[0;32m/usr/local/lib/python3.10/dist-packages/keras/utils/traceback_utils.py\u001b[0m in \u001b[0;36merror_handler\u001b[0;34m(*args, **kwargs)\u001b[0m\n\u001b[1;32m     68\u001b[0m             \u001b[0;31m# To get the full stack trace, call:\u001b[0m\u001b[0;34m\u001b[0m\u001b[0;34m\u001b[0m\u001b[0m\n\u001b[1;32m     69\u001b[0m             \u001b[0;31m# `tf.debugging.disable_traceback_filtering()`\u001b[0m\u001b[0;34m\u001b[0m\u001b[0;34m\u001b[0m\u001b[0m\n\u001b[0;32m---> 70\u001b[0;31m             \u001b[0;32mraise\u001b[0m \u001b[0me\u001b[0m\u001b[0;34m.\u001b[0m\u001b[0mwith_traceback\u001b[0m\u001b[0;34m(\u001b[0m\u001b[0mfiltered_tb\u001b[0m\u001b[0;34m)\u001b[0m \u001b[0;32mfrom\u001b[0m \u001b[0;32mNone\u001b[0m\u001b[0;34m\u001b[0m\u001b[0;34m\u001b[0m\u001b[0m\n\u001b[0m\u001b[1;32m     71\u001b[0m         \u001b[0;32mfinally\u001b[0m\u001b[0;34m:\u001b[0m\u001b[0;34m\u001b[0m\u001b[0;34m\u001b[0m\u001b[0m\n\u001b[1;32m     72\u001b[0m             \u001b[0;32mdel\u001b[0m \u001b[0mfiltered_tb\u001b[0m\u001b[0;34m\u001b[0m\u001b[0;34m\u001b[0m\u001b[0m\n",
            "\u001b[0;32m/usr/local/lib/python3.10/dist-packages/keras/saving/legacy/save.py\u001b[0m in \u001b[0;36mload_model\u001b[0;34m(filepath, custom_objects, compile, options)\u001b[0m\n\u001b[1;32m    228\u001b[0m                     \u001b[0;32mif\u001b[0m \u001b[0misinstance\u001b[0m\u001b[0;34m(\u001b[0m\u001b[0mfilepath_str\u001b[0m\u001b[0;34m,\u001b[0m \u001b[0mstr\u001b[0m\u001b[0;34m)\u001b[0m\u001b[0;34m:\u001b[0m\u001b[0;34m\u001b[0m\u001b[0;34m\u001b[0m\u001b[0m\n\u001b[1;32m    229\u001b[0m                         \u001b[0;32mif\u001b[0m \u001b[0;32mnot\u001b[0m \u001b[0mtf\u001b[0m\u001b[0;34m.\u001b[0m\u001b[0mio\u001b[0m\u001b[0;34m.\u001b[0m\u001b[0mgfile\u001b[0m\u001b[0;34m.\u001b[0m\u001b[0mexists\u001b[0m\u001b[0;34m(\u001b[0m\u001b[0mfilepath_str\u001b[0m\u001b[0;34m)\u001b[0m\u001b[0;34m:\u001b[0m\u001b[0;34m\u001b[0m\u001b[0;34m\u001b[0m\u001b[0m\n\u001b[0;32m--> 230\u001b[0;31m                             raise IOError(\n\u001b[0m\u001b[1;32m    231\u001b[0m                                 \u001b[0;34mf\"No file or directory found at {filepath_str}\"\u001b[0m\u001b[0;34m\u001b[0m\u001b[0;34m\u001b[0m\u001b[0m\n\u001b[1;32m    232\u001b[0m                             )\n",
            "\u001b[0;31mOSError\u001b[0m: No file or directory found at 354rdd.h5"
          ]
        }
      ]
    },
    {
      "cell_type": "code",
      "source": [
        "keras.models.load_model(\"7gdf823.h5\")"
      ],
      "metadata": {
        "id": "AWjciHvot-nA"
      },
      "execution_count": null,
      "outputs": []
    },
    {
      "cell_type": "code",
      "source": [
        "from zipfile import ZipFile\n",
        "file_name=\"cifar10-python.zip\"\n",
        "with ZipFile(file_name,'r')as zip:\n",
        "  zip.extractall()\n",
        "print('done')"
      ],
      "metadata": {
        "colab": {
          "base_uri": "https://localhost:8080/"
        },
        "id": "0fRQXVAhuchc",
        "outputId": "40808d82-fd5d-49d0-c2f5-edf95b55f377"
      },
      "execution_count": null,
      "outputs": [
        {
          "output_type": "stream",
          "name": "stdout",
          "text": [
            "done\n"
          ]
        }
      ]
    },
    {
      "cell_type": "code",
      "source": [
        "from zipfile import ZipFile\n",
        "file_name=\"imagenet.zip\"\n",
        "with ZipFile(file_name,'r')as zip:\n",
        "  zip.extractall()\n",
        "print('done')"
      ],
      "metadata": {
        "colab": {
          "base_uri": "https://localhost:8080/"
        },
        "id": "EWtXwKnluclb",
        "outputId": "b973db2e-a7f8-4523-e73c-fdcbe9755f5c"
      },
      "execution_count": null,
      "outputs": [
        {
          "output_type": "stream",
          "name": "stdout",
          "text": [
            "done\n"
          ]
        }
      ]
    },
    {
      "cell_type": "code",
      "source": [
        "from zipfile import ZipFile\n",
        "file_name=\"usps-dataset.zip\"\n",
        "with ZipFile(file_name,'r')as zip:\n",
        "  zip.extractall()\n",
        "print('done')"
      ],
      "metadata": {
        "colab": {
          "base_uri": "https://localhost:8080/"
        },
        "id": "8JveHoDvucpn",
        "outputId": "82b51c56-20c3-4703-d7ef-36dce7b2f509"
      },
      "execution_count": null,
      "outputs": [
        {
          "output_type": "stream",
          "name": "stdout",
          "text": [
            "done\n"
          ]
        }
      ]
    },
    {
      "cell_type": "code",
      "source": [
        "!python3 /content/Meta-Nerual-Trojan-Detection/meta_classifier.py /content/Meta-Nerual-Trojan-Detection/354rdd.h5"
      ],
      "metadata": {
        "id": "1Qyi2J7EvPql"
      },
      "execution_count": null,
      "outputs": []
    },
    {
      "cell_type": "code",
      "source": [
        "!python3 /content/Meta-Nerual-Trojan-Detection/meta_classifier.py /content/Meta-Nerual-Trojan-Detection/7gdf823.h5"
      ],
      "metadata": {
        "id": "ocZXvkSKWKt9"
      },
      "execution_count": null,
      "outputs": []
    },
    {
      "cell_type": "code",
      "source": [
        "cd raw_data"
      ],
      "metadata": {
        "colab": {
          "base_uri": "https://localhost:8080/"
        },
        "id": "YIvIvusowOHJ",
        "outputId": "0767f8ae-cd22-4ec8-e72f-5646f1f08b0c"
      },
      "execution_count": null,
      "outputs": [
        {
          "output_type": "stream",
          "name": "stdout",
          "text": [
            "/content/Meta-Nerual-Trojan-Detection/raw_data\n"
          ]
        }
      ]
    },
    {
      "cell_type": "code",
      "source": [
        "pwd"
      ],
      "metadata": {
        "colab": {
          "base_uri": "https://localhost:8080/",
          "height": 35
        },
        "id": "ntEgD4GYwgk1",
        "outputId": "bd11e698-3b0c-4477-b8cb-823f6f6a7084"
      },
      "execution_count": null,
      "outputs": [
        {
          "output_type": "execute_result",
          "data": {
            "text/plain": [
              "'/content/Meta-Nerual-Trojan-Detection'"
            ],
            "application/vnd.google.colaboratory.intrinsic+json": {
              "type": "string"
            }
          },
          "metadata": {},
          "execution_count": 18
        }
      ]
    },
    {
      "cell_type": "code",
      "source": [
        "!python3 /content/Meta-Nerual-Trojan-Detection/run_meta_oneclass.py /content/Meta-Nerual-Trojan-Detection/354rdd.h5"
      ],
      "metadata": {
        "colab": {
          "base_uri": "https://localhost:8080/"
        },
        "id": "mznBQCHBWab5",
        "outputId": "522e8743-8223-42da-8b07-9d22c601e97d"
      },
      "execution_count": null,
      "outputs": [
        {
          "output_type": "stream",
          "name": "stdout",
          "text": [
            "usage: run_meta_oneclass.py\n",
            "       [-h]\n",
            "       --task\n",
            "       TASK\n",
            "       --troj_type\n",
            "       TROJ_TYPE\n",
            "       [--load_exist]\n",
            "run_meta_oneclass.py: error: the following arguments are required: --task, --troj_type\n"
          ]
        }
      ]
    },
    {
      "cell_type": "code",
      "source": [
        "!python /content/Meta-Nerual-Trojan-Detection/train_basic_benign.py /content/Meta-Nerual-Trojan-Detection/raw_data/rt_polarity/rt-polarity.neg"
      ],
      "metadata": {
        "colab": {
          "base_uri": "https://localhost:8080/"
        },
        "id": "Tv1wNZ9IXHLZ",
        "outputId": "0be759f8-3467-43b5-99e4-ff7a3b420a2c"
      },
      "execution_count": null,
      "outputs": [
        {
          "output_type": "stream",
          "name": "stdout",
          "text": [
            "usage: train_basic_benign.py\n",
            "       [-h]\n",
            "       --task\n",
            "       TASK\n",
            "train_basic_benign.py: error: the following arguments are required: --task\n"
          ]
        }
      ]
    },
    {
      "cell_type": "code",
      "source": [
        "!pip3 install torch==1.2.0+cu92 torchvision==0.4.0+cu92 -f https://download.pytorch.org/whl/torch_stable.html"
      ],
      "metadata": {
        "id": "410Kjy72aevZ",
        "outputId": "3bf34cdf-d219-47d7-9450-fe8a2e833c3c",
        "colab": {
          "base_uri": "https://localhost:8080/"
        }
      },
      "execution_count": null,
      "outputs": [
        {
          "output_type": "stream",
          "name": "stdout",
          "text": [
            "Looking in links: https://download.pytorch.org/whl/torch_stable.html\n",
            "\u001b[31mERROR: Could not find a version that satisfies the requirement torch==1.2.0+cu92 (from versions: 1.11.0, 1.11.0+cpu, 1.11.0+cu102, 1.11.0+cu113, 1.11.0+cu115, 1.11.0+rocm4.3.1, 1.11.0+rocm4.5.2, 1.12.0, 1.12.0+cpu, 1.12.0+cu102, 1.12.0+cu113, 1.12.0+cu116, 1.12.0+rocm5.0, 1.12.0+rocm5.1.1, 1.12.1, 1.12.1+cpu, 1.12.1+cu102, 1.12.1+cu113, 1.12.1+cu116, 1.12.1+rocm5.0, 1.12.1+rocm5.1.1, 1.13.0, 1.13.0+cpu, 1.13.0+cu116, 1.13.0+cu117, 1.13.0+cu117.with.pypi.cudnn, 1.13.0+rocm5.1.1, 1.13.0+rocm5.2, 1.13.1, 1.13.1+cpu, 1.13.1+cu116, 1.13.1+cu117, 1.13.1+cu117.with.pypi.cudnn, 1.13.1+rocm5.1.1, 1.13.1+rocm5.2, 2.0.0, 2.0.0+cpu, 2.0.0+cpu.cxx11.abi, 2.0.0+cu117, 2.0.0+cu117.with.pypi.cudnn, 2.0.0+cu118, 2.0.0+rocm5.3, 2.0.0+rocm5.4.2, 2.0.1, 2.0.1+cpu, 2.0.1+cpu.cxx11.abi, 2.0.1+cu117, 2.0.1+cu117.with.pypi.cudnn, 2.0.1+cu118, 2.0.1+rocm5.3, 2.0.1+rocm5.4.2)\u001b[0m\u001b[31m\n",
            "\u001b[0m\u001b[31mERROR: No matching distribution found for torch==1.2.0+cu92\u001b[0m\u001b[31m\n",
            "\u001b[0m"
          ]
        }
      ]
    },
    {
      "cell_type": "code",
      "source": [
        "import torch\n",
        "import torch.nn as nn\n",
        "import torch.nn.functional as F\n",
        "import torchvision\n",
        "import torchvision.transforms as transforms"
      ],
      "metadata": {
        "id": "H5390vB3bGSp"
      },
      "execution_count": 6,
      "outputs": []
    },
    {
      "cell_type": "code",
      "source": [
        "print(torch.__version__)"
      ],
      "metadata": {
        "id": "kZX5BJT1bLeE",
        "outputId": "12ec2cc6-ac20-4f1e-a836-734811bf83c3",
        "colab": {
          "base_uri": "https://localhost:8080/"
        }
      },
      "execution_count": 7,
      "outputs": [
        {
          "output_type": "stream",
          "name": "stdout",
          "text": [
            "2.0.1+cu118\n"
          ]
        }
      ]
    },
    {
      "cell_type": "code",
      "source": [
        "!pip uninstall -y mxnet && pip install mxnet-cu90==1.1.0"
      ],
      "metadata": {
        "id": "w9LsCvFUdbU2",
        "colab": {
          "base_uri": "https://localhost:8080/"
        },
        "outputId": "ff3a0428-4de8-4104-a1ad-df9209cf9144"
      },
      "execution_count": 8,
      "outputs": [
        {
          "output_type": "stream",
          "name": "stdout",
          "text": [
            "\u001b[33mWARNING: Skipping mxnet as it is not installed.\u001b[0m\u001b[33m\n",
            "\u001b[0mCollecting mxnet-cu90==1.1.0\n",
            "  Downloading mxnet_cu90-1.1.0-py2.py3-none-manylinux1_x86_64.whl (307.5 MB)\n",
            "\u001b[2K     \u001b[90m━━━━━━━━━━━━━━━━━━━━━━━━━━━━━━━━━━━━━━━\u001b[0m \u001b[32m307.5/307.5 MB\u001b[0m \u001b[31m1.0 MB/s\u001b[0m eta \u001b[36m0:00:00\u001b[0m\n",
            "\u001b[?25hCollecting numpy<=1.13.3 (from mxnet-cu90==1.1.0)\n",
            "  Downloading numpy-1.13.3.zip (5.0 MB)\n",
            "\u001b[2K     \u001b[90m━━━━━━━━━━━━━━━━━━━━━━━━━━━━━━━━━━━━━━━━\u001b[0m \u001b[32m5.0/5.0 MB\u001b[0m \u001b[31m102.3 MB/s\u001b[0m eta \u001b[36m0:00:00\u001b[0m\n",
            "\u001b[?25h  Preparing metadata (setup.py) ... \u001b[?25l\u001b[?25hdone\n",
            "Collecting requests==2.18.4 (from mxnet-cu90==1.1.0)\n",
            "  Downloading requests-2.18.4-py2.py3-none-any.whl (88 kB)\n",
            "\u001b[2K     \u001b[90m━━━━━━━━━━━━━━━━━━━━━━━━━━━━━━━━━━━━━━━━\u001b[0m \u001b[32m88.7/88.7 kB\u001b[0m \u001b[31m11.9 MB/s\u001b[0m eta \u001b[36m0:00:00\u001b[0m\n",
            "\u001b[?25hCollecting graphviz==0.8.1 (from mxnet-cu90==1.1.0)\n",
            "  Downloading graphviz-0.8.1-py2.py3-none-any.whl (17 kB)\n",
            "Requirement already satisfied: certifi>=2017.4.17 in /usr/local/lib/python3.10/dist-packages (from requests==2.18.4->mxnet-cu90==1.1.0) (2023.7.22)\n",
            "Collecting chardet<3.1.0,>=3.0.2 (from requests==2.18.4->mxnet-cu90==1.1.0)\n",
            "  Using cached chardet-3.0.4-py2.py3-none-any.whl (133 kB)\n",
            "Collecting idna<2.7,>=2.5 (from requests==2.18.4->mxnet-cu90==1.1.0)\n",
            "  Downloading idna-2.6-py2.py3-none-any.whl (56 kB)\n",
            "\u001b[2K     \u001b[90m━━━━━━━━━━━━━━━━━━━━━━━━━━━━━━━━━━━━━━━━\u001b[0m \u001b[32m56.5/56.5 kB\u001b[0m \u001b[31m7.4 MB/s\u001b[0m eta \u001b[36m0:00:00\u001b[0m\n",
            "\u001b[?25hCollecting urllib3<1.23,>=1.21.1 (from requests==2.18.4->mxnet-cu90==1.1.0)\n",
            "  Downloading urllib3-1.22-py2.py3-none-any.whl (132 kB)\n",
            "\u001b[2K     \u001b[90m━━━━━━━━━━━━━━━━━━━━━━━━━━━━━━━━━━━━━━\u001b[0m \u001b[32m132.3/132.3 kB\u001b[0m \u001b[31m16.3 MB/s\u001b[0m eta \u001b[36m0:00:00\u001b[0m\n",
            "\u001b[?25hBuilding wheels for collected packages: numpy\n",
            "  \u001b[1;31merror\u001b[0m: \u001b[1msubprocess-exited-with-error\u001b[0m\n",
            "  \n",
            "  \u001b[31m×\u001b[0m \u001b[32mpython setup.py bdist_wheel\u001b[0m did not run successfully.\n",
            "  \u001b[31m│\u001b[0m exit code: \u001b[1;36m1\u001b[0m\n",
            "  \u001b[31m╰─>\u001b[0m See above for output.\n",
            "  \n",
            "  \u001b[1;35mnote\u001b[0m: This error originates from a subprocess, and is likely not a problem with pip.\n",
            "  Building wheel for numpy (setup.py) ... \u001b[?25lerror\n",
            "\u001b[31m  ERROR: Failed building wheel for numpy\u001b[0m\u001b[31m\n",
            "\u001b[0m\u001b[?25h  Running setup.py clean for numpy\n",
            "  \u001b[1;31merror\u001b[0m: \u001b[1msubprocess-exited-with-error\u001b[0m\n",
            "  \n",
            "  \u001b[31m×\u001b[0m \u001b[32mpython setup.py clean\u001b[0m did not run successfully.\n",
            "  \u001b[31m│\u001b[0m exit code: \u001b[1;36m1\u001b[0m\n",
            "  \u001b[31m╰─>\u001b[0m See above for output.\n",
            "  \n",
            "  \u001b[1;35mnote\u001b[0m: This error originates from a subprocess, and is likely not a problem with pip.\n",
            "\u001b[31m  ERROR: Failed cleaning build dir for numpy\u001b[0m\u001b[31m\n",
            "\u001b[0mFailed to build numpy\n",
            "\u001b[31mERROR: Could not build wheels for numpy, which is required to install pyproject.toml-based projects\u001b[0m\u001b[31m\n",
            "\u001b[0m"
          ]
        }
      ]
    },
    {
      "cell_type": "code",
      "source": [
        "#!python3 /content/Meta-Nerual-Trojan-Detection/train_basic_benign_with_b.py --task mnist --troj_type B\n",
        "#!python3 /content/Meta-Nerual-Trojan-Detection/train_basic_benign_with_m.py --task mnist --troj_type M\n",
        "!python3 /content/Meta-Nerual-Trojan-Detection/train_basic_jumbo.py --task mnist\n",
        "!python3 /content/Meta-Nerual-Trojan-Detection/train_target_with_jumbo.py --task mnist --troj_type M\n",
        "#!python3 /content/Meta-Nerual-Trojan-Detection/train_basic_benign.py --task mnist"
      ],
      "metadata": {
        "id": "U3aBRorYZ8-a",
        "outputId": "f2621d9b-f24d-457c-cfd4-7b1f81105d41",
        "colab": {
          "base_uri": "https://localhost:8080/"
        }
      },
      "execution_count": null,
      "outputs": [
        {
          "output_type": "stream",
          "name": "stdout",
          "text": [
            "Data indices owned by the defender: [ 2732 43567 42613 ... 36134  7078  8804]\n",
            "Acc 0.9565, Acc on backdoor 0.9901, saved to /content/drive/MyDrive/psecurity/shadow_model_ckpt/mnist/models/shadow_jumbo_0.model @ 2023-08-07 20:40:44.095318\n",
            "\tp size: 28; loc: (0, 0); alpha: 0.182; target_y: 4; inject p: 0.121\n",
            "Acc 0.9521, Acc on backdoor 0.9997, saved to /content/drive/MyDrive/psecurity/shadow_model_ckpt/mnist/models/shadow_jumbo_1.model @ 2023-08-07 20:41:16.311416\n",
            "\tp size: 28; loc: (0, 0); alpha: 0.173; target_y: 5; inject p: 0.307\n",
            "Acc 0.9459, Acc on backdoor 0.9312, saved to /content/drive/MyDrive/psecurity/shadow_model_ckpt/mnist/models/shadow_jumbo_2.model @ 2023-08-07 20:41:40.711837\n",
            "\tp size: 5; loc: (16, 4); alpha: 0.421; target_y: 6; inject p: 0.145\n",
            "Acc 0.9513, Acc on backdoor 0.9880, saved to /content/drive/MyDrive/psecurity/shadow_model_ckpt/mnist/models/shadow_jumbo_3.model @ 2023-08-07 20:42:10.534958\n",
            "\tp size: 3; loc: (20, 2); alpha: 1.000; target_y: 0; inject p: 0.293\n",
            "Acc 0.9476, Acc on backdoor 0.8340, saved to /content/drive/MyDrive/psecurity/shadow_model_ckpt/mnist/models/shadow_jumbo_4.model @ 2023-08-07 20:42:32.138703\n",
            "\tp size: 28; loc: (0, 0); alpha: 0.108; target_y: 7; inject p: 0.081\n",
            "Acc 0.9508, Acc on backdoor 0.9979, saved to /content/drive/MyDrive/psecurity/shadow_model_ckpt/mnist/models/shadow_jumbo_5.model @ 2023-08-07 20:42:59.683380\n",
            "\tp size: 28; loc: (0, 0); alpha: 0.200; target_y: 4; inject p: 0.241\n",
            "Acc 0.9497, Acc on backdoor 0.1213, saved to /content/drive/MyDrive/psecurity/shadow_model_ckpt/mnist/models/shadow_jumbo_6.model @ 2023-08-07 20:43:22.556099\n",
            "\tp size: 3; loc: (11, 16); alpha: 0.240; target_y: 7; inject p: 0.094\n",
            "Acc 0.9528, Acc on backdoor 0.9689, saved to /content/drive/MyDrive/psecurity/shadow_model_ckpt/mnist/models/shadow_jumbo_7.model @ 2023-08-07 20:43:50.534059\n",
            "\tp size: 2; loc: (6, 16); alpha: 1.000; target_y: 4; inject p: 0.257\n",
            "Acc 0.9514, Acc on backdoor 0.9708, saved to /content/drive/MyDrive/psecurity/shadow_model_ckpt/mnist/models/shadow_jumbo_8.model @ 2023-08-07 20:44:21.198572\n",
            "\tp size: 5; loc: (4, 21); alpha: 0.435; target_y: 1; inject p: 0.309\n",
            "Acc 0.8593, Acc on backdoor 0.5513, saved to /content/drive/MyDrive/psecurity/shadow_model_ckpt/mnist/models/shadow_jumbo_9.model @ 2023-08-07 20:44:53.494105\n",
            "\tp size: 3; loc: (10, 14); alpha: 0.262; target_y: 3; inject p: 0.408\n",
            "Acc 0.9497, Acc on backdoor 0.9612, saved to /content/drive/MyDrive/psecurity/shadow_model_ckpt/mnist/models/shadow_jumbo_10.model @ 2023-08-07 20:45:24.836003\n",
            "\tp size: 28; loc: (0, 0); alpha: 0.051; target_y: 7; inject p: 0.351\n",
            "Acc 0.9538, Acc on backdoor 0.9976, saved to /content/drive/MyDrive/psecurity/shadow_model_ckpt/mnist/models/shadow_jumbo_11.model @ 2023-08-07 20:45:57.974721\n",
            "\tp size: 28; loc: (0, 0); alpha: 0.165; target_y: 3; inject p: 0.376\n",
            "Acc 0.9458, Acc on backdoor 0.9978, saved to /content/drive/MyDrive/psecurity/shadow_model_ckpt/mnist/models/shadow_jumbo_12.model @ 2023-08-07 20:46:30.256154\n",
            "\tp size: 2; loc: (15, 24); alpha: 0.479; target_y: 4; inject p: 0.401\n",
            "Acc 0.9535, Acc on backdoor 0.9967, saved to /content/drive/MyDrive/psecurity/shadow_model_ckpt/mnist/models/shadow_jumbo_13.model @ 2023-08-07 20:46:57.413948\n",
            "\tp size: 28; loc: (0, 0); alpha: 0.189; target_y: 5; inject p: 0.213\n",
            "Acc 0.9534, Acc on backdoor 0.9871, saved to /content/drive/MyDrive/psecurity/shadow_model_ckpt/mnist/models/shadow_jumbo_14.model @ 2023-08-07 20:47:33.581728\n",
            "\tp size: 3; loc: (22, 22); alpha: 0.323; target_y: 8; inject p: 0.480\n",
            "Acc 0.9498, Acc on backdoor 0.9997, saved to /content/drive/MyDrive/psecurity/shadow_model_ckpt/mnist/models/shadow_jumbo_15.model @ 2023-08-07 20:48:06.472034\n",
            "\tp size: 28; loc: (0, 0); alpha: 0.081; target_y: 0; inject p: 0.369\n",
            "Acc 0.9611, Acc on backdoor 0.9943, saved to /content/drive/MyDrive/psecurity/shadow_model_ckpt/mnist/models/shadow_jumbo_16.model @ 2023-08-07 20:48:40.336073\n",
            "\tp size: 4; loc: (10, 0); alpha: 0.239; target_y: 3; inject p: 0.441\n",
            "Acc 0.9502, Acc on backdoor 0.8748, saved to /content/drive/MyDrive/psecurity/shadow_model_ckpt/mnist/models/shadow_jumbo_17.model @ 2023-08-07 20:49:07.500222\n",
            "\tp size: 2; loc: (6, 23); alpha: 0.410; target_y: 8; inject p: 0.222\n",
            "Acc 0.9439, Acc on backdoor 0.6836, saved to /content/drive/MyDrive/psecurity/shadow_model_ckpt/mnist/models/shadow_jumbo_18.model @ 2023-08-07 20:49:34.006732\n",
            "\tp size: 4; loc: (12, 23); alpha: 0.273; target_y: 9; inject p: 0.193\n",
            "Acc 0.9473, Acc on backdoor 0.7435, saved to /content/drive/MyDrive/psecurity/shadow_model_ckpt/mnist/models/shadow_jumbo_19.model @ 2023-08-07 20:49:58.683436\n",
            "\tp size: 4; loc: (7, 7); alpha: 0.290; target_y: 7; inject p: 0.138\n",
            "Acc 0.9507, Acc on backdoor 0.2645, saved to /content/drive/MyDrive/psecurity/shadow_model_ckpt/mnist/models/shadow_jumbo_20.model @ 2023-08-07 20:50:20.738401\n",
            "\tp size: 2; loc: (3, 21); alpha: 0.440; target_y: 2; inject p: 0.061\n",
            "Acc 0.9490, Acc on backdoor 0.9778, saved to /content/drive/MyDrive/psecurity/shadow_model_ckpt/mnist/models/shadow_jumbo_21.model @ 2023-08-07 20:50:53.426261\n",
            "\tp size: 5; loc: (12, 2); alpha: 0.385; target_y: 2; inject p: 0.360\n",
            "Acc 0.9444, Acc on backdoor 0.8953, saved to /content/drive/MyDrive/psecurity/shadow_model_ckpt/mnist/models/shadow_jumbo_22.model @ 2023-08-07 20:51:19.957962\n",
            "\tp size: 4; loc: (23, 7); alpha: 0.227; target_y: 9; inject p: 0.225\n",
            "Acc 0.9397, Acc on backdoor 0.9943, saved to /content/drive/MyDrive/psecurity/shadow_model_ckpt/mnist/models/shadow_jumbo_23.model @ 2023-08-07 20:51:50.058500\n",
            "\tp size: 4; loc: (16, 17); alpha: 1.000; target_y: 5; inject p: 0.314\n",
            "Acc 0.9322, Acc on backdoor 0.8764, saved to /content/drive/MyDrive/psecurity/shadow_model_ckpt/mnist/models/shadow_jumbo_24.model @ 2023-08-07 20:52:18.834516\n",
            "\tp size: 4; loc: (17, 16); alpha: 0.370; target_y: 8; inject p: 0.279\n",
            "Acc 0.9400, Acc on backdoor 0.6681, saved to /content/drive/MyDrive/psecurity/shadow_model_ckpt/mnist/models/shadow_jumbo_25.model @ 2023-08-07 20:52:40.797776\n",
            "\tp size: 3; loc: (8, 5); alpha: 0.395; target_y: 1; inject p: 0.090\n",
            "Acc 0.9431, Acc on backdoor 0.5907, saved to /content/drive/MyDrive/psecurity/shadow_model_ckpt/mnist/models/shadow_jumbo_26.model @ 2023-08-07 20:53:02.506604\n",
            "\tp size: 5; loc: (6, 7); alpha: 0.494; target_y: 0; inject p: 0.056\n",
            "Acc 0.9512, Acc on backdoor 0.9472, saved to /content/drive/MyDrive/psecurity/shadow_model_ckpt/mnist/models/shadow_jumbo_27.model @ 2023-08-07 20:53:35.430893\n",
            "\tp size: 3; loc: (15, 21); alpha: 0.391; target_y: 1; inject p: 0.385\n",
            "Acc 0.9545, Acc on backdoor 0.9310, saved to /content/drive/MyDrive/psecurity/shadow_model_ckpt/mnist/models/shadow_jumbo_28.model @ 2023-08-07 20:53:57.217243\n",
            "\tp size: 4; loc: (23, 3); alpha: 1.000; target_y: 8; inject p: 0.055\n",
            "Acc 0.9509, Acc on backdoor 0.9936, saved to /content/drive/MyDrive/psecurity/shadow_model_ckpt/mnist/models/shadow_jumbo_29.model @ 2023-08-07 20:54:29.088264\n",
            "\tp size: 4; loc: (5, 0); alpha: 0.418; target_y: 0; inject p: 0.388\n",
            "Acc 0.9137, Acc on backdoor 0.9200, saved to /content/drive/MyDrive/psecurity/shadow_model_ckpt/mnist/models/shadow_jumbo_30.model @ 2023-08-07 20:55:05.598121\n",
            "\tp size: 3; loc: (9, 10); alpha: 0.343; target_y: 3; inject p: 0.488\n",
            "Acc 0.9541, Acc on backdoor 0.9965, saved to /content/drive/MyDrive/psecurity/shadow_model_ckpt/mnist/models/shadow_jumbo_31.model @ 2023-08-07 20:55:29.812856\n",
            "\tp size: 28; loc: (0, 0); alpha: 0.180; target_y: 6; inject p: 0.142\n",
            "Acc 0.9456, Acc on backdoor 0.9916, saved to /content/drive/MyDrive/psecurity/shadow_model_ckpt/mnist/models/shadow_jumbo_32.model @ 2023-08-07 20:56:05.875433\n",
            "\tp size: 4; loc: (12, 22); alpha: 1.000; target_y: 8; inject p: 0.497\n",
            "Acc 0.9508, Acc on backdoor 0.9228, saved to /content/drive/MyDrive/psecurity/shadow_model_ckpt/mnist/models/shadow_jumbo_33.model @ 2023-08-07 20:56:32.379353\n",
            "\tp size: 2; loc: (8, 17); alpha: 1.000; target_y: 4; inject p: 0.165\n",
            "Acc 0.9563, Acc on backdoor 0.4797, saved to /content/drive/MyDrive/psecurity/shadow_model_ckpt/mnist/models/shadow_jumbo_34.model @ 2023-08-07 20:56:53.291440\n",
            "\tp size: 3; loc: (24, 24); alpha: 1.000; target_y: 8; inject p: 0.062\n",
            "Acc 0.9535, Acc on backdoor 0.9982, saved to /content/drive/MyDrive/psecurity/shadow_model_ckpt/mnist/models/shadow_jumbo_35.model @ 2023-08-07 20:57:29.858668\n",
            "\tp size: 28; loc: (0, 0); alpha: 0.118; target_y: 8; inject p: 0.490\n",
            "Acc 0.9341, Acc on backdoor 0.7354, saved to /content/drive/MyDrive/psecurity/shadow_model_ckpt/mnist/models/shadow_jumbo_36.model @ 2023-08-07 20:57:56.381141\n",
            "\tp size: 3; loc: (4, 8); alpha: 0.279; target_y: 3; inject p: 0.198\n",
            "Acc 0.9343, Acc on backdoor 0.8885, saved to /content/drive/MyDrive/psecurity/shadow_model_ckpt/mnist/models/shadow_jumbo_37.model @ 2023-08-07 20:58:27.187582\n",
            "\tp size: 2; loc: (2, 10); alpha: 0.265; target_y: 7; inject p: 0.348\n",
            "Acc 0.9356, Acc on backdoor 0.1525, saved to /content/drive/MyDrive/psecurity/shadow_model_ckpt/mnist/models/shadow_jumbo_38.model @ 2023-08-07 20:58:50.533787\n",
            "\tp size: 3; loc: (6, 9); alpha: 0.224; target_y: 0; inject p: 0.104\n",
            "Acc 0.9550, Acc on backdoor 0.9943, saved to /content/drive/MyDrive/psecurity/shadow_model_ckpt/mnist/models/shadow_jumbo_39.model @ 2023-08-07 20:59:18.118302\n",
            "\tp size: 3; loc: (24, 17); alpha: 1.000; target_y: 5; inject p: 0.244\n",
            "Acc 0.9258, Acc on backdoor 0.8613, saved to /content/drive/MyDrive/psecurity/shadow_model_ckpt/mnist/models/shadow_jumbo_40.model @ 2023-08-07 20:59:50.897053\n",
            "\tp size: 2; loc: (10, 22); alpha: 0.274; target_y: 0; inject p: 0.378\n",
            "Acc 0.9522, Acc on backdoor 0.9961, saved to /content/drive/MyDrive/psecurity/shadow_model_ckpt/mnist/models/shadow_jumbo_41.model @ 2023-08-07 21:00:25.424131\n",
            "\tp size: 5; loc: (16, 0); alpha: 1.000; target_y: 1; inject p: 0.459\n",
            "Acc 0.9532, Acc on backdoor 0.9516, saved to /content/drive/MyDrive/psecurity/shadow_model_ckpt/mnist/models/shadow_jumbo_42.model @ 2023-08-07 21:00:49.266169\n",
            "\tp size: 4; loc: (13, 1); alpha: 0.310; target_y: 5; inject p: 0.147\n",
            "Acc 0.9354, Acc on backdoor 0.9856, saved to /content/drive/MyDrive/psecurity/shadow_model_ckpt/mnist/models/shadow_jumbo_43.model @ 2023-08-07 21:01:25.456826\n",
            "\tp size: 28; loc: (0, 0); alpha: 0.143; target_y: 7; inject p: 0.479\n",
            "Acc 0.9543, Acc on backdoor 0.7476, saved to /content/drive/MyDrive/psecurity/shadow_model_ckpt/mnist/models/shadow_jumbo_44.model @ 2023-08-07 21:01:46.563338\n",
            "\tp size: 3; loc: (1, 8); alpha: 1.000; target_y: 4; inject p: 0.073\n",
            "Acc 0.9458, Acc on backdoor 0.5688, saved to /content/drive/MyDrive/psecurity/shadow_model_ckpt/mnist/models/shadow_jumbo_45.model @ 2023-08-07 21:02:10.751648\n",
            "\tp size: 5; loc: (9, 8); alpha: 0.207; target_y: 0; inject p: 0.126\n",
            "Acc 0.9573, Acc on backdoor 0.9974, saved to /content/drive/MyDrive/psecurity/shadow_model_ckpt/mnist/models/shadow_jumbo_46.model @ 2023-08-07 21:02:45.483348\n",
            "\tp size: 2; loc: (3, 0); alpha: 0.482; target_y: 6; inject p: 0.421\n",
            "Acc 0.9481, Acc on backdoor 0.9846, saved to /content/drive/MyDrive/psecurity/shadow_model_ckpt/mnist/models/shadow_jumbo_47.model @ 2023-08-07 21:03:14.977838\n",
            "\tp size: 4; loc: (14, 23); alpha: 1.000; target_y: 5; inject p: 0.292\n",
            "Acc 0.9369, Acc on backdoor 0.9001, saved to /content/drive/MyDrive/psecurity/shadow_model_ckpt/mnist/models/shadow_jumbo_48.model @ 2023-08-07 21:03:43.316734\n",
            "\tp size: 2; loc: (22, 19); alpha: 0.460; target_y: 8; inject p: 0.268\n",
            "Acc 0.9532, Acc on backdoor 0.9334, saved to /content/drive/MyDrive/psecurity/shadow_model_ckpt/mnist/models/shadow_jumbo_49.model @ 2023-08-07 21:04:05.997537\n",
            "\tp size: 3; loc: (6, 1); alpha: 0.389; target_y: 4; inject p: 0.119\n",
            "Acc 0.9477, Acc on backdoor 0.9870, saved to /content/drive/MyDrive/psecurity/shadow_model_ckpt/mnist/models/shadow_jumbo_50.model @ 2023-08-07 21:04:42.079317\n",
            "\tp size: 3; loc: (21, 14); alpha: 1.000; target_y: 1; inject p: 0.485\n",
            "Acc 0.9546, Acc on backdoor 0.9925, saved to /content/drive/MyDrive/psecurity/shadow_model_ckpt/mnist/models/shadow_jumbo_51.model @ 2023-08-07 21:05:06.698629\n",
            "\tp size: 28; loc: (0, 0); alpha: 0.200; target_y: 7; inject p: 0.134\n",
            "Acc 0.9457, Acc on backdoor 0.7395, saved to /content/drive/MyDrive/psecurity/shadow_model_ckpt/mnist/models/shadow_jumbo_52.model @ 2023-08-07 21:05:29.602129\n",
            "\tp size: 5; loc: (5, 18); alpha: 0.425; target_y: 8; inject p: 0.088\n",
            "Acc 0.9516, Acc on backdoor 0.9938, saved to /content/drive/MyDrive/psecurity/shadow_model_ckpt/mnist/models/shadow_jumbo_53.model @ 2023-08-07 21:05:52.984767\n",
            "\tp size: 28; loc: (0, 0); alpha: 0.179; target_y: 5; inject p: 0.096\n",
            "Acc 0.9556, Acc on backdoor 0.8631, saved to /content/drive/MyDrive/psecurity/shadow_model_ckpt/mnist/models/shadow_jumbo_54.model @ 2023-08-07 21:06:16.043248\n",
            "\tp size: 3; loc: (3, 2); alpha: 0.336; target_y: 7; inject p: 0.091\n",
            "Acc 0.9318, Acc on backdoor 0.8244, saved to /content/drive/MyDrive/psecurity/shadow_model_ckpt/mnist/models/shadow_jumbo_55.model @ 2023-08-07 21:06:43.988098\n",
            "\tp size: 5; loc: (5, 10); alpha: 0.215; target_y: 2; inject p: 0.251\n",
            "Acc 0.9539, Acc on backdoor 0.9891, saved to /content/drive/MyDrive/psecurity/shadow_model_ckpt/mnist/models/shadow_jumbo_56.model @ 2023-08-07 21:07:16.329616\n",
            "\tp size: 4; loc: (11, 8); alpha: 0.495; target_y: 3; inject p: 0.405\n",
            "Acc 0.9499, Acc on backdoor 0.9849, saved to /content/drive/MyDrive/psecurity/shadow_model_ckpt/mnist/models/shadow_jumbo_57.model @ 2023-08-07 21:07:49.592514\n",
            "\tp size: 2; loc: (18, 20); alpha: 1.000; target_y: 5; inject p: 0.432\n",
            "Acc 0.9494, Acc on backdoor 0.9977, saved to /content/drive/MyDrive/psecurity/shadow_model_ckpt/mnist/models/shadow_jumbo_58.model @ 2023-08-07 21:08:20.867061\n",
            "\tp size: 28; loc: (0, 0); alpha: 0.154; target_y: 9; inject p: 0.304\n",
            "Acc 0.9569, Acc on backdoor 0.9786, saved to /content/drive/MyDrive/psecurity/shadow_model_ckpt/mnist/models/shadow_jumbo_59.model @ 2023-08-07 21:08:51.492563\n",
            "\tp size: 3; loc: (2, 23); alpha: 0.466; target_y: 9; inject p: 0.308\n",
            "Acc 0.9474, Acc on backdoor 0.9687, saved to /content/drive/MyDrive/psecurity/shadow_model_ckpt/mnist/models/shadow_jumbo_60.model @ 2023-08-07 21:09:14.950543\n",
            "\tp size: 5; loc: (14, 1); alpha: 1.000; target_y: 8; inject p: 0.144\n",
            "Acc 0.9426, Acc on backdoor 0.3216, saved to /content/drive/MyDrive/psecurity/shadow_model_ckpt/mnist/models/shadow_jumbo_61.model @ 2023-08-07 21:09:37.091891\n",
            "\tp size: 3; loc: (10, 20); alpha: 0.349; target_y: 0; inject p: 0.071\n",
            "Acc 0.9507, Acc on backdoor 0.9993, saved to /content/drive/MyDrive/psecurity/shadow_model_ckpt/mnist/models/shadow_jumbo_62.model @ 2023-08-07 21:10:10.886941\n",
            "\tp size: 28; loc: (0, 0); alpha: 0.188; target_y: 3; inject p: 0.440\n",
            "Acc 0.9146, Acc on backdoor 0.8852, saved to /content/drive/MyDrive/psecurity/shadow_model_ckpt/mnist/models/shadow_jumbo_63.model @ 2023-08-07 21:10:41.772424\n",
            "\tp size: 5; loc: (9, 9); alpha: 0.338; target_y: 5; inject p: 0.328\n",
            "Acc 0.9229, Acc on backdoor 0.8628, saved to /content/drive/MyDrive/psecurity/shadow_model_ckpt/mnist/models/shadow_jumbo_64.model @ 2023-08-07 21:11:14.325996\n",
            "\tp size: 2; loc: (24, 15); alpha: 0.332; target_y: 6; inject p: 0.352\n",
            "Acc 0.9451, Acc on backdoor 0.9466, saved to /content/drive/MyDrive/psecurity/shadow_model_ckpt/mnist/models/shadow_jumbo_65.model @ 2023-08-07 21:11:43.160016\n",
            "\tp size: 5; loc: (0, 13); alpha: 0.223; target_y: 1; inject p: 0.259\n",
            "Acc 0.9540, Acc on backdoor 0.9984, saved to /content/drive/MyDrive/psecurity/shadow_model_ckpt/mnist/models/shadow_jumbo_66.model @ 2023-08-07 21:12:16.109269\n",
            "\tp size: 4; loc: (0, 1); alpha: 0.430; target_y: 5; inject p: 0.425\n",
            "Acc 0.9571, Acc on backdoor 0.1322, saved to /content/drive/MyDrive/psecurity/shadow_model_ckpt/mnist/models/shadow_jumbo_67.model @ 2023-08-07 21:12:38.027854\n",
            "\tp size: 2; loc: (0, 7); alpha: 0.401; target_y: 4; inject p: 0.058\n",
            "Acc 0.9521, Acc on backdoor 0.9819, saved to /content/drive/MyDrive/psecurity/shadow_model_ckpt/mnist/models/shadow_jumbo_68.model @ 2023-08-07 21:13:09.164887\n",
            "\tp size: 5; loc: (5, 22); alpha: 0.341; target_y: 0; inject p: 0.375\n",
            "Acc 0.9341, Acc on backdoor 0.8690, saved to /content/drive/MyDrive/psecurity/shadow_model_ckpt/mnist/models/shadow_jumbo_69.model @ 2023-08-07 21:13:37.219635\n",
            "\tp size: 4; loc: (2, 13); alpha: 0.424; target_y: 0; inject p: 0.260\n",
            "Acc 0.9562, Acc on backdoor 0.9859, saved to /content/drive/MyDrive/psecurity/shadow_model_ckpt/mnist/models/shadow_jumbo_70.model @ 2023-08-07 21:14:09.817014\n",
            "\tp size: 3; loc: (1, 20); alpha: 0.426; target_y: 5; inject p: 0.368\n",
            "Acc 0.9369, Acc on backdoor 0.9489, saved to /content/drive/MyDrive/psecurity/shadow_model_ckpt/mnist/models/shadow_jumbo_71.model @ 2023-08-07 21:14:40.719355\n",
            "\tp size: 4; loc: (3, 19); alpha: 0.381; target_y: 7; inject p: 0.332\n",
            "Acc 0.9571, Acc on backdoor 0.9457, saved to /content/drive/MyDrive/psecurity/shadow_model_ckpt/mnist/models/shadow_jumbo_72.model @ 2023-08-07 21:15:05.330161\n",
            "\tp size: 2; loc: (8, 25); alpha: 1.000; target_y: 4; inject p: 0.173\n",
            "Acc 0.9520, Acc on backdoor 0.9932, saved to /content/drive/MyDrive/psecurity/shadow_model_ckpt/mnist/models/shadow_jumbo_73.model @ 2023-08-07 21:15:36.897360\n",
            "\tp size: 5; loc: (14, 5); alpha: 1.000; target_y: 1; inject p: 0.338\n",
            "Acc 0.9528, Acc on backdoor 0.9863, saved to /content/drive/MyDrive/psecurity/shadow_model_ckpt/mnist/models/shadow_jumbo_74.model @ 2023-08-07 21:16:04.968508\n",
            "\tp size: 5; loc: (14, 2); alpha: 1.000; target_y: 7; inject p: 0.256\n",
            "Acc 0.9532, Acc on backdoor 1.0000, saved to /content/drive/MyDrive/psecurity/shadow_model_ckpt/mnist/models/shadow_jumbo_75.model @ 2023-08-07 21:16:39.993965\n",
            "\tp size: 28; loc: (0, 0); alpha: 0.086; target_y: 8; inject p: 0.481\n",
            "Acc 0.9565, Acc on backdoor 0.9979, saved to /content/drive/MyDrive/psecurity/shadow_model_ckpt/mnist/models/shadow_jumbo_76.model @ 2023-08-07 21:17:16.587851\n",
            "\tp size: 3; loc: (22, 24); alpha: 0.432; target_y: 3; inject p: 0.487\n",
            "Acc 0.8832, Acc on backdoor 0.5219, saved to /content/drive/MyDrive/psecurity/shadow_model_ckpt/mnist/models/shadow_jumbo_77.model @ 2023-08-07 21:17:44.182516\n",
            "\tp size: 4; loc: (11, 14); alpha: 0.220; target_y: 3; inject p: 0.249\n",
            "Acc 0.9516, Acc on backdoor 0.9907, saved to /content/drive/MyDrive/psecurity/shadow_model_ckpt/mnist/models/shadow_jumbo_78.model @ 2023-08-07 21:18:08.416830\n",
            "\tp size: 3; loc: (4, 19); alpha: 1.000; target_y: 2; inject p: 0.161\n",
            "Acc 0.9249, Acc on backdoor 0.8328, saved to /content/drive/MyDrive/psecurity/shadow_model_ckpt/mnist/models/shadow_jumbo_79.model @ 2023-08-07 21:18:42.003440\n",
            "\tp size: 5; loc: (7, 7); alpha: 0.243; target_y: 3; inject p: 0.411\n",
            "Acc 0.9466, Acc on backdoor 0.7777, saved to /content/drive/MyDrive/psecurity/shadow_model_ckpt/mnist/models/shadow_jumbo_80.model @ 2023-08-07 21:19:12.201394\n",
            "\tp size: 3; loc: (21, 15); alpha: 0.380; target_y: 0; inject p: 0.333\n",
            "Acc 0.9482, Acc on backdoor 0.8568, saved to /content/drive/MyDrive/psecurity/shadow_model_ckpt/mnist/models/shadow_jumbo_81.model @ 2023-08-07 21:19:36.678053\n",
            "\tp size: 28; loc: (0, 0); alpha: 0.065; target_y: 0; inject p: 0.131\n",
            "Acc 0.9464, Acc on backdoor 0.9686, saved to /content/drive/MyDrive/psecurity/shadow_model_ckpt/mnist/models/shadow_jumbo_82.model @ 2023-08-07 21:20:08.809702\n",
            "\tp size: 5; loc: (14, 17); alpha: 0.413; target_y: 0; inject p: 0.335\n",
            "Acc 0.9460, Acc on backdoor 0.5917, saved to /content/drive/MyDrive/psecurity/shadow_model_ckpt/mnist/models/shadow_jumbo_83.model @ 2023-08-07 21:20:32.219387\n",
            "\tp size: 2; loc: (8, 14); alpha: 1.000; target_y: 2; inject p: 0.121\n",
            "Acc 0.9529, Acc on backdoor 0.9569, saved to /content/drive/MyDrive/psecurity/shadow_model_ckpt/mnist/models/shadow_jumbo_84.model @ 2023-08-07 21:20:58.796310\n",
            "\tp size: 3; loc: (0, 4); alpha: 0.279; target_y: 3; inject p: 0.218\n",
            "Acc 0.9549, Acc on backdoor 0.9882, saved to /content/drive/MyDrive/psecurity/shadow_model_ckpt/mnist/models/shadow_jumbo_85.model @ 2023-08-07 21:21:31.527976\n",
            "\tp size: 4; loc: (6, 23); alpha: 0.418; target_y: 6; inject p: 0.391\n",
            "Acc 0.9316, Acc on backdoor 0.9675, saved to /content/drive/MyDrive/psecurity/shadow_model_ckpt/mnist/models/shadow_jumbo_86.model @ 2023-08-07 21:22:05.215607\n",
            "\tp size: 4; loc: (12, 17); alpha: 0.428; target_y: 6; inject p: 0.452\n",
            "Acc 0.9393, Acc on backdoor 0.3462, saved to /content/drive/MyDrive/psecurity/shadow_model_ckpt/mnist/models/shadow_jumbo_87.model @ 2023-08-07 21:22:30.341892\n",
            "\tp size: 28; loc: (0, 0); alpha: 0.062; target_y: 3; inject p: 0.159\n",
            "Acc 0.9360, Acc on backdoor 0.9761, saved to /content/drive/MyDrive/psecurity/shadow_model_ckpt/mnist/models/shadow_jumbo_88.model @ 2023-08-07 21:22:59.765583\n",
            "\tp size: 5; loc: (8, 19); alpha: 0.433; target_y: 0; inject p: 0.263\n",
            "Acc 0.9424, Acc on backdoor 0.9421, saved to /content/drive/MyDrive/psecurity/shadow_model_ckpt/mnist/models/shadow_jumbo_89.model @ 2023-08-07 21:23:28.894624\n",
            "\tp size: 2; loc: (10, 12); alpha: 1.000; target_y: 0; inject p: 0.307\n",
            "Acc 0.9424, Acc on backdoor 0.7889, saved to /content/drive/MyDrive/psecurity/shadow_model_ckpt/mnist/models/shadow_jumbo_90.model @ 2023-08-07 21:23:52.519186\n",
            "\tp size: 3; loc: (8, 22); alpha: 0.393; target_y: 0; inject p: 0.113\n",
            "Acc 0.9471, Acc on backdoor 0.9477, saved to /content/drive/MyDrive/psecurity/shadow_model_ckpt/mnist/models/shadow_jumbo_91.model @ 2023-08-07 21:24:18.790594\n",
            "\tp size: 3; loc: (4, 5); alpha: 0.201; target_y: 3; inject p: 0.193\n",
            "Acc 0.9534, Acc on backdoor 0.9465, saved to /content/drive/MyDrive/psecurity/shadow_model_ckpt/mnist/models/shadow_jumbo_92.model @ 2023-08-07 21:24:40.768037\n",
            "\tp size: 5; loc: (20, 19); alpha: 1.000; target_y: 0; inject p: 0.092\n",
            "Acc 0.9408, Acc on backdoor 0.9749, saved to /content/drive/MyDrive/psecurity/shadow_model_ckpt/mnist/models/shadow_jumbo_93.model @ 2023-08-07 21:25:15.854828\n",
            "\tp size: 4; loc: (14, 8); alpha: 0.494; target_y: 0; inject p: 0.454\n",
            "Acc 0.9534, Acc on backdoor 0.9984, saved to /content/drive/MyDrive/psecurity/shadow_model_ckpt/mnist/models/shadow_jumbo_94.model @ 2023-08-07 21:25:52.517252\n",
            "\tp size: 3; loc: (4, 24); alpha: 1.000; target_y: 9; inject p: 0.496\n",
            "Acc 0.9497, Acc on backdoor 0.1216, saved to /content/drive/MyDrive/psecurity/shadow_model_ckpt/mnist/models/shadow_jumbo_95.model @ 2023-08-07 21:26:14.181202\n",
            "\tp size: 2; loc: (5, 13); alpha: 0.232; target_y: 5; inject p: 0.063\n",
            "Acc 0.9573, Acc on backdoor 0.9994, saved to /content/drive/MyDrive/psecurity/shadow_model_ckpt/mnist/models/shadow_jumbo_96.model @ 2023-08-07 21:26:44.964205\n",
            "\tp size: 28; loc: (0, 0); alpha: 0.105; target_y: 5; inject p: 0.336\n",
            "Acc 0.9427, Acc on backdoor 0.7896, saved to /content/drive/MyDrive/psecurity/shadow_model_ckpt/mnist/models/shadow_jumbo_97.model @ 2023-08-07 21:27:09.666542\n",
            "\tp size: 3; loc: (11, 6); alpha: 0.388; target_y: 9; inject p: 0.164\n",
            "Acc 0.9574, Acc on backdoor 0.9996, saved to /content/drive/MyDrive/psecurity/shadow_model_ckpt/mnist/models/shadow_jumbo_98.model @ 2023-08-07 21:27:44.891319\n",
            "\tp size: 28; loc: (0, 0); alpha: 0.150; target_y: 9; inject p: 0.469\n",
            "Acc 0.9548, Acc on backdoor 0.9946, saved to /content/drive/MyDrive/psecurity/shadow_model_ckpt/mnist/models/shadow_jumbo_99.model @ 2023-08-07 21:28:14.824930\n",
            "\tp size: 28; loc: (0, 0); alpha: 0.062; target_y: 7; inject p: 0.279\n",
            "Log file saved to /content/drive/MyDrive/psecurity/shadow_model_ckpt/mnist/jumbo.log\n"
          ]
        }
      ]
    },
    {
      "cell_type": "code",
      "source": [
        "pwd"
      ],
      "metadata": {
        "colab": {
          "base_uri": "https://localhost:8080/",
          "height": 35
        },
        "id": "t2TZYL-RN-0x",
        "outputId": "526af3c6-b157-40b5-cb3e-b6007bfb8526"
      },
      "execution_count": null,
      "outputs": [
        {
          "output_type": "execute_result",
          "data": {
            "text/plain": [
              "'/content/Meta-Nerual-Trojan-Detection'"
            ],
            "application/vnd.google.colaboratory.intrinsic+json": {
              "type": "string"
            }
          },
          "metadata": {},
          "execution_count": 26
        }
      ]
    },
    {
      "cell_type": "code",
      "source": [
        "!python /content/Meta-Nerual-Trojan-Detection/run_meta.py --task mnist --troj_type M"
      ],
      "metadata": {
        "id": "CCGQbHohXRfu",
        "colab": {
          "base_uri": "https://localhost:8080/"
        },
        "outputId": "4927448b-cd9f-4c15-ac88-0e3eb562d019"
      },
      "execution_count": 11,
      "outputs": [
        {
          "output_type": "stream",
          "name": "stdout",
          "text": [
            "Task: mnist; target Trojan type: M; input size: (1, 28, 28); class num: 10\n",
            "Training Meta Classifier 1/1\n",
            "100% 10/10 [00:16<00:00,  1.61s/it]\n",
            "\tTest AUC: 0.9466380981532496\n",
            "Average detection AUC on 1 meta classifier: 0.9466\n"
          ]
        }
      ]
    },
    {
      "cell_type": "code",
      "source": [
        "!python /content/Meta-Nerual-Trojan-Detection/run_meta1.py --task mnist --troj_type M"
      ],
      "metadata": {
        "colab": {
          "base_uri": "https://localhost:8080/"
        },
        "id": "MF_WS-1mpFQP",
        "outputId": "338782d4-b1dd-4970-fd1d-11b1caddff70"
      },
      "execution_count": 12,
      "outputs": [
        {
          "output_type": "stream",
          "name": "stdout",
          "text": [
            "Task: mnist; target Trojan type: M; input size: (1, 28, 28); class num: 10\n",
            "Training Meta Classifier 1/1\n",
            "100% 10/10 [00:22<00:00,  2.29s/it]\n",
            "\tTest AUC: 0.9796449341903887\n",
            "Average detection AUC on 1 meta classifier: 0.9796\n"
          ]
        }
      ]
    },
    {
      "cell_type": "code",
      "source": [
        "from google.colab import drive\n",
        "drive.mount('/content/drive')"
      ],
      "metadata": {
        "id": "lK_3fMpKvb8C",
        "colab": {
          "base_uri": "https://localhost:8080/"
        },
        "outputId": "47a17fb3-772f-4b63-c010-b929639725f7"
      },
      "execution_count": 5,
      "outputs": [
        {
          "output_type": "stream",
          "name": "stdout",
          "text": [
            "Mounted at /content/drive\n"
          ]
        }
      ]
    },
    {
      "cell_type": "markdown",
      "source": [
        "# New Section"
      ],
      "metadata": {
        "id": "32qx2FdZAPgr"
      }
    },
    {
      "cell_type": "code",
      "source": [
        "cd .."
      ],
      "metadata": {
        "colab": {
          "base_uri": "https://localhost:8080/"
        },
        "id": "ESGYWdiKyoUU",
        "outputId": "15b05105-1fa9-4014-f929-d5849b4b2efc"
      },
      "execution_count": null,
      "outputs": [
        {
          "output_type": "stream",
          "name": "stdout",
          "text": [
            "/content\n"
          ]
        }
      ]
    },
    {
      "cell_type": "code",
      "source": [
        "cd Meta-Nerual-Trojan-Detection"
      ],
      "metadata": {
        "colab": {
          "base_uri": "https://localhost:8080/"
        },
        "id": "hmwhbUIeyyzK",
        "outputId": "d3cf1d7b-3783-41a8-cd39-7f5adce71e47"
      },
      "execution_count": null,
      "outputs": [
        {
          "output_type": "stream",
          "name": "stdout",
          "text": [
            "/content/Meta-Nerual-Trojan-Detection\n"
          ]
        }
      ]
    }
  ]
}