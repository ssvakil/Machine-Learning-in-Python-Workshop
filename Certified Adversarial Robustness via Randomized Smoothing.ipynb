{
  "nbformat": 4,
  "nbformat_minor": 0,
  "metadata": {
    "accelerator": "GPU",
    "colab": {
      "name": "Train_Classifier.ipynb",
      "provenance": [],
      "machine_shape": "hm",
      "gpuType": "T4",
      "include_colab_link": true
    },
    "environment": {
      "name": "tf2-gpu.2-4.m65",
      "type": "gcloud",
      "uri": "gcr.io/deeplearning-platform-release/tf2-gpu.2-4:m65"
    },
    "kernelspec": {
      "display_name": "Python 3",
      "language": "python",
      "name": "python3"
    },
    "language_info": {
      "codemirror_mode": {
        "name": "ipython",
        "version": 3
      },
      "file_extension": ".py",
      "mimetype": "text/x-python",
      "name": "python",
      "nbconvert_exporter": "python",
      "pygments_lexer": "ipython3",
      "version": "3.7.10"
    },
    "gpuClass": "standard"
  },
  "cells": [
    {
      "cell_type": "markdown",
      "metadata": {
        "id": "view-in-github",
        "colab_type": "text"
      },
      "source": [
        "<a href=\"https://colab.research.google.com/github/ssvakil/Machine-Learning-in-Python-Workshop/blob/master/Certified%20Adversarial%20Robustness%20via%20Randomized%20Smoothing.ipynb\" target=\"_parent\"><img src=\"https://colab.research.google.com/assets/colab-badge.svg\" alt=\"Open In Colab\"/></a>"
      ]
    },
    {
      "cell_type": "markdown",
      "metadata": {
        "id": "T18oVtwdDYtM"
      },
      "source": [
        "## Setup and imports"
      ]
    },
    {
      "cell_type": "code",
      "metadata": {
        "id": "4sfls3mIJCsY",
        "outputId": "76b63cf2-dff5-432a-f00b-bbb7c7618dfa",
        "colab": {
          "base_uri": "https://localhost:8080/"
        }
      },
      "source": [
        "!git clone https://github.com/sayakpaul/Denoised-Smoothing-TF\n",
        "!cd Denoised-Smoothing-TF && tar xf models.tar.gz"
      ],
      "execution_count": 1,
      "outputs": [
        {
          "output_type": "stream",
          "name": "stdout",
          "text": [
            "Cloning into 'Denoised-Smoothing-TF'...\n",
            "remote: Enumerating objects: 111, done.\u001b[K\n",
            "remote: Counting objects: 100% (111/111), done.\u001b[K\n",
            "remote: Compressing objects: 100% (89/89), done.\u001b[K\n",
            "remote: Total 111 (delta 49), reused 60 (delta 21), pack-reused 0\u001b[K\n",
            "Receiving objects: 100% (111/111), 13.00 MiB | 9.84 MiB/s, done.\n",
            "Resolving deltas: 100% (49/49), done.\n"
          ]
        }
      ]
    },
    {
      "cell_type": "code",
      "metadata": {
        "id": "Hvge9_rAA9tj"
      },
      "source": [
        "import sys\n",
        "sys.path.append(\"Denoised-Smoothing-TF\")\n",
        "\n",
        "from models import resnet20\n",
        "\n",
        "from tensorflow.keras import layers\n",
        "import tensorflow as tf\n",
        "\n",
        "import matplotlib.pyplot as plt\n",
        "import numpy as np\n",
        "\n",
        "tf.random.set_seed(42)\n",
        "np.random.seed(42)"
      ],
      "execution_count": 2,
      "outputs": []
    },
    {
      "cell_type": "markdown",
      "metadata": {
        "id": "W5Xdz4RCJCsZ"
      },
      "source": [
        "With a TPU, you would need to have a GCS Bucket to serialize and load the `SavedModel` files. "
      ]
    },
    {
      "cell_type": "code",
      "metadata": {
        "colab": {
          "base_uri": "https://localhost:8080/"
        },
        "id": "hTxobBFVFRSN",
        "outputId": "0a7a8c54-b284-4cf5-d7ee-4b6624d737f1"
      },
      "source": [
        "try: \n",
        "    tpu = None\n",
        "    tpu = tf.distribute.cluster_resolver.TPUClusterResolver() \n",
        "    tf.config.experimental_connect_to_cluster(tpu)\n",
        "    tf.tpu.experimental.initialize_tpu_system(tpu)\n",
        "    strategy = tf.distribute.TPUStrategy(tpu)\n",
        "except ValueError: \n",
        "    strategy = tf.distribute.MirroredStrategy() \n",
        "\n",
        "print(\"Number of accelerators: \", strategy.num_replicas_in_sync)"
      ],
      "execution_count": 3,
      "outputs": [
        {
          "output_type": "stream",
          "name": "stdout",
          "text": [
            "Number of accelerators:  1\n"
          ]
        }
      ]
    },
    {
      "cell_type": "markdown",
      "metadata": {
        "id": "VPXES8gJDbAA"
      },
      "source": [
        "## Load the CIFAR-10 dataset"
      ]
    },
    {
      "cell_type": "code",
      "metadata": {
        "colab": {
          "base_uri": "https://localhost:8080/"
        },
        "id": "PeEXTDzCBuFr",
        "outputId": "bb216ead-6d55-4091-ee57-945161a008ed"
      },
      "source": [
        "(x_train, y_train), (x_test, y_test) = tf.keras.datasets.cifar10.load_data()\n",
        "\n",
        "y_train = tf.keras.utils.to_categorical(y_train, 10)\n",
        "y_test = tf.keras.utils.to_categorical(y_test, 10)\n",
        "\n",
        "print(f\"Total training examples: {len(x_train)}\")\n",
        "print(f\"Total test examples: {len(x_test)}\")"
      ],
      "execution_count": 4,
      "outputs": [
        {
          "output_type": "stream",
          "name": "stdout",
          "text": [
            "Downloading data from https://www.cs.toronto.edu/~kriz/cifar-10-python.tar.gz\n",
            "170498071/170498071 [==============================] - 4s 0us/step\n",
            "Total training examples: 50000\n",
            "Total test examples: 10000\n"
          ]
        }
      ]
    },
    {
      "cell_type": "markdown",
      "metadata": {
        "id": "U4RfWSOZDfS6"
      },
      "source": [
        "## Define constants"
      ]
    },
    {
      "cell_type": "code",
      "metadata": {
        "id": "uRL0hOAUByGr"
      },
      "source": [
        "BATCH_SIZE = 128 * strategy.num_replicas_in_sync\n",
        "EPOCHS = 90 \n",
        "START_LR = 0.1 \n",
        "AUTO = tf.data.AUTOTUNE"
      ],
      "execution_count": 5,
      "outputs": []
    },
    {
      "cell_type": "markdown",
      "metadata": {
        "id": "1DUjJliJDiEq"
      },
      "source": [
        "## Prepare data loaders"
      ]
    },
    {
      "cell_type": "code",
      "metadata": {
        "id": "tQT1v91WB0Cm"
      },
      "source": [
        "# Augmentation pipeline\n",
        "data_augmentation = tf.keras.Sequential(\n",
        "    [\n",
        "        layers.experimental.preprocessing.Normalization(),\n",
        "        layers.experimental.preprocessing.RandomCrop(32, 32),\n",
        "        layers.experimental.preprocessing.RandomFlip(\"horizontal\"),\n",
        "        layers.experimental.preprocessing.RandomRotation(factor=0.02),\n",
        "        layers.experimental.preprocessing.RandomZoom(\n",
        "            height_factor=0.2, width_factor=0.2\n",
        "        )\n",
        "    ]\n",
        ")\n",
        "\n",
        "# Now, map the augmentation pipeline to our training dataset\n",
        "train_ds = (\n",
        "    tf.data.Dataset.from_tensor_slices((x_train, y_train))\n",
        "    .shuffle(BATCH_SIZE * 100)\n",
        "    .map(lambda x, y: (tf.image.convert_image_dtype(x, tf.float32), y), \n",
        "         num_parallel_calls=AUTO)\n",
        "    .batch(BATCH_SIZE)\n",
        "    .prefetch(AUTO)\n",
        ")\n",
        "\n",
        "# Test dataset\n",
        "test_ds = (\n",
        "    tf.data.Dataset.from_tensor_slices((x_test, y_test))\n",
        "    .map(lambda x, y: (tf.image.convert_image_dtype(x, tf.float32), y), \n",
        "         num_parallel_calls=AUTO)\n",
        "    .batch(BATCH_SIZE)\n",
        "    .prefetch(AUTO)\n",
        ")\n",
        "\n",
        "# Compute the mean and the variance of the training data for normalization\n",
        "data_augmentation.layers[0].adapt(x_train/255.) # Notice the scaling step"
      ],
      "execution_count": 6,
      "outputs": []
    },
    {
      "cell_type": "markdown",
      "metadata": {
        "id": "5uKnDkElDmPK"
      },
      "source": [
        "## Model utilities"
      ]
    },
    {
      "cell_type": "code",
      "metadata": {
        "id": "JfMwi6acCGxE"
      },
      "source": [
        "def get_model(n_classes=10):\n",
        "    n = 2\n",
        "    depth = n * 9 + 2\n",
        "    n_blocks = ((depth - 2) // 9) - 1\n",
        "\n",
        "    # The input tensor\n",
        "    inputs = layers.Input(shape=(32, 32, 3))\n",
        "    x = data_augmentation(inputs) # Normalize and augment\n",
        "\n",
        "    # The Stem Convolution Group\n",
        "    x = resnet20.stem(x)\n",
        "\n",
        "    # The learner\n",
        "    x = resnet20.learner(x, n_blocks)\n",
        "\n",
        "    # The Classifier for 10 classes\n",
        "    outputs = resnet20.classifier(x, 10)\n",
        "\n",
        "    # Instantiate the Model\n",
        "    model = tf.keras.Model(inputs, outputs)\n",
        "    return model"
      ],
      "execution_count": 7,
      "outputs": []
    },
    {
      "cell_type": "code",
      "metadata": {
        "colab": {
          "base_uri": "https://localhost:8080/"
        },
        "id": "k38CSL2RCgsb",
        "outputId": "5b4e2a2f-4184-4a9b-8aa1-0608afae4572"
      },
      "source": [
        "# Serialize the initial model for better reproducibility\n",
        "with strategy.scope():\n",
        "    get_model().save(\"initial_model_resnet20\")"
      ],
      "execution_count": 8,
      "outputs": [
        {
          "output_type": "stream",
          "name": "stderr",
          "text": [
            "WARNING:tensorflow:Compiled the loaded model, but the compiled metrics have yet to be built. `model.compile_metrics` will be empty until you train or evaluate the model.\n",
            "WARNING:absl:Found untraced functions such as _jit_compiled_convolution_op, _jit_compiled_convolution_op, _jit_compiled_convolution_op, _jit_compiled_convolution_op, _jit_compiled_convolution_op while saving (showing 5 of 22). These functions will not be directly callable after loading.\n"
          ]
        }
      ]
    },
    {
      "cell_type": "markdown",
      "metadata": {
        "id": "bLjm5gx4Dp1n"
      },
      "source": [
        "## Model training"
      ]
    },
    {
      "cell_type": "code",
      "metadata": {
        "id": "icrnQNyQJCse"
      },
      "source": [
        "# LR Scheduler\n",
        "reduce_lr = tf.keras.callbacks.ReduceLROnPlateau(monitor=\"loss\", patience=3)"
      ],
      "execution_count": 9,
      "outputs": []
    },
    {
      "cell_type": "code",
      "metadata": {
        "id": "BwGi5W1tB6N9"
      },
      "source": [
        "# Optimizer and loss function\n",
        "optimizer = tf.keras.optimizers.SGD(learning_rate=START_LR, momentum=0.9)\n",
        "loss_fn = tf.keras.losses.CategoricalCrossentropy(label_smoothing=0.1)"
      ],
      "execution_count": 10,
      "outputs": []
    },
    {
      "cell_type": "markdown",
      "metadata": {
        "id": "ZDIJclN2JCsf"
      },
      "source": [
        "One can obtain the initial weights that I used from [here](https://github.com/sayakpaul/Denoised-Smoothing-TF/raw/main/models.tar.gz)."
      ]
    },
    {
      "cell_type": "code",
      "metadata": {
        "colab": {
          "base_uri": "https://localhost:8080/"
        },
        "id": "ZyuPYAniB8oo",
        "outputId": "7f98ad98-4cb8-4122-b26d-09ef81479058"
      },
      "source": [
        "with strategy.scope():\n",
        "    rn_model = tf.keras.models.load_model(\"initial_model_resnet20\")\n",
        "    rn_model.compile(loss=loss_fn, optimizer=optimizer, metrics=[\"accuracy\"])\n",
        "\n",
        "history = rn_model.fit(train_ds,validation_data=test_ds,epochs=EPOCHS,callbacks=[reduce_lr])"
      ],
      "execution_count": 11,
      "outputs": [
        {
          "output_type": "stream",
          "name": "stderr",
          "text": [
            "WARNING:tensorflow:No training configuration found in save file, so the model was *not* compiled. Compile it manually.\n"
          ]
        },
        {
          "output_type": "stream",
          "name": "stdout",
          "text": [
            "Epoch 1/90\n",
            "391/391 [==============================] - 46s 68ms/step - loss: 2.3765 - accuracy: 0.4353 - val_loss: 2.1574 - val_accuracy: 0.4687 - lr: 0.1000\n",
            "Epoch 2/90\n",
            "391/391 [==============================] - 24s 62ms/step - loss: 1.7953 - accuracy: 0.5945 - val_loss: 2.1714 - val_accuracy: 0.4506 - lr: 0.1000\n",
            "Epoch 3/90\n",
            "391/391 [==============================] - 24s 62ms/step - loss: 1.5572 - accuracy: 0.6569 - val_loss: 1.7020 - val_accuracy: 0.5859 - lr: 0.1000\n",
            "Epoch 4/90\n",
            "391/391 [==============================] - 24s 61ms/step - loss: 1.4309 - accuracy: 0.6966 - val_loss: 1.4798 - val_accuracy: 0.6742 - lr: 0.1000\n",
            "Epoch 5/90\n",
            "391/391 [==============================] - 24s 62ms/step - loss: 1.3735 - accuracy: 0.7188 - val_loss: 1.5881 - val_accuracy: 0.6367 - lr: 0.1000\n",
            "Epoch 6/90\n",
            "391/391 [==============================] - 24s 62ms/step - loss: 1.3367 - accuracy: 0.7345 - val_loss: 1.6937 - val_accuracy: 0.6006 - lr: 0.1000\n",
            "Epoch 7/90\n",
            "391/391 [==============================] - 25s 63ms/step - loss: 1.3082 - accuracy: 0.7482 - val_loss: 1.5624 - val_accuracy: 0.6255 - lr: 0.1000\n",
            "Epoch 8/90\n",
            "391/391 [==============================] - 24s 62ms/step - loss: 1.2934 - accuracy: 0.7563 - val_loss: 1.4790 - val_accuracy: 0.6661 - lr: 0.1000\n",
            "Epoch 9/90\n",
            "391/391 [==============================] - 25s 63ms/step - loss: 1.2769 - accuracy: 0.7664 - val_loss: 1.4715 - val_accuracy: 0.6649 - lr: 0.1000\n",
            "Epoch 10/90\n",
            "391/391 [==============================] - 25s 63ms/step - loss: 1.2749 - accuracy: 0.7672 - val_loss: 1.4361 - val_accuracy: 0.6938 - lr: 0.1000\n",
            "Epoch 11/90\n",
            "391/391 [==============================] - 24s 62ms/step - loss: 1.2684 - accuracy: 0.7711 - val_loss: 1.5344 - val_accuracy: 0.6627 - lr: 0.1000\n",
            "Epoch 12/90\n",
            "391/391 [==============================] - 25s 63ms/step - loss: 1.2593 - accuracy: 0.7761 - val_loss: 1.6553 - val_accuracy: 0.6214 - lr: 0.1000\n",
            "Epoch 13/90\n",
            "391/391 [==============================] - 25s 64ms/step - loss: 1.2516 - accuracy: 0.7811 - val_loss: 1.3784 - val_accuracy: 0.7220 - lr: 0.1000\n",
            "Epoch 14/90\n",
            "391/391 [==============================] - 25s 63ms/step - loss: 1.2467 - accuracy: 0.7823 - val_loss: 1.6202 - val_accuracy: 0.6338 - lr: 0.1000\n",
            "Epoch 15/90\n",
            "391/391 [==============================] - 24s 62ms/step - loss: 1.2458 - accuracy: 0.7824 - val_loss: 1.6135 - val_accuracy: 0.6409 - lr: 0.1000\n",
            "Epoch 16/90\n",
            "391/391 [==============================] - 25s 64ms/step - loss: 1.2386 - accuracy: 0.7905 - val_loss: 1.6784 - val_accuracy: 0.5984 - lr: 0.1000\n",
            "Epoch 17/90\n",
            "391/391 [==============================] - 25s 63ms/step - loss: 1.2380 - accuracy: 0.7896 - val_loss: 1.4703 - val_accuracy: 0.6992 - lr: 0.1000\n",
            "Epoch 18/90\n",
            "391/391 [==============================] - 24s 62ms/step - loss: 1.2337 - accuracy: 0.7929 - val_loss: 1.6447 - val_accuracy: 0.6160 - lr: 0.1000\n",
            "Epoch 19/90\n",
            "391/391 [==============================] - 25s 64ms/step - loss: 1.2298 - accuracy: 0.7966 - val_loss: 1.4513 - val_accuracy: 0.6879 - lr: 0.1000\n",
            "Epoch 20/90\n",
            "391/391 [==============================] - 24s 62ms/step - loss: 1.2300 - accuracy: 0.7955 - val_loss: 1.4778 - val_accuracy: 0.6932 - lr: 0.1000\n",
            "Epoch 21/90\n",
            "391/391 [==============================] - 24s 63ms/step - loss: 1.2225 - accuracy: 0.7984 - val_loss: 1.3839 - val_accuracy: 0.7288 - lr: 0.1000\n",
            "Epoch 22/90\n",
            "391/391 [==============================] - 25s 63ms/step - loss: 1.2267 - accuracy: 0.8011 - val_loss: 1.3478 - val_accuracy: 0.7447 - lr: 0.1000\n",
            "Epoch 23/90\n",
            "391/391 [==============================] - 24s 62ms/step - loss: 1.2246 - accuracy: 0.8003 - val_loss: 1.5870 - val_accuracy: 0.6450 - lr: 0.1000\n",
            "Epoch 24/90\n",
            "391/391 [==============================] - 25s 63ms/step - loss: 1.2257 - accuracy: 0.8022 - val_loss: 1.4307 - val_accuracy: 0.7015 - lr: 0.1000\n",
            "Epoch 25/90\n",
            "391/391 [==============================] - 24s 62ms/step - loss: 1.1189 - accuracy: 0.8514 - val_loss: 1.1412 - val_accuracy: 0.8313 - lr: 0.0100\n",
            "Epoch 26/90\n",
            "391/391 [==============================] - 25s 65ms/step - loss: 1.0466 - accuracy: 0.8783 - val_loss: 1.0926 - val_accuracy: 0.8508 - lr: 0.0100\n",
            "Epoch 27/90\n",
            "391/391 [==============================] - 24s 63ms/step - loss: 1.0159 - accuracy: 0.8857 - val_loss: 1.0516 - val_accuracy: 0.8609 - lr: 0.0100\n",
            "Epoch 28/90\n",
            "391/391 [==============================] - 24s 62ms/step - loss: 0.9918 - accuracy: 0.8911 - val_loss: 1.0448 - val_accuracy: 0.8580 - lr: 0.0100\n",
            "Epoch 29/90\n",
            "391/391 [==============================] - 25s 63ms/step - loss: 0.9704 - accuracy: 0.8961 - val_loss: 1.0273 - val_accuracy: 0.8598 - lr: 0.0100\n",
            "Epoch 30/90\n",
            "391/391 [==============================] - 25s 64ms/step - loss: 0.9514 - accuracy: 0.8991 - val_loss: 1.0295 - val_accuracy: 0.8556 - lr: 0.0100\n",
            "Epoch 31/90\n",
            "391/391 [==============================] - 25s 63ms/step - loss: 0.9410 - accuracy: 0.8992 - val_loss: 1.0550 - val_accuracy: 0.8366 - lr: 0.0100\n",
            "Epoch 32/90\n",
            "391/391 [==============================] - 24s 61ms/step - loss: 0.9243 - accuracy: 0.9035 - val_loss: 1.0027 - val_accuracy: 0.8607 - lr: 0.0100\n",
            "Epoch 33/90\n",
            "391/391 [==============================] - 25s 64ms/step - loss: 0.9132 - accuracy: 0.9051 - val_loss: 0.9881 - val_accuracy: 0.8652 - lr: 0.0100\n",
            "Epoch 34/90\n",
            "391/391 [==============================] - 24s 61ms/step - loss: 0.9033 - accuracy: 0.9073 - val_loss: 0.9976 - val_accuracy: 0.8530 - lr: 0.0100\n",
            "Epoch 35/90\n",
            "391/391 [==============================] - 24s 62ms/step - loss: 0.8964 - accuracy: 0.9075 - val_loss: 1.0242 - val_accuracy: 0.8472 - lr: 0.0100\n",
            "Epoch 36/90\n",
            "391/391 [==============================] - 24s 62ms/step - loss: 0.8894 - accuracy: 0.9093 - val_loss: 1.0002 - val_accuracy: 0.8500 - lr: 0.0100\n",
            "Epoch 37/90\n",
            "391/391 [==============================] - 24s 62ms/step - loss: 0.8836 - accuracy: 0.9095 - val_loss: 1.0078 - val_accuracy: 0.8437 - lr: 0.0100\n",
            "Epoch 38/90\n",
            "391/391 [==============================] - 25s 63ms/step - loss: 0.8792 - accuracy: 0.9100 - val_loss: 0.9881 - val_accuracy: 0.8558 - lr: 0.0100\n",
            "Epoch 39/90\n",
            "391/391 [==============================] - 24s 61ms/step - loss: 0.8741 - accuracy: 0.9121 - val_loss: 1.0997 - val_accuracy: 0.8086 - lr: 0.0100\n",
            "Epoch 40/90\n",
            "391/391 [==============================] - 24s 62ms/step - loss: 0.8734 - accuracy: 0.9107 - val_loss: 0.9708 - val_accuracy: 0.8625 - lr: 0.0100\n",
            "Epoch 41/90\n",
            "391/391 [==============================] - 24s 62ms/step - loss: 0.8673 - accuracy: 0.9137 - val_loss: 0.9496 - val_accuracy: 0.8721 - lr: 0.0100\n",
            "Epoch 42/90\n",
            "391/391 [==============================] - 24s 61ms/step - loss: 0.8668 - accuracy: 0.9122 - val_loss: 0.9921 - val_accuracy: 0.8534 - lr: 0.0100\n",
            "Epoch 43/90\n",
            "391/391 [==============================] - 25s 63ms/step - loss: 0.8618 - accuracy: 0.9136 - val_loss: 1.0607 - val_accuracy: 0.8175 - lr: 0.0100\n",
            "Epoch 44/90\n",
            "391/391 [==============================] - 28s 72ms/step - loss: 0.8618 - accuracy: 0.9148 - val_loss: 0.9728 - val_accuracy: 0.8579 - lr: 0.0100\n",
            "Epoch 45/90\n",
            "391/391 [==============================] - 25s 63ms/step - loss: 0.8588 - accuracy: 0.9150 - val_loss: 1.0013 - val_accuracy: 0.8452 - lr: 0.0100\n",
            "Epoch 46/90\n",
            "391/391 [==============================] - 24s 62ms/step - loss: 0.8562 - accuracy: 0.9158 - val_loss: 0.9763 - val_accuracy: 0.8577 - lr: 0.0100\n",
            "Epoch 47/90\n",
            "391/391 [==============================] - 25s 65ms/step - loss: 0.8579 - accuracy: 0.9138 - val_loss: 0.9975 - val_accuracy: 0.8438 - lr: 0.0100\n",
            "Epoch 48/90\n",
            "391/391 [==============================] - 24s 61ms/step - loss: 0.8529 - accuracy: 0.9169 - val_loss: 0.9398 - val_accuracy: 0.8736 - lr: 0.0100\n",
            "Epoch 49/90\n",
            "391/391 [==============================] - 24s 62ms/step - loss: 0.8513 - accuracy: 0.9181 - val_loss: 0.9696 - val_accuracy: 0.8633 - lr: 0.0100\n",
            "Epoch 50/90\n",
            "391/391 [==============================] - 24s 62ms/step - loss: 0.8498 - accuracy: 0.9187 - val_loss: 1.0447 - val_accuracy: 0.8207 - lr: 0.0100\n",
            "Epoch 51/90\n",
            "391/391 [==============================] - 24s 61ms/step - loss: 0.8518 - accuracy: 0.9166 - val_loss: 1.0622 - val_accuracy: 0.8185 - lr: 0.0100\n",
            "Epoch 52/90\n",
            "391/391 [==============================] - 24s 63ms/step - loss: 0.8487 - accuracy: 0.9186 - val_loss: 1.0433 - val_accuracy: 0.8290 - lr: 0.0100\n",
            "Epoch 53/90\n",
            "391/391 [==============================] - 24s 61ms/step - loss: 0.8474 - accuracy: 0.9188 - val_loss: 0.9875 - val_accuracy: 0.8547 - lr: 0.0100\n",
            "Epoch 54/90\n",
            "391/391 [==============================] - 24s 62ms/step - loss: 0.8463 - accuracy: 0.9195 - val_loss: 1.1225 - val_accuracy: 0.7987 - lr: 0.0100\n",
            "Epoch 55/90\n",
            "391/391 [==============================] - 24s 62ms/step - loss: 0.8466 - accuracy: 0.9219 - val_loss: 0.9485 - val_accuracy: 0.8691 - lr: 0.0100\n",
            "Epoch 56/90\n",
            "391/391 [==============================] - 24s 61ms/step - loss: 0.8428 - accuracy: 0.9223 - val_loss: 1.0685 - val_accuracy: 0.8187 - lr: 0.0100\n",
            "Epoch 57/90\n",
            "391/391 [==============================] - 25s 63ms/step - loss: 0.8440 - accuracy: 0.9215 - val_loss: 1.0201 - val_accuracy: 0.8360 - lr: 0.0100\n",
            "Epoch 58/90\n",
            "391/391 [==============================] - 24s 62ms/step - loss: 0.8452 - accuracy: 0.9205 - val_loss: 1.0360 - val_accuracy: 0.8257 - lr: 0.0100\n",
            "Epoch 59/90\n",
            "391/391 [==============================] - 25s 63ms/step - loss: 0.8449 - accuracy: 0.9211 - val_loss: 0.9706 - val_accuracy: 0.8611 - lr: 0.0100\n",
            "Epoch 60/90\n",
            "391/391 [==============================] - 24s 62ms/step - loss: 0.8031 - accuracy: 0.9432 - val_loss: 0.9017 - val_accuracy: 0.8865 - lr: 1.0000e-03\n",
            "Epoch 61/90\n",
            "391/391 [==============================] - 24s 62ms/step - loss: 0.7804 - accuracy: 0.9533 - val_loss: 0.8780 - val_accuracy: 0.8993 - lr: 1.0000e-03\n",
            "Epoch 62/90\n",
            "391/391 [==============================] - 25s 64ms/step - loss: 0.7732 - accuracy: 0.9570 - val_loss: 0.8810 - val_accuracy: 0.8981 - lr: 1.0000e-03\n",
            "Epoch 63/90\n",
            "391/391 [==============================] - 25s 64ms/step - loss: 0.7666 - accuracy: 0.9596 - val_loss: 0.8712 - val_accuracy: 0.9009 - lr: 1.0000e-03\n",
            "Epoch 64/90\n",
            "391/391 [==============================] - 25s 63ms/step - loss: 0.7630 - accuracy: 0.9610 - val_loss: 0.8786 - val_accuracy: 0.8954 - lr: 1.0000e-03\n",
            "Epoch 65/90\n",
            "391/391 [==============================] - 24s 62ms/step - loss: 0.7598 - accuracy: 0.9621 - val_loss: 0.8708 - val_accuracy: 0.8999 - lr: 1.0000e-03\n",
            "Epoch 66/90\n",
            "391/391 [==============================] - 24s 62ms/step - loss: 0.7554 - accuracy: 0.9642 - val_loss: 0.8802 - val_accuracy: 0.8944 - lr: 1.0000e-03\n",
            "Epoch 67/90\n",
            "391/391 [==============================] - 25s 63ms/step - loss: 0.7521 - accuracy: 0.9650 - val_loss: 0.8746 - val_accuracy: 0.8953 - lr: 1.0000e-03\n",
            "Epoch 68/90\n",
            "391/391 [==============================] - 25s 64ms/step - loss: 0.7511 - accuracy: 0.9642 - val_loss: 0.8645 - val_accuracy: 0.9007 - lr: 1.0000e-03\n",
            "Epoch 69/90\n",
            "391/391 [==============================] - 25s 63ms/step - loss: 0.7476 - accuracy: 0.9665 - val_loss: 0.8708 - val_accuracy: 0.8988 - lr: 1.0000e-03\n",
            "Epoch 70/90\n",
            "391/391 [==============================] - 24s 62ms/step - loss: 0.7453 - accuracy: 0.9664 - val_loss: 0.8649 - val_accuracy: 0.9031 - lr: 1.0000e-03\n",
            "Epoch 71/90\n",
            "391/391 [==============================] - 25s 63ms/step - loss: 0.7421 - accuracy: 0.9680 - val_loss: 0.8616 - val_accuracy: 0.9036 - lr: 1.0000e-03\n",
            "Epoch 72/90\n",
            "391/391 [==============================] - 24s 63ms/step - loss: 0.7397 - accuracy: 0.9683 - val_loss: 0.8628 - val_accuracy: 0.9027 - lr: 1.0000e-03\n",
            "Epoch 73/90\n",
            "391/391 [==============================] - 24s 62ms/step - loss: 0.7387 - accuracy: 0.9683 - val_loss: 0.8609 - val_accuracy: 0.9021 - lr: 1.0000e-03\n",
            "Epoch 74/90\n",
            "391/391 [==============================] - 25s 64ms/step - loss: 0.7366 - accuracy: 0.9691 - val_loss: 0.8613 - val_accuracy: 0.9009 - lr: 1.0000e-03\n",
            "Epoch 75/90\n",
            "391/391 [==============================] - 25s 64ms/step - loss: 0.7347 - accuracy: 0.9701 - val_loss: 0.8652 - val_accuracy: 0.8996 - lr: 1.0000e-03\n",
            "Epoch 76/90\n",
            "391/391 [==============================] - 25s 63ms/step - loss: 0.7324 - accuracy: 0.9706 - val_loss: 0.8546 - val_accuracy: 0.9055 - lr: 1.0000e-03\n",
            "Epoch 77/90\n",
            "391/391 [==============================] - 24s 62ms/step - loss: 0.7295 - accuracy: 0.9727 - val_loss: 0.8539 - val_accuracy: 0.9061 - lr: 1.0000e-03\n",
            "Epoch 78/90\n",
            "391/391 [==============================] - 24s 62ms/step - loss: 0.7297 - accuracy: 0.9713 - val_loss: 0.8597 - val_accuracy: 0.9020 - lr: 1.0000e-03\n",
            "Epoch 79/90\n",
            "391/391 [==============================] - 25s 64ms/step - loss: 0.7272 - accuracy: 0.9722 - val_loss: 0.8680 - val_accuracy: 0.8958 - lr: 1.0000e-03\n",
            "Epoch 80/90\n",
            "391/391 [==============================] - 25s 64ms/step - loss: 0.7257 - accuracy: 0.9729 - val_loss: 0.8704 - val_accuracy: 0.8948 - lr: 1.0000e-03\n",
            "Epoch 81/90\n",
            "391/391 [==============================] - 25s 63ms/step - loss: 0.7242 - accuracy: 0.9723 - val_loss: 0.8571 - val_accuracy: 0.8991 - lr: 1.0000e-03\n",
            "Epoch 82/90\n",
            "391/391 [==============================] - 24s 62ms/step - loss: 0.7223 - accuracy: 0.9747 - val_loss: 0.8534 - val_accuracy: 0.9050 - lr: 1.0000e-03\n",
            "Epoch 83/90\n",
            "391/391 [==============================] - 24s 62ms/step - loss: 0.7209 - accuracy: 0.9746 - val_loss: 0.8634 - val_accuracy: 0.8962 - lr: 1.0000e-03\n",
            "Epoch 84/90\n",
            "391/391 [==============================] - 25s 63ms/step - loss: 0.7197 - accuracy: 0.9739 - val_loss: 0.8570 - val_accuracy: 0.9003 - lr: 1.0000e-03\n",
            "Epoch 85/90\n",
            "391/391 [==============================] - 25s 64ms/step - loss: 0.7174 - accuracy: 0.9760 - val_loss: 0.8628 - val_accuracy: 0.8962 - lr: 1.0000e-03\n",
            "Epoch 86/90\n",
            "391/391 [==============================] - 25s 63ms/step - loss: 0.7158 - accuracy: 0.9749 - val_loss: 0.8538 - val_accuracy: 0.9022 - lr: 1.0000e-03\n",
            "Epoch 87/90\n",
            "391/391 [==============================] - 24s 61ms/step - loss: 0.7153 - accuracy: 0.9751 - val_loss: 0.8617 - val_accuracy: 0.8973 - lr: 1.0000e-03\n",
            "Epoch 88/90\n",
            "391/391 [==============================] - 25s 63ms/step - loss: 0.7126 - accuracy: 0.9765 - val_loss: 0.8463 - val_accuracy: 0.9065 - lr: 1.0000e-03\n",
            "Epoch 89/90\n",
            "391/391 [==============================] - 24s 63ms/step - loss: 0.7122 - accuracy: 0.9757 - val_loss: 0.8552 - val_accuracy: 0.8997 - lr: 1.0000e-03\n",
            "Epoch 90/90\n",
            "391/391 [==============================] - 24s 62ms/step - loss: 0.7111 - accuracy: 0.9764 - val_loss: 0.8505 - val_accuracy: 0.9017 - lr: 1.0000e-03\n"
          ]
        }
      ]
    },
    {
      "cell_type": "code",
      "metadata": {
        "id": "v1JWLrxYDFZ3",
        "outputId": "f859868f-4278-48da-9c7b-8c379e72e1b3",
        "colab": {
          "base_uri": "https://localhost:8080/",
          "height": 467
        }
      },
      "source": [
        "plt.plot(history.history[\"loss\"], label=\"train loss\")\n",
        "plt.plot(history.history[\"val_loss\"], label=\"test loss\")\n",
        "plt.grid()\n",
        "plt.legend()\n",
        "plt.show()\n",
        "\n",
        "rn_model.save(\"resnet20_classifier\")"
      ],
      "execution_count": 12,
      "outputs": [
        {
          "output_type": "display_data",
          "data": {
            "text/plain": [
              "<Figure size 640x480 with 1 Axes>"
            ],
            "image/png": "[encoded data removed]"
          },
          "metadata": {}
        },
        {
          "output_type": "stream",
          "name": "stderr",
          "text": [
            "WARNING:absl:Found untraced functions such as _jit_compiled_convolution_op, _jit_compiled_convolution_op, _jit_compiled_convolution_op, _jit_compiled_convolution_op, _jit_compiled_convolution_op while saving (showing 5 of 22). These functions will not be directly callable after loading.\n"
          ]
        }
      ]
    },
    {
      "cell_type": "code",
      "metadata": {
        "id": "C6BohaLaEroC",
        "outputId": "31fdedd1-80f8-4215-83ba-f495637d7dfe",
        "colab": {
          "base_uri": "https://localhost:8080/"
        }
      },
      "source": [
        "with strategy.scope():\n",
        "    _, train_acc = rn_model.evaluate(train_ds, verbose=0)\n",
        "    _, test_acc = rn_model.evaluate(test_ds, verbose=0)\n",
        "\n",
        "print(\"Train accuracy: {:.2f}%\".format(train_acc * 100))\n",
        "print(\"Test accuracy: {:.2f}%\".format(test_acc * 100))"
      ],
      "execution_count": 13,
      "outputs": [
        {
          "output_type": "stream",
          "name": "stdout",
          "text": [
            "Train accuracy: 97.96%\n",
            "Test accuracy: 90.17%\n"
          ]
        }
      ]
    }
  ]
}