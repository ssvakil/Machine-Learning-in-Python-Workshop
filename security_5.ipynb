{
  "nbformat": 4,
  "nbformat_minor": 0,
  "metadata": {
    "colab": {
      "provenance": [],
      "gpuType": "T4",
      "include_colab_link": true
    },
    "kernelspec": {
      "name": "python3",
      "display_name": "Python 3"
    },
    "language_info": {
      "name": "python"
    },
    "accelerator": "GPU",
    "gpuClass": "standard"
  },
  "cells": [
    {
      "cell_type": "markdown",
      "metadata": {
        "id": "view-in-github",
        "colab_type": "text"
      },
      "source": [
        "<a href=\"https://colab.research.google.com/github/ssvakil/Machine-Learning-in-Python-Workshop/blob/master/security_5.ipynb\" target=\"_parent\"><img src=\"https://colab.research.google.com/assets/colab-badge.svg\" alt=\"Open In Colab\"/></a>"
      ]
    },
    {
      "cell_type": "code",
      "source": [
        "import numpy as np\n",
        "from tensorflow import keras\n",
        "from tensorflow.keras import layers\n",
        "from keras.datasets import mnist\n",
        "!pip install matplotlib\n",
        "from matplotlib import pyplot"
      ],
      "metadata": {
        "colab": {
          "base_uri": "https://localhost:8080/"
        },
        "id": "J5gC-jR4txGd",
        "outputId": "34d99dad-aac0-452d-f777-ecb90ef526ff"
      },
      "execution_count": 1,
      "outputs": [
        {
          "output_type": "stream",
          "name": "stdout",
          "text": [
            "Looking in indexes: https://pypi.org/simple, https://us-python.pkg.dev/colab-wheels/public/simple/\n",
            "Requirement already satisfied: matplotlib in /usr/local/lib/python3.9/dist-packages (3.7.1)\n",
            "Requirement already satisfied: contourpy>=1.0.1 in /usr/local/lib/python3.9/dist-packages (from matplotlib) (1.0.7)\n",
            "Requirement already satisfied: cycler>=0.10 in /usr/local/lib/python3.9/dist-packages (from matplotlib) (0.11.0)\n",
            "Requirement already satisfied: python-dateutil>=2.7 in /usr/local/lib/python3.9/dist-packages (from matplotlib) (2.8.2)\n",
            "Requirement already satisfied: fonttools>=4.22.0 in /usr/local/lib/python3.9/dist-packages (from matplotlib) (4.39.3)\n",
            "Requirement already satisfied: kiwisolver>=1.0.1 in /usr/local/lib/python3.9/dist-packages (from matplotlib) (1.4.4)\n",
            "Requirement already satisfied: importlib-resources>=3.2.0 in /usr/local/lib/python3.9/dist-packages (from matplotlib) (5.12.0)\n",
            "Requirement already satisfied: numpy>=1.20 in /usr/local/lib/python3.9/dist-packages (from matplotlib) (1.22.4)\n",
            "Requirement already satisfied: pyparsing>=2.3.1 in /usr/local/lib/python3.9/dist-packages (from matplotlib) (3.0.9)\n",
            "Requirement already satisfied: packaging>=20.0 in /usr/local/lib/python3.9/dist-packages (from matplotlib) (23.0)\n",
            "Requirement already satisfied: pillow>=6.2.0 in /usr/local/lib/python3.9/dist-packages (from matplotlib) (8.4.0)\n",
            "Requirement already satisfied: zipp>=3.1.0 in /usr/local/lib/python3.9/dist-packages (from importlib-resources>=3.2.0->matplotlib) (3.15.0)\n",
            "Requirement already satisfied: six>=1.5 in /usr/local/lib/python3.9/dist-packages (from python-dateutil>=2.7->matplotlib) (1.16.0)\n"
          ]
        }
      ]
    },
    {
      "cell_type": "code",
      "execution_count": 2,
      "metadata": {
        "colab": {
          "base_uri": "https://localhost:8080/"
        },
        "id": "-D_YJeKPl9mJ",
        "outputId": "a8b24c63-2b07-4cf6-f72e-8dfa07641bca"
      },
      "outputs": [
        {
          "output_type": "stream",
          "name": "stdout",
          "text": [
            "Cloning into 'Meta-Nerual-Trojan-Detection'...\n",
            "remote: Enumerating objects: 32, done.\u001b[K\n",
            "remote: Counting objects: 100% (32/32), done.\u001b[K\n",
            "remote: Compressing objects: 100% (23/23), done.\u001b[K\n",
            "remote: Total 32 (delta 6), reused 32 (delta 6), pack-reused 0\u001b[K\n",
            "Unpacking objects: 100% (32/32), 493.46 KiB | 4.33 MiB/s, done.\n"
          ]
        }
      ],
      "source": [
        "!git clone https://github.com/AI-secure/Meta-Nerual-Trojan-Detection.git"
      ]
    },
    {
      "cell_type": "code",
      "source": [
        "cd Meta-Nerual-Trojan-Detection"
      ],
      "metadata": {
        "colab": {
          "base_uri": "https://localhost:8080/"
        },
        "id": "aI0TliaxmMtt",
        "outputId": "2aeedd27-ed8a-4ca3-fcdd-b3c22dbc889a"
      },
      "execution_count": 3,
      "outputs": [
        {
          "output_type": "stream",
          "name": "stdout",
          "text": [
            "/content/Meta-Nerual-Trojan-Detection\n"
          ]
        }
      ]
    },
    {
      "cell_type": "code",
      "source": [
        "!pip install -r /content/Meta-Nerual-Trojan-Detection/requirements.txt"
      ],
      "metadata": {
        "colab": {
          "base_uri": "https://localhost:8080/"
        },
        "id": "RY0a2v5Xmq4j",
        "outputId": "08b3a963-2569-4365-fa6d-10f4ceb58271"
      },
      "execution_count": 4,
      "outputs": [
        {
          "output_type": "stream",
          "name": "stdout",
          "text": [
            "Looking in indexes: https://pypi.org/simple, https://us-python.pkg.dev/colab-wheels/public/simple/\n",
            "Collecting audioread==2.1.8\n",
            "  Downloading audioread-2.1.8.tar.gz (21 kB)\n",
            "  Preparing metadata (setup.py) ... \u001b[?25l\u001b[?25hdone\n",
            "Collecting certifi==2020.6.20\n",
            "  Downloading certifi-2020.6.20-py2.py3-none-any.whl (156 kB)\n",
            "\u001b[2K     \u001b[90m━━━━━━━━━━━━━━━━━━━━━━━━━━━━━━━━━━━━━━━\u001b[0m \u001b[32m156.6/156.6 kB\u001b[0m \u001b[31m5.7 MB/s\u001b[0m eta \u001b[36m0:00:00\u001b[0m\n",
            "\u001b[?25hCollecting chardet==3.0.4\n",
            "  Downloading chardet-3.0.4-py2.py3-none-any.whl (133 kB)\n",
            "\u001b[2K     \u001b[90m━━━━━━━━━━━━━━━━━━━━━━━━━━━━━━━━━━━━━━\u001b[0m \u001b[32m133.4/133.4 kB\u001b[0m \u001b[31m19.1 MB/s\u001b[0m eta \u001b[36m0:00:00\u001b[0m\n",
            "\u001b[?25hRequirement already satisfied: decorator==4.4.2 in /usr/local/lib/python3.9/dist-packages (from -r /content/Meta-Nerual-Trojan-Detection/requirements.txt (line 4)) (4.4.2)\n",
            "Collecting future==0.18.2\n",
            "  Downloading future-0.18.2.tar.gz (829 kB)\n",
            "\u001b[2K     \u001b[90m━━━━━━━━━━━━━━━━━━━━━━━━━━━━━━━━━━━━━━\u001b[0m \u001b[32m829.2/829.2 kB\u001b[0m \u001b[31m34.9 MB/s\u001b[0m eta \u001b[36m0:00:00\u001b[0m\n",
            "\u001b[?25h  Preparing metadata (setup.py) ... \u001b[?25l\u001b[?25hdone\n",
            "Collecting gensim==3.8.3\n",
            "  Downloading gensim-3.8.3.tar.gz (23.4 MB)\n",
            "\u001b[2K     \u001b[90m━━━━━━━━━━━━━━━━━━━━━━━━━━━━━━━━━━━━━━━━\u001b[0m \u001b[32m23.4/23.4 MB\u001b[0m \u001b[31m69.1 MB/s\u001b[0m eta \u001b[36m0:00:00\u001b[0m\n",
            "\u001b[?25h  Preparing metadata (setup.py) ... \u001b[?25l\u001b[?25hdone\n",
            "Collecting idna==2.10\n",
            "  Downloading idna-2.10-py2.py3-none-any.whl (58 kB)\n",
            "\u001b[2K     \u001b[90m━━━━━━━━━━━━━━━━━━━━━━━━━━━━━━━━━━━━━━━━\u001b[0m \u001b[32m58.8/58.8 kB\u001b[0m \u001b[31m9.1 MB/s\u001b[0m eta \u001b[36m0:00:00\u001b[0m\n",
            "\u001b[?25hCollecting joblib==0.16.0\n",
            "  Downloading joblib-0.16.0-py3-none-any.whl (300 kB)\n",
            "\u001b[2K     \u001b[90m━━━━━━━━━━━━━━━━━━━━━━━━━━━━━━━━━━━━━━\u001b[0m \u001b[32m300.8/300.8 kB\u001b[0m \u001b[31m38.5 MB/s\u001b[0m eta \u001b[36m0:00:00\u001b[0m\n",
            "\u001b[?25hCollecting librosa==0.6.3\n",
            "  Downloading librosa-0.6.3.tar.gz (1.6 MB)\n",
            "\u001b[2K     \u001b[90m━━━━━━━━━━━━━━━━━━━━━━━━━━━━━━━━━━━━━━━━\u001b[0m \u001b[32m1.6/1.6 MB\u001b[0m \u001b[31m91.1 MB/s\u001b[0m eta \u001b[36m0:00:00\u001b[0m\n",
            "\u001b[?25h  Preparing metadata (setup.py) ... \u001b[?25l\u001b[?25hdone\n",
            "Collecting llvmlite==0.31.0\n",
            "  Downloading llvmlite-0.31.0.tar.gz (110 kB)\n",
            "\u001b[2K     \u001b[90m━━━━━━━━━━━━━━━━━━━━━━━━━━━━━━━━━━━━━━\u001b[0m \u001b[32m110.8/110.8 kB\u001b[0m \u001b[31m17.4 MB/s\u001b[0m eta \u001b[36m0:00:00\u001b[0m\n",
            "\u001b[?25h  Preparing metadata (setup.py) ... \u001b[?25l\u001b[?25hdone\n",
            "Collecting numba==0.48.0\n",
            "  Downloading numba-0.48.0.tar.gz (2.0 MB)\n",
            "\u001b[2K     \u001b[90m━━━━━━━━━━━━━━━━━━━━━━━━━━━━━━━━━━━━━━━━\u001b[0m \u001b[32m2.0/2.0 MB\u001b[0m \u001b[31m99.0 MB/s\u001b[0m eta \u001b[36m0:00:00\u001b[0m\n",
            "\u001b[?25h  Preparing metadata (setup.py) ... \u001b[?25l\u001b[?25hdone\n",
            "Collecting numpy==1.19.2\n",
            "  Downloading numpy-1.19.2.zip (7.3 MB)\n",
            "\u001b[2K     \u001b[90m━━━━━━━━━━━━━━━━━━━━━━━━━━━━━━━━━━━━━━━━\u001b[0m \u001b[32m7.3/7.3 MB\u001b[0m \u001b[31m77.5 MB/s\u001b[0m eta \u001b[36m0:00:00\u001b[0m\n",
            "\u001b[?25h  Installing build dependencies ... \u001b[?25l\u001b[?25hdone\n",
            "  Getting requirements to build wheel ... \u001b[?25l\u001b[?25hdone\n",
            "  Preparing metadata (pyproject.toml) ... \u001b[?25l\u001b[?25hdone\n",
            "Collecting Pillow==7.2.0\n",
            "  Downloading Pillow-7.2.0.tar.gz (39.1 MB)\n",
            "\u001b[2K     \u001b[90m━━━━━━━━━━━━━━━━━━━━━━━━━━━━━━━━━━━━━━━━\u001b[0m \u001b[32m39.1/39.1 MB\u001b[0m \u001b[31m15.5 MB/s\u001b[0m eta \u001b[36m0:00:00\u001b[0m\n",
            "\u001b[?25h  Preparing metadata (setup.py) ... \u001b[?25l\u001b[?25hdone\n",
            "\u001b[31mERROR: Ignored the following versions that require a different python version: 0.52.0 Requires-Python >=3.6,<3.9; 0.52.0rc3 Requires-Python >=3.6,<3.9\u001b[0m\u001b[31m\n",
            "\u001b[0m\u001b[31mERROR: Could not find a version that satisfies the requirement pkg-resources==0.0.0 (from versions: none)\u001b[0m\u001b[31m\n",
            "\u001b[0m\u001b[31mERROR: No matching distribution found for pkg-resources==0.0.0\u001b[0m\u001b[31m\n",
            "\u001b[0m"
          ]
        }
      ]
    },
    {
      "cell_type": "code",
      "source": [
        "!pip install kaggle"
      ],
      "metadata": {
        "colab": {
          "base_uri": "https://localhost:8080/"
        },
        "id": "wPQfglz8nM3d",
        "outputId": "e037e0ff-a834-451e-9d88-5d8ef3bc8662"
      },
      "execution_count": 5,
      "outputs": [
        {
          "output_type": "stream",
          "name": "stdout",
          "text": [
            "Looking in indexes: https://pypi.org/simple, https://us-python.pkg.dev/colab-wheels/public/simple/\n",
            "Requirement already satisfied: kaggle in /usr/local/lib/python3.9/dist-packages (1.5.13)\n",
            "Requirement already satisfied: python-dateutil in /usr/local/lib/python3.9/dist-packages (from kaggle) (2.8.2)\n",
            "Requirement already satisfied: certifi in /usr/local/lib/python3.9/dist-packages (from kaggle) (2022.12.7)\n",
            "Requirement already satisfied: six>=1.10 in /usr/local/lib/python3.9/dist-packages (from kaggle) (1.16.0)\n",
            "Requirement already satisfied: python-slugify in /usr/local/lib/python3.9/dist-packages (from kaggle) (8.0.1)\n",
            "Requirement already satisfied: urllib3 in /usr/local/lib/python3.9/dist-packages (from kaggle) (1.26.15)\n",
            "Requirement already satisfied: requests in /usr/local/lib/python3.9/dist-packages (from kaggle) (2.27.1)\n",
            "Requirement already satisfied: tqdm in /usr/local/lib/python3.9/dist-packages (from kaggle) (4.65.0)\n",
            "Requirement already satisfied: text-unidecode>=1.3 in /usr/local/lib/python3.9/dist-packages (from python-slugify->kaggle) (1.3)\n",
            "Requirement already satisfied: charset-normalizer~=2.0.0 in /usr/local/lib/python3.9/dist-packages (from requests->kaggle) (2.0.12)\n",
            "Requirement already satisfied: idna<4,>=2.5 in /usr/local/lib/python3.9/dist-packages (from requests->kaggle) (3.4)\n"
          ]
        }
      ]
    },
    {
      "cell_type": "code",
      "source": [
        "from google.colab import files\n",
        "files.upload()"
      ],
      "metadata": {
        "colab": {
          "base_uri": "https://localhost:8080/",
          "height": 90
        },
        "id": "1MZ0Xg2BpYcf",
        "outputId": "a1078f60-fc36-4187-963a-44d7fcd16cf2"
      },
      "execution_count": 6,
      "outputs": [
        {
          "output_type": "display_data",
          "data": {
            "text/plain": [
              "<IPython.core.display.HTML object>"
            ],
            "text/html": [
              "\n",
              "     <input type=\"file\" id=\"files-c8e978fb-c8e4-4fd7-82d1-fcb7e6fa36f5\" name=\"files[]\" multiple disabled\n",
              "        style=\"border:none\" />\n",
              "     <output id=\"result-c8e978fb-c8e4-4fd7-82d1-fcb7e6fa36f5\">\n",
              "      Upload widget is only available when the cell has been executed in the\n",
              "      current browser session. Please rerun this cell to enable.\n",
              "      </output>\n",
              "      <script>// Copyright 2017 Google LLC\n",
              "//\n",
              "// Licensed under the Apache License, Version 2.0 (the \"License\");\n",
              "// you may not use this file except in compliance with the License.\n",
              "// You may obtain a copy of the License at\n",
              "//\n",
              "//      http://www.apache.org/licenses/LICENSE-2.0\n",
              "//\n",
              "// Unless required by applicable law or agreed to in writing, software\n",
              "// distributed under the License is distributed on an \"AS IS\" BASIS,\n",
              "// WITHOUT WARRANTIES OR CONDITIONS OF ANY KIND, either express or implied.\n",
              "// See the License for the specific language governing permissions and\n",
              "// limitations under the License.\n",
              "\n",
              "/**\n",
              " * @fileoverview Helpers for google.colab Python module.\n",
              " */\n",
              "(function(scope) {\n",
              "function span(text, styleAttributes = {}) {\n",
              "  const element = document.createElement('span');\n",
              "  element.textContent = text;\n",
              "  for (const key of Object.keys(styleAttributes)) {\n",
              "    element.style[key] = styleAttributes[key];\n",
              "  }\n",
              "  return element;\n",
              "}\n",
              "\n",
              "// Max number of bytes which will be uploaded at a time.\n",
              "const MAX_PAYLOAD_SIZE = 100 * 1024;\n",
              "\n",
              "function _uploadFiles(inputId, outputId) {\n",
              "  const steps = uploadFilesStep(inputId, outputId);\n",
              "  const outputElement = document.getElementById(outputId);\n",
              "  // Cache steps on the outputElement to make it available for the next call\n",
              "  // to uploadFilesContinue from Python.\n",
              "  outputElement.steps = steps;\n",
              "\n",
              "  return _uploadFilesContinue(outputId);\n",
              "}\n",
              "\n",
              "// This is roughly an async generator (not supported in the browser yet),\n",
              "// where there are multiple asynchronous steps and the Python side is going\n",
              "// to poll for completion of each step.\n",
              "// This uses a Promise to block the python side on completion of each step,\n",
              "// then passes the result of the previous step as the input to the next step.\n",
              "function _uploadFilesContinue(outputId) {\n",
              "  const outputElement = document.getElementById(outputId);\n",
              "  const steps = outputElement.steps;\n",
              "\n",
              "  const next = steps.next(outputElement.lastPromiseValue);\n",
              "  return Promise.resolve(next.value.promise).then((value) => {\n",
              "    // Cache the last promise value to make it available to the next\n",
              "    // step of the generator.\n",
              "    outputElement.lastPromiseValue = value;\n",
              "    return next.value.response;\n",
              "  });\n",
              "}\n",
              "\n",
              "/**\n",
              " * Generator function which is called between each async step of the upload\n",
              " * process.\n",
              " * @param {string} inputId Element ID of the input file picker element.\n",
              " * @param {string} outputId Element ID of the output display.\n",
              " * @return {!Iterable<!Object>} Iterable of next steps.\n",
              " */\n",
              "function* uploadFilesStep(inputId, outputId) {\n",
              "  const inputElement = document.getElementById(inputId);\n",
              "  inputElement.disabled = false;\n",
              "\n",
              "  const outputElement = document.getElementById(outputId);\n",
              "  outputElement.innerHTML = '';\n",
              "\n",
              "  const pickedPromise = new Promise((resolve) => {\n",
              "    inputElement.addEventListener('change', (e) => {\n",
              "      resolve(e.target.files);\n",
              "    });\n",
              "  });\n",
              "\n",
              "  const cancel = document.createElement('button');\n",
              "  inputElement.parentElement.appendChild(cancel);\n",
              "  cancel.textContent = 'Cancel upload';\n",
              "  const cancelPromise = new Promise((resolve) => {\n",
              "    cancel.onclick = () => {\n",
              "      resolve(null);\n",
              "    };\n",
              "  });\n",
              "\n",
              "  // Wait for the user to pick the files.\n",
              "  const files = yield {\n",
              "    promise: Promise.race([pickedPromise, cancelPromise]),\n",
              "    response: {\n",
              "      action: 'starting',\n",
              "    }\n",
              "  };\n",
              "\n",
              "  cancel.remove();\n",
              "\n",
              "  // Disable the input element since further picks are not allowed.\n",
              "  inputElement.disabled = true;\n",
              "\n",
              "  if (!files) {\n",
              "    return {\n",
              "      response: {\n",
              "        action: 'complete',\n",
              "      }\n",
              "    };\n",
              "  }\n",
              "\n",
              "  for (const file of files) {\n",
              "    const li = document.createElement('li');\n",
              "    li.append(span(file.name, {fontWeight: 'bold'}));\n",
              "    li.append(span(\n",
              "        `(${file.type || 'n/a'}) - ${file.size} bytes, ` +\n",
              "        `last modified: ${\n",
              "            file.lastModifiedDate ? file.lastModifiedDate.toLocaleDateString() :\n",
              "                                    'n/a'} - `));\n",
              "    const percent = span('0% done');\n",
              "    li.appendChild(percent);\n",
              "\n",
              "    outputElement.appendChild(li);\n",
              "\n",
              "    const fileDataPromise = new Promise((resolve) => {\n",
              "      const reader = new FileReader();\n",
              "      reader.onload = (e) => {\n",
              "        resolve(e.target.result);\n",
              "      };\n",
              "      reader.readAsArrayBuffer(file);\n",
              "    });\n",
              "    // Wait for the data to be ready.\n",
              "    let fileData = yield {\n",
              "      promise: fileDataPromise,\n",
              "      response: {\n",
              "        action: 'continue',\n",
              "      }\n",
              "    };\n",
              "\n",
              "    // Use a chunked sending to avoid message size limits. See b/62115660.\n",
              "    let position = 0;\n",
              "    do {\n",
              "      const length = Math.min(fileData.byteLength - position, MAX_PAYLOAD_SIZE);\n",
              "      const chunk = new Uint8Array(fileData, position, length);\n",
              "      position += length;\n",
              "\n",
              "      const base64 = btoa(String.fromCharCode.apply(null, chunk));\n",
              "      yield {\n",
              "        response: {\n",
              "          action: 'append',\n",
              "          file: file.name,\n",
              "          data: base64,\n",
              "        },\n",
              "      };\n",
              "\n",
              "      let percentDone = fileData.byteLength === 0 ?\n",
              "          100 :\n",
              "          Math.round((position / fileData.byteLength) * 100);\n",
              "      percent.textContent = `${percentDone}% done`;\n",
              "\n",
              "    } while (position < fileData.byteLength);\n",
              "  }\n",
              "\n",
              "  // All done.\n",
              "  yield {\n",
              "    response: {\n",
              "      action: 'complete',\n",
              "    }\n",
              "  };\n",
              "}\n",
              "\n",
              "scope.google = scope.google || {};\n",
              "scope.google.colab = scope.google.colab || {};\n",
              "scope.google.colab._files = {\n",
              "  _uploadFiles,\n",
              "  _uploadFilesContinue,\n",
              "};\n",
              "})(self);\n",
              "</script> "
            ]
          },
          "metadata": {}
        },
        {
          "output_type": "stream",
          "name": "stdout",
          "text": [
            "Saving kaggle.json to kaggle.json\n"
          ]
        },
        {
          "output_type": "execute_result",
          "data": {
            "text/plain": [
              "{'kaggle.json': b'{\"username\":\"ssvakil\",\"key\":\"63d934c2e5c4f6d3ee0de25404d93a9c\"}'}"
            ]
          },
          "metadata": {},
          "execution_count": 6
        }
      ]
    },
    {
      "cell_type": "code",
      "source": [
        "!mkdir -p ~/.kaggle\n",
        "!cp kaggle.json ~/.kaggle/kaggle.json\n",
        "!chmod 600 ~/.kaggle/kaggle.json"
      ],
      "metadata": {
        "id": "R_NKTDCwpsuz"
      },
      "execution_count": 7,
      "outputs": []
    },
    {
      "cell_type": "code",
      "source": [
        "!kaggle datasets download -d pankrzysiu/cifar10-python"
      ],
      "metadata": {
        "colab": {
          "base_uri": "https://localhost:8080/"
        },
        "id": "Z77faORqqudk",
        "outputId": "764a076c-7034-461d-f2ea-62536189850a"
      },
      "execution_count": 8,
      "outputs": [
        {
          "output_type": "stream",
          "name": "stdout",
          "text": [
            "Downloading cifar10-python.zip to /content/Meta-Nerual-Trojan-Detection\n",
            " 92% 300M/325M [00:02<00:00, 88.0MB/s]\n",
            "100% 325M/325M [00:03<00:00, 113MB/s] \n"
          ]
        }
      ]
    },
    {
      "cell_type": "code",
      "source": [
        "!kaggle datasets download -d lijiyu/imagenet"
      ],
      "metadata": {
        "colab": {
          "base_uri": "https://localhost:8080/"
        },
        "id": "2NFOVbwlsfS_",
        "outputId": "fa54aebe-f37c-46c9-a3ba-3f8a606ae25e"
      },
      "execution_count": 9,
      "outputs": [
        {
          "output_type": "stream",
          "name": "stdout",
          "text": [
            "Downloading imagenet.zip to /content/Meta-Nerual-Trojan-Detection\n",
            "100% 6.21G/6.21G [00:45<00:00, 156MB/s]\n",
            "100% 6.21G/6.21G [00:45<00:00, 147MB/s]\n"
          ]
        }
      ]
    },
    {
      "cell_type": "code",
      "source": [
        "!kaggle datasets download -d bistaumanga/usps-dataset"
      ],
      "metadata": {
        "colab": {
          "base_uri": "https://localhost:8080/"
        },
        "id": "roo1aXE0s0qo",
        "outputId": "6f152d14-9003-4030-c0c3-7fe6ebd31fe0"
      },
      "execution_count": 10,
      "outputs": [
        {
          "output_type": "stream",
          "name": "stdout",
          "text": [
            "Downloading usps-dataset.zip to /content/Meta-Nerual-Trojan-Detection\n",
            "\r  0% 0.00/2.75M [00:00<?, ?B/s]\n",
            "\r100% 2.75M/2.75M [00:00<00:00, 192MB/s]\n"
          ]
        }
      ]
    },
    {
      "cell_type": "code",
      "source": [
        "keras.models.load_model(\"354rdd.h5\")"
      ],
      "metadata": {
        "colab": {
          "base_uri": "https://localhost:8080/"
        },
        "id": "lfTata57s3pB",
        "outputId": "acdb6228-e463-41ca-9be5-220ce3c47bd2"
      },
      "execution_count": 11,
      "outputs": [
        {
          "output_type": "execute_result",
          "data": {
            "text/plain": [
              "<keras.engine.sequential.Sequential at 0x7f3f9d6151f0>"
            ]
          },
          "metadata": {},
          "execution_count": 11
        }
      ]
    },
    {
      "cell_type": "code",
      "source": [
        "keras.models.load_model(\"7gdf823.h5\")"
      ],
      "metadata": {
        "colab": {
          "base_uri": "https://localhost:8080/"
        },
        "id": "AWjciHvot-nA",
        "outputId": "09a026cc-cf45-41cb-cd61-81dcf28c7430"
      },
      "execution_count": 12,
      "outputs": [
        {
          "output_type": "execute_result",
          "data": {
            "text/plain": [
              "<keras.engine.sequential.Sequential at 0x7f3efc0627c0>"
            ]
          },
          "metadata": {},
          "execution_count": 12
        }
      ]
    },
    {
      "cell_type": "code",
      "source": [
        "from zipfile import ZipFile\n",
        "file_name=\"cifar10-python.zip\"\n",
        "with ZipFile(file_name,'r')as zip:\n",
        "  zip.extractall()\n",
        "print('done')"
      ],
      "metadata": {
        "colab": {
          "base_uri": "https://localhost:8080/"
        },
        "id": "0fRQXVAhuchc",
        "outputId": "759bfbb8-0d6c-456c-88ff-b000009ee860"
      },
      "execution_count": 13,
      "outputs": [
        {
          "output_type": "stream",
          "name": "stdout",
          "text": [
            "done\n"
          ]
        }
      ]
    },
    {
      "cell_type": "code",
      "source": [
        "from zipfile import ZipFile\n",
        "file_name=\"imagenet.zip\"\n",
        "with ZipFile(file_name,'r')as zip:\n",
        "  zip.extractall()\n",
        "print('done')"
      ],
      "metadata": {
        "colab": {
          "base_uri": "https://localhost:8080/"
        },
        "id": "EWtXwKnluclb",
        "outputId": "42044446-7d75-4b83-fce4-241e0b8de21e"
      },
      "execution_count": 14,
      "outputs": [
        {
          "output_type": "stream",
          "name": "stdout",
          "text": [
            "done\n"
          ]
        }
      ]
    },
    {
      "cell_type": "code",
      "source": [
        "from zipfile import ZipFile\n",
        "file_name=\"usps-dataset.zip\"\n",
        "with ZipFile(file_name,'r')as zip:\n",
        "  zip.extractall()\n",
        "print('done')"
      ],
      "metadata": {
        "colab": {
          "base_uri": "https://localhost:8080/"
        },
        "id": "8JveHoDvucpn",
        "outputId": "77082fb3-c034-48f1-9249-ade626065194"
      },
      "execution_count": 15,
      "outputs": [
        {
          "output_type": "stream",
          "name": "stdout",
          "text": [
            "done\n"
          ]
        }
      ]
    },
    {
      "cell_type": "code",
      "source": [
        "!python3 /content/Meta-Nerual-Trojan-Detection/meta_classifier.py /content/Meta-Nerual-Trojan-Detection/354rdd.h5"
      ],
      "metadata": {
        "id": "1Qyi2J7EvPql"
      },
      "execution_count": 16,
      "outputs": []
    },
    {
      "cell_type": "code",
      "source": [
        "!python3 /content/Meta-Nerual-Trojan-Detection/meta_classifier.py /content/Meta-Nerual-Trojan-Detection/7gdf823.h5"
      ],
      "metadata": {
        "id": "ocZXvkSKWKt9"
      },
      "execution_count": 17,
      "outputs": []
    },
    {
      "cell_type": "code",
      "source": [
        "cd raw_data"
      ],
      "metadata": {
        "colab": {
          "base_uri": "https://localhost:8080/"
        },
        "id": "YIvIvusowOHJ",
        "outputId": "0767f8ae-cd22-4ec8-e72f-5646f1f08b0c"
      },
      "execution_count": null,
      "outputs": [
        {
          "output_type": "stream",
          "name": "stdout",
          "text": [
            "/content/Meta-Nerual-Trojan-Detection/raw_data\n"
          ]
        }
      ]
    },
    {
      "cell_type": "code",
      "source": [
        "pwd"
      ],
      "metadata": {
        "colab": {
          "base_uri": "https://localhost:8080/",
          "height": 35
        },
        "id": "ntEgD4GYwgk1",
        "outputId": "04e8aa25-0572-468f-d7ff-fb1b4045b0d2"
      },
      "execution_count": null,
      "outputs": [
        {
          "output_type": "execute_result",
          "data": {
            "text/plain": [
              "'/content/Meta-Nerual-Trojan-Detection'"
            ],
            "application/vnd.google.colaboratory.intrinsic+json": {
              "type": "string"
            }
          },
          "metadata": {},
          "execution_count": 22
        }
      ]
    },
    {
      "cell_type": "code",
      "source": [
        "!python3 /content/Meta-Nerual-Trojan-Detection/run_meta_oneclass.py /content/Meta-Nerual-Trojan-Detection/354rdd.h5"
      ],
      "metadata": {
        "colab": {
          "base_uri": "https://localhost:8080/"
        },
        "id": "mznBQCHBWab5",
        "outputId": "522e8743-8223-42da-8b07-9d22c601e97d"
      },
      "execution_count": 18,
      "outputs": [
        {
          "output_type": "stream",
          "name": "stdout",
          "text": [
            "usage: run_meta_oneclass.py\n",
            "       [-h]\n",
            "       --task\n",
            "       TASK\n",
            "       --troj_type\n",
            "       TROJ_TYPE\n",
            "       [--load_exist]\n",
            "run_meta_oneclass.py: error: the following arguments are required: --task, --troj_type\n"
          ]
        }
      ]
    },
    {
      "cell_type": "code",
      "source": [
        "!python /content/Meta-Nerual-Trojan-Detection/train_basic_benign.py /content/Meta-Nerual-Trojan-Detection/raw_data/rt_polarity/rt-polarity.neg"
      ],
      "metadata": {
        "colab": {
          "base_uri": "https://localhost:8080/"
        },
        "id": "Tv1wNZ9IXHLZ",
        "outputId": "0be759f8-3467-43b5-99e4-ff7a3b420a2c"
      },
      "execution_count": 19,
      "outputs": [
        {
          "output_type": "stream",
          "name": "stdout",
          "text": [
            "usage: train_basic_benign.py\n",
            "       [-h]\n",
            "       --task\n",
            "       TASK\n",
            "train_basic_benign.py: error: the following arguments are required: --task\n"
          ]
        }
      ]
    },
    {
      "cell_type": "code",
      "source": [
        "!pip3 install torch==1.2.0+cu92 torchvision==0.4.0+cu92 -f https://download.pytorch.org/whl/torch_stable.html"
      ],
      "metadata": {
        "id": "410Kjy72aevZ",
        "outputId": "2cbd631a-2e8e-4ad0-c97c-8cf43a42c4f8",
        "colab": {
          "base_uri": "https://localhost:8080/"
        }
      },
      "execution_count": 20,
      "outputs": [
        {
          "output_type": "stream",
          "name": "stdout",
          "text": [
            "Looking in indexes: https://pypi.org/simple, https://us-python.pkg.dev/colab-wheels/public/simple/\n",
            "Looking in links: https://download.pytorch.org/whl/torch_stable.html\n",
            "\u001b[31mERROR: Could not find a version that satisfies the requirement torch==1.2.0+cu92 (from versions: 1.7.1, 1.7.1+cpu, 1.7.1+cu101, 1.7.1+cu110, 1.7.1+cu92, 1.7.1+rocm3.7, 1.7.1+rocm3.8, 1.8.0, 1.8.0+cpu, 1.8.0+cu101, 1.8.0+cu111, 1.8.0+rocm3.10, 1.8.0+rocm4.0.1, 1.8.1, 1.8.1+cpu, 1.8.1+cu101, 1.8.1+cu102, 1.8.1+cu111, 1.8.1+rocm3.10, 1.8.1+rocm4.0.1, 1.9.0, 1.9.0+cpu, 1.9.0+cu102, 1.9.0+cu111, 1.9.0+rocm4.0.1, 1.9.0+rocm4.1, 1.9.0+rocm4.2, 1.9.1, 1.9.1+cpu, 1.9.1+cu102, 1.9.1+cu111, 1.9.1+rocm4.0.1, 1.9.1+rocm4.1, 1.9.1+rocm4.2, 1.10.0, 1.10.0+cpu, 1.10.0+cu102, 1.10.0+cu111, 1.10.0+cu113, 1.10.0+rocm4.0.1, 1.10.0+rocm4.1, 1.10.0+rocm4.2, 1.10.1, 1.10.1+cpu, 1.10.1+cu102, 1.10.1+cu111, 1.10.1+cu113, 1.10.1+rocm4.0.1, 1.10.1+rocm4.1, 1.10.1+rocm4.2, 1.10.2, 1.10.2+cpu, 1.10.2+cu102, 1.10.2+cu111, 1.10.2+cu113, 1.10.2+rocm4.0.1, 1.10.2+rocm4.1, 1.10.2+rocm4.2, 1.11.0, 1.11.0+cpu, 1.11.0+cu102, 1.11.0+cu113, 1.11.0+cu115, 1.11.0+rocm4.3.1, 1.11.0+rocm4.5.2, 1.12.0, 1.12.0+cpu, 1.12.0+cu102, 1.12.0+cu113, 1.12.0+cu116, 1.12.0+rocm5.0, 1.12.0+rocm5.1.1, 1.12.1, 1.12.1+cpu, 1.12.1+cu102, 1.12.1+cu113, 1.12.1+cu116, 1.12.1+rocm5.0, 1.12.1+rocm5.1.1, 1.13.0, 1.13.0+cpu, 1.13.0+cu116, 1.13.0+cu117, 1.13.0+cu117.with.pypi.cudnn, 1.13.0+rocm5.1.1, 1.13.0+rocm5.2, 1.13.1, 1.13.1+cpu, 1.13.1+cu116, 1.13.1+cu117, 1.13.1+cu117.with.pypi.cudnn, 1.13.1+rocm5.1.1, 1.13.1+rocm5.2, 2.0.0, 2.0.0+cpu, 2.0.0+cpu.cxx11.abi, 2.0.0+cu117, 2.0.0+cu117.with.pypi.cudnn, 2.0.0+cu118, 2.0.0+rocm5.3, 2.0.0+rocm5.4.2)\u001b[0m\u001b[31m\n",
            "\u001b[0m\u001b[31mERROR: No matching distribution found for torch==1.2.0+cu92\u001b[0m\u001b[31m\n",
            "\u001b[0m"
          ]
        }
      ]
    },
    {
      "cell_type": "code",
      "source": [
        "import torch\n",
        "import torch.nn as nn\n",
        "import torch.nn.functional as F\n",
        "import torchvision\n",
        "import torchvision.transforms as transforms"
      ],
      "metadata": {
        "id": "H5390vB3bGSp"
      },
      "execution_count": 21,
      "outputs": []
    },
    {
      "cell_type": "code",
      "source": [
        "print(torch.__version__)"
      ],
      "metadata": {
        "id": "kZX5BJT1bLeE",
        "outputId": "6b708414-f7e1-4893-e0a1-509da4b94722",
        "colab": {
          "base_uri": "https://localhost:8080/"
        }
      },
      "execution_count": 22,
      "outputs": [
        {
          "output_type": "stream",
          "name": "stdout",
          "text": [
            "2.0.0+cu118\n"
          ]
        }
      ]
    },
    {
      "cell_type": "code",
      "source": [
        "!pip uninstall -y mxnet && pip install mxnet-cu90==1.1.0"
      ],
      "metadata": {
        "id": "w9LsCvFUdbU2",
        "outputId": "82a996b3-e096-4785-b4a9-533f12470a3e",
        "colab": {
          "base_uri": "https://localhost:8080/"
        }
      },
      "execution_count": 23,
      "outputs": [
        {
          "output_type": "stream",
          "name": "stdout",
          "text": [
            "\u001b[33mWARNING: Skipping mxnet as it is not installed.\u001b[0m\u001b[33m\n",
            "\u001b[0mLooking in indexes: https://pypi.org/simple, https://us-python.pkg.dev/colab-wheels/public/simple/\n",
            "Collecting mxnet-cu90==1.1.0\n",
            "  Downloading mxnet_cu90-1.1.0-py2.py3-none-manylinux1_x86_64.whl (307.5 MB)\n",
            "\u001b[2K     \u001b[90m━━━━━━━━━━━━━━━━━━━━━━━━━━━━━━━━━━━━━━━\u001b[0m \u001b[32m307.5/307.5 MB\u001b[0m \u001b[31m5.2 MB/s\u001b[0m eta \u001b[36m0:00:00\u001b[0m\n",
            "\u001b[?25hCollecting graphviz==0.8.1\n",
            "  Downloading graphviz-0.8.1-py2.py3-none-any.whl (17 kB)\n",
            "Collecting numpy<=1.13.3\n",
            "  Downloading numpy-1.13.3.zip (5.0 MB)\n",
            "\u001b[2K     \u001b[90m━━━━━━━━━━━━━━━━━━━━━━━━━━━━━━━━━━━━━━━━\u001b[0m \u001b[32m5.0/5.0 MB\u001b[0m \u001b[31m67.1 MB/s\u001b[0m eta \u001b[36m0:00:00\u001b[0m\n",
            "\u001b[?25h  Preparing metadata (setup.py) ... \u001b[?25l\u001b[?25hdone\n",
            "Collecting requests==2.18.4\n",
            "  Downloading requests-2.18.4-py2.py3-none-any.whl (88 kB)\n",
            "\u001b[2K     \u001b[90m━━━━━━━━━━━━━━━━━━━━━━━━━━━━━━━━━━━━━━━━\u001b[0m \u001b[32m88.7/88.7 kB\u001b[0m \u001b[31m14.3 MB/s\u001b[0m eta \u001b[36m0:00:00\u001b[0m\n",
            "\u001b[?25hRequirement already satisfied: certifi>=2017.4.17 in /usr/local/lib/python3.9/dist-packages (from requests==2.18.4->mxnet-cu90==1.1.0) (2022.12.7)\n",
            "Collecting chardet<3.1.0,>=3.0.2\n",
            "  Using cached chardet-3.0.4-py2.py3-none-any.whl (133 kB)\n",
            "Collecting idna<2.7,>=2.5\n",
            "  Downloading idna-2.6-py2.py3-none-any.whl (56 kB)\n",
            "\u001b[2K     \u001b[90m━━━━━━━━━━━━━━━━━━━━━━━━━━━━━━━━━━━━━━━━\u001b[0m \u001b[32m56.5/56.5 kB\u001b[0m \u001b[31m9.0 MB/s\u001b[0m eta \u001b[36m0:00:00\u001b[0m\n",
            "\u001b[?25hCollecting urllib3<1.23,>=1.21.1\n",
            "  Downloading urllib3-1.22-py2.py3-none-any.whl (132 kB)\n",
            "\u001b[2K     \u001b[90m━━━━━━━━━━━━━━━━━━━━━━━━━━━━━━━━━━━━━━\u001b[0m \u001b[32m132.3/132.3 kB\u001b[0m \u001b[31m21.7 MB/s\u001b[0m eta \u001b[36m0:00:00\u001b[0m\n",
            "\u001b[?25hBuilding wheels for collected packages: numpy\n",
            "  \u001b[1;31merror\u001b[0m: \u001b[1msubprocess-exited-with-error\u001b[0m\n",
            "  \n",
            "  \u001b[31m×\u001b[0m \u001b[32mpython setup.py bdist_wheel\u001b[0m did not run successfully.\n",
            "  \u001b[31m│\u001b[0m exit code: \u001b[1;36m1\u001b[0m\n",
            "  \u001b[31m╰─>\u001b[0m See above for output.\n",
            "  \n",
            "  \u001b[1;35mnote\u001b[0m: This error originates from a subprocess, and is likely not a problem with pip.\n",
            "  Building wheel for numpy (setup.py) ... \u001b[?25lerror\n",
            "\u001b[31m  ERROR: Failed building wheel for numpy\u001b[0m\u001b[31m\n",
            "\u001b[0m\u001b[?25h  Running setup.py clean for numpy\n",
            "  \u001b[1;31merror\u001b[0m: \u001b[1msubprocess-exited-with-error\u001b[0m\n",
            "  \n",
            "  \u001b[31m×\u001b[0m \u001b[32mpython setup.py clean\u001b[0m did not run successfully.\n",
            "  \u001b[31m│\u001b[0m exit code: \u001b[1;36m1\u001b[0m\n",
            "  \u001b[31m╰─>\u001b[0m See above for output.\n",
            "  \n",
            "  \u001b[1;35mnote\u001b[0m: This error originates from a subprocess, and is likely not a problem with pip.\n",
            "\u001b[31m  ERROR: Failed cleaning build dir for numpy\u001b[0m\u001b[31m\n",
            "\u001b[0mFailed to build numpy\n",
            "Installing collected packages: urllib3, idna, graphviz, chardet, requests, numpy, mxnet-cu90\n",
            "  Attempting uninstall: urllib3\n",
            "    Found existing installation: urllib3 1.26.15\n",
            "    Uninstalling urllib3-1.26.15:\n",
            "      Successfully uninstalled urllib3-1.26.15\n",
            "  Attempting uninstall: idna\n",
            "    Found existing installation: idna 3.4\n",
            "    Uninstalling idna-3.4:\n",
            "      Successfully uninstalled idna-3.4\n",
            "  Attempting uninstall: graphviz\n",
            "    Found existing installation: graphviz 0.20.1\n",
            "    Uninstalling graphviz-0.20.1:\n",
            "      Successfully uninstalled graphviz-0.20.1\n",
            "  Attempting uninstall: chardet\n",
            "    Found existing installation: chardet 4.0.0\n",
            "    Uninstalling chardet-4.0.0:\n",
            "      Successfully uninstalled chardet-4.0.0\n",
            "  Attempting uninstall: requests\n",
            "    Found existing installation: requests 2.27.1\n",
            "    Uninstalling requests-2.27.1:\n",
            "      Successfully uninstalled requests-2.27.1\n",
            "  Attempting uninstall: numpy\n",
            "    Found existing installation: numpy 1.22.4\n",
            "    Uninstalling numpy-1.22.4:\n",
            "      Successfully uninstalled numpy-1.22.4\n",
            "  \u001b[1;31merror\u001b[0m: \u001b[1msubprocess-exited-with-error\u001b[0m\n",
            "  \n",
            "  \u001b[31m×\u001b[0m \u001b[32mRunning setup.py install for numpy\u001b[0m did not run successfully.\n",
            "  \u001b[31m│\u001b[0m exit code: \u001b[1;36m1\u001b[0m\n",
            "  \u001b[31m╰─>\u001b[0m See above for output.\n",
            "  \n",
            "  \u001b[1;35mnote\u001b[0m: This error originates from a subprocess, and is likely not a problem with pip.\n",
            "  Running setup.py install for numpy ... \u001b[?25l\u001b[?25herror\n",
            "  Rolling back uninstall of numpy\n",
            "  Moving to /usr/local/bin/f2py\n",
            "   from /tmp/pip-uninstall-vhhjtwzy/f2py\n",
            "  Moving to /usr/local/bin/f2py3\n",
            "   from /tmp/pip-uninstall-vhhjtwzy/f2py3\n",
            "  Moving to /usr/local/bin/f2py3.9\n",
            "   from /tmp/pip-uninstall-vhhjtwzy/f2py3.9\n",
            "  Moving to /usr/local/lib/python3.9/dist-packages/numpy-1.22.4.dist-info/\n",
            "   from /usr/local/lib/python3.9/dist-packages/~umpy-1.22.4.dist-info\n",
            "  Moving to /usr/local/lib/python3.9/dist-packages/numpy.libs/\n",
            "   from /usr/local/lib/python3.9/dist-packages/~umpy.libs\n",
            "  Moving to /usr/local/lib/python3.9/dist-packages/numpy/\n",
            "   from /usr/local/lib/python3.9/dist-packages/~umpy\n",
            "\u001b[1;31merror\u001b[0m: \u001b[1mlegacy-install-failure\u001b[0m\n",
            "\n",
            "\u001b[31m×\u001b[0m Encountered error while trying to install package.\n",
            "\u001b[31m╰─>\u001b[0m numpy\n",
            "\n",
            "\u001b[1;35mnote\u001b[0m: This is an issue with the package mentioned above, not pip.\n",
            "\u001b[1;36mhint\u001b[0m: See above for output from the failure.\n"
          ]
        }
      ]
    },
    {
      "cell_type": "code",
      "source": [
        "!python3 /content/Meta-Nerual-Trojan-Detection/train_basic_benign.py --task mnist\n",
        "!python /content/Meta-Nerual-Trojan-Detection/train_basic_jumbo.py --task mnist\n",
        "!python /content/Meta-Nerual-Trojan-Detection/train_basic_trojaned.py --task mnist --troj_type M\n",
        "!python /content/Meta-Nerual-Trojan-Detection/train_basic_trojaned.py --task mnist --troj_type B"
      ],
      "metadata": {
        "id": "U3aBRorYZ8-a",
        "outputId": "4a349e38-81a0-4d8e-9e2d-ba12b05ee70b",
        "colab": {
          "base_uri": "https://localhost:8080/"
        }
      },
      "execution_count": null,
      "outputs": [
        {
          "output_type": "stream",
          "name": "stdout",
          "text": [
            "Data indices owned by the defender: [ 2732 43567 42613 ... 36134  7078  8804]\n",
            "Data indices owned by the attacker: [20929 58997 33339 ... 30107 45814 21000]\n",
            "Acc 0.9531, saved to ./shadow_model_ckpt/mnist/models/shadow_benign_0.model @ 2023-04-16 06:47:05.316843\n",
            "Acc 0.9530, saved to ./shadow_model_ckpt/mnist/models/shadow_benign_1.model @ 2023-04-16 06:47:26.284020\n",
            "Acc 0.9558, saved to ./shadow_model_ckpt/mnist/models/shadow_benign_2.model @ 2023-04-16 06:47:48.019241\n",
            "Acc 0.9496, saved to ./shadow_model_ckpt/mnist/models/shadow_benign_3.model @ 2023-04-16 06:48:09.987366\n",
            "Acc 0.9516, saved to ./shadow_model_ckpt/mnist/models/shadow_benign_4.model @ 2023-04-16 06:48:30.843167\n",
            "Acc 0.9473, saved to ./shadow_model_ckpt/mnist/models/shadow_benign_5.model @ 2023-04-16 06:48:52.803653\n",
            "Acc 0.9499, saved to ./shadow_model_ckpt/mnist/models/shadow_benign_6.model @ 2023-04-16 06:49:14.438300\n",
            "Acc 0.9552, saved to ./shadow_model_ckpt/mnist/models/shadow_benign_7.model @ 2023-04-16 06:49:35.445561\n",
            "Acc 0.9553, saved to ./shadow_model_ckpt/mnist/models/shadow_benign_8.model @ 2023-04-16 06:49:57.379546\n",
            "Acc 0.9524, saved to ./shadow_model_ckpt/mnist/models/shadow_benign_9.model @ 2023-04-16 06:50:18.812230\n",
            "Acc 0.9543, saved to ./shadow_model_ckpt/mnist/models/shadow_benign_10.model @ 2023-04-16 06:50:40.350554\n",
            "Acc 0.9539, saved to ./shadow_model_ckpt/mnist/models/shadow_benign_11.model @ 2023-04-16 06:51:02.265726\n",
            "Acc 0.9531, saved to ./shadow_model_ckpt/mnist/models/shadow_benign_12.model @ 2023-04-16 06:51:23.343627\n",
            "Acc 0.9520, saved to ./shadow_model_ckpt/mnist/models/shadow_benign_13.model @ 2023-04-16 06:51:45.000368\n",
            "Acc 0.9523, saved to ./shadow_model_ckpt/mnist/models/shadow_benign_14.model @ 2023-04-16 06:52:06.884298\n",
            "Acc 0.9512, saved to ./shadow_model_ckpt/mnist/models/shadow_benign_15.model @ 2023-04-16 06:52:27.748324\n",
            "Acc 0.9512, saved to ./shadow_model_ckpt/mnist/models/shadow_benign_16.model @ 2023-04-16 06:52:49.466896\n",
            "Acc 0.9522, saved to ./shadow_model_ckpt/mnist/models/shadow_benign_17.model @ 2023-04-16 06:53:11.184733\n",
            "Acc 0.9509, saved to ./shadow_model_ckpt/mnist/models/shadow_benign_18.model @ 2023-04-16 06:53:31.895906\n",
            "Acc 0.9534, saved to ./shadow_model_ckpt/mnist/models/shadow_benign_19.model @ 2023-04-16 06:53:53.870586\n",
            "Acc 0.9523, saved to ./shadow_model_ckpt/mnist/models/shadow_benign_20.model @ 2023-04-16 06:54:15.729713\n",
            "Acc 0.9502, saved to ./shadow_model_ckpt/mnist/models/shadow_benign_21.model @ 2023-04-16 06:54:36.698262\n",
            "Acc 0.9519, saved to ./shadow_model_ckpt/mnist/models/shadow_benign_22.model @ 2023-04-16 06:54:58.611479\n",
            "Acc 0.9540, saved to ./shadow_model_ckpt/mnist/models/shadow_benign_23.model @ 2023-04-16 06:55:19.955436\n",
            "Acc 0.9513, saved to ./shadow_model_ckpt/mnist/models/shadow_benign_24.model @ 2023-04-16 06:55:41.356031\n",
            "Acc 0.9491, saved to ./shadow_model_ckpt/mnist/models/shadow_benign_25.model @ 2023-04-16 06:56:03.280890\n",
            "Acc 0.9513, saved to ./shadow_model_ckpt/mnist/models/shadow_benign_26.model @ 2023-04-16 06:56:24.035412\n",
            "Acc 0.9509, saved to ./shadow_model_ckpt/mnist/models/shadow_benign_27.model @ 2023-04-16 06:56:46.006843\n",
            "Acc 0.9510, saved to ./shadow_model_ckpt/mnist/models/shadow_benign_28.model @ 2023-04-16 06:57:07.701102\n",
            "Acc 0.9529, saved to ./shadow_model_ckpt/mnist/models/shadow_benign_29.model @ 2023-04-16 06:57:28.570432\n",
            "Acc 0.9502, saved to ./shadow_model_ckpt/mnist/models/shadow_benign_30.model @ 2023-04-16 06:57:50.297776\n",
            "Acc 0.9494, saved to ./shadow_model_ckpt/mnist/models/shadow_benign_31.model @ 2023-04-16 06:58:12.299400\n",
            "Acc 0.9494, saved to ./shadow_model_ckpt/mnist/models/shadow_benign_32.model @ 2023-04-16 06:58:33.291798\n",
            "Acc 0.9527, saved to ./shadow_model_ckpt/mnist/models/shadow_benign_33.model @ 2023-04-16 06:58:55.242693\n",
            "Acc 0.9540, saved to ./shadow_model_ckpt/mnist/models/shadow_benign_34.model @ 2023-04-16 06:59:17.116548\n",
            "Acc 0.9462, saved to ./shadow_model_ckpt/mnist/models/shadow_benign_35.model @ 2023-04-16 06:59:38.255291\n",
            "Acc 0.9520, saved to ./shadow_model_ckpt/mnist/models/shadow_benign_36.model @ 2023-04-16 07:00:00.196158\n",
            "Acc 0.9500, saved to ./shadow_model_ckpt/mnist/models/shadow_benign_37.model @ 2023-04-16 07:00:21.746785\n",
            "Acc 0.9494, saved to ./shadow_model_ckpt/mnist/models/shadow_benign_38.model @ 2023-04-16 07:00:43.075425\n",
            "Acc 0.9495, saved to ./shadow_model_ckpt/mnist/models/shadow_benign_39.model @ 2023-04-16 07:01:04.947475\n",
            "Acc 0.9485, saved to ./shadow_model_ckpt/mnist/models/shadow_benign_40.model @ 2023-04-16 07:01:25.968674\n",
            "Acc 0.9554, saved to ./shadow_model_ckpt/mnist/models/shadow_benign_41.model @ 2023-04-16 07:01:47.403053\n",
            "Acc 0.9503, saved to ./shadow_model_ckpt/mnist/models/shadow_benign_42.model @ 2023-04-16 07:02:09.042098\n",
            "Acc 0.9485, saved to ./shadow_model_ckpt/mnist/models/shadow_benign_43.model @ 2023-04-16 07:02:30.393678\n",
            "Acc 0.9502, saved to ./shadow_model_ckpt/mnist/models/shadow_benign_44.model @ 2023-04-16 07:02:51.125086\n",
            "Acc 0.9505, saved to ./shadow_model_ckpt/mnist/models/shadow_benign_45.model @ 2023-04-16 07:03:12.649680\n",
            "Acc 0.9519, saved to ./shadow_model_ckpt/mnist/models/shadow_benign_46.model @ 2023-04-16 07:03:34.362976\n",
            "Acc 0.9523, saved to ./shadow_model_ckpt/mnist/models/shadow_benign_47.model @ 2023-04-16 07:03:55.012696\n",
            "Acc 0.9480, saved to ./shadow_model_ckpt/mnist/models/shadow_benign_48.model @ 2023-04-16 07:04:16.489910\n",
            "Acc 0.9486, saved to ./shadow_model_ckpt/mnist/models/shadow_benign_49.model @ 2023-04-16 07:04:37.928366\n",
            "Acc 0.9515, saved to ./shadow_model_ckpt/mnist/models/shadow_benign_50.model @ 2023-04-16 07:04:59.297938\n",
            "Acc 0.9512, saved to ./shadow_model_ckpt/mnist/models/shadow_benign_51.model @ 2023-04-16 07:05:19.966111\n",
            "Acc 0.9514, saved to ./shadow_model_ckpt/mnist/models/shadow_benign_52.model @ 2023-04-16 07:05:41.300121\n",
            "Acc 0.9504, saved to ./shadow_model_ckpt/mnist/models/shadow_benign_53.model @ 2023-04-16 07:06:02.668113\n",
            "Acc 0.9524, saved to ./shadow_model_ckpt/mnist/models/shadow_benign_54.model @ 2023-04-16 07:06:23.355635\n",
            "Acc 0.9524, saved to ./shadow_model_ckpt/mnist/models/shadow_benign_55.model @ 2023-04-16 07:06:44.757820\n",
            "Acc 0.9511, saved to ./shadow_model_ckpt/mnist/models/shadow_benign_56.model @ 2023-04-16 07:07:06.173192\n",
            "Acc 0.9491, saved to ./shadow_model_ckpt/mnist/models/shadow_benign_57.model @ 2023-04-16 07:07:26.650572\n",
            "Acc 0.9525, saved to ./shadow_model_ckpt/mnist/models/shadow_benign_58.model @ 2023-04-16 07:07:47.930782\n",
            "Acc 0.9510, saved to ./shadow_model_ckpt/mnist/models/shadow_benign_59.model @ 2023-04-16 07:08:09.219392\n",
            "Acc 0.9509, saved to ./shadow_model_ckpt/mnist/models/shadow_benign_60.model @ 2023-04-16 07:08:30.083716\n",
            "Acc 0.9523, saved to ./shadow_model_ckpt/mnist/models/shadow_benign_61.model @ 2023-04-16 07:08:51.041405\n",
            "Acc 0.9513, saved to ./shadow_model_ckpt/mnist/models/shadow_benign_62.model @ 2023-04-16 07:09:12.502581\n",
            "Acc 0.9464, saved to ./shadow_model_ckpt/mnist/models/shadow_benign_63.model @ 2023-04-16 07:09:33.918959\n",
            "Acc 0.9530, saved to ./shadow_model_ckpt/mnist/models/shadow_benign_64.model @ 2023-04-16 07:09:54.415658\n",
            "Acc 0.9563, saved to ./shadow_model_ckpt/mnist/models/shadow_benign_65.model @ 2023-04-16 07:10:15.706053\n",
            "Acc 0.9513, saved to ./shadow_model_ckpt/mnist/models/shadow_benign_66.model @ 2023-04-16 07:10:37.034488\n",
            "Acc 0.9493, saved to ./shadow_model_ckpt/mnist/models/shadow_benign_67.model @ 2023-04-16 07:10:57.614470\n",
            "Acc 0.9494, saved to ./shadow_model_ckpt/mnist/models/shadow_benign_68.model @ 2023-04-16 07:11:19.005555\n",
            "Acc 0.9542, saved to ./shadow_model_ckpt/mnist/models/shadow_benign_69.model @ 2023-04-16 07:11:40.499405\n",
            "Acc 0.9513, saved to ./shadow_model_ckpt/mnist/models/shadow_benign_70.model @ 2023-04-16 07:12:01.158849\n",
            "Acc 0.9505, saved to ./shadow_model_ckpt/mnist/models/shadow_benign_71.model @ 2023-04-16 07:12:22.334987\n",
            "Acc 0.9551, saved to ./shadow_model_ckpt/mnist/models/shadow_benign_72.model @ 2023-04-16 07:12:43.670720\n",
            "Acc 0.9518, saved to ./shadow_model_ckpt/mnist/models/shadow_benign_73.model @ 2023-04-16 07:13:04.747214\n",
            "Acc 0.9495, saved to ./shadow_model_ckpt/mnist/models/shadow_benign_74.model @ 2023-04-16 07:13:25.615752\n",
            "Acc 0.9460, saved to ./shadow_model_ckpt/mnist/models/shadow_benign_75.model @ 2023-04-16 07:13:47.060752\n",
            "Acc 0.9540, saved to ./shadow_model_ckpt/mnist/models/shadow_benign_76.model @ 2023-04-16 07:14:08.535209\n",
            "Acc 0.9523, saved to ./shadow_model_ckpt/mnist/models/shadow_benign_77.model @ 2023-04-16 07:14:29.019465\n",
            "Acc 0.9482, saved to ./shadow_model_ckpt/mnist/models/shadow_benign_78.model @ 2023-04-16 07:14:50.233971\n",
            "Acc 0.9508, saved to ./shadow_model_ckpt/mnist/models/shadow_benign_79.model @ 2023-04-16 07:15:11.595856\n",
            "Acc 0.9524, saved to ./shadow_model_ckpt/mnist/models/shadow_benign_80.model @ 2023-04-16 07:15:31.924556\n",
            "Acc 0.9471, saved to ./shadow_model_ckpt/mnist/models/shadow_benign_81.model @ 2023-04-16 07:15:53.154389\n",
            "Acc 0.9484, saved to ./shadow_model_ckpt/mnist/models/shadow_benign_82.model @ 2023-04-16 07:16:14.216242\n",
            "Acc 0.9520, saved to ./shadow_model_ckpt/mnist/models/shadow_benign_83.model @ 2023-04-16 07:16:34.502003\n",
            "Acc 0.9500, saved to ./shadow_model_ckpt/mnist/models/shadow_benign_84.model @ 2023-04-16 07:16:55.731533\n",
            "Acc 0.9552, saved to ./shadow_model_ckpt/mnist/models/shadow_benign_85.model @ 2023-04-16 07:17:16.891881\n",
            "Acc 0.9533, saved to ./shadow_model_ckpt/mnist/models/shadow_benign_86.model @ 2023-04-16 07:17:37.303223\n",
            "Acc 0.9528, saved to ./shadow_model_ckpt/mnist/models/shadow_benign_87.model @ 2023-04-16 07:17:58.524665\n",
            "Acc 0.9509, saved to ./shadow_model_ckpt/mnist/models/shadow_benign_88.model @ 2023-04-16 07:18:19.911543\n",
            "Acc 0.9553, saved to ./shadow_model_ckpt/mnist/models/shadow_benign_89.model @ 2023-04-16 07:18:40.456899\n",
            "Acc 0.9522, saved to ./shadow_model_ckpt/mnist/models/shadow_benign_90.model @ 2023-04-16 07:19:01.432715\n",
            "Acc 0.9510, saved to ./shadow_model_ckpt/mnist/models/shadow_benign_91.model @ 2023-04-16 07:19:22.486283\n",
            "Acc 0.9546, saved to ./shadow_model_ckpt/mnist/models/shadow_benign_92.model @ 2023-04-16 07:19:43.457093\n",
            "Acc 0.9544, saved to ./shadow_model_ckpt/mnist/models/shadow_benign_93.model @ 2023-04-16 07:20:04.275242\n",
            "Acc 0.9551, saved to ./shadow_model_ckpt/mnist/models/shadow_benign_94.model @ 2023-04-16 07:20:25.508869\n",
            "Acc 0.9477, saved to ./shadow_model_ckpt/mnist/models/shadow_benign_95.model @ 2023-04-16 07:20:46.585345\n",
            "Acc 0.9506, saved to ./shadow_model_ckpt/mnist/models/shadow_benign_96.model @ 2023-04-16 07:21:06.906127\n",
            "Acc 0.9470, saved to ./shadow_model_ckpt/mnist/models/shadow_benign_97.model @ 2023-04-16 07:21:27.906394\n",
            "Acc 0.9547, saved to ./shadow_model_ckpt/mnist/models/shadow_benign_98.model @ 2023-04-16 07:21:49.041321\n",
            "Acc 0.9517, saved to ./shadow_model_ckpt/mnist/models/shadow_benign_99.model @ 2023-04-16 07:22:09.474981\n",
            "Acc 0.9819, saved to ./shadow_model_ckpt/mnist/models/target_benign_0.model @ 2023-04-16 07:22:30.784327\n",
            "Acc 0.9816, saved to ./shadow_model_ckpt/mnist/models/target_benign_1.model @ 2023-04-16 07:22:51.956390\n",
            "Acc 0.9847, saved to ./shadow_model_ckpt/mnist/models/target_benign_2.model @ 2023-04-16 07:23:12.498566\n",
            "Acc 0.9855, saved to ./shadow_model_ckpt/mnist/models/target_benign_3.model @ 2023-04-16 07:23:33.749683\n",
            "Acc 0.9852, saved to ./shadow_model_ckpt/mnist/models/target_benign_4.model @ 2023-04-16 07:23:55.098575\n",
            "Acc 0.9852, saved to ./shadow_model_ckpt/mnist/models/target_benign_5.model @ 2023-04-16 07:24:15.368488\n",
            "Acc 0.9857, saved to ./shadow_model_ckpt/mnist/models/target_benign_6.model @ 2023-04-16 07:24:36.642293\n",
            "Acc 0.9854, saved to ./shadow_model_ckpt/mnist/models/target_benign_7.model @ 2023-04-16 07:24:57.923380\n",
            "Acc 0.9739, saved to ./shadow_model_ckpt/mnist/models/target_benign_8.model @ 2023-04-16 07:25:18.490106\n",
            "Acc 0.9860, saved to ./shadow_model_ckpt/mnist/models/target_benign_9.model @ 2023-04-16 07:25:39.518134\n",
            "Acc 0.9866, saved to ./shadow_model_ckpt/mnist/models/target_benign_10.model @ 2023-04-16 07:26:00.724532\n",
            "Acc 0.9845, saved to ./shadow_model_ckpt/mnist/models/target_benign_11.model @ 2023-04-16 07:26:21.488596\n",
            "Acc 0.9844, saved to ./shadow_model_ckpt/mnist/models/target_benign_12.model @ 2023-04-16 07:26:42.445882\n",
            "Acc 0.9833, saved to ./shadow_model_ckpt/mnist/models/target_benign_13.model @ 2023-04-16 07:27:03.792603\n",
            "Acc 0.9853, saved to ./shadow_model_ckpt/mnist/models/target_benign_14.model @ 2023-04-16 07:27:24.880721\n",
            "Acc 0.9852, saved to ./shadow_model_ckpt/mnist/models/target_benign_15.model @ 2023-04-16 07:27:45.224574\n",
            "Acc 0.9883, saved to ./shadow_model_ckpt/mnist/models/target_benign_16.model @ 2023-04-16 07:28:06.584308\n",
            "Acc 0.9866, saved to ./shadow_model_ckpt/mnist/models/target_benign_17.model @ 2023-04-16 07:28:27.837631\n",
            "Acc 0.9820, saved to ./shadow_model_ckpt/mnist/models/target_benign_18.model @ 2023-04-16 07:28:48.059712\n",
            "Acc 0.9860, saved to ./shadow_model_ckpt/mnist/models/target_benign_19.model @ 2023-04-16 07:29:09.307990\n",
            "Acc 0.9855, saved to ./shadow_model_ckpt/mnist/models/target_benign_20.model @ 2023-04-16 07:29:30.377877\n",
            "Acc 0.9821, saved to ./shadow_model_ckpt/mnist/models/target_benign_21.model @ 2023-04-16 07:29:50.618205\n",
            "Acc 0.9879, saved to ./shadow_model_ckpt/mnist/models/target_benign_22.model @ 2023-04-16 07:30:11.868130\n",
            "Acc 0.9833, saved to ./shadow_model_ckpt/mnist/models/target_benign_23.model @ 2023-04-16 07:30:33.081513\n",
            "Acc 0.9863, saved to ./shadow_model_ckpt/mnist/models/target_benign_24.model @ 2023-04-16 07:30:53.535515\n",
            "Acc 0.9860, saved to ./shadow_model_ckpt/mnist/models/target_benign_25.model @ 2023-04-16 07:31:14.701866\n",
            "Acc 0.9846, saved to ./shadow_model_ckpt/mnist/models/target_benign_26.model @ 2023-04-16 07:31:35.850031\n",
            "Acc 0.9831, saved to ./shadow_model_ckpt/mnist/models/target_benign_27.model @ 2023-04-16 07:31:56.349238\n",
            "Acc 0.9886, saved to ./shadow_model_ckpt/mnist/models/target_benign_28.model @ 2023-04-16 07:32:17.355712\n",
            "Acc 0.9863, saved to ./shadow_model_ckpt/mnist/models/target_benign_29.model @ 2023-04-16 07:32:38.561003\n",
            "Acc 0.9853, saved to ./shadow_model_ckpt/mnist/models/target_benign_30.model @ 2023-04-16 07:32:59.300473\n",
            "Acc 0.9857, saved to ./shadow_model_ckpt/mnist/models/target_benign_31.model @ 2023-04-16 07:33:20.210931\n",
            "Acc 0.9863, saved to ./shadow_model_ckpt/mnist/models/target_benign_32.model @ 2023-04-16 07:33:41.379190\n",
            "Acc 0.9814, saved to ./shadow_model_ckpt/mnist/models/target_benign_33.model @ 2023-04-16 07:34:02.167241\n",
            "Acc 0.9845, saved to ./shadow_model_ckpt/mnist/models/target_benign_34.model @ 2023-04-16 07:34:22.966048\n",
            "Acc 0.9836, saved to ./shadow_model_ckpt/mnist/models/target_benign_35.model @ 2023-04-16 07:34:44.248663\n",
            "Acc 0.9854, saved to ./shadow_model_ckpt/mnist/models/target_benign_36.model @ 2023-04-16 07:35:05.533523\n",
            "Acc 0.9862, saved to ./shadow_model_ckpt/mnist/models/target_benign_37.model @ 2023-04-16 07:35:25.837128\n",
            "Acc 0.9822, saved to ./shadow_model_ckpt/mnist/models/target_benign_38.model @ 2023-04-16 07:35:47.023297\n",
            "Acc 0.9864, saved to ./shadow_model_ckpt/mnist/models/target_benign_39.model @ 2023-04-16 07:36:08.360928\n",
            "Acc 0.9848, saved to ./shadow_model_ckpt/mnist/models/target_benign_40.model @ 2023-04-16 07:36:28.763934\n",
            "Acc 0.9818, saved to ./shadow_model_ckpt/mnist/models/target_benign_41.model @ 2023-04-16 07:36:50.181796\n",
            "Acc 0.9859, saved to ./shadow_model_ckpt/mnist/models/target_benign_42.model @ 2023-04-16 07:37:11.447648\n",
            "Acc 0.9870, saved to ./shadow_model_ckpt/mnist/models/target_benign_43.model @ 2023-04-16 07:37:31.862096\n",
            "Acc 0.9873, saved to ./shadow_model_ckpt/mnist/models/target_benign_44.model @ 2023-04-16 07:37:53.134588\n",
            "Acc 0.9811, saved to ./shadow_model_ckpt/mnist/models/target_benign_45.model @ 2023-04-16 07:38:14.465025\n",
            "Acc 0.9849, saved to ./shadow_model_ckpt/mnist/models/target_benign_46.model @ 2023-04-16 07:38:35.184622\n",
            "Acc 0.9848, saved to ./shadow_model_ckpt/mnist/models/target_benign_47.model @ 2023-04-16 07:38:56.123412\n",
            "Acc 0.9859, saved to ./shadow_model_ckpt/mnist/models/target_benign_48.model @ 2023-04-16 07:39:17.211684\n",
            "Acc 0.9872, saved to ./shadow_model_ckpt/mnist/models/target_benign_49.model @ 2023-04-16 07:39:38.135702\n",
            "Acc 0.9872, saved to ./shadow_model_ckpt/mnist/models/target_benign_50.model @ 2023-04-16 07:39:59.020193\n",
            "Acc 0.9854, saved to ./shadow_model_ckpt/mnist/models/target_benign_51.model @ 2023-04-16 07:40:20.271269\n",
            "Acc 0.9845, saved to ./shadow_model_ckpt/mnist/models/target_benign_52.model @ 2023-04-16 07:40:41.633924\n",
            "Acc 0.9872, saved to ./shadow_model_ckpt/mnist/models/target_benign_53.model @ 2023-04-16 07:41:01.950448\n",
            "Acc 0.9826, saved to ./shadow_model_ckpt/mnist/models/target_benign_54.model @ 2023-04-16 07:41:23.372849\n",
            "Acc 0.9852, saved to ./shadow_model_ckpt/mnist/models/target_benign_55.model @ 2023-04-16 07:41:44.546092\n",
            "Acc 0.9851, saved to ./shadow_model_ckpt/mnist/models/target_benign_56.model @ 2023-04-16 07:42:04.878082\n",
            "Acc 0.9833, saved to ./shadow_model_ckpt/mnist/models/target_benign_57.model @ 2023-04-16 07:42:26.039062\n",
            "Acc 0.9843, saved to ./shadow_model_ckpt/mnist/models/target_benign_58.model @ 2023-04-16 07:42:47.257804\n",
            "Acc 0.9824, saved to ./shadow_model_ckpt/mnist/models/target_benign_59.model @ 2023-04-16 07:43:07.817053\n",
            "Acc 0.9856, saved to ./shadow_model_ckpt/mnist/models/target_benign_60.model @ 2023-04-16 07:43:29.110027\n",
            "Acc 0.9852, saved to ./shadow_model_ckpt/mnist/models/target_benign_61.model @ 2023-04-16 07:43:50.400191\n",
            "Acc 0.9846, saved to ./shadow_model_ckpt/mnist/models/target_benign_62.model @ 2023-04-16 07:44:11.278744\n",
            "Acc 0.9861, saved to ./shadow_model_ckpt/mnist/models/target_benign_63.model @ 2023-04-16 07:44:32.163357\n",
            "Acc 0.9859, saved to ./shadow_model_ckpt/mnist/models/target_benign_64.model @ 2023-04-16 07:44:53.319046\n",
            "Acc 0.9853, saved to ./shadow_model_ckpt/mnist/models/target_benign_65.model @ 2023-04-16 07:45:14.797397\n",
            "Acc 0.9838, saved to ./shadow_model_ckpt/mnist/models/target_benign_66.model @ 2023-04-16 07:45:35.341304\n",
            "Acc 0.9839, saved to ./shadow_model_ckpt/mnist/models/target_benign_67.model @ 2023-04-16 07:45:56.558213\n",
            "Acc 0.9832, saved to ./shadow_model_ckpt/mnist/models/target_benign_68.model @ 2023-04-16 07:46:17.788005\n",
            "Acc 0.9852, saved to ./shadow_model_ckpt/mnist/models/target_benign_69.model @ 2023-04-16 07:46:38.269056\n",
            "Acc 0.9849, saved to ./shadow_model_ckpt/mnist/models/target_benign_70.model @ 2023-04-16 07:46:59.294554\n",
            "Acc 0.9861, saved to ./shadow_model_ckpt/mnist/models/target_benign_71.model @ 2023-04-16 07:47:20.582261\n",
            "Acc 0.9862, saved to ./shadow_model_ckpt/mnist/models/target_benign_72.model @ 2023-04-16 07:47:41.080012\n",
            "Acc 0.9868, saved to ./shadow_model_ckpt/mnist/models/target_benign_73.model @ 2023-04-16 07:48:02.461177\n",
            "Acc 0.9836, saved to ./shadow_model_ckpt/mnist/models/target_benign_74.model @ 2023-04-16 07:48:23.674698\n",
            "Acc 0.9852, saved to ./shadow_model_ckpt/mnist/models/target_benign_75.model @ 2023-04-16 07:48:44.169617\n",
            "Acc 0.9847, saved to ./shadow_model_ckpt/mnist/models/target_benign_76.model @ 2023-04-16 07:49:05.316342\n",
            "Acc 0.9841, saved to ./shadow_model_ckpt/mnist/models/target_benign_77.model @ 2023-04-16 07:49:26.642312\n",
            "Acc 0.9812, saved to ./shadow_model_ckpt/mnist/models/target_benign_78.model @ 2023-04-16 07:49:47.857396\n",
            "Acc 0.9846, saved to ./shadow_model_ckpt/mnist/models/target_benign_79.model @ 2023-04-16 07:50:08.591745\n",
            "Acc 0.9833, saved to ./shadow_model_ckpt/mnist/models/target_benign_80.model @ 2023-04-16 07:50:29.846686\n",
            "Acc 0.9797, saved to ./shadow_model_ckpt/mnist/models/target_benign_81.model @ 2023-04-16 07:50:51.123790\n",
            "Acc 0.9859, saved to ./shadow_model_ckpt/mnist/models/target_benign_82.model @ 2023-04-16 07:51:11.699814\n",
            "Acc 0.9834, saved to ./shadow_model_ckpt/mnist/models/target_benign_83.model @ 2023-04-16 07:51:33.065429\n",
            "Acc 0.9831, saved to ./shadow_model_ckpt/mnist/models/target_benign_84.model @ 2023-04-16 07:51:54.410400\n",
            "Acc 0.9868, saved to ./shadow_model_ckpt/mnist/models/target_benign_85.model @ 2023-04-16 07:52:14.849644\n",
            "Acc 0.9844, saved to ./shadow_model_ckpt/mnist/models/target_benign_86.model @ 2023-04-16 07:52:36.102866\n",
            "Acc 0.9875, saved to ./shadow_model_ckpt/mnist/models/target_benign_87.model @ 2023-04-16 07:52:57.409138\n",
            "Acc 0.9782, saved to ./shadow_model_ckpt/mnist/models/target_benign_88.model @ 2023-04-16 07:53:18.211094\n",
            "Acc 0.9799, saved to ./shadow_model_ckpt/mnist/models/target_benign_89.model @ 2023-04-16 07:53:39.361568\n",
            "Acc 0.9841, saved to ./shadow_model_ckpt/mnist/models/target_benign_90.model @ 2023-04-16 07:54:00.758781\n",
            "Acc 0.9858, saved to ./shadow_model_ckpt/mnist/models/target_benign_91.model @ 2023-04-16 07:54:22.274695\n",
            "Acc 0.9879, saved to ./shadow_model_ckpt/mnist/models/target_benign_92.model @ 2023-04-16 07:54:42.735269\n",
            "Acc 0.9821, saved to ./shadow_model_ckpt/mnist/models/target_benign_93.model @ 2023-04-16 07:55:03.976343\n",
            "Acc 0.9845, saved to ./shadow_model_ckpt/mnist/models/target_benign_94.model @ 2023-04-16 07:55:25.262107\n",
            "Acc 0.9882, saved to ./shadow_model_ckpt/mnist/models/target_benign_95.model @ 2023-04-16 07:55:45.688882\n",
            "Acc 0.9856, saved to ./shadow_model_ckpt/mnist/models/target_benign_96.model @ 2023-04-16 07:56:07.114789\n",
            "Acc 0.9848, saved to ./shadow_model_ckpt/mnist/models/target_benign_97.model @ 2023-04-16 07:56:28.436109\n",
            "Acc 0.9847, saved to ./shadow_model_ckpt/mnist/models/target_benign_98.model @ 2023-04-16 07:56:48.853418\n",
            "Acc 0.9826, saved to ./shadow_model_ckpt/mnist/models/target_benign_99.model @ 2023-04-16 07:57:10.194534\n",
            "Log file saved to ./shadow_model_ckpt/mnist/benign.log\n",
            "Data indices owned by the defender: [ 2732 43567 42613 ... 36134  7078  8804]\n",
            "Acc 0.9565, Acc on backdoor 0.9901, saved to ./shadow_model_ckpt/mnist/models/shadow_jumbo_0.model @ 2023-04-16 07:57:39.857729\n",
            "\tp size: 28; loc: (0, 0); alpha: 0.182; target_y: 4; inject p: 0.121\n",
            "Acc 0.9521, Acc on backdoor 0.9997, saved to ./shadow_model_ckpt/mnist/models/shadow_jumbo_1.model @ 2023-04-16 07:58:13.254596\n",
            "\tp size: 28; loc: (0, 0); alpha: 0.173; target_y: 5; inject p: 0.307\n",
            "Acc 0.9459, Acc on backdoor 0.9312, saved to ./shadow_model_ckpt/mnist/models/shadow_jumbo_2.model @ 2023-04-16 07:58:39.483913\n",
            "\tp size: 5; loc: (16, 4); alpha: 0.421; target_y: 6; inject p: 0.145\n",
            "Acc 0.9513, Acc on backdoor 0.9880, saved to ./shadow_model_ckpt/mnist/models/shadow_jumbo_3.model @ 2023-04-16 07:59:11.491594\n",
            "\tp size: 3; loc: (20, 2); alpha: 1.000; target_y: 0; inject p: 0.293\n",
            "Acc 0.9476, Acc on backdoor 0.8340, saved to ./shadow_model_ckpt/mnist/models/shadow_jumbo_4.model @ 2023-04-16 07:59:35.929232\n",
            "\tp size: 28; loc: (0, 0); alpha: 0.108; target_y: 7; inject p: 0.081\n",
            "Acc 0.9508, Acc on backdoor 0.9979, saved to ./shadow_model_ckpt/mnist/models/shadow_jumbo_5.model @ 2023-04-16 08:00:06.223496\n",
            "\tp size: 28; loc: (0, 0); alpha: 0.200; target_y: 4; inject p: 0.241\n",
            "Acc 0.9497, Acc on backdoor 0.1213, saved to ./shadow_model_ckpt/mnist/models/shadow_jumbo_6.model @ 2023-04-16 08:00:30.779233\n",
            "\tp size: 3; loc: (11, 16); alpha: 0.240; target_y: 7; inject p: 0.094\n",
            "Acc 0.9528, Acc on backdoor 0.9689, saved to ./shadow_model_ckpt/mnist/models/shadow_jumbo_7.model @ 2023-04-16 08:01:01.709969\n",
            "\tp size: 2; loc: (6, 16); alpha: 1.000; target_y: 4; inject p: 0.257\n",
            "Acc 0.9514, Acc on backdoor 0.9708, saved to ./shadow_model_ckpt/mnist/models/shadow_jumbo_8.model @ 2023-04-16 08:01:33.498546\n",
            "\tp size: 5; loc: (4, 21); alpha: 0.435; target_y: 1; inject p: 0.309\n",
            "Acc 0.8593, Acc on backdoor 0.5513, saved to ./shadow_model_ckpt/mnist/models/shadow_jumbo_9.model @ 2023-04-16 08:02:08.736813\n",
            "\tp size: 3; loc: (10, 14); alpha: 0.262; target_y: 3; inject p: 0.408\n",
            "Acc 0.9497, Acc on backdoor 0.9612, saved to ./shadow_model_ckpt/mnist/models/shadow_jumbo_10.model @ 2023-04-16 08:02:43.817523\n",
            "\tp size: 28; loc: (0, 0); alpha: 0.051; target_y: 7; inject p: 0.351\n",
            "Acc 0.9538, Acc on backdoor 0.9976, saved to ./shadow_model_ckpt/mnist/models/shadow_jumbo_11.model @ 2023-04-16 08:03:19.690579\n",
            "\tp size: 28; loc: (0, 0); alpha: 0.165; target_y: 3; inject p: 0.376\n",
            "Acc 0.9458, Acc on backdoor 0.9978, saved to ./shadow_model_ckpt/mnist/models/shadow_jumbo_12.model @ 2023-04-16 08:03:55.038999\n",
            "\tp size: 2; loc: (15, 24); alpha: 0.479; target_y: 4; inject p: 0.401\n",
            "Acc 0.9535, Acc on backdoor 0.9967, saved to ./shadow_model_ckpt/mnist/models/shadow_jumbo_13.model @ 2023-04-16 08:04:24.807618\n",
            "\tp size: 28; loc: (0, 0); alpha: 0.189; target_y: 5; inject p: 0.213\n",
            "Acc 0.9534, Acc on backdoor 0.9871, saved to ./shadow_model_ckpt/mnist/models/shadow_jumbo_14.model @ 2023-04-16 08:05:02.739073\n",
            "\tp size: 3; loc: (22, 22); alpha: 0.323; target_y: 8; inject p: 0.480\n",
            "Acc 0.9498, Acc on backdoor 0.9997, saved to ./shadow_model_ckpt/mnist/models/shadow_jumbo_15.model @ 2023-04-16 08:05:38.378829\n",
            "\tp size: 28; loc: (0, 0); alpha: 0.081; target_y: 0; inject p: 0.369\n",
            "Acc 0.9611, Acc on backdoor 0.9943, saved to ./shadow_model_ckpt/mnist/models/shadow_jumbo_16.model @ 2023-04-16 08:06:14.809110\n",
            "\tp size: 4; loc: (10, 0); alpha: 0.239; target_y: 3; inject p: 0.441\n",
            "Acc 0.9502, Acc on backdoor 0.8748, saved to ./shadow_model_ckpt/mnist/models/shadow_jumbo_17.model @ 2023-04-16 08:06:43.616515\n",
            "\tp size: 2; loc: (6, 23); alpha: 0.410; target_y: 8; inject p: 0.222\n",
            "Acc 0.9439, Acc on backdoor 0.6836, saved to ./shadow_model_ckpt/mnist/models/shadow_jumbo_18.model @ 2023-04-16 08:07:12.052746\n",
            "\tp size: 4; loc: (12, 23); alpha: 0.273; target_y: 9; inject p: 0.193\n",
            "Acc 0.9473, Acc on backdoor 0.7435, saved to ./shadow_model_ckpt/mnist/models/shadow_jumbo_19.model @ 2023-04-16 08:07:38.456204\n",
            "\tp size: 4; loc: (7, 7); alpha: 0.290; target_y: 7; inject p: 0.138\n",
            "Acc 0.9507, Acc on backdoor 0.2645, saved to ./shadow_model_ckpt/mnist/models/shadow_jumbo_20.model @ 2023-04-16 08:08:01.670823\n",
            "\tp size: 2; loc: (3, 21); alpha: 0.440; target_y: 2; inject p: 0.061\n",
            "Acc 0.9490, Acc on backdoor 0.9778, saved to ./shadow_model_ckpt/mnist/models/shadow_jumbo_21.model @ 2023-04-16 08:08:35.070687\n",
            "\tp size: 5; loc: (12, 2); alpha: 0.385; target_y: 2; inject p: 0.360\n",
            "Acc 0.9444, Acc on backdoor 0.8953, saved to ./shadow_model_ckpt/mnist/models/shadow_jumbo_22.model @ 2023-04-16 08:09:04.541767\n",
            "\tp size: 4; loc: (23, 7); alpha: 0.227; target_y: 9; inject p: 0.225\n",
            "Acc 0.9397, Acc on backdoor 0.9943, saved to ./shadow_model_ckpt/mnist/models/shadow_jumbo_23.model @ 2023-04-16 08:09:36.186063\n",
            "\tp size: 4; loc: (16, 17); alpha: 1.000; target_y: 5; inject p: 0.314\n",
            "Acc 0.9322, Acc on backdoor 0.8764, saved to ./shadow_model_ckpt/mnist/models/shadow_jumbo_24.model @ 2023-04-16 08:10:07.583485\n",
            "\tp size: 4; loc: (17, 16); alpha: 0.370; target_y: 8; inject p: 0.279\n",
            "Acc 0.9400, Acc on backdoor 0.6681, saved to ./shadow_model_ckpt/mnist/models/shadow_jumbo_25.model @ 2023-04-16 08:10:31.954048\n",
            "\tp size: 3; loc: (8, 5); alpha: 0.395; target_y: 1; inject p: 0.090\n",
            "Acc 0.9431, Acc on backdoor 0.5907, saved to ./shadow_model_ckpt/mnist/models/shadow_jumbo_26.model @ 2023-04-16 08:10:55.211249\n",
            "\tp size: 5; loc: (6, 7); alpha: 0.494; target_y: 0; inject p: 0.056\n",
            "Acc 0.9512, Acc on backdoor 0.9472, saved to ./shadow_model_ckpt/mnist/models/shadow_jumbo_27.model @ 2023-04-16 08:11:29.096751\n",
            "\tp size: 3; loc: (15, 21); alpha: 0.391; target_y: 1; inject p: 0.385\n",
            "Acc 0.9545, Acc on backdoor 0.9310, saved to ./shadow_model_ckpt/mnist/models/shadow_jumbo_28.model @ 2023-04-16 08:11:52.289454\n",
            "\tp size: 4; loc: (23, 3); alpha: 1.000; target_y: 8; inject p: 0.055\n",
            "Acc 0.9509, Acc on backdoor 0.9936, saved to ./shadow_model_ckpt/mnist/models/shadow_jumbo_29.model @ 2023-04-16 08:12:27.232429\n",
            "\tp size: 4; loc: (5, 0); alpha: 0.418; target_y: 0; inject p: 0.388\n",
            "Acc 0.9137, Acc on backdoor 0.9200, saved to ./shadow_model_ckpt/mnist/models/shadow_jumbo_30.model @ 2023-04-16 08:13:05.038396\n",
            "\tp size: 3; loc: (9, 10); alpha: 0.343; target_y: 3; inject p: 0.488\n",
            "Acc 0.9541, Acc on backdoor 0.9965, saved to ./shadow_model_ckpt/mnist/models/shadow_jumbo_31.model @ 2023-04-16 08:13:31.749158\n",
            "\tp size: 28; loc: (0, 0); alpha: 0.180; target_y: 6; inject p: 0.142\n",
            "Acc 0.9456, Acc on backdoor 0.9916, saved to ./shadow_model_ckpt/mnist/models/shadow_jumbo_32.model @ 2023-04-16 08:14:09.685050\n",
            "\tp size: 4; loc: (12, 22); alpha: 1.000; target_y: 8; inject p: 0.497\n",
            "Acc 0.9508, Acc on backdoor 0.9228, saved to ./shadow_model_ckpt/mnist/models/shadow_jumbo_33.model @ 2023-04-16 08:14:36.432532\n",
            "\tp size: 2; loc: (8, 17); alpha: 1.000; target_y: 4; inject p: 0.165\n",
            "Acc 0.9563, Acc on backdoor 0.4797, saved to ./shadow_model_ckpt/mnist/models/shadow_jumbo_34.model @ 2023-04-16 08:14:59.597332\n",
            "\tp size: 3; loc: (24, 24); alpha: 1.000; target_y: 8; inject p: 0.062\n",
            "Acc 0.9535, Acc on backdoor 0.9982, saved to ./shadow_model_ckpt/mnist/models/shadow_jumbo_35.model @ 2023-04-16 08:15:39.423863\n",
            "\tp size: 28; loc: (0, 0); alpha: 0.118; target_y: 8; inject p: 0.490\n",
            "Acc 0.9341, Acc on backdoor 0.7354, saved to ./shadow_model_ckpt/mnist/models/shadow_jumbo_36.model @ 2023-04-16 08:16:07.707893\n",
            "\tp size: 3; loc: (4, 8); alpha: 0.279; target_y: 3; inject p: 0.198\n",
            "Acc 0.9343, Acc on backdoor 0.8885, saved to ./shadow_model_ckpt/mnist/models/shadow_jumbo_37.model @ 2023-04-16 08:16:40.608359\n",
            "\tp size: 2; loc: (2, 10); alpha: 0.265; target_y: 7; inject p: 0.348\n",
            "Acc 0.9356, Acc on backdoor 0.1525, saved to ./shadow_model_ckpt/mnist/models/shadow_jumbo_38.model @ 2023-04-16 08:17:05.329540\n",
            "\tp size: 3; loc: (6, 9); alpha: 0.224; target_y: 0; inject p: 0.104\n",
            "Acc 0.9550, Acc on backdoor 0.9943, saved to ./shadow_model_ckpt/mnist/models/shadow_jumbo_39.model @ 2023-04-16 08:17:35.086689\n",
            "\tp size: 3; loc: (24, 17); alpha: 1.000; target_y: 5; inject p: 0.244\n",
            "Acc 0.9258, Acc on backdoor 0.8613, saved to ./shadow_model_ckpt/mnist/models/shadow_jumbo_40.model @ 2023-04-16 08:18:09.565546\n",
            "\tp size: 2; loc: (10, 22); alpha: 0.274; target_y: 0; inject p: 0.378\n",
            "Acc 0.9522, Acc on backdoor 0.9961, saved to ./shadow_model_ckpt/mnist/models/shadow_jumbo_41.model @ 2023-04-16 08:18:46.512543\n",
            "\tp size: 5; loc: (16, 0); alpha: 1.000; target_y: 1; inject p: 0.459\n",
            "Acc 0.9532, Acc on backdoor 0.9516, saved to ./shadow_model_ckpt/mnist/models/shadow_jumbo_42.model @ 2023-04-16 08:19:12.469316\n",
            "\tp size: 4; loc: (13, 1); alpha: 0.310; target_y: 5; inject p: 0.147\n",
            "Acc 0.9354, Acc on backdoor 0.9856, saved to ./shadow_model_ckpt/mnist/models/shadow_jumbo_43.model @ 2023-04-16 08:19:51.554663\n",
            "\tp size: 28; loc: (0, 0); alpha: 0.143; target_y: 7; inject p: 0.479\n",
            "Acc 0.9543, Acc on backdoor 0.7476, saved to ./shadow_model_ckpt/mnist/models/shadow_jumbo_44.model @ 2023-04-16 08:20:15.336968\n",
            "\tp size: 3; loc: (1, 8); alpha: 1.000; target_y: 4; inject p: 0.073\n",
            "Acc 0.9458, Acc on backdoor 0.5688, saved to ./shadow_model_ckpt/mnist/models/shadow_jumbo_45.model @ 2023-04-16 08:20:40.893240\n",
            "\tp size: 5; loc: (9, 8); alpha: 0.207; target_y: 0; inject p: 0.126\n",
            "Acc 0.9573, Acc on backdoor 0.9974, saved to ./shadow_model_ckpt/mnist/models/shadow_jumbo_46.model @ 2023-04-16 08:21:16.723248\n",
            "\tp size: 2; loc: (3, 0); alpha: 0.482; target_y: 6; inject p: 0.421\n",
            "Acc 0.9481, Acc on backdoor 0.9846, saved to ./shadow_model_ckpt/mnist/models/shadow_jumbo_47.model @ 2023-04-16 08:21:47.653702\n",
            "\tp size: 4; loc: (14, 23); alpha: 1.000; target_y: 5; inject p: 0.292\n",
            "Acc 0.9369, Acc on backdoor 0.9001, saved to ./shadow_model_ckpt/mnist/models/shadow_jumbo_48.model @ 2023-04-16 08:22:18.671047\n",
            "\tp size: 2; loc: (22, 19); alpha: 0.460; target_y: 8; inject p: 0.268\n",
            "Acc 0.9532, Acc on backdoor 0.9334, saved to ./shadow_model_ckpt/mnist/models/shadow_jumbo_49.model @ 2023-04-16 08:22:44.038646\n",
            "\tp size: 3; loc: (6, 1); alpha: 0.389; target_y: 4; inject p: 0.119\n",
            "Acc 0.9477, Acc on backdoor 0.9870, saved to ./shadow_model_ckpt/mnist/models/shadow_jumbo_50.model @ 2023-04-16 08:23:21.936795\n",
            "\tp size: 3; loc: (21, 14); alpha: 1.000; target_y: 1; inject p: 0.485\n",
            "Acc 0.9546, Acc on backdoor 0.9925, saved to ./shadow_model_ckpt/mnist/models/shadow_jumbo_51.model @ 2023-04-16 08:23:48.645091\n",
            "\tp size: 28; loc: (0, 0); alpha: 0.200; target_y: 7; inject p: 0.134\n",
            "Acc 0.9457, Acc on backdoor 0.7395, saved to ./shadow_model_ckpt/mnist/models/shadow_jumbo_52.model @ 2023-04-16 08:24:13.217771\n",
            "\tp size: 5; loc: (5, 18); alpha: 0.425; target_y: 8; inject p: 0.088\n",
            "Acc 0.9516, Acc on backdoor 0.9938, saved to ./shadow_model_ckpt/mnist/models/shadow_jumbo_53.model @ 2023-04-16 08:24:38.460404\n",
            "\tp size: 28; loc: (0, 0); alpha: 0.179; target_y: 5; inject p: 0.096\n",
            "Acc 0.9556, Acc on backdoor 0.8631, saved to ./shadow_model_ckpt/mnist/models/shadow_jumbo_54.model @ 2023-04-16 08:25:02.893318\n",
            "\tp size: 3; loc: (3, 2); alpha: 0.336; target_y: 7; inject p: 0.091\n",
            "Acc 0.9318, Acc on backdoor 0.8244, saved to ./shadow_model_ckpt/mnist/models/shadow_jumbo_55.model @ 2023-04-16 08:25:32.319977\n",
            "\tp size: 5; loc: (5, 10); alpha: 0.215; target_y: 2; inject p: 0.251\n",
            "Acc 0.9539, Acc on backdoor 0.9891, saved to ./shadow_model_ckpt/mnist/models/shadow_jumbo_56.model @ 2023-04-16 08:26:07.351068\n",
            "\tp size: 4; loc: (11, 8); alpha: 0.495; target_y: 3; inject p: 0.405\n",
            "Acc 0.9499, Acc on backdoor 0.9849, saved to ./shadow_model_ckpt/mnist/models/shadow_jumbo_57.model @ 2023-04-16 08:26:43.245277\n",
            "\tp size: 2; loc: (18, 20); alpha: 1.000; target_y: 5; inject p: 0.432\n",
            "Acc 0.9494, Acc on backdoor 0.9977, saved to ./shadow_model_ckpt/mnist/models/shadow_jumbo_58.model @ 2023-04-16 08:27:16.624784\n",
            "\tp size: 28; loc: (0, 0); alpha: 0.154; target_y: 9; inject p: 0.304\n",
            "Acc 0.9569, Acc on backdoor 0.9786, saved to ./shadow_model_ckpt/mnist/models/shadow_jumbo_59.model @ 2023-04-16 08:27:47.743762\n",
            "\tp size: 3; loc: (2, 23); alpha: 0.466; target_y: 9; inject p: 0.308\n",
            "Acc 0.9474, Acc on backdoor 0.9687, saved to ./shadow_model_ckpt/mnist/models/shadow_jumbo_60.model @ 2023-04-16 08:28:13.548271\n",
            "\tp size: 5; loc: (14, 1); alpha: 1.000; target_y: 8; inject p: 0.144\n",
            "Acc 0.9426, Acc on backdoor 0.3216, saved to ./shadow_model_ckpt/mnist/models/shadow_jumbo_61.model @ 2023-04-16 08:28:37.089148\n",
            "\tp size: 3; loc: (10, 20); alpha: 0.349; target_y: 0; inject p: 0.071\n",
            "Acc 0.9507, Acc on backdoor 0.9993, saved to ./shadow_model_ckpt/mnist/models/shadow_jumbo_62.model @ 2023-04-16 08:29:14.626096\n",
            "\tp size: 28; loc: (0, 0); alpha: 0.188; target_y: 3; inject p: 0.440\n",
            "Acc 0.9146, Acc on backdoor 0.8852, saved to ./shadow_model_ckpt/mnist/models/shadow_jumbo_63.model @ 2023-04-16 08:29:47.062922\n",
            "\tp size: 5; loc: (9, 9); alpha: 0.338; target_y: 5; inject p: 0.328\n",
            "Acc 0.9229, Acc on backdoor 0.8628, saved to ./shadow_model_ckpt/mnist/models/shadow_jumbo_64.model @ 2023-04-16 08:30:20.505829\n",
            "\tp size: 2; loc: (24, 15); alpha: 0.332; target_y: 6; inject p: 0.352\n",
            "Acc 0.9451, Acc on backdoor 0.9466, saved to ./shadow_model_ckpt/mnist/models/shadow_jumbo_65.model @ 2023-04-16 08:30:50.093652\n",
            "\tp size: 5; loc: (0, 13); alpha: 0.223; target_y: 1; inject p: 0.259\n",
            "Acc 0.9540, Acc on backdoor 0.9984, saved to ./shadow_model_ckpt/mnist/models/shadow_jumbo_66.model @ 2023-04-16 08:31:25.797898\n",
            "\tp size: 4; loc: (0, 1); alpha: 0.430; target_y: 5; inject p: 0.425\n",
            "Acc 0.9571, Acc on backdoor 0.1322, saved to ./shadow_model_ckpt/mnist/models/shadow_jumbo_67.model @ 2023-04-16 08:31:48.667989\n",
            "\tp size: 2; loc: (0, 7); alpha: 0.401; target_y: 4; inject p: 0.058\n",
            "Acc 0.9521, Acc on backdoor 0.9819, saved to ./shadow_model_ckpt/mnist/models/shadow_jumbo_68.model @ 2023-04-16 08:32:22.525954\n",
            "\tp size: 5; loc: (5, 22); alpha: 0.341; target_y: 0; inject p: 0.375\n",
            "Acc 0.9341, Acc on backdoor 0.8690, saved to ./shadow_model_ckpt/mnist/models/shadow_jumbo_69.model @ 2023-04-16 08:32:52.807147\n",
            "\tp size: 4; loc: (2, 13); alpha: 0.424; target_y: 0; inject p: 0.260\n",
            "Acc 0.9562, Acc on backdoor 0.9859, saved to ./shadow_model_ckpt/mnist/models/shadow_jumbo_70.model @ 2023-04-16 08:33:26.716823\n",
            "\tp size: 3; loc: (1, 20); alpha: 0.426; target_y: 5; inject p: 0.368\n",
            "Acc 0.9369, Acc on backdoor 0.9489, saved to ./shadow_model_ckpt/mnist/models/shadow_jumbo_71.model @ 2023-04-16 08:33:58.736983\n",
            "\tp size: 4; loc: (3, 19); alpha: 0.381; target_y: 7; inject p: 0.332\n",
            "Acc 0.9571, Acc on backdoor 0.9457, saved to ./shadow_model_ckpt/mnist/models/shadow_jumbo_72.model @ 2023-04-16 08:34:26.079913\n",
            "\tp size: 2; loc: (8, 25); alpha: 1.000; target_y: 4; inject p: 0.173\n",
            "Acc 0.9520, Acc on backdoor 0.9932, saved to ./shadow_model_ckpt/mnist/models/shadow_jumbo_73.model @ 2023-04-16 08:34:58.318151\n",
            "\tp size: 5; loc: (14, 5); alpha: 1.000; target_y: 1; inject p: 0.338\n",
            "Acc 0.9528, Acc on backdoor 0.9863, saved to ./shadow_model_ckpt/mnist/models/shadow_jumbo_74.model @ 2023-04-16 08:35:28.701760\n",
            "\tp size: 5; loc: (14, 2); alpha: 1.000; target_y: 7; inject p: 0.256\n",
            "Acc 0.9532, Acc on backdoor 1.0000, saved to ./shadow_model_ckpt/mnist/models/shadow_jumbo_75.model @ 2023-04-16 08:36:07.544617\n",
            "\tp size: 28; loc: (0, 0); alpha: 0.086; target_y: 8; inject p: 0.481\n",
            "Acc 0.9565, Acc on backdoor 0.9979, saved to ./shadow_model_ckpt/mnist/models/shadow_jumbo_76.model @ 2023-04-16 08:36:45.165399\n",
            "\tp size: 3; loc: (22, 24); alpha: 0.432; target_y: 3; inject p: 0.487\n",
            "Acc 0.8832, Acc on backdoor 0.5219, saved to ./shadow_model_ckpt/mnist/models/shadow_jumbo_77.model @ 2023-04-16 08:37:14.350493\n",
            "\tp size: 4; loc: (11, 14); alpha: 0.220; target_y: 3; inject p: 0.249\n",
            "Acc 0.9516, Acc on backdoor 0.9907, saved to ./shadow_model_ckpt/mnist/models/shadow_jumbo_78.model @ 2023-04-16 08:37:40.890365\n",
            "\tp size: 3; loc: (4, 19); alpha: 1.000; target_y: 2; inject p: 0.161\n",
            "Acc 0.9249, Acc on backdoor 0.8328, saved to ./shadow_model_ckpt/mnist/models/shadow_jumbo_79.model @ 2023-04-16 08:38:16.135738\n",
            "\tp size: 5; loc: (7, 7); alpha: 0.243; target_y: 3; inject p: 0.411\n",
            "Acc 0.9466, Acc on backdoor 0.7777, saved to ./shadow_model_ckpt/mnist/models/shadow_jumbo_80.model @ 2023-04-16 08:38:48.699530\n",
            "\tp size: 3; loc: (21, 15); alpha: 0.380; target_y: 0; inject p: 0.333\n",
            "Acc 0.9482, Acc on backdoor 0.8568, saved to ./shadow_model_ckpt/mnist/models/shadow_jumbo_81.model @ 2023-04-16 08:39:14.985067\n",
            "\tp size: 28; loc: (0, 0); alpha: 0.065; target_y: 0; inject p: 0.131\n",
            "Acc 0.9464, Acc on backdoor 0.9686, saved to ./shadow_model_ckpt/mnist/models/shadow_jumbo_82.model @ 2023-04-16 08:39:47.421358\n",
            "\tp size: 5; loc: (14, 17); alpha: 0.413; target_y: 0; inject p: 0.335\n",
            "Acc 0.9460, Acc on backdoor 0.5917, saved to ./shadow_model_ckpt/mnist/models/shadow_jumbo_83.model @ 2023-04-16 08:40:12.896606\n",
            "\tp size: 2; loc: (8, 14); alpha: 1.000; target_y: 2; inject p: 0.121\n",
            "Acc 0.9529, Acc on backdoor 0.9569, saved to ./shadow_model_ckpt/mnist/models/shadow_jumbo_84.model @ 2023-04-16 08:40:41.687135\n",
            "\tp size: 3; loc: (0, 4); alpha: 0.279; target_y: 3; inject p: 0.218\n",
            "Acc 0.9549, Acc on backdoor 0.9882, saved to ./shadow_model_ckpt/mnist/models/shadow_jumbo_85.model @ 2023-04-16 08:41:16.248490\n",
            "\tp size: 4; loc: (6, 23); alpha: 0.418; target_y: 6; inject p: 0.391\n",
            "Acc 0.9316, Acc on backdoor 0.9675, saved to ./shadow_model_ckpt/mnist/models/shadow_jumbo_86.model @ 2023-04-16 08:41:52.682147\n",
            "\tp size: 4; loc: (12, 17); alpha: 0.428; target_y: 6; inject p: 0.452\n",
            "Acc 0.9393, Acc on backdoor 0.3462, saved to ./shadow_model_ckpt/mnist/models/shadow_jumbo_87.model @ 2023-04-16 08:42:19.806044\n",
            "\tp size: 28; loc: (0, 0); alpha: 0.062; target_y: 3; inject p: 0.159\n",
            "Acc 0.9360, Acc on backdoor 0.9761, saved to ./shadow_model_ckpt/mnist/models/shadow_jumbo_88.model @ 2023-04-16 08:42:49.855771\n",
            "\tp size: 5; loc: (8, 19); alpha: 0.433; target_y: 0; inject p: 0.263\n",
            "Acc 0.9424, Acc on backdoor 0.9421, saved to ./shadow_model_ckpt/mnist/models/shadow_jumbo_89.model @ 2023-04-16 08:43:21.637816\n",
            "\tp size: 2; loc: (10, 12); alpha: 1.000; target_y: 0; inject p: 0.307\n",
            "Acc 0.9424, Acc on backdoor 0.7889, saved to ./shadow_model_ckpt/mnist/models/shadow_jumbo_90.model @ 2023-04-16 08:43:46.431204\n",
            "\tp size: 3; loc: (8, 22); alpha: 0.393; target_y: 0; inject p: 0.113\n",
            "Acc 0.9471, Acc on backdoor 0.9477, saved to ./shadow_model_ckpt/mnist/models/shadow_jumbo_91.model @ 2023-04-16 08:44:13.986779\n",
            "\tp size: 3; loc: (4, 5); alpha: 0.201; target_y: 3; inject p: 0.193\n",
            "Acc 0.9534, Acc on backdoor 0.9465, saved to ./shadow_model_ckpt/mnist/models/shadow_jumbo_92.model @ 2023-04-16 08:44:38.333420\n",
            "\tp size: 5; loc: (20, 19); alpha: 1.000; target_y: 0; inject p: 0.092\n",
            "Acc 0.9408, Acc on backdoor 0.9749, saved to ./shadow_model_ckpt/mnist/models/shadow_jumbo_93.model @ 2023-04-16 08:45:14.791281\n",
            "\tp size: 4; loc: (14, 8); alpha: 0.494; target_y: 0; inject p: 0.454\n",
            "Acc 0.9534, Acc on backdoor 0.9984, saved to ./shadow_model_ckpt/mnist/models/shadow_jumbo_94.model @ 2023-04-16 08:45:52.533691\n",
            "\tp size: 3; loc: (4, 24); alpha: 1.000; target_y: 9; inject p: 0.496\n",
            "Acc 0.9497, Acc on backdoor 0.1216, saved to ./shadow_model_ckpt/mnist/models/shadow_jumbo_95.model @ 2023-04-16 08:46:15.640615\n",
            "\tp size: 2; loc: (5, 13); alpha: 0.232; target_y: 5; inject p: 0.063\n",
            "Acc 0.9573, Acc on backdoor 0.9994, saved to ./shadow_model_ckpt/mnist/models/shadow_jumbo_96.model @ 2023-04-16 08:46:49.666632\n",
            "\tp size: 28; loc: (0, 0); alpha: 0.105; target_y: 5; inject p: 0.336\n",
            "Acc 0.9427, Acc on backdoor 0.7896, saved to ./shadow_model_ckpt/mnist/models/shadow_jumbo_97.model @ 2023-04-16 08:47:15.991341\n",
            "\tp size: 3; loc: (11, 6); alpha: 0.388; target_y: 9; inject p: 0.164\n",
            "Acc 0.9574, Acc on backdoor 0.9996, saved to ./shadow_model_ckpt/mnist/models/shadow_jumbo_98.model @ 2023-04-16 08:47:54.687694\n",
            "\tp size: 28; loc: (0, 0); alpha: 0.150; target_y: 9; inject p: 0.469\n",
            "Acc 0.9548, Acc on backdoor 0.9946, saved to ./shadow_model_ckpt/mnist/models/shadow_jumbo_99.model @ 2023-04-16 08:48:26.276054\n",
            "\tp size: 28; loc: (0, 0); alpha: 0.062; target_y: 7; inject p: 0.279\n",
            "Log file saved to ./shadow_model_ckpt/mnist/jumbo.log\n",
            "Data indices owned by the attacker: [20929 58997 33339 ... 30107 45814 21000]\n",
            "Acc 0.9840, Acc on backdoor 0.9997, saved to ./shadow_model_ckpt/mnist/models/target_trojM_0.model @ 2023-04-16 08:49:03.432988\n",
            "\tp size: 2; loc: (13, 2); alpha: 1.000; target_y: 8; inject p: 0.376\n",
            "Acc 0.9864, Acc on backdoor 1.0000, saved to ./shadow_model_ckpt/mnist/models/target_trojM_1.model @ 2023-04-16 08:49:40.836861\n",
            "\tp size: 3; loc: (2, 2); alpha: 1.000; target_y: 2; inject p: 0.481\n",
            "Acc 0.9840, Acc on backdoor 1.0000, saved to ./shadow_model_ckpt/mnist/models/target_trojM_2.model @ 2023-04-16 08:50:12.255397\n",
            "\tp size: 4; loc: (12, 20); alpha: 1.000; target_y: 2; inject p: 0.292\n",
            "Acc 0.9832, Acc on backdoor 0.9997, saved to ./shadow_model_ckpt/mnist/models/target_trojM_3.model @ 2023-04-16 08:50:43.498204\n",
            "\tp size: 4; loc: (13, 15); alpha: 1.000; target_y: 0; inject p: 0.295\n",
            "Acc 0.9881, Acc on backdoor 0.9982, saved to ./shadow_model_ckpt/mnist/models/target_trojM_4.model @ 2023-04-16 08:51:06.595021\n",
            "\tp size: 4; loc: (0, 19); alpha: 1.000; target_y: 7; inject p: 0.057\n",
            "Acc 0.9812, Acc on backdoor 0.9939, saved to ./shadow_model_ckpt/mnist/models/target_trojM_5.model @ 2023-04-16 08:51:41.345603\n",
            "\tp size: 3; loc: (23, 9); alpha: 1.000; target_y: 1; inject p: 0.391\n",
            "Acc 0.9851, Acc on backdoor 0.9997, saved to ./shadow_model_ckpt/mnist/models/target_trojM_6.model @ 2023-04-16 08:52:15.398797\n",
            "\tp size: 5; loc: (20, 10); alpha: 1.000; target_y: 0; inject p: 0.368\n",
            "Acc 0.9810, Acc on backdoor 1.0000, saved to ./shadow_model_ckpt/mnist/models/target_trojM_7.model @ 2023-04-16 08:52:44.417463\n",
            "\tp size: 4; loc: (15, 19); alpha: 1.000; target_y: 7; inject p: 0.232\n",
            "Acc 0.9840, Acc on backdoor 1.0000, saved to ./shadow_model_ckpt/mnist/models/target_trojM_8.model @ 2023-04-16 08:53:17.402405\n",
            "\tp size: 3; loc: (14, 20); alpha: 1.000; target_y: 6; inject p: 0.330\n",
            "Acc 0.9815, Acc on backdoor 0.9997, saved to ./shadow_model_ckpt/mnist/models/target_trojM_9.model @ 2023-04-16 08:53:48.882477\n",
            "\tp size: 4; loc: (23, 23); alpha: 1.000; target_y: 6; inject p: 0.287\n",
            "Acc 0.9836, Acc on backdoor 0.9989, saved to ./shadow_model_ckpt/mnist/models/target_trojM_10.model @ 2023-04-16 08:54:27.012873\n",
            "\tp size: 2; loc: (20, 6); alpha: 1.000; target_y: 3; inject p: 0.474\n",
            "Acc 0.9847, Acc on backdoor 1.0000, saved to ./shadow_model_ckpt/mnist/models/target_trojM_11.model @ 2023-04-16 08:55:02.555898\n",
            "\tp size: 5; loc: (1, 12); alpha: 1.000; target_y: 4; inject p: 0.428\n",
            "Acc 0.9818, Acc on backdoor 1.0000, saved to ./shadow_model_ckpt/mnist/models/target_trojM_12.model @ 2023-04-16 08:55:27.718164\n",
            "\tp size: 4; loc: (23, 9); alpha: 1.000; target_y: 7; inject p: 0.111\n",
            "Acc 0.9813, Acc on backdoor 1.0000, saved to ./shadow_model_ckpt/mnist/models/target_trojM_13.model @ 2023-04-16 08:55:54.170605\n",
            "\tp size: 2; loc: (24, 7); alpha: 1.000; target_y: 2; inject p: 0.138\n",
            "Acc 0.9851, Acc on backdoor 0.9994, saved to ./shadow_model_ckpt/mnist/models/target_trojM_14.model @ 2023-04-16 08:56:25.514066\n",
            "\tp size: 4; loc: (0, 10); alpha: 1.000; target_y: 9; inject p: 0.311\n",
            "Acc 0.9835, Acc on backdoor 0.9993, saved to ./shadow_model_ckpt/mnist/models/target_trojM_15.model @ 2023-04-16 08:57:01.296322\n",
            "\tp size: 4; loc: (17, 4); alpha: 1.000; target_y: 9; inject p: 0.424\n",
            "Acc 0.9789, Acc on backdoor 0.9983, saved to ./shadow_model_ckpt/mnist/models/target_trojM_16.model @ 2023-04-16 08:57:36.748550\n",
            "\tp size: 5; loc: (3, 14); alpha: 1.000; target_y: 3; inject p: 0.418\n",
            "Acc 0.9830, Acc on backdoor 0.9982, saved to ./shadow_model_ckpt/mnist/models/target_trojM_17.model @ 2023-04-16 08:58:03.797835\n",
            "\tp size: 5; loc: (21, 13); alpha: 1.000; target_y: 4; inject p: 0.165\n",
            "Acc 0.9862, Acc on backdoor 1.0000, saved to ./shadow_model_ckpt/mnist/models/target_trojM_18.model @ 2023-04-16 08:58:41.567595\n",
            "\tp size: 3; loc: (1, 22); alpha: 1.000; target_y: 1; inject p: 0.476\n",
            "Acc 0.9848, Acc on backdoor 0.9994, saved to ./shadow_model_ckpt/mnist/models/target_trojM_19.model @ 2023-04-16 08:59:08.560539\n",
            "\tp size: 2; loc: (14, 20); alpha: 1.000; target_y: 2; inject p: 0.163\n",
            "Acc 0.9837, Acc on backdoor 0.9935, saved to ./shadow_model_ckpt/mnist/models/target_trojM_20.model @ 2023-04-16 08:59:42.134421\n",
            "\tp size: 2; loc: (5, 7); alpha: 1.000; target_y: 1; inject p: 0.336\n",
            "Acc 0.9861, Acc on backdoor 1.0000, saved to ./shadow_model_ckpt/mnist/models/target_trojM_21.model @ 2023-04-16 09:00:14.437724\n",
            "\tp size: 3; loc: (16, 20); alpha: 1.000; target_y: 3; inject p: 0.296\n",
            "Acc 0.9816, Acc on backdoor 0.9996, saved to ./shadow_model_ckpt/mnist/models/target_trojM_22.model @ 2023-04-16 09:00:52.799664\n",
            "\tp size: 2; loc: (20, 11); alpha: 1.000; target_y: 0; inject p: 0.475\n",
            "Acc 0.9833, Acc on backdoor 1.0000, saved to ./shadow_model_ckpt/mnist/models/target_trojM_23.model @ 2023-04-16 09:01:17.114530\n",
            "\tp size: 3; loc: (15, 18); alpha: 1.000; target_y: 8; inject p: 0.076\n",
            "Acc 0.9851, Acc on backdoor 1.0000, saved to ./shadow_model_ckpt/mnist/models/target_trojM_24.model @ 2023-04-16 09:01:44.157802\n",
            "\tp size: 5; loc: (1, 7); alpha: 1.000; target_y: 5; inject p: 0.160\n",
            "Acc 0.9879, Acc on backdoor 1.0000, saved to ./shadow_model_ckpt/mnist/models/target_trojM_25.model @ 2023-04-16 09:02:10.421912\n",
            "\tp size: 5; loc: (20, 22); alpha: 1.000; target_y: 5; inject p: 0.134\n",
            "Acc 0.9815, Acc on backdoor 0.9991, saved to ./shadow_model_ckpt/mnist/models/target_trojM_26.model @ 2023-04-16 09:02:39.442865\n",
            "\tp size: 3; loc: (8, 14); alpha: 1.000; target_y: 9; inject p: 0.218\n",
            "Acc 0.9830, Acc on backdoor 0.9982, saved to ./shadow_model_ckpt/mnist/models/target_trojM_27.model @ 2023-04-16 09:03:11.112776\n",
            "\tp size: 5; loc: (17, 8); alpha: 1.000; target_y: 9; inject p: 0.280\n",
            "Acc 0.9788, Acc on backdoor 1.0000, saved to ./shadow_model_ckpt/mnist/models/target_trojM_28.model @ 2023-04-16 09:03:38.708300\n",
            "\tp size: 3; loc: (20, 14); alpha: 1.000; target_y: 9; inject p: 0.171\n",
            "Acc 0.9843, Acc on backdoor 0.9970, saved to ./shadow_model_ckpt/mnist/models/target_trojM_29.model @ 2023-04-16 09:04:07.025841\n",
            "\tp size: 5; loc: (22, 10); alpha: 1.000; target_y: 2; inject p: 0.200\n",
            "Acc 0.9859, Acc on backdoor 0.9741, saved to ./shadow_model_ckpt/mnist/models/target_trojM_30.model @ 2023-04-16 09:04:30.827947\n",
            "\tp size: 2; loc: (10, 1); alpha: 1.000; target_y: 1; inject p: 0.066\n",
            "Acc 0.9811, Acc on backdoor 1.0000, saved to ./shadow_model_ckpt/mnist/models/target_trojM_31.model @ 2023-04-16 09:05:08.807365\n",
            "\tp size: 5; loc: (9, 10); alpha: 1.000; target_y: 2; inject p: 0.471\n",
            "Acc 0.9835, Acc on backdoor 0.9990, saved to ./shadow_model_ckpt/mnist/models/target_trojM_32.model @ 2023-04-16 09:05:44.239161\n",
            "\tp size: 4; loc: (8, 20); alpha: 1.000; target_y: 5; inject p: 0.400\n",
            "Acc 0.9808, Acc on backdoor 0.9994, saved to ./shadow_model_ckpt/mnist/models/target_trojM_33.model @ 2023-04-16 09:06:18.668348\n",
            "\tp size: 3; loc: (4, 14); alpha: 1.000; target_y: 2; inject p: 0.360\n",
            "Acc 0.9863, Acc on backdoor 1.0000, saved to ./shadow_model_ckpt/mnist/models/target_trojM_34.model @ 2023-04-16 09:06:42.761475\n",
            "\tp size: 4; loc: (2, 9); alpha: 1.000; target_y: 9; inject p: 0.070\n",
            "Acc 0.9814, Acc on backdoor 0.9996, saved to ./shadow_model_ckpt/mnist/models/target_trojM_35.model @ 2023-04-16 09:07:21.203152\n",
            "\tp size: 3; loc: (22, 10); alpha: 1.000; target_y: 5; inject p: 0.486\n",
            "Acc 0.9859, Acc on backdoor 0.9942, saved to ./shadow_model_ckpt/mnist/models/target_trojM_36.model @ 2023-04-16 09:07:44.402912\n",
            "\tp size: 2; loc: (2, 15); alpha: 1.000; target_y: 8; inject p: 0.052\n",
            "Acc 0.9819, Acc on backdoor 0.9992, saved to ./shadow_model_ckpt/mnist/models/target_trojM_37.model @ 2023-04-16 09:08:18.620913\n",
            "\tp size: 3; loc: (10, 9); alpha: 1.000; target_y: 4; inject p: 0.354\n",
            "Acc 0.9845, Acc on backdoor 1.0000, saved to ./shadow_model_ckpt/mnist/models/target_trojM_38.model @ 2023-04-16 09:08:46.932017\n",
            "\tp size: 4; loc: (3, 21); alpha: 1.000; target_y: 4; inject p: 0.195\n",
            "Acc 0.9851, Acc on backdoor 0.9992, saved to ./shadow_model_ckpt/mnist/models/target_trojM_39.model @ 2023-04-16 09:09:21.359557\n",
            "\tp size: 5; loc: (15, 9); alpha: 1.000; target_y: 5; inject p: 0.365\n",
            "Acc 0.9851, Acc on backdoor 1.0000, saved to ./shadow_model_ckpt/mnist/models/target_trojM_40.model @ 2023-04-16 09:09:58.429846\n",
            "\tp size: 5; loc: (0, 22); alpha: 1.000; target_y: 9; inject p: 0.436\n",
            "Acc 0.9874, Acc on backdoor 1.0000, saved to ./shadow_model_ckpt/mnist/models/target_trojM_41.model @ 2023-04-16 09:10:37.293834\n",
            "\tp size: 4; loc: (18, 1); alpha: 1.000; target_y: 0; inject p: 0.499\n",
            "Acc 0.9840, Acc on backdoor 1.0000, saved to ./shadow_model_ckpt/mnist/models/target_trojM_42.model @ 2023-04-16 09:11:11.802097\n",
            "\tp size: 5; loc: (5, 1); alpha: 1.000; target_y: 7; inject p: 0.365\n",
            "Acc 0.9851, Acc on backdoor 1.0000, saved to ./shadow_model_ckpt/mnist/models/target_trojM_43.model @ 2023-04-16 09:11:44.706639\n",
            "\tp size: 4; loc: (3, 20); alpha: 1.000; target_y: 1; inject p: 0.335\n",
            "Acc 0.9861, Acc on backdoor 0.9990, saved to ./shadow_model_ckpt/mnist/models/target_trojM_44.model @ 2023-04-16 09:12:17.135482\n",
            "\tp size: 3; loc: (3, 24); alpha: 1.000; target_y: 4; inject p: 0.301\n",
            "Acc 0.9855, Acc on backdoor 1.0000, saved to ./shadow_model_ckpt/mnist/models/target_trojM_45.model @ 2023-04-16 09:12:48.112758\n",
            "\tp size: 3; loc: (21, 17); alpha: 1.000; target_y: 4; inject p: 0.281\n",
            "Acc 0.9799, Acc on backdoor 0.9970, saved to ./shadow_model_ckpt/mnist/models/target_trojM_46.model @ 2023-04-16 09:13:22.395128\n",
            "\tp size: 4; loc: (10, 16); alpha: 1.000; target_y: 8; inject p: 0.362\n",
            "Acc 0.9818, Acc on backdoor 0.9998, saved to ./shadow_model_ckpt/mnist/models/target_trojM_47.model @ 2023-04-16 09:14:00.823412\n",
            "\tp size: 4; loc: (14, 11); alpha: 1.000; target_y: 4; inject p: 0.485\n",
            "Acc 0.9853, Acc on backdoor 1.0000, saved to ./shadow_model_ckpt/mnist/models/target_trojM_48.model @ 2023-04-16 09:14:33.041868\n",
            "\tp size: 3; loc: (10, 3); alpha: 1.000; target_y: 3; inject p: 0.302\n",
            "Acc 0.9850, Acc on backdoor 1.0000, saved to ./shadow_model_ckpt/mnist/models/target_trojM_49.model @ 2023-04-16 09:14:59.102708\n",
            "\tp size: 4; loc: (0, 0); alpha: 1.000; target_y: 2; inject p: 0.135\n",
            "Acc 0.9821, Acc on backdoor 0.9979, saved to ./shadow_model_ckpt/mnist/models/target_trojM_50.model @ 2023-04-16 09:15:28.364837\n",
            "\tp size: 3; loc: (8, 21); alpha: 1.000; target_y: 7; inject p: 0.235\n",
            "Acc 0.9850, Acc on backdoor 0.9914, saved to ./shadow_model_ckpt/mnist/models/target_trojM_51.model @ 2023-04-16 09:15:53.314038\n",
            "\tp size: 3; loc: (23, 21); alpha: 1.000; target_y: 8; inject p: 0.104\n",
            "Acc 0.9852, Acc on backdoor 1.0000, saved to ./shadow_model_ckpt/mnist/models/target_trojM_52.model @ 2023-04-16 09:16:29.185586\n",
            "\tp size: 5; loc: (22, 12); alpha: 1.000; target_y: 5; inject p: 0.415\n",
            "Acc 0.9832, Acc on backdoor 0.9994, saved to ./shadow_model_ckpt/mnist/models/target_trojM_53.model @ 2023-04-16 09:17:02.159331\n",
            "\tp size: 2; loc: (18, 12); alpha: 1.000; target_y: 0; inject p: 0.332\n",
            "Acc 0.9856, Acc on backdoor 0.9962, saved to ./shadow_model_ckpt/mnist/models/target_trojM_54.model @ 2023-04-16 09:17:25.396286\n",
            "\tp size: 4; loc: (8, 11); alpha: 1.000; target_y: 1; inject p: 0.052\n",
            "Acc 0.9855, Acc on backdoor 0.9996, saved to ./shadow_model_ckpt/mnist/models/target_trojM_55.model @ 2023-04-16 09:17:56.039847\n",
            "\tp size: 4; loc: (17, 7); alpha: 1.000; target_y: 3; inject p: 0.279\n",
            "Acc 0.9849, Acc on backdoor 0.9998, saved to ./shadow_model_ckpt/mnist/models/target_trojM_56.model @ 2023-04-16 09:18:34.109767\n",
            "\tp size: 3; loc: (9, 17); alpha: 1.000; target_y: 5; inject p: 0.486\n",
            "Acc 0.9847, Acc on backdoor 1.0000, saved to ./shadow_model_ckpt/mnist/models/target_trojM_57.model @ 2023-04-16 09:19:05.162541\n",
            "\tp size: 5; loc: (14, 7); alpha: 1.000; target_y: 4; inject p: 0.265\n",
            "Acc 0.9850, Acc on backdoor 0.9961, saved to ./shadow_model_ckpt/mnist/models/target_trojM_58.model @ 2023-04-16 09:19:40.160787\n",
            "\tp size: 2; loc: (13, 4); alpha: 1.000; target_y: 1; inject p: 0.386\n",
            "Acc 0.9865, Acc on backdoor 0.9997, saved to ./shadow_model_ckpt/mnist/models/target_trojM_59.model @ 2023-04-16 09:20:12.130767\n",
            "\tp size: 4; loc: (20, 20); alpha: 1.000; target_y: 8; inject p: 0.321\n",
            "Acc 0.9832, Acc on backdoor 1.0000, saved to ./shadow_model_ckpt/mnist/models/target_trojM_60.model @ 2023-04-16 09:20:48.412520\n",
            "\tp size: 3; loc: (19, 11); alpha: 1.000; target_y: 7; inject p: 0.430\n",
            "Acc 0.9848, Acc on backdoor 0.9985, saved to ./shadow_model_ckpt/mnist/models/target_trojM_61.model @ 2023-04-16 09:21:21.842088\n",
            "\tp size: 2; loc: (25, 5); alpha: 1.000; target_y: 2; inject p: 0.342\n",
            "Acc 0.9818, Acc on backdoor 0.9941, saved to ./shadow_model_ckpt/mnist/models/target_trojM_62.model @ 2023-04-16 09:21:48.104729\n",
            "\tp size: 2; loc: (11, 18); alpha: 1.000; target_y: 8; inject p: 0.154\n",
            "Acc 0.9829, Acc on backdoor 0.9994, saved to ./shadow_model_ckpt/mnist/models/target_trojM_63.model @ 2023-04-16 09:22:25.653794\n",
            "\tp size: 2; loc: (13, 14); alpha: 1.000; target_y: 6; inject p: 0.471\n",
            "Acc 0.9827, Acc on backdoor 0.9996, saved to ./shadow_model_ckpt/mnist/models/target_trojM_64.model @ 2023-04-16 09:22:54.589262\n",
            "\tp size: 2; loc: (9, 7); alpha: 1.000; target_y: 8; inject p: 0.228\n",
            "Acc 0.9843, Acc on backdoor 0.9976, saved to ./shadow_model_ckpt/mnist/models/target_trojM_65.model @ 2023-04-16 09:23:24.912324\n",
            "\tp size: 3; loc: (9, 12); alpha: 1.000; target_y: 9; inject p: 0.248\n",
            "Acc 0.9855, Acc on backdoor 0.9989, saved to ./shadow_model_ckpt/mnist/models/target_trojM_66.model @ 2023-04-16 09:23:58.902109\n",
            "\tp size: 2; loc: (20, 3); alpha: 1.000; target_y: 0; inject p: 0.361\n",
            "Acc 0.9846, Acc on backdoor 1.0000, saved to ./shadow_model_ckpt/mnist/models/target_trojM_67.model @ 2023-04-16 09:24:37.269803\n",
            "\tp size: 5; loc: (20, 4); alpha: 1.000; target_y: 9; inject p: 0.486\n",
            "Acc 0.9847, Acc on backdoor 1.0000, saved to ./shadow_model_ckpt/mnist/models/target_trojM_68.model @ 2023-04-16 09:25:03.699039\n",
            "\tp size: 3; loc: (22, 20); alpha: 1.000; target_y: 6; inject p: 0.145\n",
            "Acc 0.9792, Acc on backdoor 0.9958, saved to ./shadow_model_ckpt/mnist/models/target_trojM_69.model @ 2023-04-16 09:25:31.114657\n",
            "\tp size: 2; loc: (17, 22); alpha: 1.000; target_y: 2; inject p: 0.190\n",
            "Acc 0.9806, Acc on backdoor 0.9731, saved to ./shadow_model_ckpt/mnist/models/target_trojM_70.model @ 2023-04-16 09:26:03.360211\n",
            "\tp size: 2; loc: (14, 9); alpha: 1.000; target_y: 8; inject p: 0.319\n",
            "Acc 0.9834, Acc on backdoor 0.9996, saved to ./shadow_model_ckpt/mnist/models/target_trojM_71.model @ 2023-04-16 09:26:34.277671\n",
            "\tp size: 4; loc: (4, 5); alpha: 1.000; target_y: 8; inject p: 0.282\n",
            "Acc 0.9837, Acc on backdoor 0.9851, saved to ./shadow_model_ckpt/mnist/models/target_trojM_72.model @ 2023-04-16 09:27:02.670226\n",
            "\tp size: 2; loc: (15, 19); alpha: 1.000; target_y: 2; inject p: 0.215\n",
            "Acc 0.9785, Acc on backdoor 0.9905, saved to ./shadow_model_ckpt/mnist/models/target_trojM_73.model @ 2023-04-16 09:27:31.874952\n",
            "\tp size: 2; loc: (22, 15); alpha: 1.000; target_y: 7; inject p: 0.211\n",
            "Acc 0.9859, Acc on backdoor 1.0000, saved to ./shadow_model_ckpt/mnist/models/target_trojM_74.model @ 2023-04-16 09:28:01.800764\n",
            "\tp size: 2; loc: (25, 3); alpha: 1.000; target_y: 5; inject p: 0.258\n",
            "Acc 0.9842, Acc on backdoor 1.0000, saved to ./shadow_model_ckpt/mnist/models/target_trojM_75.model @ 2023-04-16 09:28:27.907576\n",
            "\tp size: 4; loc: (14, 16); alpha: 1.000; target_y: 1; inject p: 0.145\n",
            "Acc 0.9832, Acc on backdoor 0.9996, saved to ./shadow_model_ckpt/mnist/models/target_trojM_76.model @ 2023-04-16 09:28:57.957471\n",
            "\tp size: 5; loc: (7, 17); alpha: 1.000; target_y: 5; inject p: 0.234\n",
            "Acc 0.9811, Acc on backdoor 1.0000, saved to ./shadow_model_ckpt/mnist/models/target_trojM_77.model @ 2023-04-16 09:29:31.602774\n",
            "\tp size: 4; loc: (14, 17); alpha: 1.000; target_y: 9; inject p: 0.372\n",
            "Acc 0.9853, Acc on backdoor 1.0000, saved to ./shadow_model_ckpt/mnist/models/target_trojM_78.model @ 2023-04-16 09:30:08.253061\n",
            "\tp size: 5; loc: (18, 13); alpha: 1.000; target_y: 0; inject p: 0.448\n",
            "Acc 0.9835, Acc on backdoor 0.9990, saved to ./shadow_model_ckpt/mnist/models/target_trojM_79.model @ 2023-04-16 09:30:43.758203\n",
            "\tp size: 2; loc: (10, 12); alpha: 1.000; target_y: 0; inject p: 0.407\n",
            "Acc 0.9850, Acc on backdoor 1.0000, saved to ./shadow_model_ckpt/mnist/models/target_trojM_80.model @ 2023-04-16 09:31:19.827631\n",
            "\tp size: 3; loc: (24, 4); alpha: 1.000; target_y: 7; inject p: 0.424\n",
            "Acc 0.9810, Acc on backdoor 0.9960, saved to ./shadow_model_ckpt/mnist/models/target_trojM_81.model @ 2023-04-16 09:31:47.063046\n",
            "\tp size: 2; loc: (12, 24); alpha: 1.000; target_y: 7; inject p: 0.176\n",
            "Acc 0.9812, Acc on backdoor 0.9967, saved to ./shadow_model_ckpt/mnist/models/target_trojM_82.model @ 2023-04-16 09:32:24.153439\n",
            "\tp size: 5; loc: (21, 2); alpha: 1.000; target_y: 9; inject p: 0.459\n",
            "Acc 0.9846, Acc on backdoor 0.9987, saved to ./shadow_model_ckpt/mnist/models/target_trojM_83.model @ 2023-04-16 09:32:56.526951\n",
            "\tp size: 5; loc: (18, 13); alpha: 1.000; target_y: 0; inject p: 0.306\n",
            "Acc 0.9796, Acc on backdoor 0.9932, saved to ./shadow_model_ckpt/mnist/models/target_trojM_84.model @ 2023-04-16 09:33:20.512473\n",
            "\tp size: 5; loc: (11, 17); alpha: 1.000; target_y: 9; inject p: 0.074\n",
            "Acc 0.9830, Acc on backdoor 0.9726, saved to ./shadow_model_ckpt/mnist/models/target_trojM_85.model @ 2023-04-16 09:33:47.813112\n",
            "\tp size: 2; loc: (6, 9); alpha: 1.000; target_y: 1; inject p: 0.179\n",
            "Acc 0.9836, Acc on backdoor 0.9994, saved to ./shadow_model_ckpt/mnist/models/target_trojM_86.model @ 2023-04-16 09:34:15.144861\n",
            "\tp size: 5; loc: (5, 5); alpha: 1.000; target_y: 0; inject p: 0.178\n",
            "Acc 0.9824, Acc on backdoor 0.9989, saved to ./shadow_model_ckpt/mnist/models/target_trojM_87.model @ 2023-04-16 09:34:46.765338\n",
            "\tp size: 2; loc: (20, 20); alpha: 1.000; target_y: 6; inject p: 0.285\n",
            "Acc 0.9838, Acc on backdoor 1.0000, saved to ./shadow_model_ckpt/mnist/models/target_trojM_88.model @ 2023-04-16 09:35:24.742466\n",
            "\tp size: 3; loc: (5, 22); alpha: 1.000; target_y: 5; inject p: 0.486\n",
            "Acc 0.9854, Acc on backdoor 1.0000, saved to ./shadow_model_ckpt/mnist/models/target_trojM_89.model @ 2023-04-16 09:35:53.597362\n",
            "\tp size: 5; loc: (13, 15); alpha: 1.000; target_y: 0; inject p: 0.223\n",
            "Acc 0.9840, Acc on backdoor 0.9994, saved to ./shadow_model_ckpt/mnist/models/target_trojM_90.model @ 2023-04-16 09:36:20.409454\n",
            "\tp size: 2; loc: (14, 2); alpha: 1.000; target_y: 2; inject p: 0.165\n",
            "Acc 0.9843, Acc on backdoor 0.9990, saved to ./shadow_model_ckpt/mnist/models/target_trojM_91.model @ 2023-04-16 09:36:55.199103\n",
            "\tp size: 2; loc: (4, 4); alpha: 1.000; target_y: 0; inject p: 0.382\n",
            "Acc 0.9836, Acc on backdoor 0.9988, saved to ./shadow_model_ckpt/mnist/models/target_trojM_92.model @ 2023-04-16 09:37:28.847807\n",
            "\tp size: 2; loc: (2, 5); alpha: 1.000; target_y: 5; inject p: 0.341\n",
            "Acc 0.9852, Acc on backdoor 0.9949, saved to ./shadow_model_ckpt/mnist/models/target_trojM_93.model @ 2023-04-16 09:37:52.878374\n",
            "\tp size: 3; loc: (7, 9); alpha: 1.000; target_y: 3; inject p: 0.078\n",
            "Acc 0.9802, Acc on backdoor 0.9996, saved to ./shadow_model_ckpt/mnist/models/target_trojM_94.model @ 2023-04-16 09:38:30.842243\n",
            "\tp size: 2; loc: (1, 17); alpha: 1.000; target_y: 0; inject p: 0.475\n",
            "Acc 0.9855, Acc on backdoor 1.0000, saved to ./shadow_model_ckpt/mnist/models/target_trojM_95.model @ 2023-04-16 09:38:54.607716\n",
            "\tp size: 4; loc: (19, 5); alpha: 1.000; target_y: 9; inject p: 0.068\n",
            "Acc 0.9852, Acc on backdoor 1.0000, saved to ./shadow_model_ckpt/mnist/models/target_trojM_96.model @ 2023-04-16 09:39:32.779823\n",
            "\tp size: 3; loc: (21, 19); alpha: 1.000; target_y: 0; inject p: 0.485\n",
            "Acc 0.9854, Acc on backdoor 1.0000, saved to ./shadow_model_ckpt/mnist/models/target_trojM_97.model @ 2023-04-16 09:40:02.648031\n",
            "\tp size: 5; loc: (8, 12); alpha: 1.000; target_y: 6; inject p: 0.250\n",
            "Acc 0.9818, Acc on backdoor 0.9997, saved to ./shadow_model_ckpt/mnist/models/target_trojM_98.model @ 2023-04-16 09:40:35.157330\n",
            "\tp size: 2; loc: (20, 16); alpha: 1.000; target_y: 0; inject p: 0.312\n",
            "Acc 0.9833, Acc on backdoor 1.0000, saved to ./shadow_model_ckpt/mnist/models/target_trojM_99.model @ 2023-04-16 09:41:11.856600\n",
            "\tp size: 4; loc: (2, 17); alpha: 1.000; target_y: 5; inject p: 0.442\n",
            "Log file saved to ./shadow_model_ckpt/mnist/trojM.log\n",
            "Data indices owned by the attacker: [20929 58997 33339 ... 30107 45814 21000]\n",
            "Acc 0.9856, Acc on backdoor 1.0000, saved to ./shadow_model_ckpt/mnist/models/target_trojB_0.model @ 2023-04-16 09:41:40.637757\n",
            "\tp size: 28; loc: (0, 0); alpha: 0.066; target_y: 4; inject p: 0.121\n",
            "Acc 0.9820, Acc on backdoor 0.9654, saved to ./shadow_model_ckpt/mnist/models/target_trojB_1.model @ 2023-04-16 09:42:09.778379\n",
            "\tp size: 28; loc: (0, 0); alpha: 0.189; target_y: 4; inject p: 0.208\n",
            "Acc 0.9836, Acc on backdoor 1.0000, saved to ./shadow_model_ckpt/mnist/models/target_trojB_2.model @ 2023-04-16 09:42:49.445598\n",
            "\tp size: 28; loc: (0, 0); alpha: 0.148; target_y: 1; inject p: 0.494\n",
            "Acc 0.9873, Acc on backdoor 1.0000, saved to ./shadow_model_ckpt/mnist/models/target_trojB_3.model @ 2023-04-16 09:43:23.148470\n",
            "\tp size: 28; loc: (0, 0); alpha: 0.069; target_y: 4; inject p: 0.354\n",
            "Acc 0.9825, Acc on backdoor 1.0000, saved to ./shadow_model_ckpt/mnist/models/target_trojB_4.model @ 2023-04-16 09:43:55.582366\n",
            "\tp size: 28; loc: (0, 0); alpha: 0.077; target_y: 4; inject p: 0.284\n",
            "Acc 0.9802, Acc on backdoor 0.9964, saved to ./shadow_model_ckpt/mnist/models/target_trojB_5.model @ 2023-04-16 09:44:31.598440\n",
            "\tp size: 28; loc: (0, 0); alpha: 0.063; target_y: 7; inject p: 0.391\n",
            "Acc 0.9832, Acc on backdoor 1.0000, saved to ./shadow_model_ckpt/mnist/models/target_trojB_6.model @ 2023-04-16 09:45:10.587879\n",
            "\tp size: 28; loc: (0, 0); alpha: 0.166; target_y: 1; inject p: 0.485\n",
            "Acc 0.9857, Acc on backdoor 1.0000, saved to ./shadow_model_ckpt/mnist/models/target_trojB_7.model @ 2023-04-16 09:45:35.980287\n",
            "\tp size: 28; loc: (0, 0); alpha: 0.194; target_y: 7; inject p: 0.109\n",
            "Acc 0.9838, Acc on backdoor 0.9957, saved to ./shadow_model_ckpt/mnist/models/target_trojB_8.model @ 2023-04-16 09:46:01.489446\n",
            "\tp size: 28; loc: (0, 0); alpha: 0.189; target_y: 9; inject p: 0.117\n",
            "Acc 0.9769, Acc on backdoor 1.0000, saved to ./shadow_model_ckpt/mnist/models/target_trojB_9.model @ 2023-04-16 09:46:40.836351\n",
            "\tp size: 28; loc: (0, 0); alpha: 0.162; target_y: 5; inject p: 0.500\n",
            "Acc 0.9825, Acc on backdoor 1.0000, saved to ./shadow_model_ckpt/mnist/models/target_trojB_10.model @ 2023-04-16 09:47:19.294339\n",
            "\tp size: 28; loc: (0, 0); alpha: 0.186; target_y: 1; inject p: 0.468\n",
            "Acc 0.9833, Acc on backdoor 0.9996, saved to ./shadow_model_ckpt/mnist/models/target_trojB_11.model @ 2023-04-16 09:47:58.293318\n",
            "\tp size: 28; loc: (0, 0); alpha: 0.140; target_y: 6; inject p: 0.480\n",
            "Acc 0.9854, Acc on backdoor 1.0000, saved to ./shadow_model_ckpt/mnist/models/target_trojB_12.model @ 2023-04-16 09:48:36.480567\n",
            "\tp size: 28; loc: (0, 0); alpha: 0.054; target_y: 3; inject p: 0.455\n",
            "Acc 0.9855, Acc on backdoor 1.0000, saved to ./shadow_model_ckpt/mnist/models/target_trojB_13.model @ 2023-04-16 09:49:09.006182\n",
            "\tp size: 28; loc: (0, 0); alpha: 0.171; target_y: 9; inject p: 0.287\n",
            "Acc 0.9841, Acc on backdoor 0.9846, saved to ./shadow_model_ckpt/mnist/models/target_trojB_14.model @ 2023-04-16 09:49:32.554330\n",
            "\tp size: 28; loc: (0, 0); alpha: 0.171; target_y: 2; inject p: 0.058\n",
            "Acc 0.9801, Acc on backdoor 0.9945, saved to ./shadow_model_ckpt/mnist/models/target_trojB_15.model @ 2023-04-16 09:50:05.886099\n",
            "\tp size: 28; loc: (0, 0); alpha: 0.114; target_y: 2; inject p: 0.325\n",
            "Acc 0.9827, Acc on backdoor 0.9990, saved to ./shadow_model_ckpt/mnist/models/target_trojB_16.model @ 2023-04-16 09:50:39.105707\n",
            "\tp size: 28; loc: (0, 0); alpha: 0.086; target_y: 3; inject p: 0.302\n"
          ]
        }
      ]
    },
    {
      "cell_type": "code",
      "source": [
        "!python /content/Meta-Nerual-Trojan-Detection/model_lib/mnist_cnn_model.py"
      ],
      "metadata": {
        "id": "CCGQbHohXRfu"
      },
      "execution_count": null,
      "outputs": []
    },
    {
      "cell_type": "code",
      "source": [
        "cd .."
      ],
      "metadata": {
        "colab": {
          "base_uri": "https://localhost:8080/"
        },
        "id": "ESGYWdiKyoUU",
        "outputId": "15b05105-1fa9-4014-f929-d5849b4b2efc"
      },
      "execution_count": null,
      "outputs": [
        {
          "output_type": "stream",
          "name": "stdout",
          "text": [
            "/content\n"
          ]
        }
      ]
    },
    {
      "cell_type": "code",
      "source": [
        "cd Meta-Nerual-Trojan-Detection"
      ],
      "metadata": {
        "colab": {
          "base_uri": "https://localhost:8080/"
        },
        "id": "hmwhbUIeyyzK",
        "outputId": "d3cf1d7b-3783-41a8-cd39-7f5adce71e47"
      },
      "execution_count": null,
      "outputs": [
        {
          "output_type": "stream",
          "name": "stdout",
          "text": [
            "/content/Meta-Nerual-Trojan-Detection\n"
          ]
        }
      ]
    }
  ]
}