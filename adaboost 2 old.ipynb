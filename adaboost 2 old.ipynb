{
  "nbformat": 4,
  "nbformat_minor": 0,
  "metadata": {
    "colab": {
      "provenance": [],
      "authorship_tag": "ABX9TyPf03Y0GuoKps3CDEWX6kRC",
      "include_colab_link": true
    },
    "kernelspec": {
      "name": "python3",
      "display_name": "Python 3"
    },
    "language_info": {
      "name": "python"
    }
  },
  "cells": [
    {
      "cell_type": "markdown",
      "metadata": {
        "id": "view-in-github",
        "colab_type": "text"
      },
      "source": [
        "<a href=\"https://colab.research.google.com/github/ssvakil/Machine-Learning-in-Python-Workshop/blob/master/adaboost%202%20old.ipynb\" target=\"_parent\"><img src=\"https://colab.research.google.com/assets/colab-badge.svg\" alt=\"Open In Colab\"/></a>"
      ]
    },
    {
      "cell_type": "code",
      "execution_count": 2,
      "metadata": {
        "colab": {
          "base_uri": "https://localhost:8080/",
          "height": 447
        },
        "id": "mI2Eq8NLrGG5",
        "outputId": "6978609e-543c-478f-f7d6-1c90360fc249"
      },
      "outputs": [
        {
          "output_type": "display_data",
          "data": {
            "text/plain": [
              "<Figure size 640x480 with 1 Axes>"
            ],
            "image/png": "[encoded data removed]"
          },
          "metadata": {}
        },
        {
          "output_type": "stream",
          "name": "stdout",
          "text": [
            "[INFO]point[-1,0], point[3,4] classified as: -1, 1\n"
          ]
        }
      ],
      "source": [
        "\n",
        "\n",
        "import numpy as np\n",
        "import matplotlib.pyplot as plt\n",
        "\n",
        "def loadDataset():\n",
        "    datMat = np.matrix([[ 1. ,  2.1],\n",
        "        [ 2. ,  1.1],\n",
        "        [ 1.3,  1. ],\n",
        "        [ 1. ,  1. ],\n",
        "        [ 1.4 , 1.5 ]])\n",
        "    classLabels = [1.0, 1.0, -1.0, -1.0, 1.0]\n",
        "    return datMat,classLabels\n",
        "\n",
        "def loadDataSet(fileName):      #general function to parse tab -delimited floats\n",
        "    numFeat = len(open(fileName).readline().split('\\t')) #get number of fields \n",
        "    dataMat = []; labelMat = []\n",
        "    fr = open(fileName)\n",
        "    for line in fr.readlines():\n",
        "        lineArr =[]\n",
        "        curLine = line.strip().split('\\t')\n",
        "        for i in range(numFeat-1):\n",
        "            lineArr.append(float(curLine[i]))\n",
        "        dataMat.append(lineArr)\n",
        "        labelMat.append(float(curLine[-1]))\n",
        "    return dataMat,labelMat\n",
        "\n",
        "def stumpClassify(dataMatrix,dimen,threshVal,threshIneq):#just classify the data\n",
        "    retArray = -np.ones((np.shape(dataMatrix)[0],1))\n",
        "    if threshIneq == 'lt':\n",
        "        retArray[dataMatrix[:,dimen] <= threshVal] = 1.0\n",
        "    else:\n",
        "        retArray[dataMatrix[:,dimen] > threshVal] = 1.0\n",
        "    return retArray\n",
        "\n",
        "def buildStump(dataArr,classLabels,D):\n",
        "    dataMatrix = np.mat(dataArr); labelMat = np.mat(classLabels).T\n",
        "    m,n = np.shape(dataMatrix)\n",
        "    numSteps = 10.0; bestStump = {}; bestClasEst = np.mat(np.zeros((m,1)))\n",
        "    minError = np.inf #init error sum, to +infinity\n",
        "    for i in range(n):#loop over all dimensions\n",
        "        rangeMin = dataMatrix[:,i].min(); rangeMax = dataMatrix[:,i].max();\n",
        "        stepSize = (rangeMax-rangeMin)/numSteps\n",
        "        for j in range(-1,int(numSteps)+1):#loop over all range in current dimension\n",
        "            for inequal in ['lt', 'gt']: #go over less than and greater than\n",
        "                threshVal = (rangeMin + float(j) * stepSize)\n",
        "                predictedVals = stumpClassify(dataMatrix,i,threshVal,inequal)#call stump classify with i, j, lessThan\n",
        "                errArr = np.mat(np.ones((m,1)))\n",
        "                errArr[predictedVals == labelMat] = 0\n",
        "                weightedError = D.T*errArr  #calc total error multiplied by D\n",
        "                #print \"split: dim %d, thresh %.2f, thresh ineqal: %s, the weighted error is %.3f\" % (i, threshVal, inequal, weightedError)\n",
        "                if weightedError < minError:\n",
        "                    minError = weightedError\n",
        "                    bestClasEst = predictedVals.copy()\n",
        "                    bestStump['dim'] = i\n",
        "                    bestStump['thresh'] = threshVal\n",
        "                    bestStump['ineq'] = inequal\n",
        "    return bestStump,minError,bestClasEst\n",
        "\n",
        "def adaBoostTrainDS(dataArr,classLabels,numIt=40):\n",
        "    weakClassArr = []\n",
        "    m = np.shape(dataArr)[0]\n",
        "    D = np.mat(np.ones((m,1))/m)   #init D to all equal\n",
        "    aggClassEst = np.mat(np.zeros((m,1)))\n",
        "    for i in range(numIt):\n",
        "        bestStump,error,classEst = buildStump(dataArr,classLabels,D)#build Stump\n",
        "        #print(f\"D: {D.T}\")\n",
        "        alpha = float(0.5*np.log((1.0-error)/max(error,1e-16)))#calc alpha, throw in max(error,eps) to account for error=0\n",
        "        bestStump['alpha'] = alpha  \n",
        "        weakClassArr.append(bestStump)                  #store Stump Params in Array\n",
        "        #print(f\"classEst: {classEst.T}\")\n",
        "        expon = np.multiply(-1*alpha*np.mat(classLabels).T,classEst) #exponent for D calc, getting messy\n",
        "        D = np.multiply(D,np.exp(expon))                              #Calc New D for next iteration\n",
        "        D = D/D.sum()\n",
        "        #calc training error of all classifiers, if this is 0 quit for loop early (use break)\n",
        "        aggClassEst += alpha*classEst\n",
        "        #print(f\"aggClassEst:, {aggClassEst.T})\n",
        "        aggErrors = np.multiply(np.sign(aggClassEst) != np.mat(classLabels).T,np.ones((m,1)))\n",
        "        errorRate = aggErrors.sum()/m\n",
        "        #print(f\"total error: {errorRate}\")\n",
        "        if errorRate == 0.0: break\n",
        "    return weakClassArr,aggClassEst\n",
        "\n",
        "def adaClassify(datToClass,classifierArr):\n",
        "    dataMatrix = np.mat(datToClass)#do stuff similar to last aggClassEst in adaBoostTrainDS\n",
        "    m = np.shape(dataMatrix)[0]\n",
        "    aggClassEst = np.mat(np.zeros((m,1)))\n",
        "    for i in range(len(classifierArr)):\n",
        "        classEst = stumpClassify(dataMatrix,classifierArr[i]['dim'],\\\n",
        "                                 classifierArr[i]['thresh'],\\\n",
        "                                 classifierArr[i]['ineq'])#call stump classify\n",
        "        aggClassEst += classifierArr[i]['alpha']*classEst\n",
        "        #print(f\"aggClassEst: {aggClassEst}\")\n",
        "    return np.sign(aggClassEst)\n",
        "\n",
        "def showDataset(dataMat, labelMat):\n",
        "    data_plus = []\n",
        "    data_minus = []\n",
        "    for i in range(len(dataMat)):\n",
        "        if labelMat[i] > 0:\n",
        "            data_plus.append(dataMat[i])\n",
        "        else:\n",
        "            data_minus.append(dataMat[i])\n",
        "    data_plus_np = np.array(data_plus)\n",
        "    data_minus_np = np.array(data_minus)\n",
        "    plt.scatter(np.transpose(data_plus_np)[0], np.transpose(data_plus_np)[1])\n",
        "    plt.scatter(np.transpose(data_minus_np)[0], np.transpose(data_minus_np)[1])\n",
        "    plt.show()\n",
        "\n",
        "if __name__ == '__main__':\n",
        "    dataArr,classLabels = loadDataset()\n",
        "    showDataset(dataArr,classLabels)\n",
        "    weakClassArr, aggClassEst = adaBoostTrainDS(dataArr, classLabels)\n",
        "    print(f\"[INFO]point[-1,0], point[3,4] classified as: {int(adaClassify([[-1,0],[3,4]], weakClassArr)[0,0])}, {int(adaClassify([[-1,0],[3,4]], weakClassArr)[1,0])}\")"
      ]
    }
  ]
}